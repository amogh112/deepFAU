{
 "cells": [
  {
   "cell_type": "markdown",
   "metadata": {},
   "source": [
    "# Training classifiers on HOG Data\n",
    "#### For extraction of features, see extractFeatures.ipynb"
   ]
  },
  {
   "cell_type": "markdown",
   "metadata": {},
   "source": [
    "conda env- faus_dl, make sure to switch to python3 kernel"
   ]
  },
  {
   "cell_type": "code",
   "execution_count": 3,
   "metadata": {},
   "outputs": [],
   "source": [
    "import numpy as np\n",
    "import matplotlib.pyplot as plt\n",
    "from matplotlib.colors import Normalize\n",
    "import sklearn\n",
    "from sklearn import datasets, svm, metrics\n",
    "import bcolz\n",
    "import os, sys\n",
    "import datetime as dt"
   ]
  },
  {
   "cell_type": "code",
   "execution_count": 4,
   "metadata": {},
   "outputs": [],
   "source": [
    "import pickle"
   ]
  },
  {
   "cell_type": "code",
   "execution_count": 26,
   "metadata": {},
   "outputs": [
    {
     "name": "stdout",
     "output_type": "stream",
     "text": [
      "/media/amogh/Stuff/CMU/datasets/DISFA_data/ActionUnit_Labels/\n",
      "/media/amogh/Stuff/CMU/datasets/DISFA_data/Videos_RightCamera/\n"
     ]
    }
   ],
   "source": [
    "DISFA_path='/media/amogh/Stuff/CMU/datasets/DISFA_data/'\n",
    "DISFA_AU_path=DISFA_path+'ActionUnit_Labels/'\n",
    "print(DISFA_AU_path)\n",
    "Videos_right_path=DISFA_path+'Videos_RightCamera/'\n",
    "print(Videos_right_path)"
   ]
  },
  {
   "cell_type": "code",
   "execution_count": 27,
   "metadata": {},
   "outputs": [],
   "source": [
    "import mnist_helpers"
   ]
  },
  {
   "cell_type": "markdown",
   "metadata": {},
   "source": [
    "Helper Functions"
   ]
  },
  {
   "cell_type": "markdown",
   "metadata": {},
   "source": [
    "## FAU4_1"
   ]
  },
  {
   "cell_type": "markdown",
   "metadata": {},
   "source": [
    "Loading the saved features:"
   ]
  },
  {
   "cell_type": "code",
   "execution_count": 28,
   "metadata": {},
   "outputs": [
    {
     "data": {
      "text/plain": [
       "'/media/amogh/Stuff/CMU/datasets/DISFA_data//features/hog_1/fau4_1/'"
      ]
     },
     "execution_count": 28,
     "metadata": {},
     "output_type": "execute_result"
    }
   ],
   "source": [
    "dir_features_hog_1_fau4_1=DISFA_path+\"/features/hog_1/fau4_1/\"\n",
    "dir_features_hog_1_fau4_1"
   ]
  },
  {
   "cell_type": "code",
   "execution_count": 29,
   "metadata": {},
   "outputs": [
    {
     "name": "stdout",
     "output_type": "stream",
     "text": [
      "features_fau4_1_hog_1_positives loaded, shape is:  (1874, 448)\n"
     ]
    }
   ],
   "source": [
    "features_fau4_1_hog_1_positives=bcolz.carray(rootdir=dir_features_hog_1_fau4_1+'positives/',mode='r')\n",
    "print(\"features_fau4_1_hog_1_positives loaded, shape is: \",features_fau4_1_hog_1_positives.shape)"
   ]
  },
  {
   "cell_type": "code",
   "execution_count": 30,
   "metadata": {},
   "outputs": [
    {
     "name": "stdout",
     "output_type": "stream",
     "text": [
      "features_fau4_1_hog_1_negatives loaded, shape is :  (1997, 448)\n"
     ]
    }
   ],
   "source": [
    "features_fau4_1_hog_1_negatives=bcolz.carray(rootdir=dir_features_hog_1_fau4_1+'negatives/',mode='r')\n",
    "print(\"features_fau4_1_hog_1_negatives loaded, shape is : \",features_fau4_1_hog_1_negatives.shape)"
   ]
  },
  {
   "cell_type": "markdown",
   "metadata": {},
   "source": [
    "Defining the training and testing data"
   ]
  },
  {
   "cell_type": "code",
   "execution_count": 31,
   "metadata": {},
   "outputs": [
    {
     "data": {
      "text/plain": [
       "(3748, 448)"
      ]
     },
     "execution_count": 31,
     "metadata": {},
     "output_type": "execute_result"
    }
   ],
   "source": [
    "X=np.concatenate([features_fau4_1_hog_1_positives,features_fau4_1_hog_1_negatives[:1874]])\n",
    "X.shape"
   ]
  },
  {
   "cell_type": "code",
   "execution_count": 32,
   "metadata": {},
   "outputs": [
    {
     "data": {
      "text/plain": [
       "(3748,)"
      ]
     },
     "execution_count": 32,
     "metadata": {},
     "output_type": "execute_result"
    }
   ],
   "source": [
    "Y=np.concatenate([np.repeat(1,features_fau4_1_hog_1_positives.shape[0]),np.repeat(0,features_fau4_1_hog_1_positives.shape[0])])\n",
    "Y.shape"
   ]
  },
  {
   "cell_type": "code",
   "execution_count": 33,
   "metadata": {},
   "outputs": [],
   "source": [
    "X_train,X_test,y_train,y_test=sklearn.model_selection.train_test_split(X,Y,test_size=0.15,random_state=42)"
   ]
  },
  {
   "cell_type": "markdown",
   "metadata": {},
   "source": [
    "Defining the parameter range for SVM:"
   ]
  },
  {
   "cell_type": "code",
   "execution_count": 17,
   "metadata": {},
   "outputs": [],
   "source": [
    "gamma_range=np.outer(np.logspace(-3,0,4),np.array([1,5]))\n",
    "gamma_range=gamma_range.flatten()\n",
    "C_range=np.outer(np.logspace(-1,1,3),np.array([1,5]))\n",
    "C_range=C_range.flatten()\n",
    "parameters={'kernel':['rbf'],'C':C_range,'gamma':gamma_range}"
   ]
  },
  {
   "cell_type": "code",
   "execution_count": 18,
   "metadata": {},
   "outputs": [],
   "source": [
    "svm_clsf=svm.SVC()\n",
    "grid_clsf=sklearn.model_selection.GridSearchCV(estimator=svm_clsf,param_grid=parameters,n_jobs=1,verbose=2)"
   ]
  },
  {
   "cell_type": "markdown",
   "metadata": {},
   "source": [
    "Start training and parameter search "
   ]
  },
  {
   "cell_type": "code",
   "execution_count": 19,
   "metadata": {},
   "outputs": [
    {
     "name": "stdout",
     "output_type": "stream",
     "text": [
      "Start param searching at 2018-05-28 15:21:16.675393\n",
      "Fitting 3 folds for each of 48 candidates, totalling 144 fits\n",
      "[CV] C=0.1, gamma=0.001, kernel=rbf ..................................\n",
      "[CV] ................... C=0.1, gamma=0.001, kernel=rbf, total=   3.8s\n",
      "[CV] C=0.1, gamma=0.001, kernel=rbf ..................................\n"
     ]
    },
    {
     "name": "stderr",
     "output_type": "stream",
     "text": [
      "[Parallel(n_jobs=1)]: Done   1 out of   1 | elapsed:    6.2s remaining:    0.0s\n"
     ]
    },
    {
     "name": "stdout",
     "output_type": "stream",
     "text": [
      "[CV] ................... C=0.1, gamma=0.001, kernel=rbf, total=   3.7s\n",
      "[CV] C=0.1, gamma=0.001, kernel=rbf ..................................\n",
      "[CV] ................... C=0.1, gamma=0.001, kernel=rbf, total=   3.8s\n",
      "[CV] C=0.1, gamma=0.005, kernel=rbf ..................................\n",
      "[CV] ................... C=0.1, gamma=0.005, kernel=rbf, total=   3.7s\n",
      "[CV] C=0.1, gamma=0.005, kernel=rbf ..................................\n",
      "[CV] ................... C=0.1, gamma=0.005, kernel=rbf, total=   3.7s\n",
      "[CV] C=0.1, gamma=0.005, kernel=rbf ..................................\n",
      "[CV] ................... C=0.1, gamma=0.005, kernel=rbf, total=   3.7s\n",
      "[CV] C=0.1, gamma=0.01, kernel=rbf ...................................\n",
      "[CV] .................... C=0.1, gamma=0.01, kernel=rbf, total=   3.6s\n",
      "[CV] C=0.1, gamma=0.01, kernel=rbf ...................................\n",
      "[CV] .................... C=0.1, gamma=0.01, kernel=rbf, total=   3.6s\n",
      "[CV] C=0.1, gamma=0.01, kernel=rbf ...................................\n",
      "[CV] .................... C=0.1, gamma=0.01, kernel=rbf, total=   3.6s\n",
      "[CV] C=0.1, gamma=0.05, kernel=rbf ...................................\n",
      "[CV] .................... C=0.1, gamma=0.05, kernel=rbf, total=   2.9s\n",
      "[CV] C=0.1, gamma=0.05, kernel=rbf ...................................\n",
      "[CV] .................... C=0.1, gamma=0.05, kernel=rbf, total=   2.9s\n",
      "[CV] C=0.1, gamma=0.05, kernel=rbf ...................................\n",
      "[CV] .................... C=0.1, gamma=0.05, kernel=rbf, total=   2.9s\n",
      "[CV] C=0.1, gamma=0.1, kernel=rbf ....................................\n",
      "[CV] ..................... C=0.1, gamma=0.1, kernel=rbf, total=   2.8s\n",
      "[CV] C=0.1, gamma=0.1, kernel=rbf ....................................\n",
      "[CV] ..................... C=0.1, gamma=0.1, kernel=rbf, total=   3.0s\n",
      "[CV] C=0.1, gamma=0.1, kernel=rbf ....................................\n",
      "[CV] ..................... C=0.1, gamma=0.1, kernel=rbf, total=   3.2s\n",
      "[CV] C=0.1, gamma=0.5, kernel=rbf ....................................\n",
      "[CV] ..................... C=0.1, gamma=0.5, kernel=rbf, total=   3.1s\n",
      "[CV] C=0.1, gamma=0.5, kernel=rbf ....................................\n",
      "[CV] ..................... C=0.1, gamma=0.5, kernel=rbf, total=   3.1s\n",
      "[CV] C=0.1, gamma=0.5, kernel=rbf ....................................\n",
      "[CV] ..................... C=0.1, gamma=0.5, kernel=rbf, total=   3.4s\n",
      "[CV] C=0.1, gamma=1.0, kernel=rbf ....................................\n",
      "[CV] ..................... C=0.1, gamma=1.0, kernel=rbf, total=   3.7s\n",
      "[CV] C=0.1, gamma=1.0, kernel=rbf ....................................\n",
      "[CV] ..................... C=0.1, gamma=1.0, kernel=rbf, total=   3.6s\n",
      "[CV] C=0.1, gamma=1.0, kernel=rbf ....................................\n",
      "[CV] ..................... C=0.1, gamma=1.0, kernel=rbf, total=   3.6s\n",
      "[CV] C=0.1, gamma=5.0, kernel=rbf ....................................\n",
      "[CV] ..................... C=0.1, gamma=5.0, kernel=rbf, total=   3.9s\n",
      "[CV] C=0.1, gamma=5.0, kernel=rbf ....................................\n",
      "[CV] ..................... C=0.1, gamma=5.0, kernel=rbf, total=   3.9s\n",
      "[CV] C=0.1, gamma=5.0, kernel=rbf ....................................\n",
      "[CV] ..................... C=0.1, gamma=5.0, kernel=rbf, total=   3.8s\n",
      "[CV] C=0.5, gamma=0.001, kernel=rbf ..................................\n",
      "[CV] ................... C=0.5, gamma=0.001, kernel=rbf, total=   3.7s\n",
      "[CV] C=0.5, gamma=0.001, kernel=rbf ..................................\n",
      "[CV] ................... C=0.5, gamma=0.001, kernel=rbf, total=   3.7s\n",
      "[CV] C=0.5, gamma=0.001, kernel=rbf ..................................\n",
      "[CV] ................... C=0.5, gamma=0.001, kernel=rbf, total=   3.8s\n",
      "[CV] C=0.5, gamma=0.005, kernel=rbf ..................................\n",
      "[CV] ................... C=0.5, gamma=0.005, kernel=rbf, total=   3.2s\n",
      "[CV] C=0.5, gamma=0.005, kernel=rbf ..................................\n",
      "[CV] ................... C=0.5, gamma=0.005, kernel=rbf, total=   3.2s\n",
      "[CV] C=0.5, gamma=0.005, kernel=rbf ..................................\n",
      "[CV] ................... C=0.5, gamma=0.005, kernel=rbf, total=   3.2s\n",
      "[CV] C=0.5, gamma=0.01, kernel=rbf ...................................\n",
      "[CV] .................... C=0.5, gamma=0.01, kernel=rbf, total=   2.8s\n",
      "[CV] C=0.5, gamma=0.01, kernel=rbf ...................................\n",
      "[CV] .................... C=0.5, gamma=0.01, kernel=rbf, total=   2.8s\n",
      "[CV] C=0.5, gamma=0.01, kernel=rbf ...................................\n",
      "[CV] .................... C=0.5, gamma=0.01, kernel=rbf, total=   2.8s\n",
      "[CV] C=0.5, gamma=0.05, kernel=rbf ...................................\n",
      "[CV] .................... C=0.5, gamma=0.05, kernel=rbf, total=   2.1s\n",
      "[CV] C=0.5, gamma=0.05, kernel=rbf ...................................\n",
      "[CV] .................... C=0.5, gamma=0.05, kernel=rbf, total=   2.0s\n",
      "[CV] C=0.5, gamma=0.05, kernel=rbf ...................................\n",
      "[CV] .................... C=0.5, gamma=0.05, kernel=rbf, total=   2.0s\n",
      "[CV] C=0.5, gamma=0.1, kernel=rbf ....................................\n",
      "[CV] ..................... C=0.5, gamma=0.1, kernel=rbf, total=   1.9s\n",
      "[CV] C=0.5, gamma=0.1, kernel=rbf ....................................\n",
      "[CV] ..................... C=0.5, gamma=0.1, kernel=rbf, total=   1.9s\n",
      "[CV] C=0.5, gamma=0.1, kernel=rbf ....................................\n",
      "[CV] ..................... C=0.5, gamma=0.1, kernel=rbf, total=   1.9s\n",
      "[CV] C=0.5, gamma=0.5, kernel=rbf ....................................\n",
      "[CV] ..................... C=0.5, gamma=0.5, kernel=rbf, total=   2.7s\n",
      "[CV] C=0.5, gamma=0.5, kernel=rbf ....................................\n",
      "[CV] ..................... C=0.5, gamma=0.5, kernel=rbf, total=   2.9s\n",
      "[CV] C=0.5, gamma=0.5, kernel=rbf ....................................\n",
      "[CV] ..................... C=0.5, gamma=0.5, kernel=rbf, total=   2.8s\n",
      "[CV] C=0.5, gamma=1.0, kernel=rbf ....................................\n",
      "[CV] ..................... C=0.5, gamma=1.0, kernel=rbf, total=   3.6s\n",
      "[CV] C=0.5, gamma=1.0, kernel=rbf ....................................\n",
      "[CV] ..................... C=0.5, gamma=1.0, kernel=rbf, total=   3.4s\n",
      "[CV] C=0.5, gamma=1.0, kernel=rbf ....................................\n",
      "[CV] ..................... C=0.5, gamma=1.0, kernel=rbf, total=   3.4s\n",
      "[CV] C=0.5, gamma=5.0, kernel=rbf ....................................\n",
      "[CV] ..................... C=0.5, gamma=5.0, kernel=rbf, total=   3.9s\n",
      "[CV] C=0.5, gamma=5.0, kernel=rbf ....................................\n",
      "[CV] ..................... C=0.5, gamma=5.0, kernel=rbf, total=   3.7s\n",
      "[CV] C=0.5, gamma=5.0, kernel=rbf ....................................\n",
      "[CV] ..................... C=0.5, gamma=5.0, kernel=rbf, total=   3.8s\n",
      "[CV] C=1.0, gamma=0.001, kernel=rbf ..................................\n",
      "[CV] ................... C=1.0, gamma=0.001, kernel=rbf, total=   3.8s\n",
      "[CV] C=1.0, gamma=0.001, kernel=rbf ..................................\n",
      "[CV] ................... C=1.0, gamma=0.001, kernel=rbf, total=   3.8s\n",
      "[CV] C=1.0, gamma=0.001, kernel=rbf ..................................\n",
      "[CV] ................... C=1.0, gamma=0.001, kernel=rbf, total=   3.9s\n",
      "[CV] C=1.0, gamma=0.005, kernel=rbf ..................................\n",
      "[CV] ................... C=1.0, gamma=0.005, kernel=rbf, total=   3.0s\n",
      "[CV] C=1.0, gamma=0.005, kernel=rbf ..................................\n",
      "[CV] ................... C=1.0, gamma=0.005, kernel=rbf, total=   2.9s\n",
      "[CV] C=1.0, gamma=0.005, kernel=rbf ..................................\n",
      "[CV] ................... C=1.0, gamma=0.005, kernel=rbf, total=   2.7s\n",
      "[CV] C=1.0, gamma=0.01, kernel=rbf ...................................\n",
      "[CV] .................... C=1.0, gamma=0.01, kernel=rbf, total=   2.4s\n",
      "[CV] C=1.0, gamma=0.01, kernel=rbf ...................................\n",
      "[CV] .................... C=1.0, gamma=0.01, kernel=rbf, total=   2.5s\n",
      "[CV] C=1.0, gamma=0.01, kernel=rbf ...................................\n",
      "[CV] .................... C=1.0, gamma=0.01, kernel=rbf, total=   2.4s\n",
      "[CV] C=1.0, gamma=0.05, kernel=rbf ...................................\n",
      "[CV] .................... C=1.0, gamma=0.05, kernel=rbf, total=   1.8s\n",
      "[CV] C=1.0, gamma=0.05, kernel=rbf ...................................\n",
      "[CV] .................... C=1.0, gamma=0.05, kernel=rbf, total=   1.8s\n",
      "[CV] C=1.0, gamma=0.05, kernel=rbf ...................................\n",
      "[CV] .................... C=1.0, gamma=0.05, kernel=rbf, total=   2.0s\n",
      "[CV] C=1.0, gamma=0.1, kernel=rbf ....................................\n",
      "[CV] ..................... C=1.0, gamma=0.1, kernel=rbf, total=   1.9s\n",
      "[CV] C=1.0, gamma=0.1, kernel=rbf ....................................\n",
      "[CV] ..................... C=1.0, gamma=0.1, kernel=rbf, total=   1.9s\n",
      "[CV] C=1.0, gamma=0.1, kernel=rbf ....................................\n",
      "[CV] ..................... C=1.0, gamma=0.1, kernel=rbf, total=   1.9s\n",
      "[CV] C=1.0, gamma=0.5, kernel=rbf ....................................\n",
      "[CV] ..................... C=1.0, gamma=0.5, kernel=rbf, total=   3.1s\n",
      "[CV] C=1.0, gamma=0.5, kernel=rbf ....................................\n",
      "[CV] ..................... C=1.0, gamma=0.5, kernel=rbf, total=   3.1s\n",
      "[CV] C=1.0, gamma=0.5, kernel=rbf ....................................\n",
      "[CV] ..................... C=1.0, gamma=0.5, kernel=rbf, total=   3.0s\n",
      "[CV] C=1.0, gamma=1.0, kernel=rbf ....................................\n",
      "[CV] ..................... C=1.0, gamma=1.0, kernel=rbf, total=   3.9s\n",
      "[CV] C=1.0, gamma=1.0, kernel=rbf ....................................\n",
      "[CV] ..................... C=1.0, gamma=1.0, kernel=rbf, total=   3.8s\n",
      "[CV] C=1.0, gamma=1.0, kernel=rbf ....................................\n",
      "[CV] ..................... C=1.0, gamma=1.0, kernel=rbf, total=   3.5s\n",
      "[CV] C=1.0, gamma=5.0, kernel=rbf ....................................\n",
      "[CV] ..................... C=1.0, gamma=5.0, kernel=rbf, total=   3.7s\n",
      "[CV] C=1.0, gamma=5.0, kernel=rbf ....................................\n",
      "[CV] ..................... C=1.0, gamma=5.0, kernel=rbf, total=   3.9s\n",
      "[CV] C=1.0, gamma=5.0, kernel=rbf ....................................\n",
      "[CV] ..................... C=1.0, gamma=5.0, kernel=rbf, total=   3.8s\n",
      "[CV] C=5.0, gamma=0.001, kernel=rbf ..................................\n",
      "[CV] ................... C=5.0, gamma=0.001, kernel=rbf, total=   2.9s\n",
      "[CV] C=5.0, gamma=0.001, kernel=rbf ..................................\n",
      "[CV] ................... C=5.0, gamma=0.001, kernel=rbf, total=   2.7s\n",
      "[CV] C=5.0, gamma=0.001, kernel=rbf ..................................\n",
      "[CV] ................... C=5.0, gamma=0.001, kernel=rbf, total=   2.7s\n",
      "[CV] C=5.0, gamma=0.005, kernel=rbf ..................................\n",
      "[CV] ................... C=5.0, gamma=0.005, kernel=rbf, total=   2.0s\n",
      "[CV] C=5.0, gamma=0.005, kernel=rbf ..................................\n",
      "[CV] ................... C=5.0, gamma=0.005, kernel=rbf, total=   2.0s\n",
      "[CV] C=5.0, gamma=0.005, kernel=rbf ..................................\n",
      "[CV] ................... C=5.0, gamma=0.005, kernel=rbf, total=   2.0s\n",
      "[CV] C=5.0, gamma=0.01, kernel=rbf ...................................\n",
      "[CV] .................... C=5.0, gamma=0.01, kernel=rbf, total=   1.7s\n",
      "[CV] C=5.0, gamma=0.01, kernel=rbf ...................................\n",
      "[CV] .................... C=5.0, gamma=0.01, kernel=rbf, total=   1.7s\n",
      "[CV] C=5.0, gamma=0.01, kernel=rbf ...................................\n",
      "[CV] .................... C=5.0, gamma=0.01, kernel=rbf, total=   1.7s\n",
      "[CV] C=5.0, gamma=0.05, kernel=rbf ...................................\n",
      "[CV] .................... C=5.0, gamma=0.05, kernel=rbf, total=   1.4s\n",
      "[CV] C=5.0, gamma=0.05, kernel=rbf ...................................\n",
      "[CV] .................... C=5.0, gamma=0.05, kernel=rbf, total=   1.4s\n",
      "[CV] C=5.0, gamma=0.05, kernel=rbf ...................................\n",
      "[CV] .................... C=5.0, gamma=0.05, kernel=rbf, total=   1.3s\n",
      "[CV] C=5.0, gamma=0.1, kernel=rbf ....................................\n",
      "[CV] ..................... C=5.0, gamma=0.1, kernel=rbf, total=   1.4s\n",
      "[CV] C=5.0, gamma=0.1, kernel=rbf ....................................\n",
      "[CV] ..................... C=5.0, gamma=0.1, kernel=rbf, total=   1.4s\n",
      "[CV] C=5.0, gamma=0.1, kernel=rbf ....................................\n",
      "[CV] ..................... C=5.0, gamma=0.1, kernel=rbf, total=   1.4s\n",
      "[CV] C=5.0, gamma=0.5, kernel=rbf ....................................\n",
      "[CV] ..................... C=5.0, gamma=0.5, kernel=rbf, total=   3.1s\n",
      "[CV] C=5.0, gamma=0.5, kernel=rbf ....................................\n",
      "[CV] ..................... C=5.0, gamma=0.5, kernel=rbf, total=   3.0s\n",
      "[CV] C=5.0, gamma=0.5, kernel=rbf ....................................\n",
      "[CV] ..................... C=5.0, gamma=0.5, kernel=rbf, total=   3.1s\n",
      "[CV] C=5.0, gamma=1.0, kernel=rbf ....................................\n",
      "[CV] ..................... C=5.0, gamma=1.0, kernel=rbf, total=   3.6s\n",
      "[CV] C=5.0, gamma=1.0, kernel=rbf ....................................\n",
      "[CV] ..................... C=5.0, gamma=1.0, kernel=rbf, total=   3.5s\n",
      "[CV] C=5.0, gamma=1.0, kernel=rbf ....................................\n",
      "[CV] ..................... C=5.0, gamma=1.0, kernel=rbf, total=   3.5s\n",
      "[CV] C=5.0, gamma=5.0, kernel=rbf ....................................\n",
      "[CV] ..................... C=5.0, gamma=5.0, kernel=rbf, total=   3.7s\n",
      "[CV] C=5.0, gamma=5.0, kernel=rbf ....................................\n",
      "[CV] ..................... C=5.0, gamma=5.0, kernel=rbf, total=   3.7s\n",
      "[CV] C=5.0, gamma=5.0, kernel=rbf ....................................\n",
      "[CV] ..................... C=5.0, gamma=5.0, kernel=rbf, total=   3.7s\n",
      "[CV] C=10.0, gamma=0.001, kernel=rbf .................................\n",
      "[CV] .................. C=10.0, gamma=0.001, kernel=rbf, total=   2.4s\n",
      "[CV] C=10.0, gamma=0.001, kernel=rbf .................................\n",
      "[CV] .................. C=10.0, gamma=0.001, kernel=rbf, total=   2.4s\n",
      "[CV] C=10.0, gamma=0.001, kernel=rbf .................................\n",
      "[CV] .................. C=10.0, gamma=0.001, kernel=rbf, total=   2.4s\n",
      "[CV] C=10.0, gamma=0.005, kernel=rbf .................................\n",
      "[CV] .................. C=10.0, gamma=0.005, kernel=rbf, total=   1.7s\n",
      "[CV] C=10.0, gamma=0.005, kernel=rbf .................................\n",
      "[CV] .................. C=10.0, gamma=0.005, kernel=rbf, total=   1.7s\n",
      "[CV] C=10.0, gamma=0.005, kernel=rbf .................................\n",
      "[CV] .................. C=10.0, gamma=0.005, kernel=rbf, total=   1.7s\n",
      "[CV] C=10.0, gamma=0.01, kernel=rbf ..................................\n",
      "[CV] ................... C=10.0, gamma=0.01, kernel=rbf, total=   1.5s\n",
      "[CV] C=10.0, gamma=0.01, kernel=rbf ..................................\n",
      "[CV] ................... C=10.0, gamma=0.01, kernel=rbf, total=   1.5s\n",
      "[CV] C=10.0, gamma=0.01, kernel=rbf ..................................\n",
      "[CV] ................... C=10.0, gamma=0.01, kernel=rbf, total=   1.5s\n",
      "[CV] C=10.0, gamma=0.05, kernel=rbf ..................................\n",
      "[CV] ................... C=10.0, gamma=0.05, kernel=rbf, total=   1.3s\n",
      "[CV] C=10.0, gamma=0.05, kernel=rbf ..................................\n",
      "[CV] ................... C=10.0, gamma=0.05, kernel=rbf, total=   1.3s\n",
      "[CV] C=10.0, gamma=0.05, kernel=rbf ..................................\n",
      "[CV] ................... C=10.0, gamma=0.05, kernel=rbf, total=   1.2s\n",
      "[CV] C=10.0, gamma=0.1, kernel=rbf ...................................\n",
      "[CV] .................... C=10.0, gamma=0.1, kernel=rbf, total=   1.4s\n",
      "[CV] C=10.0, gamma=0.1, kernel=rbf ...................................\n",
      "[CV] .................... C=10.0, gamma=0.1, kernel=rbf, total=   1.4s\n",
      "[CV] C=10.0, gamma=0.1, kernel=rbf ...................................\n",
      "[CV] .................... C=10.0, gamma=0.1, kernel=rbf, total=   1.4s\n",
      "[CV] C=10.0, gamma=0.5, kernel=rbf ...................................\n",
      "[CV] .................... C=10.0, gamma=0.5, kernel=rbf, total=   3.0s\n",
      "[CV] C=10.0, gamma=0.5, kernel=rbf ...................................\n",
      "[CV] .................... C=10.0, gamma=0.5, kernel=rbf, total=   3.0s\n",
      "[CV] C=10.0, gamma=0.5, kernel=rbf ...................................\n",
      "[CV] .................... C=10.0, gamma=0.5, kernel=rbf, total=   3.0s\n",
      "[CV] C=10.0, gamma=1.0, kernel=rbf ...................................\n",
      "[CV] .................... C=10.0, gamma=1.0, kernel=rbf, total=   3.6s\n",
      "[CV] C=10.0, gamma=1.0, kernel=rbf ...................................\n",
      "[CV] .................... C=10.0, gamma=1.0, kernel=rbf, total=   3.6s\n",
      "[CV] C=10.0, gamma=1.0, kernel=rbf ...................................\n",
      "[CV] .................... C=10.0, gamma=1.0, kernel=rbf, total=   3.6s\n",
      "[CV] C=10.0, gamma=5.0, kernel=rbf ...................................\n",
      "[CV] .................... C=10.0, gamma=5.0, kernel=rbf, total=   3.8s\n",
      "[CV] C=10.0, gamma=5.0, kernel=rbf ...................................\n",
      "[CV] .................... C=10.0, gamma=5.0, kernel=rbf, total=   3.7s\n",
      "[CV] C=10.0, gamma=5.0, kernel=rbf ...................................\n",
      "[CV] .................... C=10.0, gamma=5.0, kernel=rbf, total=   3.7s\n",
      "[CV] C=50.0, gamma=0.001, kernel=rbf .................................\n",
      "[CV] .................. C=50.0, gamma=0.001, kernel=rbf, total=   1.7s\n",
      "[CV] C=50.0, gamma=0.001, kernel=rbf .................................\n",
      "[CV] .................. C=50.0, gamma=0.001, kernel=rbf, total=   1.7s\n",
      "[CV] C=50.0, gamma=0.001, kernel=rbf .................................\n",
      "[CV] .................. C=50.0, gamma=0.001, kernel=rbf, total=   1.7s\n",
      "[CV] C=50.0, gamma=0.005, kernel=rbf .................................\n",
      "[CV] .................. C=50.0, gamma=0.005, kernel=rbf, total=   1.3s\n",
      "[CV] C=50.0, gamma=0.005, kernel=rbf .................................\n",
      "[CV] .................. C=50.0, gamma=0.005, kernel=rbf, total=   1.3s\n",
      "[CV] C=50.0, gamma=0.005, kernel=rbf .................................\n",
      "[CV] .................. C=50.0, gamma=0.005, kernel=rbf, total=   1.3s\n",
      "[CV] C=50.0, gamma=0.01, kernel=rbf ..................................\n",
      "[CV] ................... C=50.0, gamma=0.01, kernel=rbf, total=   1.2s\n",
      "[CV] C=50.0, gamma=0.01, kernel=rbf ..................................\n",
      "[CV] ................... C=50.0, gamma=0.01, kernel=rbf, total=   1.2s\n",
      "[CV] C=50.0, gamma=0.01, kernel=rbf ..................................\n",
      "[CV] ................... C=50.0, gamma=0.01, kernel=rbf, total=   1.2s\n",
      "[CV] C=50.0, gamma=0.05, kernel=rbf ..................................\n",
      "[CV] ................... C=50.0, gamma=0.05, kernel=rbf, total=   1.2s\n",
      "[CV] C=50.0, gamma=0.05, kernel=rbf ..................................\n",
      "[CV] ................... C=50.0, gamma=0.05, kernel=rbf, total=   1.2s\n",
      "[CV] C=50.0, gamma=0.05, kernel=rbf ..................................\n",
      "[CV] ................... C=50.0, gamma=0.05, kernel=rbf, total=   1.2s\n",
      "[CV] C=50.0, gamma=0.1, kernel=rbf ...................................\n",
      "[CV] .................... C=50.0, gamma=0.1, kernel=rbf, total=   1.4s\n",
      "[CV] C=50.0, gamma=0.1, kernel=rbf ...................................\n",
      "[CV] .................... C=50.0, gamma=0.1, kernel=rbf, total=   1.4s\n",
      "[CV] C=50.0, gamma=0.1, kernel=rbf ...................................\n",
      "[CV] .................... C=50.0, gamma=0.1, kernel=rbf, total=   1.4s\n",
      "[CV] C=50.0, gamma=0.5, kernel=rbf ...................................\n",
      "[CV] .................... C=50.0, gamma=0.5, kernel=rbf, total=   3.1s\n",
      "[CV] C=50.0, gamma=0.5, kernel=rbf ...................................\n",
      "[CV] .................... C=50.0, gamma=0.5, kernel=rbf, total=   3.0s\n",
      "[CV] C=50.0, gamma=0.5, kernel=rbf ...................................\n",
      "[CV] .................... C=50.0, gamma=0.5, kernel=rbf, total=   3.1s\n",
      "[CV] C=50.0, gamma=1.0, kernel=rbf ...................................\n",
      "[CV] .................... C=50.0, gamma=1.0, kernel=rbf, total=   3.6s\n",
      "[CV] C=50.0, gamma=1.0, kernel=rbf ...................................\n",
      "[CV] .................... C=50.0, gamma=1.0, kernel=rbf, total=   3.6s\n",
      "[CV] C=50.0, gamma=1.0, kernel=rbf ...................................\n",
      "[CV] .................... C=50.0, gamma=1.0, kernel=rbf, total=   3.6s\n",
      "[CV] C=50.0, gamma=5.0, kernel=rbf ...................................\n",
      "[CV] .................... C=50.0, gamma=5.0, kernel=rbf, total=   3.8s\n",
      "[CV] C=50.0, gamma=5.0, kernel=rbf ...................................\n",
      "[CV] .................... C=50.0, gamma=5.0, kernel=rbf, total=   3.7s\n",
      "[CV] C=50.0, gamma=5.0, kernel=rbf ...................................\n",
      "[CV] .................... C=50.0, gamma=5.0, kernel=rbf, total=   3.7s\n"
     ]
    },
    {
     "name": "stderr",
     "output_type": "stream",
     "text": [
      "[Parallel(n_jobs=1)]: Done 144 out of 144 | elapsed: 10.4min finished\n"
     ]
    },
    {
     "name": "stdout",
     "output_type": "stream",
     "text": [
      "Elapsed time, param searching 0:10:29.867128\n"
     ]
    },
    {
     "data": {
      "text/plain": [
       "['mean_fit_time',\n",
       " 'mean_score_time',\n",
       " 'mean_test_score',\n",
       " 'mean_train_score',\n",
       " 'param_C',\n",
       " 'param_gamma',\n",
       " 'param_kernel',\n",
       " 'params',\n",
       " 'rank_test_score',\n",
       " 'split0_test_score',\n",
       " 'split0_train_score',\n",
       " 'split1_test_score',\n",
       " 'split1_train_score',\n",
       " 'split2_test_score',\n",
       " 'split2_train_score',\n",
       " 'std_fit_time',\n",
       " 'std_score_time',\n",
       " 'std_test_score',\n",
       " 'std_train_score']"
      ]
     },
     "execution_count": 19,
     "metadata": {},
     "output_type": "execute_result"
    }
   ],
   "source": [
    "start_time=dt.datetime.now()\n",
    "print('Start param searching at {}'.format(str(start_time)))\n",
    "grid_clsf.fit(X_train,y_train)\n",
    "elapsed_time=dt.datetime.now()-start_time\n",
    "print('Elapsed time, param searching {}'.format(str(elapsed_time)))\n",
    "sorted(grid_clsf.cv_results_.keys())"
   ]
  },
  {
   "cell_type": "code",
   "execution_count": 20,
   "metadata": {},
   "outputs": [],
   "source": [
    "classifier=grid_clsf.best_estimator_\n",
    "params=grid_clsf.best_params_\n",
    "\n",
    "scores=grid_clsf.cv_results_['mean_test_score'].reshape(len(C_range),len(gamma_range))\n",
    "# plot_param_space_scores(scores,C_range, gamma_range)"
   ]
  },
  {
   "cell_type": "code",
   "execution_count": 21,
   "metadata": {},
   "outputs": [
    {
     "data": {
      "text/plain": [
       "array([[0.50643642, 0.58587127, 0.72056515, 0.78806907, 0.79717425,\n",
       "        0.80847724, 0.77488226, 0.50643642],\n",
       "       [0.58587127, 0.77896389, 0.79215071, 0.85808477, 0.8822606 ,\n",
       "        0.91020408, 0.89199372, 0.50643642],\n",
       "       [0.74474097, 0.79403454, 0.8166405 , 0.89387755, 0.91302983,\n",
       "        0.93186813, 0.9255887 , 0.62323391],\n",
       "       [0.7956044 , 0.87535322, 0.8989011 , 0.92621664, 0.93783359,\n",
       "        0.94128728, 0.93406593, 0.66436421],\n",
       "       [0.82009419, 0.89858713, 0.91145997, 0.93406593, 0.93814757,\n",
       "        0.94128728, 0.93406593, 0.66436421],\n",
       "       [0.89795918, 0.91459969, 0.92182104, 0.92841444, 0.93877551,\n",
       "        0.94128728, 0.93406593, 0.66436421]])"
      ]
     },
     "execution_count": 21,
     "metadata": {},
     "output_type": "execute_result"
    }
   ],
   "source": [
    "scores"
   ]
  },
  {
   "cell_type": "code",
   "execution_count": 22,
   "metadata": {},
   "outputs": [
    {
     "name": "stdout",
     "output_type": "stream",
     "text": [
      "[0 0 1 1 0 0 1 1 0 1 1 1 1 1 1 0 1 1 0 0 0 0 1 0 1 1 1 1 0 1 1 1 1 0 1 1 1\n",
      " 0 1 0 0 0 0 1 1 0 0 1 1 0 0 1 1 1 0 0 0 1 0 1 1 0 1 0 0 0 0 1 0 0 1 1 1 0\n",
      " 1 0 1 1 0 1 0 1 0 1 0 1 0 0 1 0 1 1 1 1 0 1 1 0 1 1 1 0 0 1 0 1 0 1 1 1 1\n",
      " 1 0 1 0 1 0 1 1 1 1 1 1 1 1 1 1 1 0 1 0 1 0 0 0 1 1 1 1 0 1 1 1 1 0 1 0 1\n",
      " 1 1 0 0 1 1 1 1 0 1 1 1 1 1 1 1 1 0 1 0 0 0 0 1 1 0 0 0 0 0 0 1 1 0 1 1 1\n",
      " 0 1 0 0 0 1 1 1 1 1 1 0 0 0 0 0 1 1 1 1 1 0 0 1 1 0 1 0 0 0 1 0 1 0 0 0 0\n",
      " 1 0 0 0 1 1 1 1 1 0 0 0 1 1 0 1 0 0 0 0 1 1 1 0 0 1 1 0 1 0 1 1 1 0 0 0 0\n",
      " 0 1 0 1 1 1 0 1 0 0 0 0 0 0 1 1 1 0 1 0 1 1 1 0 1 1 0 0 1 1 1 0 1 0 0 1 0\n",
      " 1 1 1 0 0 1 1 0 0 1 0 0 1 1 0 1 1 0 0 1 1 0 1 1 1 1 0 1 0 1 1 0 0 1 1 0 1\n",
      " 1 1 1 1 0 0 0 1 0 0 0 0 0 0 1 0 0 1 1 0 1 0 1 1 1 1 1 1 0 0 0 0 0 1 1 0 1\n",
      " 0 0 1 1 1 0 0 1 1 0 0 0 1 1 0 0 0 0 1 1 0 0 0 1 0 0 0 1 1 1 0 1 0 0 1 0 1\n",
      " 1 1 1 0 0 0 0 1 0 0 1 0 1 0 1 0 1 1 1 0 0 0 0 0 0 0 1 1 1 0 1 1 1 1 0 1 0\n",
      " 0 1 0 1 1 1 1 0 1 1 0 0 1 0 0 0 0 0 0 1 1 1 0 1 1 0 0 0 1 1 0 1 1 0 1 1 0\n",
      " 1 1 1 1 1 1 0 1 1 1 1 0 1 1 0 0 1 0 1 1 1 1 1 0 0 1 1 0 1 0 1 1 0 1 0 0 0\n",
      " 1 1 0 1 0 0 0 1 0 0 1 0 0 1 1 1 1 1 1 0 1 0 1 0 0 0 0 0 0 0 1 1 1 0 0 1 0\n",
      " 1 1 0 1 0 1 0 0]\n",
      "predicted and expected are same in:  546  out of  563\n",
      "Classification report for classifier SVC(C=5.0, cache_size=200, class_weight=None, coef0=0.0,\n",
      "  decision_function_shape='ovr', degree=3, gamma=0.5, kernel='rbf',\n",
      "  max_iter=-1, probability=False, random_state=None, shrinking=True,\n",
      "  tol=0.001, verbose=False):\n",
      "             precision    recall  f1-score   support\n",
      "\n",
      "          0       0.97      0.97      0.97       261\n",
      "          1       0.97      0.97      0.97       302\n",
      "\n",
      "avg / total       0.97      0.97      0.97       563\n",
      "\n",
      "\n",
      "Confusion matrix:\n",
      "[[252   9]\n",
      " [  8 294]]\n",
      "Accuracy=0.9698046181172292\n"
     ]
    }
   ],
   "source": [
    "expected = y_test\n",
    "predicted = classifier.predict(X_test)\n",
    "print(predicted)\n",
    "print(\"predicted and expected are same in: \", np.sum(expected==predicted),\" out of \", expected.shape[0])\n",
    "\n",
    "print(\"Classification report for classifier %s:\\n%s\\n\"\n",
    "      % (classifier, metrics.classification_report(expected, predicted)))\n",
    "      \n",
    "cm = metrics.confusion_matrix(expected, predicted)\n",
    "print(\"Confusion matrix:\\n%s\" % cm)\n",
    "\n",
    "# plot_confusion_matrix(cm)\n",
    "\n",
    "print(\"Accuracy={}\".format(metrics.accuracy_score(expected, predicted)))\n"
   ]
  },
  {
   "cell_type": "markdown",
   "metadata": {},
   "source": [
    "**Saving the model to disk**"
   ]
  },
  {
   "cell_type": "code",
   "execution_count": 24,
   "metadata": {},
   "outputs": [
    {
     "data": {
      "text/plain": [
       "'/media/amogh/Stuff/CMU/datasets/DISFA_data/'"
      ]
     },
     "execution_count": 24,
     "metadata": {},
     "output_type": "execute_result"
    }
   ],
   "source": [
    "DISFA_path"
   ]
  },
  {
   "cell_type": "code",
   "execution_count": 16,
   "metadata": {},
   "outputs": [],
   "source": [
    "models_path=DISFA_path+'models/'\n",
    "if not os.path.exists(models_path):\n",
    "    os.makedirs(models_path)"
   ]
  },
  {
   "cell_type": "code",
   "execution_count": 39,
   "metadata": {},
   "outputs": [],
   "source": [
    "with open(models_path+'fau4_1_hog_1.pickle','wb') as handle:\n",
    "    pickle.dump(classifier,handle)"
   ]
  },
  {
   "cell_type": "markdown",
   "metadata": {},
   "source": [
    "**Loading a model from disk**"
   ]
  },
  {
   "cell_type": "code",
   "execution_count": 25,
   "metadata": {},
   "outputs": [],
   "source": [
    "with open(models_path+'fau4_1_hog_1.pickle','rb') as handle:\n",
    "    clf1=pickle.load(handle)"
   ]
  },
  {
   "cell_type": "markdown",
   "metadata": {},
   "source": [
    "**Calculating features for a cropped image from disk**"
   ]
  },
  {
   "cell_type": "code",
   "execution_count": 18,
   "metadata": {},
   "outputs": [],
   "source": [
    "def calcHOGfeatures(cropped_im_path):\n",
    "    #instead of 448, put the dimension of the HOG vector\n",
    "    features_fau4_1_hog_1_negatives=np.empty((0,448))\n",
    "    im=cv2.imread(cropped_im_path,0)\n",
    "    fd, hog_image = hog(im, orientations=8, pixels_per_cell=(8,8),cells_per_block=(1, 1), visualise=True)\n",
    "    print (\"The shape of HOG features vector is: \",features_fau4_1_hog_1_negatives.shape)\n",
    "    return fd"
   ]
  },
  {
   "cell_type": "code",
   "execution_count": 23,
   "metadata": {},
   "outputs": [
    {
     "name": "stdout",
     "output_type": "stream",
     "text": [
      "/media/amogh/Stuff/CMU/datasets/DISFA_data//features/cropped_images/FAU4_1/\n",
      "/media/amogh/Stuff/CMU/datasets/DISFA_data//features/cropped_images/FAU4_1/positives/\n",
      "/media/amogh/Stuff/CMU/datasets/DISFA_data//features/cropped_images/FAU4_1/negatives/\n"
     ]
    }
   ],
   "source": [
    "dir_cropped_FAU4_1=DISFA_path+\"/features/cropped_images/FAU4_1/\"\n",
    "print(dir_cropped_FAU4_1)\n",
    "dir_cropped_FAU4_1_positives=dir_cropped_FAU4_1+\"positives/\"\n",
    "print(dir_cropped_FAU4_1_positives)\n",
    "dir_cropped_FAU4_1_negatives=dir_cropped_FAU4_1+\"negatives/\"\n",
    "print(dir_cropped_FAU4_1_negatives)"
   ]
  },
  {
   "cell_type": "code",
   "execution_count": 24,
   "metadata": {},
   "outputs": [
    {
     "data": {
      "text/plain": [
       "'RightVideoSN001_1340.png'"
      ]
     },
     "execution_count": 24,
     "metadata": {},
     "output_type": "execute_result"
    }
   ],
   "source": [
    "list_cropped_fau4_1_positive_files=os.listdir(dir_cropped_FAU4_1_positives)\n",
    "list_cropped_fau4_1_positive_files[0]"
   ]
  },
  {
   "cell_type": "code",
   "execution_count": null,
   "metadata": {},
   "outputs": [],
   "source": [
    "calcHOGfeatures(list_cropped_fau4_1_positive_files)"
   ]
  },
  {
   "cell_type": "code",
   "execution_count": null,
   "metadata": {},
   "outputs": [],
   "source": []
  },
  {
   "cell_type": "code",
   "execution_count": 46,
   "metadata": {},
   "outputs": [
    {
     "data": {
      "text/plain": [
       "array([1, 1, 1, ..., 1, 1, 1])"
      ]
     },
     "execution_count": 46,
     "metadata": {},
     "output_type": "execute_result"
    }
   ],
   "source": [
    "clf1.predict(features_fau4_1_hog_1_positives)"
   ]
  },
  {
   "cell_type": "code",
   "execution_count": 44,
   "metadata": {},
   "outputs": [
    {
     "data": {
      "text/plain": [
       "array([1, 1, 1, ..., 1, 1, 1])"
      ]
     },
     "execution_count": 44,
     "metadata": {},
     "output_type": "execute_result"
    }
   ],
   "source": [
    "classifier.predict(features_fau4_1_hog_1_positives)"
   ]
  },
  {
   "cell_type": "code",
   "execution_count": null,
   "metadata": {},
   "outputs": [],
   "source": []
  },
  {
   "cell_type": "code",
   "execution_count": null,
   "metadata": {},
   "outputs": [],
   "source": []
  },
  {
   "cell_type": "code",
   "execution_count": null,
   "metadata": {},
   "outputs": [],
   "source": []
  },
  {
   "cell_type": "code",
   "execution_count": null,
   "metadata": {},
   "outputs": [],
   "source": []
  },
  {
   "cell_type": "code",
   "execution_count": 38,
   "metadata": {},
   "outputs": [],
   "source": [
    "import dlib"
   ]
  },
  {
   "cell_type": "code",
   "execution_count": 39,
   "metadata": {},
   "outputs": [],
   "source": [
    "detector=dlib.get_frontal_face_detector()\n",
    "predictor=dlib.shape_predictor(\"shape_predictor_68_face_landmarks.dat\")"
   ]
  },
  {
   "cell_type": "code",
   "execution_count": 40,
   "metadata": {},
   "outputs": [],
   "source": [
    "def detectFace(impath):\n",
    "    # load the input image, resize it, and convert it to grayscale\n",
    "    image = cv2.imread(impath)\n",
    "#     image = imutils.resize(image, width=500)\n",
    "    gray = cv2.cvtColor(image, cv2.COLOR_BGR2GRAY)\n",
    "    # detect faces in the grayscale image\n",
    "    rects = detector(gray, 1)\n",
    "\n",
    "    # loop over the face detections\n",
    "    for (i, rect) in enumerate(rects):\n",
    "        # determine the facial landmarks for the face region, then\n",
    "        # convert the facial landmark (x, y)-coordinates to a NumPy\n",
    "        # array\n",
    "        shape = predictor(gray, rect)\n",
    "        shape = face_utils.shape_to_np(shape)\n",
    "#         print(shape.shape)\n",
    "        # convert dlib's rectangle to a OpenCV-style bounding box\n",
    "        # [i.e., (x, y, w, h)], then draw the face bounding box\n",
    "        (x, y, w, h) = face_utils.rect_to_bb(rect)\n",
    "        cv2.rectangle(image, (x, y), (x + w, y + h), (0, 255, 0), 10)\n",
    "        # show the face number\n",
    "        cv2.putText(image, \"Face #{}\".format(i + 1), (x - 10, y - 10),\n",
    "        cv2.FONT_HERSHEY_SIMPLEX, 0.5, (0, 255, 0), 2)\n",
    "        basePath=impath.split('.')[0]\n",
    "#         uncomment lines to write the landmarks to a text file\n",
    "        lmpath=basePath+\"_landmarks\"+str(i+1)+\".txt\"\n",
    "        text_file = open(lmpath, \"w\")\n",
    "        for (x, y) in shape:\n",
    "#             print x,y\n",
    "            cv2.circle(image, (x, y), 10, (0, 0, 255), -1)\n",
    "            text_file.write(str(x)+' '+str(y)+'\\n')\n",
    "        text_file.close()\n",
    "        \n",
    "    # cv2.imshow(\"im\", image)\n",
    "    # cv2.waitKey(1000)\n",
    "#     print 'These are the detected faces and the landmarks, which have been written to : ', lmpath\n",
    "#     print imageTouse.shape,\n",
    "#     print 'landmarks written to: ', lmpath\n",
    "    plt.imshow(cv2.cvtColor(image,cv2.COLOR_BGR2RGB))\n",
    "#         plt.imshow(image)\n",
    "    return lmpath"
   ]
  },
  {
   "cell_type": "code",
   "execution_count": 41,
   "metadata": {},
   "outputs": [
    {
     "ename": "ModuleNotFoundError",
     "evalue": "No module named 'cv2'",
     "output_type": "error",
     "traceback": [
      "\u001b[0;31m---------------------------------------------------------------------------\u001b[0m",
      "\u001b[0;31mModuleNotFoundError\u001b[0m                       Traceback (most recent call last)",
      "\u001b[0;32m<ipython-input-41-c8ec22b3e787>\u001b[0m in \u001b[0;36m<module>\u001b[0;34m()\u001b[0m\n\u001b[0;32m----> 1\u001b[0;31m \u001b[0;32mimport\u001b[0m \u001b[0mcv2\u001b[0m\u001b[0;34m\u001b[0m\u001b[0m\n\u001b[0m",
      "\u001b[0;31mModuleNotFoundError\u001b[0m: No module named 'cv2'"
     ]
    }
   ],
   "source": [
    "import cv2"
   ]
  }
 ],
 "metadata": {
  "kernelspec": {
   "display_name": "Python 3",
   "language": "python",
   "name": "python3"
  },
  "language_info": {
   "codemirror_mode": {
    "name": "ipython",
    "version": 3
   },
   "file_extension": ".py",
   "mimetype": "text/x-python",
   "name": "python",
   "nbconvert_exporter": "python",
   "pygments_lexer": "ipython3",
   "version": "3.6.5"
  }
 },
 "nbformat": 4,
 "nbformat_minor": 2
}

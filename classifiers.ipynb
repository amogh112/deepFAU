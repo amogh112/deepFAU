{
 "cells": [
  {
   "cell_type": "markdown",
   "metadata": {},
   "source": [
    "# Training classifiers on HOG Data\n",
    "#### For extraction of features, see extractFeatures.ipynb"
   ]
  },
  {
   "cell_type": "markdown",
   "metadata": {},
   "source": [
    "conda env- faus_dl"
   ]
  },
  {
   "cell_type": "code",
   "execution_count": 1,
   "metadata": {},
   "outputs": [],
   "source": [
    "import numpy as np\n",
    "import matplotlib.pyplot as plt\n",
    "from matplotlib.colors import Normalize\n",
    "import sklearn\n",
    "from sklearn import datasets, svm, metrics\n",
    "import bcolz\n",
    "import os, sys\n",
    "import datetime as dt"
   ]
  },
  {
   "cell_type": "code",
   "execution_count": 2,
   "metadata": {},
   "outputs": [
    {
     "name": "stdout",
     "output_type": "stream",
     "text": [
      "/media/amogh/Stuff/CMU/datasets/DISFA_data/ActionUnit_Labels/\n",
      "/media/amogh/Stuff/CMU/datasets/DISFA_data/Videos_RightCamera/\n"
     ]
    }
   ],
   "source": [
    "DISFA_path='/media/amogh/Stuff/CMU/datasets/DISFA_data/'\n",
    "DISFA_AU_path=DISFA_path+'ActionUnit_Labels/'\n",
    "print(DISFA_AU_path)\n",
    "Videos_right_path=DISFA_path+'Videos_RightCamera/'\n",
    "print(Videos_right_path)"
   ]
  },
  {
   "cell_type": "code",
   "execution_count": 3,
   "metadata": {},
   "outputs": [],
   "source": [
    "from mnist_helpers import *"
   ]
  },
  {
   "cell_type": "markdown",
   "metadata": {},
   "source": [
    "Helper Functions"
   ]
  },
  {
   "cell_type": "markdown",
   "metadata": {},
   "source": [
    "## FAU4_1"
   ]
  },
  {
   "cell_type": "markdown",
   "metadata": {},
   "source": [
    "Loading the saved features:"
   ]
  },
  {
   "cell_type": "code",
   "execution_count": 4,
   "metadata": {},
   "outputs": [],
   "source": [
    "dir_features_hog_1_fau4_1=DISFA_path+\"/features/hog_1/fau4_1/\"\n",
    "dir_features_hog_1_fau4_1\n",
    "if not os.path.exists(dir_features_hog_1_fau4_1):\n",
    "    os.makedirs(dir_features_hog_hog_1_fau4_1)"
   ]
  },
  {
   "cell_type": "code",
   "execution_count": 5,
   "metadata": {},
   "outputs": [
    {
     "name": "stdout",
     "output_type": "stream",
     "text": [
      "features_fau4_1_hog_1_positives loaded, shape is:  (946, 448)\n"
     ]
    }
   ],
   "source": [
    "features_fau4_1_hog_1_positives=bcolz.carray(rootdir=dir_features_hog_1_fau4_1+'positives/',mode='r')\n",
    "print(\"features_fau4_1_hog_1_positives loaded, shape is: \",features_fau4_1_hog_1_positives.shape)"
   ]
  },
  {
   "cell_type": "code",
   "execution_count": 6,
   "metadata": {},
   "outputs": [
    {
     "name": "stdout",
     "output_type": "stream",
     "text": [
      "features_fau4_1_hog_1_negatives loaded, shape is :  (1000, 448)\n"
     ]
    }
   ],
   "source": [
    "features_fau4_1_hog_1_negatives=bcolz.carray(rootdir=dir_features_hog_1_fau4_1+'negatives/',mode='r')\n",
    "print(\"features_fau4_1_hog_1_negatives loaded, shape is : \",features_fau4_1_hog_1_negatives.shape)"
   ]
  },
  {
   "cell_type": "markdown",
   "metadata": {},
   "source": [
    "Defining the training and testing data"
   ]
  },
  {
   "cell_type": "code",
   "execution_count": 7,
   "metadata": {},
   "outputs": [
    {
     "data": {
      "text/plain": [
       "(1892, 448)"
      ]
     },
     "execution_count": 7,
     "metadata": {},
     "output_type": "execute_result"
    }
   ],
   "source": [
    "X=np.concatenate([features_fau4_1_hog_1_positives,features_fau4_1_hog_1_negatives[:946]])\n",
    "X.shape"
   ]
  },
  {
   "cell_type": "code",
   "execution_count": 8,
   "metadata": {},
   "outputs": [
    {
     "data": {
      "text/plain": [
       "(1892,)"
      ]
     },
     "execution_count": 8,
     "metadata": {},
     "output_type": "execute_result"
    }
   ],
   "source": [
    "Y=np.concatenate([np.repeat(1,features_fau4_1_hog_1_positives.shape[0]),np.repeat(0,features_fau4_1_hog_1_positives.shape[0])])\n",
    "Y.shape"
   ]
  },
  {
   "cell_type": "code",
   "execution_count": null,
   "metadata": {},
   "outputs": [],
   "source": []
  },
  {
   "cell_type": "code",
   "execution_count": 9,
   "metadata": {},
   "outputs": [],
   "source": [
    "X_train,X_test,y_train,y_test=sklearn.model_selection.train_test_split(X,Y,test_size=0.15,random_state=42)"
   ]
  },
  {
   "cell_type": "code",
   "execution_count": 10,
   "metadata": {},
   "outputs": [],
   "source": [
    "gamma_range=np.outer(np.logspace(-3,0,4),np.array([1,5]))\n",
    "gamma_range=gamma_range.flatten()\n",
    "C_range=np.outer(np.logspace(-1,1,3),np.array([1,5]))\n",
    "C_range=C_range.flatten()\n",
    "parameters={'kernel':['rbf'],'C':C_range,'gamma':gamma_range}"
   ]
  },
  {
   "cell_type": "code",
   "execution_count": 11,
   "metadata": {},
   "outputs": [],
   "source": [
    "svm_clsf=svm.SVC()\n",
    "grid_clsf=sklearn.model_selection.GridSearchCV(estimator=svm_clsf,param_grid=parameters,n_jobs=1,verbose=2)"
   ]
  },
  {
   "cell_type": "code",
   "execution_count": 12,
   "metadata": {},
   "outputs": [
    {
     "name": "stdout",
     "output_type": "stream",
     "text": [
      "Start param searching at 2018-05-27 13:09:50.635308\n",
      "Fitting 3 folds for each of 48 candidates, totalling 144 fits\n",
      "[CV] C=0.1, gamma=0.001, kernel=rbf ..................................\n",
      "[CV] ................... C=0.1, gamma=0.001, kernel=rbf, total=   1.0s\n",
      "[CV] C=0.1, gamma=0.001, kernel=rbf ..................................\n"
     ]
    },
    {
     "name": "stderr",
     "output_type": "stream",
     "text": [
      "[Parallel(n_jobs=1)]: Done   1 out of   1 | elapsed:    1.6s remaining:    0.0s\n"
     ]
    },
    {
     "name": "stdout",
     "output_type": "stream",
     "text": [
      "[CV] ................... C=0.1, gamma=0.001, kernel=rbf, total=   1.0s\n",
      "[CV] C=0.1, gamma=0.001, kernel=rbf ..................................\n",
      "[CV] ................... C=0.1, gamma=0.001, kernel=rbf, total=   1.0s\n",
      "[CV] C=0.1, gamma=0.005, kernel=rbf ..................................\n",
      "[CV] ................... C=0.1, gamma=0.005, kernel=rbf, total=   0.6s\n",
      "[CV] C=0.1, gamma=0.005, kernel=rbf ..................................\n",
      "[CV] ................... C=0.1, gamma=0.005, kernel=rbf, total=   0.6s\n",
      "[CV] C=0.1, gamma=0.005, kernel=rbf ..................................\n",
      "[CV] ................... C=0.1, gamma=0.005, kernel=rbf, total=   0.6s\n",
      "[CV] C=0.1, gamma=0.01, kernel=rbf ...................................\n",
      "[CV] .................... C=0.1, gamma=0.01, kernel=rbf, total=   0.4s\n",
      "[CV] C=0.1, gamma=0.01, kernel=rbf ...................................\n",
      "[CV] .................... C=0.1, gamma=0.01, kernel=rbf, total=   0.3s\n",
      "[CV] C=0.1, gamma=0.01, kernel=rbf ...................................\n",
      "[CV] .................... C=0.1, gamma=0.01, kernel=rbf, total=   0.4s\n",
      "[CV] C=0.1, gamma=0.05, kernel=rbf ...................................\n",
      "[CV] .................... C=0.1, gamma=0.05, kernel=rbf, total=   0.2s\n",
      "[CV] C=0.1, gamma=0.05, kernel=rbf ...................................\n",
      "[CV] .................... C=0.1, gamma=0.05, kernel=rbf, total=   0.1s\n",
      "[CV] C=0.1, gamma=0.05, kernel=rbf ...................................\n",
      "[CV] .................... C=0.1, gamma=0.05, kernel=rbf, total=   0.1s\n",
      "[CV] C=0.1, gamma=0.1, kernel=rbf ....................................\n",
      "[CV] ..................... C=0.1, gamma=0.1, kernel=rbf, total=   0.1s\n",
      "[CV] C=0.1, gamma=0.1, kernel=rbf ....................................\n",
      "[CV] ..................... C=0.1, gamma=0.1, kernel=rbf, total=   0.1s\n",
      "[CV] C=0.1, gamma=0.1, kernel=rbf ....................................\n",
      "[CV] ..................... C=0.1, gamma=0.1, kernel=rbf, total=   0.1s\n",
      "[CV] C=0.1, gamma=0.5, kernel=rbf ....................................\n",
      "[CV] ..................... C=0.1, gamma=0.5, kernel=rbf, total=   0.2s\n",
      "[CV] C=0.1, gamma=0.5, kernel=rbf ....................................\n",
      "[CV] ..................... C=0.1, gamma=0.5, kernel=rbf, total=   0.2s\n",
      "[CV] C=0.1, gamma=0.5, kernel=rbf ....................................\n",
      "[CV] ..................... C=0.1, gamma=0.5, kernel=rbf, total=   0.2s\n",
      "[CV] C=0.1, gamma=1.0, kernel=rbf ....................................\n",
      "[CV] ..................... C=0.1, gamma=1.0, kernel=rbf, total=   0.3s\n",
      "[CV] C=0.1, gamma=1.0, kernel=rbf ....................................\n",
      "[CV] ..................... C=0.1, gamma=1.0, kernel=rbf, total=   0.3s\n",
      "[CV] C=0.1, gamma=1.0, kernel=rbf ....................................\n",
      "[CV] ..................... C=0.1, gamma=1.0, kernel=rbf, total=   0.3s\n",
      "[CV] C=0.1, gamma=5.0, kernel=rbf ....................................\n",
      "[CV] ..................... C=0.1, gamma=5.0, kernel=rbf, total=   0.9s\n",
      "[CV] C=0.1, gamma=5.0, kernel=rbf ....................................\n",
      "[CV] ..................... C=0.1, gamma=5.0, kernel=rbf, total=   1.0s\n",
      "[CV] C=0.1, gamma=5.0, kernel=rbf ....................................\n",
      "[CV] ..................... C=0.1, gamma=5.0, kernel=rbf, total=   1.0s\n",
      "[CV] C=0.5, gamma=0.001, kernel=rbf ..................................\n",
      "[CV] ................... C=0.5, gamma=0.001, kernel=rbf, total=   0.6s\n",
      "[CV] C=0.5, gamma=0.001, kernel=rbf ..................................\n",
      "[CV] ................... C=0.5, gamma=0.001, kernel=rbf, total=   0.6s\n",
      "[CV] C=0.5, gamma=0.001, kernel=rbf ..................................\n",
      "[CV] ................... C=0.5, gamma=0.001, kernel=rbf, total=   0.6s\n",
      "[CV] C=0.5, gamma=0.005, kernel=rbf ..................................\n",
      "[CV] ................... C=0.5, gamma=0.005, kernel=rbf, total=   0.2s\n",
      "[CV] C=0.5, gamma=0.005, kernel=rbf ..................................\n",
      "[CV] ................... C=0.5, gamma=0.005, kernel=rbf, total=   0.2s\n",
      "[CV] C=0.5, gamma=0.005, kernel=rbf ..................................\n",
      "[CV] ................... C=0.5, gamma=0.005, kernel=rbf, total=   0.2s\n",
      "[CV] C=0.5, gamma=0.01, kernel=rbf ...................................\n",
      "[CV] .................... C=0.5, gamma=0.01, kernel=rbf, total=   0.1s\n",
      "[CV] C=0.5, gamma=0.01, kernel=rbf ...................................\n",
      "[CV] .................... C=0.5, gamma=0.01, kernel=rbf, total=   0.1s\n",
      "[CV] C=0.5, gamma=0.01, kernel=rbf ...................................\n",
      "[CV] .................... C=0.5, gamma=0.01, kernel=rbf, total=   0.1s\n",
      "[CV] C=0.5, gamma=0.05, kernel=rbf ...................................\n",
      "[CV] .................... C=0.5, gamma=0.05, kernel=rbf, total=   0.1s\n",
      "[CV] C=0.5, gamma=0.05, kernel=rbf ...................................\n",
      "[CV] .................... C=0.5, gamma=0.05, kernel=rbf, total=   0.1s\n",
      "[CV] C=0.5, gamma=0.05, kernel=rbf ...................................\n",
      "[CV] .................... C=0.5, gamma=0.05, kernel=rbf, total=   0.1s\n",
      "[CV] C=0.5, gamma=0.1, kernel=rbf ....................................\n",
      "[CV] ..................... C=0.5, gamma=0.1, kernel=rbf, total=   0.1s\n",
      "[CV] C=0.5, gamma=0.1, kernel=rbf ....................................\n",
      "[CV] ..................... C=0.5, gamma=0.1, kernel=rbf, total=   0.1s\n",
      "[CV] C=0.5, gamma=0.1, kernel=rbf ....................................\n",
      "[CV] ..................... C=0.5, gamma=0.1, kernel=rbf, total=   0.1s\n",
      "[CV] C=0.5, gamma=0.5, kernel=rbf ....................................\n",
      "[CV] ..................... C=0.5, gamma=0.5, kernel=rbf, total=   0.1s\n",
      "[CV] C=0.5, gamma=0.5, kernel=rbf ....................................\n",
      "[CV] ..................... C=0.5, gamma=0.5, kernel=rbf, total=   0.2s\n",
      "[CV] C=0.5, gamma=0.5, kernel=rbf ....................................\n",
      "[CV] ..................... C=0.5, gamma=0.5, kernel=rbf, total=   0.1s\n",
      "[CV] C=0.5, gamma=1.0, kernel=rbf ....................................\n",
      "[CV] ..................... C=0.5, gamma=1.0, kernel=rbf, total=   0.3s\n",
      "[CV] C=0.5, gamma=1.0, kernel=rbf ....................................\n",
      "[CV] ..................... C=0.5, gamma=1.0, kernel=rbf, total=   0.2s\n",
      "[CV] C=0.5, gamma=1.0, kernel=rbf ....................................\n",
      "[CV] ..................... C=0.5, gamma=1.0, kernel=rbf, total=   0.2s\n",
      "[CV] C=0.5, gamma=5.0, kernel=rbf ....................................\n",
      "[CV] ..................... C=0.5, gamma=5.0, kernel=rbf, total=   0.9s\n",
      "[CV] C=0.5, gamma=5.0, kernel=rbf ....................................\n",
      "[CV] ..................... C=0.5, gamma=5.0, kernel=rbf, total=   1.0s\n",
      "[CV] C=0.5, gamma=5.0, kernel=rbf ....................................\n",
      "[CV] ..................... C=0.5, gamma=5.0, kernel=rbf, total=   1.0s\n",
      "[CV] C=1.0, gamma=0.001, kernel=rbf ..................................\n",
      "[CV] ................... C=1.0, gamma=0.001, kernel=rbf, total=   0.4s\n",
      "[CV] C=1.0, gamma=0.001, kernel=rbf ..................................\n",
      "[CV] ................... C=1.0, gamma=0.001, kernel=rbf, total=   0.3s\n",
      "[CV] C=1.0, gamma=0.001, kernel=rbf ..................................\n",
      "[CV] ................... C=1.0, gamma=0.001, kernel=rbf, total=   0.3s\n",
      "[CV] C=1.0, gamma=0.005, kernel=rbf ..................................\n",
      "[CV] ................... C=1.0, gamma=0.005, kernel=rbf, total=   0.1s\n",
      "[CV] C=1.0, gamma=0.005, kernel=rbf ..................................\n",
      "[CV] ................... C=1.0, gamma=0.005, kernel=rbf, total=   0.1s\n",
      "[CV] C=1.0, gamma=0.005, kernel=rbf ..................................\n",
      "[CV] ................... C=1.0, gamma=0.005, kernel=rbf, total=   0.1s\n",
      "[CV] C=1.0, gamma=0.01, kernel=rbf ...................................\n",
      "[CV] .................... C=1.0, gamma=0.01, kernel=rbf, total=   0.1s\n",
      "[CV] C=1.0, gamma=0.01, kernel=rbf ...................................\n",
      "[CV] .................... C=1.0, gamma=0.01, kernel=rbf, total=   0.1s\n",
      "[CV] C=1.0, gamma=0.01, kernel=rbf ...................................\n",
      "[CV] .................... C=1.0, gamma=0.01, kernel=rbf, total=   0.1s\n",
      "[CV] C=1.0, gamma=0.05, kernel=rbf ...................................\n",
      "[CV] .................... C=1.0, gamma=0.05, kernel=rbf, total=   0.1s\n",
      "[CV] C=1.0, gamma=0.05, kernel=rbf ...................................\n",
      "[CV] .................... C=1.0, gamma=0.05, kernel=rbf, total=   0.1s\n",
      "[CV] C=1.0, gamma=0.05, kernel=rbf ...................................\n",
      "[CV] .................... C=1.0, gamma=0.05, kernel=rbf, total=   0.1s\n",
      "[CV] C=1.0, gamma=0.1, kernel=rbf ....................................\n",
      "[CV] ..................... C=1.0, gamma=0.1, kernel=rbf, total=   0.1s\n",
      "[CV] C=1.0, gamma=0.1, kernel=rbf ....................................\n",
      "[CV] ..................... C=1.0, gamma=0.1, kernel=rbf, total=   0.1s\n",
      "[CV] C=1.0, gamma=0.1, kernel=rbf ....................................\n",
      "[CV] ..................... C=1.0, gamma=0.1, kernel=rbf, total=   0.1s\n",
      "[CV] C=1.0, gamma=0.5, kernel=rbf ....................................\n",
      "[CV] ..................... C=1.0, gamma=0.5, kernel=rbf, total=   0.2s\n",
      "[CV] C=1.0, gamma=0.5, kernel=rbf ....................................\n",
      "[CV] ..................... C=1.0, gamma=0.5, kernel=rbf, total=   0.2s\n",
      "[CV] C=1.0, gamma=0.5, kernel=rbf ....................................\n",
      "[CV] ..................... C=1.0, gamma=0.5, kernel=rbf, total=   0.1s\n",
      "[CV] C=1.0, gamma=1.0, kernel=rbf ....................................\n",
      "[CV] ..................... C=1.0, gamma=1.0, kernel=rbf, total=   0.3s\n",
      "[CV] C=1.0, gamma=1.0, kernel=rbf ....................................\n",
      "[CV] ..................... C=1.0, gamma=1.0, kernel=rbf, total=   0.3s\n",
      "[CV] C=1.0, gamma=1.0, kernel=rbf ....................................\n",
      "[CV] ..................... C=1.0, gamma=1.0, kernel=rbf, total=   0.3s\n",
      "[CV] C=1.0, gamma=5.0, kernel=rbf ....................................\n",
      "[CV] ..................... C=1.0, gamma=5.0, kernel=rbf, total=   1.0s\n",
      "[CV] C=1.0, gamma=5.0, kernel=rbf ....................................\n",
      "[CV] ..................... C=1.0, gamma=5.0, kernel=rbf, total=   0.9s\n",
      "[CV] C=1.0, gamma=5.0, kernel=rbf ....................................\n",
      "[CV] ..................... C=1.0, gamma=5.0, kernel=rbf, total=   1.0s\n",
      "[CV] C=5.0, gamma=0.001, kernel=rbf ..................................\n",
      "[CV] ................... C=5.0, gamma=0.001, kernel=rbf, total=   0.1s\n",
      "[CV] C=5.0, gamma=0.001, kernel=rbf ..................................\n",
      "[CV] ................... C=5.0, gamma=0.001, kernel=rbf, total=   0.1s\n",
      "[CV] C=5.0, gamma=0.001, kernel=rbf ..................................\n",
      "[CV] ................... C=5.0, gamma=0.001, kernel=rbf, total=   0.1s\n",
      "[CV] C=5.0, gamma=0.005, kernel=rbf ..................................\n",
      "[CV] ................... C=5.0, gamma=0.005, kernel=rbf, total=   0.1s\n",
      "[CV] C=5.0, gamma=0.005, kernel=rbf ..................................\n",
      "[CV] ................... C=5.0, gamma=0.005, kernel=rbf, total=   0.1s\n",
      "[CV] C=5.0, gamma=0.005, kernel=rbf ..................................\n",
      "[CV] ................... C=5.0, gamma=0.005, kernel=rbf, total=   0.1s\n",
      "[CV] C=5.0, gamma=0.01, kernel=rbf ...................................\n",
      "[CV] .................... C=5.0, gamma=0.01, kernel=rbf, total=   0.1s\n",
      "[CV] C=5.0, gamma=0.01, kernel=rbf ...................................\n",
      "[CV] .................... C=5.0, gamma=0.01, kernel=rbf, total=   0.1s\n",
      "[CV] C=5.0, gamma=0.01, kernel=rbf ...................................\n",
      "[CV] .................... C=5.0, gamma=0.01, kernel=rbf, total=   0.1s\n",
      "[CV] C=5.0, gamma=0.05, kernel=rbf ...................................\n",
      "[CV] .................... C=5.0, gamma=0.05, kernel=rbf, total=   0.1s\n",
      "[CV] C=5.0, gamma=0.05, kernel=rbf ...................................\n",
      "[CV] .................... C=5.0, gamma=0.05, kernel=rbf, total=   0.1s\n",
      "[CV] C=5.0, gamma=0.05, kernel=rbf ...................................\n",
      "[CV] .................... C=5.0, gamma=0.05, kernel=rbf, total=   0.1s\n",
      "[CV] C=5.0, gamma=0.1, kernel=rbf ....................................\n",
      "[CV] ..................... C=5.0, gamma=0.1, kernel=rbf, total=   0.1s\n",
      "[CV] C=5.0, gamma=0.1, kernel=rbf ....................................\n",
      "[CV] ..................... C=5.0, gamma=0.1, kernel=rbf, total=   0.1s\n",
      "[CV] C=5.0, gamma=0.1, kernel=rbf ....................................\n",
      "[CV] ..................... C=5.0, gamma=0.1, kernel=rbf, total=   0.1s\n",
      "[CV] C=5.0, gamma=0.5, kernel=rbf ....................................\n",
      "[CV] ..................... C=5.0, gamma=0.5, kernel=rbf, total=   0.1s\n",
      "[CV] C=5.0, gamma=0.5, kernel=rbf ....................................\n",
      "[CV] ..................... C=5.0, gamma=0.5, kernel=rbf, total=   0.2s\n",
      "[CV] C=5.0, gamma=0.5, kernel=rbf ....................................\n",
      "[CV] ..................... C=5.0, gamma=0.5, kernel=rbf, total=   0.1s\n",
      "[CV] C=5.0, gamma=1.0, kernel=rbf ....................................\n",
      "[CV] ..................... C=5.0, gamma=1.0, kernel=rbf, total=   0.3s\n",
      "[CV] C=5.0, gamma=1.0, kernel=rbf ....................................\n",
      "[CV] ..................... C=5.0, gamma=1.0, kernel=rbf, total=   0.3s\n",
      "[CV] C=5.0, gamma=1.0, kernel=rbf ....................................\n",
      "[CV] ..................... C=5.0, gamma=1.0, kernel=rbf, total=   0.3s\n",
      "[CV] C=5.0, gamma=5.0, kernel=rbf ....................................\n",
      "[CV] ..................... C=5.0, gamma=5.0, kernel=rbf, total=   0.9s\n",
      "[CV] C=5.0, gamma=5.0, kernel=rbf ....................................\n",
      "[CV] ..................... C=5.0, gamma=5.0, kernel=rbf, total=   0.9s\n",
      "[CV] C=5.0, gamma=5.0, kernel=rbf ....................................\n",
      "[CV] ..................... C=5.0, gamma=5.0, kernel=rbf, total=   0.9s\n",
      "[CV] C=10.0, gamma=0.001, kernel=rbf .................................\n",
      "[CV] .................. C=10.0, gamma=0.001, kernel=rbf, total=   0.1s\n",
      "[CV] C=10.0, gamma=0.001, kernel=rbf .................................\n",
      "[CV] .................. C=10.0, gamma=0.001, kernel=rbf, total=   0.1s\n",
      "[CV] C=10.0, gamma=0.001, kernel=rbf .................................\n",
      "[CV] .................. C=10.0, gamma=0.001, kernel=rbf, total=   0.1s\n",
      "[CV] C=10.0, gamma=0.005, kernel=rbf .................................\n",
      "[CV] .................. C=10.0, gamma=0.005, kernel=rbf, total=   0.1s\n",
      "[CV] C=10.0, gamma=0.005, kernel=rbf .................................\n",
      "[CV] .................. C=10.0, gamma=0.005, kernel=rbf, total=   0.1s\n",
      "[CV] C=10.0, gamma=0.005, kernel=rbf .................................\n",
      "[CV] .................. C=10.0, gamma=0.005, kernel=rbf, total=   0.1s\n",
      "[CV] C=10.0, gamma=0.01, kernel=rbf ..................................\n",
      "[CV] ................... C=10.0, gamma=0.01, kernel=rbf, total=   0.1s\n",
      "[CV] C=10.0, gamma=0.01, kernel=rbf ..................................\n",
      "[CV] ................... C=10.0, gamma=0.01, kernel=rbf, total=   0.1s\n",
      "[CV] C=10.0, gamma=0.01, kernel=rbf ..................................\n",
      "[CV] ................... C=10.0, gamma=0.01, kernel=rbf, total=   0.1s\n",
      "[CV] C=10.0, gamma=0.05, kernel=rbf ..................................\n",
      "[CV] ................... C=10.0, gamma=0.05, kernel=rbf, total=   0.1s\n",
      "[CV] C=10.0, gamma=0.05, kernel=rbf ..................................\n",
      "[CV] ................... C=10.0, gamma=0.05, kernel=rbf, total=   0.0s\n",
      "[CV] C=10.0, gamma=0.05, kernel=rbf ..................................\n",
      "[CV] ................... C=10.0, gamma=0.05, kernel=rbf, total=   0.1s\n",
      "[CV] C=10.0, gamma=0.1, kernel=rbf ...................................\n",
      "[CV] .................... C=10.0, gamma=0.1, kernel=rbf, total=   0.1s\n",
      "[CV] C=10.0, gamma=0.1, kernel=rbf ...................................\n",
      "[CV] .................... C=10.0, gamma=0.1, kernel=rbf, total=   0.1s\n",
      "[CV] C=10.0, gamma=0.1, kernel=rbf ...................................\n",
      "[CV] .................... C=10.0, gamma=0.1, kernel=rbf, total=   0.1s\n",
      "[CV] C=10.0, gamma=0.5, kernel=rbf ...................................\n",
      "[CV] .................... C=10.0, gamma=0.5, kernel=rbf, total=   0.1s\n",
      "[CV] C=10.0, gamma=0.5, kernel=rbf ...................................\n",
      "[CV] .................... C=10.0, gamma=0.5, kernel=rbf, total=   0.2s\n",
      "[CV] C=10.0, gamma=0.5, kernel=rbf ...................................\n",
      "[CV] .................... C=10.0, gamma=0.5, kernel=rbf, total=   0.1s\n",
      "[CV] C=10.0, gamma=1.0, kernel=rbf ...................................\n",
      "[CV] .................... C=10.0, gamma=1.0, kernel=rbf, total=   0.3s\n",
      "[CV] C=10.0, gamma=1.0, kernel=rbf ...................................\n",
      "[CV] .................... C=10.0, gamma=1.0, kernel=rbf, total=   0.3s\n",
      "[CV] C=10.0, gamma=1.0, kernel=rbf ...................................\n",
      "[CV] .................... C=10.0, gamma=1.0, kernel=rbf, total=   0.3s\n",
      "[CV] C=10.0, gamma=5.0, kernel=rbf ...................................\n",
      "[CV] .................... C=10.0, gamma=5.0, kernel=rbf, total=   0.9s\n",
      "[CV] C=10.0, gamma=5.0, kernel=rbf ...................................\n",
      "[CV] .................... C=10.0, gamma=5.0, kernel=rbf, total=   0.9s\n",
      "[CV] C=10.0, gamma=5.0, kernel=rbf ...................................\n",
      "[CV] .................... C=10.0, gamma=5.0, kernel=rbf, total=   0.9s\n",
      "[CV] C=50.0, gamma=0.001, kernel=rbf .................................\n",
      "[CV] .................. C=50.0, gamma=0.001, kernel=rbf, total=   0.1s\n",
      "[CV] C=50.0, gamma=0.001, kernel=rbf .................................\n",
      "[CV] .................. C=50.0, gamma=0.001, kernel=rbf, total=   0.1s\n",
      "[CV] C=50.0, gamma=0.001, kernel=rbf .................................\n",
      "[CV] .................. C=50.0, gamma=0.001, kernel=rbf, total=   0.1s\n",
      "[CV] C=50.0, gamma=0.005, kernel=rbf .................................\n",
      "[CV] .................. C=50.0, gamma=0.005, kernel=rbf, total=   0.1s\n",
      "[CV] C=50.0, gamma=0.005, kernel=rbf .................................\n",
      "[CV] .................. C=50.0, gamma=0.005, kernel=rbf, total=   0.1s\n",
      "[CV] C=50.0, gamma=0.005, kernel=rbf .................................\n",
      "[CV] .................. C=50.0, gamma=0.005, kernel=rbf, total=   0.1s\n",
      "[CV] C=50.0, gamma=0.01, kernel=rbf ..................................\n",
      "[CV] ................... C=50.0, gamma=0.01, kernel=rbf, total=   0.0s\n",
      "[CV] C=50.0, gamma=0.01, kernel=rbf ..................................\n",
      "[CV] ................... C=50.0, gamma=0.01, kernel=rbf, total=   0.0s\n",
      "[CV] C=50.0, gamma=0.01, kernel=rbf ..................................\n",
      "[CV] ................... C=50.0, gamma=0.01, kernel=rbf, total=   0.1s\n",
      "[CV] C=50.0, gamma=0.05, kernel=rbf ..................................\n",
      "[CV] ................... C=50.0, gamma=0.05, kernel=rbf, total=   0.1s\n",
      "[CV] C=50.0, gamma=0.05, kernel=rbf ..................................\n",
      "[CV] ................... C=50.0, gamma=0.05, kernel=rbf, total=   0.1s\n",
      "[CV] C=50.0, gamma=0.05, kernel=rbf ..................................\n",
      "[CV] ................... C=50.0, gamma=0.05, kernel=rbf, total=   0.1s\n",
      "[CV] C=50.0, gamma=0.1, kernel=rbf ...................................\n",
      "[CV] .................... C=50.0, gamma=0.1, kernel=rbf, total=   0.1s\n",
      "[CV] C=50.0, gamma=0.1, kernel=rbf ...................................\n",
      "[CV] .................... C=50.0, gamma=0.1, kernel=rbf, total=   0.0s\n",
      "[CV] C=50.0, gamma=0.1, kernel=rbf ...................................\n",
      "[CV] .................... C=50.0, gamma=0.1, kernel=rbf, total=   0.1s\n",
      "[CV] C=50.0, gamma=0.5, kernel=rbf ...................................\n",
      "[CV] .................... C=50.0, gamma=0.5, kernel=rbf, total=   0.2s\n",
      "[CV] C=50.0, gamma=0.5, kernel=rbf ...................................\n",
      "[CV] .................... C=50.0, gamma=0.5, kernel=rbf, total=   0.2s\n",
      "[CV] C=50.0, gamma=0.5, kernel=rbf ...................................\n",
      "[CV] .................... C=50.0, gamma=0.5, kernel=rbf, total=   0.1s\n",
      "[CV] C=50.0, gamma=1.0, kernel=rbf ...................................\n",
      "[CV] .................... C=50.0, gamma=1.0, kernel=rbf, total=   0.3s\n",
      "[CV] C=50.0, gamma=1.0, kernel=rbf ...................................\n",
      "[CV] .................... C=50.0, gamma=1.0, kernel=rbf, total=   0.3s\n",
      "[CV] C=50.0, gamma=1.0, kernel=rbf ...................................\n",
      "[CV] .................... C=50.0, gamma=1.0, kernel=rbf, total=   0.3s\n",
      "[CV] C=50.0, gamma=5.0, kernel=rbf ...................................\n",
      "[CV] .................... C=50.0, gamma=5.0, kernel=rbf, total=   0.9s\n",
      "[CV] C=50.0, gamma=5.0, kernel=rbf ...................................\n",
      "[CV] .................... C=50.0, gamma=5.0, kernel=rbf, total=   0.9s\n",
      "[CV] C=50.0, gamma=5.0, kernel=rbf ...................................\n",
      "[CV] .................... C=50.0, gamma=5.0, kernel=rbf, total=   0.9s\n",
      "Elapsed time, param searching 0:01:04.173081\n"
     ]
    },
    {
     "name": "stderr",
     "output_type": "stream",
     "text": [
      "[Parallel(n_jobs=1)]: Done 144 out of 144 | elapsed:  1.1min finished\n"
     ]
    },
    {
     "data": {
      "text/plain": [
       "['mean_fit_time',\n",
       " 'mean_score_time',\n",
       " 'mean_test_score',\n",
       " 'mean_train_score',\n",
       " 'param_C',\n",
       " 'param_gamma',\n",
       " 'param_kernel',\n",
       " 'params',\n",
       " 'rank_test_score',\n",
       " 'split0_test_score',\n",
       " 'split0_train_score',\n",
       " 'split1_test_score',\n",
       " 'split1_train_score',\n",
       " 'split2_test_score',\n",
       " 'split2_train_score',\n",
       " 'std_fit_time',\n",
       " 'std_score_time',\n",
       " 'std_test_score',\n",
       " 'std_train_score']"
      ]
     },
     "execution_count": 12,
     "metadata": {},
     "output_type": "execute_result"
    }
   ],
   "source": [
    "start_time=dt.datetime.now()\n",
    "print('Start param searching at {}'.format(str(start_time)))\n",
    "grid_clsf.fit(X_train,y_train)\n",
    "elapsed_time=dt.datetime.now()-start_time\n",
    "print('Elapsed time, param searching {}'.format(str(elapsed_time)))\n",
    "sorted(grid_clsf.cv_results_.keys())"
   ]
  },
  {
   "cell_type": "code",
   "execution_count": 13,
   "metadata": {},
   "outputs": [
    {
     "ename": "NameError",
     "evalue": "name 'plot_param_space_scores' is not defined",
     "output_type": "error",
     "traceback": [
      "\u001b[0;31m---------------------------------------------------------------------------\u001b[0m",
      "\u001b[0;31mNameError\u001b[0m                                 Traceback (most recent call last)",
      "\u001b[0;32m<ipython-input-13-336bcb63a70e>\u001b[0m in \u001b[0;36m<module>\u001b[0;34m()\u001b[0m\n\u001b[1;32m      3\u001b[0m \u001b[0;34m\u001b[0m\u001b[0m\n\u001b[1;32m      4\u001b[0m \u001b[0mscores\u001b[0m\u001b[0;34m=\u001b[0m\u001b[0mgrid_clsf\u001b[0m\u001b[0;34m.\u001b[0m\u001b[0mcv_results_\u001b[0m\u001b[0;34m[\u001b[0m\u001b[0;34m'mean_test_score'\u001b[0m\u001b[0;34m]\u001b[0m\u001b[0;34m.\u001b[0m\u001b[0mreshape\u001b[0m\u001b[0;34m(\u001b[0m\u001b[0mlen\u001b[0m\u001b[0;34m(\u001b[0m\u001b[0mC_range\u001b[0m\u001b[0;34m)\u001b[0m\u001b[0;34m,\u001b[0m\u001b[0mlen\u001b[0m\u001b[0;34m(\u001b[0m\u001b[0mgamma_range\u001b[0m\u001b[0;34m)\u001b[0m\u001b[0;34m)\u001b[0m\u001b[0;34m\u001b[0m\u001b[0m\n\u001b[0;32m----> 5\u001b[0;31m \u001b[0mplot_param_space_scores\u001b[0m\u001b[0;34m(\u001b[0m\u001b[0mscores\u001b[0m\u001b[0;34m,\u001b[0m\u001b[0mC_range\u001b[0m\u001b[0;34m,\u001b[0m \u001b[0mgamma_range\u001b[0m\u001b[0;34m)\u001b[0m\u001b[0;34m\u001b[0m\u001b[0m\n\u001b[0m",
      "\u001b[0;31mNameError\u001b[0m: name 'plot_param_space_scores' is not defined"
     ]
    }
   ],
   "source": [
    "classifier=grid_clsf.best_estimator_\n",
    "params=grid_clsf.best_params_\n",
    "\n",
    "scores=grid_clsf.cv_results_['mean_test_score'].reshape(len(C_range),len(gamma_range))\n",
    "plot_param_space_scores(scores,C_range, gamma_range)"
   ]
  },
  {
   "cell_type": "code",
   "execution_count": null,
   "metadata": {},
   "outputs": [],
   "source": []
  }
 ],
 "metadata": {
  "kernelspec": {
   "display_name": "Python 3",
   "language": "python",
   "name": "python3"
  },
  "language_info": {
   "codemirror_mode": {
    "name": "ipython",
    "version": 3
   },
   "file_extension": ".py",
   "mimetype": "text/x-python",
   "name": "python",
   "nbconvert_exporter": "python",
   "pygments_lexer": "ipython3",
   "version": "3.6.5"
  }
 },
 "nbformat": 4,
 "nbformat_minor": 2
}

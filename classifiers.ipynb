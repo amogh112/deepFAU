{
 "cells": [
  {
   "cell_type": "markdown",
   "metadata": {},
   "source": [
    "# Training classifiers on HOG Data\n",
    "#### For extraction of features, see extractFeatures.ipynb"
   ]
  },
  {
   "cell_type": "markdown",
   "metadata": {},
   "source": [
    "conda env- make sure to switch to python3 kernel, faus_dl"
   ]
  },
  {
   "cell_type": "code",
   "execution_count": 5,
   "metadata": {},
   "outputs": [],
   "source": [
    "import numpy as np\n",
    "import matplotlib.pyplot as plt\n",
    "from matplotlib.colors import Normalize\n",
    "import sklearn\n",
    "from sklearn import datasets, svm, metrics\n",
    "import bcolz\n",
    "import os, sys\n",
    "import datetime as dt\n",
    "import random"
   ]
  },
  {
   "cell_type": "code",
   "execution_count": 2,
   "metadata": {},
   "outputs": [],
   "source": [
    "import pickle"
   ]
  },
  {
   "cell_type": "code",
   "execution_count": 3,
   "metadata": {},
   "outputs": [
    {
     "name": "stdout",
     "output_type": "stream",
     "text": [
      "/media/amogh/Stuff/CMU/datasets/DISFA_data/ActionUnit_Labels/\n",
      "/media/amogh/Stuff/CMU/datasets/DISFA_data/Videos_RightCamera/\n"
     ]
    }
   ],
   "source": [
    "DISFA_path='/media/amogh/Stuff/CMU/datasets/DISFA_data/'\n",
    "DISFA_AU_path=DISFA_path+'ActionUnit_Labels/'\n",
    "print(DISFA_AU_path)\n",
    "Videos_right_path=DISFA_path+'Videos_RightCamera/'\n",
    "print(Videos_right_path)"
   ]
  },
  {
   "cell_type": "raw",
   "metadata": {},
   "source": [
    "import mnist_helpers"
   ]
  },
  {
   "cell_type": "markdown",
   "metadata": {},
   "source": [
    "Helper Functions"
   ]
  },
  {
   "cell_type": "markdown",
   "metadata": {},
   "source": [
    "## Training Details explained"
   ]
  },
  {
   "cell_type": "markdown",
   "metadata": {},
   "source": [
    "Loading the saved features:"
   ]
  },
  {
   "cell_type": "code",
   "execution_count": 5,
   "metadata": {},
   "outputs": [
    {
     "data": {
      "text/plain": [
       "'/media/amogh/Stuff/CMU/datasets/DISFA_data//features/hog_1/fau4_1/'"
      ]
     },
     "execution_count": 5,
     "metadata": {},
     "output_type": "execute_result"
    }
   ],
   "source": [
    "dir_features_hog_1_fau4_1=DISFA_path+\"/features/hog_1/fau4_1/\"\n",
    "dir_features_hog_1_fau4_1"
   ]
  },
  {
   "cell_type": "code",
   "execution_count": 6,
   "metadata": {},
   "outputs": [
    {
     "name": "stdout",
     "output_type": "stream",
     "text": [
      "features_fau4_1_hog_1_positives loaded, shape is:  (2000, 448)\n"
     ]
    }
   ],
   "source": [
    "features_fau4_1_hog_1_positives=bcolz.carray(rootdir=dir_features_hog_1_fau4_1+'positives/',mode='r')\n",
    "print(\"features_fau4_1_hog_1_positives loaded, shape is: \",features_fau4_1_hog_1_positives.shape)"
   ]
  },
  {
   "cell_type": "code",
   "execution_count": 7,
   "metadata": {},
   "outputs": [
    {
     "name": "stdout",
     "output_type": "stream",
     "text": [
      "features_fau4_1_hog_1_negatives loaded, shape is :  (1898, 448)\n"
     ]
    }
   ],
   "source": [
    "features_fau4_1_hog_1_negatives=bcolz.carray(rootdir=dir_features_hog_1_fau4_1+'negatives/',mode='r')\n",
    "print(\"features_fau4_1_hog_1_negatives loaded, shape is : \",features_fau4_1_hog_1_negatives.shape)"
   ]
  },
  {
   "cell_type": "markdown",
   "metadata": {},
   "source": [
    "Loading test_features:"
   ]
  },
  {
   "cell_type": "code",
   "execution_count": 8,
   "metadata": {},
   "outputs": [
    {
     "name": "stdout",
     "output_type": "stream",
     "text": [
      "features_fau4_1_hog_1_positives_test loaded, shape is:  (464, 448)\n"
     ]
    }
   ],
   "source": [
    "features_fau4_1_hog_1_positives_test=bcolz.carray(rootdir=dir_features_hog_1_fau4_1+'positives_test/',mode='r')\n",
    "print(\"features_fau4_1_hog_1_positives_test loaded, shape is: \",features_fau4_1_hog_1_positives_test.shape)"
   ]
  },
  {
   "cell_type": "code",
   "execution_count": 9,
   "metadata": {},
   "outputs": [
    {
     "name": "stdout",
     "output_type": "stream",
     "text": [
      "features_fau4_1_hog_1_negatives_test loaded, shape is :  (499, 448)\n"
     ]
    }
   ],
   "source": [
    "features_fau4_1_hog_1_negatives_test=bcolz.carray(rootdir=dir_features_hog_1_fau4_1+'negatives_test/',mode='r')\n",
    "print(\"features_fau4_1_hog_1_negatives_test loaded, shape is : \",features_fau4_1_hog_1_negatives_test.shape)"
   ]
  },
  {
   "cell_type": "markdown",
   "metadata": {},
   "source": [
    "Defining the training and testing data"
   ]
  },
  {
   "cell_type": "code",
   "execution_count": 10,
   "metadata": {},
   "outputs": [
    {
     "data": {
      "text/plain": [
       "(3600, 448)"
      ]
     },
     "execution_count": 10,
     "metadata": {},
     "output_type": "execute_result"
    }
   ],
   "source": [
    "train_no=1800\n",
    "X=np.concatenate([features_fau4_1_hog_1_positives[:train_no],features_fau4_1_hog_1_negatives[:train_no]])\n",
    "X.shape"
   ]
  },
  {
   "cell_type": "code",
   "execution_count": 11,
   "metadata": {},
   "outputs": [
    {
     "data": {
      "text/plain": [
       "(3600,)"
      ]
     },
     "execution_count": 11,
     "metadata": {},
     "output_type": "execute_result"
    }
   ],
   "source": [
    "Y=np.concatenate([np.repeat(1,train_no),np.repeat(0,train_no)])\n",
    "Y.shape"
   ]
  },
  {
   "cell_type": "code",
   "execution_count": 12,
   "metadata": {},
   "outputs": [],
   "source": [
    "X_train,X_test,y_train,y_test=sklearn.model_selection.train_test_split(X,Y,test_size=0.15,random_state=42)"
   ]
  },
  {
   "cell_type": "markdown",
   "metadata": {},
   "source": [
    "Defining the parameter range for SVM:"
   ]
  },
  {
   "cell_type": "code",
   "execution_count": 13,
   "metadata": {},
   "outputs": [],
   "source": [
    "gamma_range=np.outer(np.logspace(-3,0,4),np.array([1,5]))\n",
    "gamma_range=gamma_range.flatten()\n",
    "C_range=np.outer(np.logspace(-1,1,3),np.array([1,5]))\n",
    "C_range=C_range.flatten()\n",
    "parameters={'kernel':['rbf'],'C':C_range,'gamma':gamma_range}"
   ]
  },
  {
   "cell_type": "code",
   "execution_count": 14,
   "metadata": {},
   "outputs": [],
   "source": [
    "svm_clsf=svm.SVC()\n",
    "grid_clsf=sklearn.model_selection.GridSearchCV(estimator=svm_clsf,param_grid=parameters,n_jobs=8,verbose=2)"
   ]
  },
  {
   "cell_type": "markdown",
   "metadata": {},
   "source": [
    "Start training and parameter search "
   ]
  },
  {
   "cell_type": "code",
   "execution_count": 15,
   "metadata": {},
   "outputs": [
    {
     "name": "stdout",
     "output_type": "stream",
     "text": [
      "Start param searching at 2018-06-07 10:23:59.808611\n",
      "Fitting 3 folds for each of 48 candidates, totalling 144 fits\n",
      "[CV] C=0.1, gamma=0.001, kernel=rbf ..................................\n",
      "[CV] C=0.1, gamma=0.001, kernel=rbf ..................................\n",
      "[CV] C=0.1, gamma=0.001, kernel=rbf ..................................\n",
      "[CV] C=0.1, gamma=0.005, kernel=rbf ..................................\n",
      "[CV] C=0.1, gamma=0.005, kernel=rbf ..................................\n",
      "[CV] C=0.1, gamma=0.005, kernel=rbf ..................................\n",
      "[CV] C=0.1, gamma=0.01, kernel=rbf ...................................\n",
      "[CV] C=0.1, gamma=0.01, kernel=rbf ...................................\n",
      "[CV] .................... C=0.1, gamma=0.01, kernel=rbf, total=  11.2s\n",
      "[CV] C=0.1, gamma=0.01, kernel=rbf ...................................\n",
      "[CV] .................... C=0.1, gamma=0.01, kernel=rbf, total=  12.3s\n",
      "[CV] C=0.1, gamma=0.05, kernel=rbf ...................................\n",
      "[CV] ................... C=0.1, gamma=0.001, kernel=rbf, total=  12.4s\n",
      "[CV] C=0.1, gamma=0.05, kernel=rbf ...................................\n",
      "[CV] ................... C=0.1, gamma=0.005, kernel=rbf, total=  13.3s\n",
      "[CV] C=0.1, gamma=0.05, kernel=rbf ...................................\n",
      "[CV] ................... C=0.1, gamma=0.005, kernel=rbf, total=  12.9s\n",
      "[CV] C=0.1, gamma=0.1, kernel=rbf ....................................\n",
      "[CV] ................... C=0.1, gamma=0.001, kernel=rbf, total=  13.5s\n",
      "[CV] C=0.1, gamma=0.1, kernel=rbf ....................................\n",
      "[CV] ................... C=0.1, gamma=0.001, kernel=rbf, total=  13.3s\n",
      "[CV] C=0.1, gamma=0.1, kernel=rbf ....................................\n",
      "[CV] ................... C=0.1, gamma=0.005, kernel=rbf, total=  14.0s\n",
      "[CV] C=0.1, gamma=0.5, kernel=rbf ....................................\n",
      "[CV] ..................... C=0.1, gamma=0.1, kernel=rbf, total=   9.3s\n",
      "[CV] C=0.1, gamma=0.5, kernel=rbf ....................................\n",
      "[CV] ..................... C=0.1, gamma=0.1, kernel=rbf, total=   9.0s\n",
      "[CV] .................... C=0.1, gamma=0.05, kernel=rbf, total=  10.0s\n",
      "[CV] C=0.1, gamma=0.5, kernel=rbf ....................................\n",
      "[CV] C=0.1, gamma=1.0, kernel=rbf ....................................\n",
      "[CV] .................... C=0.1, gamma=0.05, kernel=rbf, total=   9.8s\n",
      "[CV] C=0.1, gamma=1.0, kernel=rbf ....................................\n",
      "[CV] ..................... C=0.1, gamma=0.1, kernel=rbf, total=   9.2s\n",
      "[CV] C=0.1, gamma=1.0, kernel=rbf ....................................\n",
      "[CV] .................... C=0.1, gamma=0.05, kernel=rbf, total=  11.2s\n",
      "[CV] C=0.1, gamma=5.0, kernel=rbf ....................................\n",
      "[CV] ..................... C=0.1, gamma=0.5, kernel=rbf, total=  11.2s\n",
      "[CV] C=0.1, gamma=5.0, kernel=rbf ....................................\n",
      "[CV] .................... C=0.1, gamma=0.01, kernel=rbf, total=  13.7s\n",
      "[CV] C=0.1, gamma=5.0, kernel=rbf ....................................\n",
      "[CV] ..................... C=0.1, gamma=0.5, kernel=rbf, total=  10.5s\n",
      "[CV] C=0.5, gamma=0.001, kernel=rbf ..................................\n",
      "[CV] ..................... C=0.1, gamma=0.5, kernel=rbf, total=  11.1s\n",
      "[CV] C=0.5, gamma=0.001, kernel=rbf ..................................\n",
      "[CV] ..................... C=0.1, gamma=1.0, kernel=rbf, total=  12.7s\n",
      "[CV] C=0.5, gamma=0.001, kernel=rbf ..................................\n",
      "[CV] ..................... C=0.1, gamma=1.0, kernel=rbf, total=  13.4s\n",
      "[CV] C=0.5, gamma=0.005, kernel=rbf ..................................\n",
      "[CV] ..................... C=0.1, gamma=1.0, kernel=rbf, total=  13.4s\n",
      "[CV] C=0.5, gamma=0.005, kernel=rbf ..................................\n",
      "[CV] ..................... C=0.1, gamma=5.0, kernel=rbf, total=  14.7s\n",
      "[CV] C=0.5, gamma=0.005, kernel=rbf ..................................\n",
      "[CV] ..................... C=0.1, gamma=5.0, kernel=rbf, total=  14.1s\n",
      "[CV] C=0.5, gamma=0.01, kernel=rbf ...................................\n",
      "[CV] ..................... C=0.1, gamma=5.0, kernel=rbf, total=  13.5s\n",
      "[CV] C=0.5, gamma=0.01, kernel=rbf ...................................\n",
      "[CV] ................... C=0.5, gamma=0.001, kernel=rbf, total=  12.2s\n",
      "[CV] C=0.5, gamma=0.01, kernel=rbf ...................................\n"
     ]
    },
    {
     "name": "stderr",
     "output_type": "stream",
     "text": [
      "[Parallel(n_jobs=8)]: Done  25 tasks      | elapsed:  1.2min\n"
     ]
    },
    {
     "name": "stdout",
     "output_type": "stream",
     "text": [
      "[CV] ................... C=0.5, gamma=0.001, kernel=rbf, total=  13.0s\n",
      "[CV] C=0.5, gamma=0.05, kernel=rbf ...................................\n",
      "[CV] ................... C=0.5, gamma=0.005, kernel=rbf, total=  11.1s\n",
      "[CV] C=0.5, gamma=0.05, kernel=rbf ...................................\n",
      "[CV] ................... C=0.5, gamma=0.005, kernel=rbf, total=  12.5s\n",
      "[CV] C=0.5, gamma=0.05, kernel=rbf ...................................\n",
      "[CV] .................... C=0.5, gamma=0.01, kernel=rbf, total=  10.3s\n",
      "[CV] C=0.5, gamma=0.1, kernel=rbf ....................................\n",
      "[CV] ................... C=0.5, gamma=0.005, kernel=rbf, total=  11.7s\n",
      "[CV] C=0.5, gamma=0.1, kernel=rbf ....................................\n",
      "[CV] .................... C=0.5, gamma=0.01, kernel=rbf, total=  10.7s\n",
      "[CV] C=0.5, gamma=0.1, kernel=rbf ....................................\n",
      "[CV] ................... C=0.5, gamma=0.001, kernel=rbf, total=  14.4s\n",
      "[CV] C=0.5, gamma=0.5, kernel=rbf ....................................\n",
      "[CV] .................... C=0.5, gamma=0.05, kernel=rbf, total=   6.2s\n",
      "[CV] C=0.5, gamma=0.5, kernel=rbf ....................................\n",
      "[CV] .................... C=0.5, gamma=0.01, kernel=rbf, total=   8.4s\n",
      "[CV] C=0.5, gamma=0.5, kernel=rbf ....................................\n",
      "[CV] .................... C=0.5, gamma=0.05, kernel=rbf, total=   6.7s\n",
      "[CV] C=0.5, gamma=1.0, kernel=rbf ....................................\n",
      "[CV] ..................... C=0.5, gamma=0.1, kernel=rbf, total=   6.2s\n",
      "[CV] C=0.5, gamma=1.0, kernel=rbf ....................................\n",
      "[CV] .................... C=0.5, gamma=0.05, kernel=rbf, total=   6.9s\n",
      "[CV] C=0.5, gamma=1.0, kernel=rbf ....................................\n",
      "[CV] ..................... C=0.5, gamma=0.1, kernel=rbf, total=   5.8s\n",
      "[CV] C=0.5, gamma=5.0, kernel=rbf ....................................\n",
      "[CV] ..................... C=0.5, gamma=0.1, kernel=rbf, total=   7.5s\n",
      "[CV] C=0.5, gamma=5.0, kernel=rbf ....................................\n",
      "[CV] ..................... C=0.5, gamma=0.5, kernel=rbf, total=   8.3s\n",
      "[CV] C=0.5, gamma=5.0, kernel=rbf ....................................\n",
      "[CV] ..................... C=0.5, gamma=0.5, kernel=rbf, total=   8.5s\n",
      "[CV] C=1.0, gamma=0.001, kernel=rbf ..................................\n",
      "[CV] ..................... C=0.5, gamma=0.5, kernel=rbf, total=   7.7s\n",
      "[CV] C=1.0, gamma=0.001, kernel=rbf ..................................\n",
      "[CV] ..................... C=0.5, gamma=1.0, kernel=rbf, total=  11.5s\n",
      "[CV] C=1.0, gamma=0.001, kernel=rbf ..................................\n",
      "[CV] ..................... C=0.5, gamma=1.0, kernel=rbf, total=  11.6s\n",
      "[CV] C=1.0, gamma=0.005, kernel=rbf ..................................\n",
      "[CV] ..................... C=0.5, gamma=1.0, kernel=rbf, total=  12.0s\n",
      "[CV] C=1.0, gamma=0.005, kernel=rbf ..................................\n",
      "[CV] ..................... C=0.5, gamma=5.0, kernel=rbf, total=  13.1s\n",
      "[CV] C=1.0, gamma=0.005, kernel=rbf ..................................\n",
      "[CV] ..................... C=0.5, gamma=5.0, kernel=rbf, total=  12.3s\n",
      "[CV] C=1.0, gamma=0.01, kernel=rbf ...................................\n",
      "[CV] ..................... C=0.5, gamma=5.0, kernel=rbf, total=  12.5s\n",
      "[CV] C=1.0, gamma=0.01, kernel=rbf ...................................\n",
      "[CV] ................... C=1.0, gamma=0.001, kernel=rbf, total=  11.5s\n",
      "[CV] C=1.0, gamma=0.01, kernel=rbf ...................................\n",
      "[CV] ................... C=1.0, gamma=0.001, kernel=rbf, total=  11.8s\n",
      "[CV] C=1.0, gamma=0.05, kernel=rbf ...................................\n",
      "[CV] ................... C=1.0, gamma=0.005, kernel=rbf, total=   8.4s\n",
      "[CV] C=1.0, gamma=0.05, kernel=rbf ...................................\n",
      "[CV] ................... C=1.0, gamma=0.005, kernel=rbf, total=   9.4s\n",
      "[CV] C=1.0, gamma=0.05, kernel=rbf ...................................\n",
      "[CV] .................... C=1.0, gamma=0.01, kernel=rbf, total=   7.0s\n",
      "[CV] C=1.0, gamma=0.1, kernel=rbf ....................................\n",
      "[CV] ................... C=1.0, gamma=0.005, kernel=rbf, total=   8.4s\n",
      "[CV] C=1.0, gamma=0.1, kernel=rbf ....................................\n",
      "[CV] ................... C=1.0, gamma=0.001, kernel=rbf, total=  11.4s\n",
      "[CV] C=1.0, gamma=0.1, kernel=rbf ....................................\n",
      "[CV] .................... C=1.0, gamma=0.01, kernel=rbf, total=   7.5s\n",
      "[CV] C=1.0, gamma=0.5, kernel=rbf ....................................\n",
      "[CV] .................... C=1.0, gamma=0.05, kernel=rbf, total=   5.4s\n",
      "[CV] C=1.0, gamma=0.5, kernel=rbf ....................................\n",
      "[CV] .................... C=1.0, gamma=0.01, kernel=rbf, total=   7.2s\n",
      "[CV] C=1.0, gamma=0.5, kernel=rbf ....................................\n",
      "[CV] .................... C=1.0, gamma=0.05, kernel=rbf, total=   5.8s\n",
      "[CV] C=1.0, gamma=1.0, kernel=rbf ....................................\n",
      "[CV] .................... C=1.0, gamma=0.05, kernel=rbf, total=   5.6s\n",
      "[CV] C=1.0, gamma=1.0, kernel=rbf ....................................\n",
      "[CV] ..................... C=1.0, gamma=0.1, kernel=rbf, total=   5.2s\n",
      "[CV] C=1.0, gamma=1.0, kernel=rbf ....................................\n",
      "[CV] ..................... C=1.0, gamma=0.1, kernel=rbf, total=   5.4s\n",
      "[CV] C=1.0, gamma=5.0, kernel=rbf ....................................\n",
      "[CV] ..................... C=1.0, gamma=0.1, kernel=rbf, total=   5.1s\n",
      "[CV] C=1.0, gamma=5.0, kernel=rbf ....................................\n",
      "[CV] ..................... C=1.0, gamma=0.5, kernel=rbf, total=   7.6s\n",
      "[CV] C=1.0, gamma=5.0, kernel=rbf ....................................\n",
      "[CV] ..................... C=1.0, gamma=0.5, kernel=rbf, total=   9.3s\n",
      "[CV] C=5.0, gamma=0.001, kernel=rbf ..................................\n",
      "[CV] ..................... C=1.0, gamma=0.5, kernel=rbf, total=   9.8s\n",
      "[CV] C=5.0, gamma=0.001, kernel=rbf ..................................\n",
      "[CV] ..................... C=1.0, gamma=1.0, kernel=rbf, total=  11.4s\n",
      "[CV] C=5.0, gamma=0.001, kernel=rbf ..................................\n",
      "[CV] ..................... C=1.0, gamma=1.0, kernel=rbf, total=  10.9s\n",
      "[CV] C=5.0, gamma=0.005, kernel=rbf ..................................\n",
      "[CV] ..................... C=1.0, gamma=1.0, kernel=rbf, total=  11.3s\n",
      "[CV] C=5.0, gamma=0.005, kernel=rbf ..................................\n",
      "[CV] ..................... C=1.0, gamma=5.0, kernel=rbf, total=  13.0s\n",
      "[CV] C=5.0, gamma=0.005, kernel=rbf ..................................\n",
      "[CV] ..................... C=1.0, gamma=5.0, kernel=rbf, total=  13.6s\n",
      "[CV] C=5.0, gamma=0.01, kernel=rbf ...................................\n",
      "[CV] ................... C=5.0, gamma=0.001, kernel=rbf, total=   9.9s\n",
      "[CV] C=5.0, gamma=0.01, kernel=rbf ...................................\n",
      "[CV] ................... C=5.0, gamma=0.001, kernel=rbf, total=   9.7s\n",
      "[CV] C=5.0, gamma=0.01, kernel=rbf ...................................\n",
      "[CV] ..................... C=1.0, gamma=5.0, kernel=rbf, total=  12.9s\n",
      "[CV] C=5.0, gamma=0.05, kernel=rbf ...................................\n",
      "[CV] ................... C=5.0, gamma=0.005, kernel=rbf, total=   7.9s\n",
      "[CV] C=5.0, gamma=0.05, kernel=rbf ...................................\n",
      "[CV] ................... C=5.0, gamma=0.005, kernel=rbf, total=   8.3s\n",
      "[CV] C=5.0, gamma=0.05, kernel=rbf ...................................\n",
      "[CV] ................... C=5.0, gamma=0.001, kernel=rbf, total=  10.7s\n",
      "[CV] C=5.0, gamma=0.1, kernel=rbf ....................................\n",
      "[CV] .................... C=5.0, gamma=0.01, kernel=rbf, total=   6.9s\n",
      "[CV] C=5.0, gamma=0.1, kernel=rbf ....................................\n",
      "[CV] .................... C=5.0, gamma=0.01, kernel=rbf, total=   6.7s\n",
      "[CV] C=5.0, gamma=0.1, kernel=rbf ....................................\n",
      "[CV] ................... C=5.0, gamma=0.005, kernel=rbf, total=   7.7s\n",
      "[CV] C=5.0, gamma=0.5, kernel=rbf ....................................\n",
      "[CV] .................... C=5.0, gamma=0.01, kernel=rbf, total=   6.6s\n",
      "[CV] C=5.0, gamma=0.5, kernel=rbf ....................................\n",
      "[CV] .................... C=5.0, gamma=0.05, kernel=rbf, total=   4.5s\n",
      "[CV] C=5.0, gamma=0.5, kernel=rbf ....................................\n",
      "[CV] .................... C=5.0, gamma=0.05, kernel=rbf, total=   5.1s\n",
      "[CV] C=5.0, gamma=1.0, kernel=rbf ....................................\n",
      "[CV] .................... C=5.0, gamma=0.05, kernel=rbf, total=   5.0s\n",
      "[CV] C=5.0, gamma=1.0, kernel=rbf ....................................\n",
      "[CV] ..................... C=5.0, gamma=0.1, kernel=rbf, total=   5.3s\n",
      "[CV] C=5.0, gamma=1.0, kernel=rbf ....................................\n",
      "[CV] ..................... C=5.0, gamma=0.1, kernel=rbf, total=   6.0s\n",
      "[CV] C=5.0, gamma=5.0, kernel=rbf ....................................\n",
      "[CV] ..................... C=5.0, gamma=0.1, kernel=rbf, total=   4.8s\n",
      "[CV] C=5.0, gamma=5.0, kernel=rbf ....................................\n",
      "[CV] ..................... C=5.0, gamma=0.5, kernel=rbf, total=  10.4s\n",
      "[CV] C=5.0, gamma=5.0, kernel=rbf ....................................\n",
      "[CV] ..................... C=5.0, gamma=0.5, kernel=rbf, total=  11.3s\n",
      "[CV] C=10.0, gamma=0.001, kernel=rbf .................................\n",
      "[CV] ..................... C=5.0, gamma=0.5, kernel=rbf, total=  10.5s\n",
      "[CV] C=10.0, gamma=0.001, kernel=rbf .................................\n",
      "[CV] ..................... C=5.0, gamma=1.0, kernel=rbf, total=  11.9s\n",
      "[CV] C=10.0, gamma=0.001, kernel=rbf .................................\n",
      "[CV] ..................... C=5.0, gamma=1.0, kernel=rbf, total=  11.9s\n",
      "[CV] C=10.0, gamma=0.005, kernel=rbf .................................\n",
      "[CV] ..................... C=5.0, gamma=1.0, kernel=rbf, total=  10.8s\n",
      "[CV] C=10.0, gamma=0.005, kernel=rbf .................................\n",
      "[CV] ..................... C=5.0, gamma=5.0, kernel=rbf, total=  13.0s\n",
      "[CV] C=10.0, gamma=0.005, kernel=rbf .................................\n",
      "[CV] .................. C=10.0, gamma=0.001, kernel=rbf, total=   8.1s\n",
      "[CV] C=10.0, gamma=0.01, kernel=rbf ..................................\n",
      "[CV] ..................... C=5.0, gamma=5.0, kernel=rbf, total=  14.3s\n",
      "[CV] C=10.0, gamma=0.01, kernel=rbf ..................................\n",
      "[CV] .................. C=10.0, gamma=0.001, kernel=rbf, total=   7.3s\n",
      "[CV] C=10.0, gamma=0.01, kernel=rbf ..................................\n",
      "[CV] .................. C=10.0, gamma=0.005, kernel=rbf, total=   5.3s\n",
      "[CV] C=10.0, gamma=0.05, kernel=rbf ..................................\n",
      "[CV] .................. C=10.0, gamma=0.005, kernel=rbf, total=   5.1s\n",
      "[CV] C=10.0, gamma=0.05, kernel=rbf ..................................\n",
      "[CV] .................. C=10.0, gamma=0.001, kernel=rbf, total=   7.4s\n",
      "[CV] C=10.0, gamma=0.05, kernel=rbf ..................................\n",
      "[CV] ..................... C=5.0, gamma=5.0, kernel=rbf, total=  12.3s\n",
      "[CV] C=10.0, gamma=0.1, kernel=rbf ...................................\n",
      "[CV] .................. C=10.0, gamma=0.005, kernel=rbf, total=   5.4s\n",
      "[CV] C=10.0, gamma=0.1, kernel=rbf ...................................\n",
      "[CV] ................... C=10.0, gamma=0.01, kernel=rbf, total=   5.4s\n",
      "[CV] C=10.0, gamma=0.1, kernel=rbf ...................................\n",
      "[CV] ................... C=10.0, gamma=0.01, kernel=rbf, total=   5.0s\n",
      "[CV] C=10.0, gamma=0.5, kernel=rbf ...................................\n",
      "[CV] ................... C=10.0, gamma=0.01, kernel=rbf, total=   5.2s\n",
      "[CV] C=10.0, gamma=0.5, kernel=rbf ...................................\n",
      "[CV] ................... C=10.0, gamma=0.05, kernel=rbf, total=   4.3s\n",
      "[CV] C=10.0, gamma=0.5, kernel=rbf ...................................\n",
      "[CV] ................... C=10.0, gamma=0.05, kernel=rbf, total=   4.2s\n",
      "[CV] C=10.0, gamma=1.0, kernel=rbf ...................................\n",
      "[CV] ................... C=10.0, gamma=0.05, kernel=rbf, total=   3.9s\n",
      "[CV] C=10.0, gamma=1.0, kernel=rbf ...................................\n",
      "[CV] .................... C=10.0, gamma=0.1, kernel=rbf, total=   4.2s\n",
      "[CV] C=10.0, gamma=1.0, kernel=rbf ...................................\n",
      "[CV] .................... C=10.0, gamma=0.1, kernel=rbf, total=   4.1s\n",
      "[CV] C=10.0, gamma=5.0, kernel=rbf ...................................\n",
      "[CV] .................... C=10.0, gamma=0.1, kernel=rbf, total=   4.7s\n",
      "[CV] C=10.0, gamma=5.0, kernel=rbf ...................................\n",
      "[CV] .................... C=10.0, gamma=0.5, kernel=rbf, total=   9.4s\n",
      "[CV] C=10.0, gamma=5.0, kernel=rbf ...................................\n",
      "[CV] .................... C=10.0, gamma=0.5, kernel=rbf, total=   9.7s\n",
      "[CV] C=50.0, gamma=0.001, kernel=rbf .................................\n",
      "[CV] .................... C=10.0, gamma=0.5, kernel=rbf, total=  10.6s\n",
      "[CV] C=50.0, gamma=0.001, kernel=rbf .................................\n",
      "[CV] .................... C=10.0, gamma=1.0, kernel=rbf, total=  10.7s\n",
      "[CV] C=50.0, gamma=0.001, kernel=rbf .................................\n",
      "[CV] .................... C=10.0, gamma=1.0, kernel=rbf, total=  11.9s\n",
      "[CV] C=50.0, gamma=0.005, kernel=rbf .................................\n",
      "[CV] .................... C=10.0, gamma=1.0, kernel=rbf, total=  11.4s\n",
      "[CV] C=50.0, gamma=0.005, kernel=rbf .................................\n",
      "[CV] .................. C=50.0, gamma=0.001, kernel=rbf, total=   5.7s\n",
      "[CV] C=50.0, gamma=0.005, kernel=rbf .................................\n",
      "[CV] .................. C=50.0, gamma=0.001, kernel=rbf, total=   6.3s\n",
      "[CV] C=50.0, gamma=0.01, kernel=rbf ..................................\n",
      "[CV] .................... C=10.0, gamma=5.0, kernel=rbf, total=  12.8s\n",
      "[CV] C=50.0, gamma=0.01, kernel=rbf ..................................\n",
      "[CV] .................... C=10.0, gamma=5.0, kernel=rbf, total=  12.7s\n",
      "[CV] C=50.0, gamma=0.01, kernel=rbf ..................................\n",
      "[CV] .................. C=50.0, gamma=0.001, kernel=rbf, total=   5.5s\n",
      "[CV] C=50.0, gamma=0.05, kernel=rbf ..................................\n",
      "[CV] .................. C=50.0, gamma=0.005, kernel=rbf, total=   4.4s\n",
      "[CV] C=50.0, gamma=0.05, kernel=rbf ..................................\n",
      "[CV] .................. C=50.0, gamma=0.005, kernel=rbf, total=   3.6s\n",
      "[CV] .................. C=50.0, gamma=0.005, kernel=rbf, total=   4.2s\n",
      "[CV] C=50.0, gamma=0.05, kernel=rbf ..................................\n",
      "[CV] C=50.0, gamma=0.1, kernel=rbf ...................................\n",
      "[CV] ................... C=50.0, gamma=0.01, kernel=rbf, total=   4.6s\n",
      "[CV] C=50.0, gamma=0.1, kernel=rbf ...................................\n",
      "[CV] ................... C=50.0, gamma=0.01, kernel=rbf, total=   4.3s\n",
      "[CV] C=50.0, gamma=0.1, kernel=rbf ...................................\n",
      "[CV] ................... C=50.0, gamma=0.01, kernel=rbf, total=   3.6s\n",
      "[CV] C=50.0, gamma=0.5, kernel=rbf ...................................\n",
      "[CV] ................... C=50.0, gamma=0.05, kernel=rbf, total=   5.0s\n",
      "[CV] C=50.0, gamma=0.5, kernel=rbf ...................................\n",
      "[CV] ................... C=50.0, gamma=0.05, kernel=rbf, total=   3.9s\n",
      "[CV] C=50.0, gamma=0.5, kernel=rbf ...................................\n",
      "[CV] .................... C=10.0, gamma=5.0, kernel=rbf, total=  14.0s\n",
      "[CV] C=50.0, gamma=1.0, kernel=rbf ...................................\n",
      "[CV] ................... C=50.0, gamma=0.05, kernel=rbf, total=   4.5s\n",
      "[CV] C=50.0, gamma=1.0, kernel=rbf ...................................\n",
      "[CV] .................... C=50.0, gamma=0.1, kernel=rbf, total=   4.8s\n",
      "[CV] C=50.0, gamma=1.0, kernel=rbf ...................................\n",
      "[CV] .................... C=50.0, gamma=0.1, kernel=rbf, total=   4.7s\n",
      "[CV] C=50.0, gamma=5.0, kernel=rbf ...................................\n",
      "[CV] .................... C=50.0, gamma=0.1, kernel=rbf, total=   4.6s\n",
      "[CV] C=50.0, gamma=5.0, kernel=rbf ...................................\n",
      "[CV] .................... C=50.0, gamma=0.5, kernel=rbf, total=  11.8s\n",
      "[CV] C=50.0, gamma=5.0, kernel=rbf ...................................\n",
      "[CV] .................... C=50.0, gamma=0.5, kernel=rbf, total=  11.0s\n",
      "[CV] .................... C=50.0, gamma=0.5, kernel=rbf, total=  12.4s\n",
      "[CV] .................... C=50.0, gamma=1.0, kernel=rbf, total=  13.6s\n",
      "[CV] .................... C=50.0, gamma=1.0, kernel=rbf, total=  14.0s\n",
      "[CV] .................... C=50.0, gamma=1.0, kernel=rbf, total=  15.0s\n",
      "[CV] .................... C=50.0, gamma=5.0, kernel=rbf, total=  14.4s\n",
      "[CV] .................... C=50.0, gamma=5.0, kernel=rbf, total=  15.1s\n",
      "[CV] .................... C=50.0, gamma=5.0, kernel=rbf, total=  10.2s\n"
     ]
    },
    {
     "name": "stderr",
     "output_type": "stream",
     "text": [
      "[Parallel(n_jobs=8)]: Done 144 out of 144 | elapsed:  4.5min finished\n"
     ]
    },
    {
     "name": "stdout",
     "output_type": "stream",
     "text": [
      "Elapsed time, param searching 0:04:36.259007\n"
     ]
    },
    {
     "data": {
      "text/plain": [
       "['mean_fit_time',\n",
       " 'mean_score_time',\n",
       " 'mean_test_score',\n",
       " 'mean_train_score',\n",
       " 'param_C',\n",
       " 'param_gamma',\n",
       " 'param_kernel',\n",
       " 'params',\n",
       " 'rank_test_score',\n",
       " 'split0_test_score',\n",
       " 'split0_train_score',\n",
       " 'split1_test_score',\n",
       " 'split1_train_score',\n",
       " 'split2_test_score',\n",
       " 'split2_train_score',\n",
       " 'std_fit_time',\n",
       " 'std_score_time',\n",
       " 'std_test_score',\n",
       " 'std_train_score']"
      ]
     },
     "execution_count": 15,
     "metadata": {},
     "output_type": "execute_result"
    }
   ],
   "source": [
    "start_time=dt.datetime.now()\n",
    "print('Start param searching at {}'.format(str(start_time)))\n",
    "grid_clsf.fit(X_train,y_train)\n",
    "elapsed_time=dt.datetime.now()-start_time\n",
    "print('Elapsed time, param searching {}'.format(str(elapsed_time)))\n",
    "sorted(grid_clsf.cv_results_.keys())"
   ]
  },
  {
   "cell_type": "code",
   "execution_count": 16,
   "metadata": {},
   "outputs": [],
   "source": [
    "classifier=grid_clsf.best_estimator_\n",
    "params=grid_clsf.best_params_\n",
    "\n",
    "scores=grid_clsf.cv_results_['mean_test_score'].reshape(len(C_range),len(gamma_range))\n",
    "# plot_param_space_scores(scores,C_range, gamma_range)"
   ]
  },
  {
   "cell_type": "code",
   "execution_count": 17,
   "metadata": {},
   "outputs": [
    {
     "data": {
      "text/plain": [
       "array([[0.50915033, 0.60130719, 0.78398693, 0.81143791, 0.83529412,\n",
       "        0.83267974, 0.8003268 , 0.50915033],\n",
       "       [0.60163399, 0.75980392, 0.81699346, 0.85784314, 0.88660131,\n",
       "        0.92614379, 0.91862745, 0.50915033],\n",
       "       [0.78039216, 0.81601307, 0.84019608, 0.89509804, 0.92287582,\n",
       "        0.94411765, 0.93888889, 0.61437908],\n",
       "       [0.81699346, 0.86699346, 0.89509804, 0.94248366, 0.95326797,\n",
       "        0.95490196, 0.95163399, 0.64379085],\n",
       "       [0.84215686, 0.89542484, 0.91699346, 0.9503268 , 0.95196078,\n",
       "        0.95490196, 0.95163399, 0.64379085],\n",
       "       [0.89705882, 0.92745098, 0.93529412, 0.94542484, 0.94803922,\n",
       "        0.95490196, 0.95163399, 0.64379085]])"
      ]
     },
     "execution_count": 17,
     "metadata": {},
     "output_type": "execute_result"
    }
   ],
   "source": [
    "scores"
   ]
  },
  {
   "cell_type": "code",
   "execution_count": 18,
   "metadata": {},
   "outputs": [
    {
     "name": "stdout",
     "output_type": "stream",
     "text": [
      "[1 1 0 0 0 1 1 1 0 1 0 1 1 1 1 0 0 1 1 0 1 0 1 0 1 1 1 1 0 0 1 0 0 0 0 0 1\n",
      " 1 1 1 0 0 0 0 1 1 1 1 0 0 0 1 0 1 0 0 1 1 1 1 1 0 0 1 1 1 1 1 0 0 1 1 1 0\n",
      " 0 1 1 0 1 1 1 1 0 0 1 0 0 0 0 1 1 1 1 0 0 1 0 1 1 1 0 1 1 0 1 1 0 0 1 1 1\n",
      " 0 1 0 0 1 0 1 0 1 0 0 1 1 1 1 0 1 0 1 0 1 0 0 1 1 1 1 1 0 1 1 0 0 0 1 0 1\n",
      " 1 1 0 0 1 0 0 0 1 1 1 0 0 0 0 1 0 1 0 0 0 0 0 0 1 0 0 1 1 0 0 0 0 1 1 0 1\n",
      " 0 1 0 0 0 0 0 1 1 0 1 1 0 0 1 1 1 0 1 1 1 1 1 0 0 1 1 1 0 1 1 0 1 1 1 1 0\n",
      " 0 0 0 0 0 1 1 0 0 0 1 1 1 1 1 0 1 1 0 0 0 1 0 0 0 0 0 0 0 1 1 1 1 1 1 0 1\n",
      " 1 0 1 1 0 0 1 0 0 0 0 1 0 1 0 0 0 1 0 1 1 0 1 1 0 0 1 0 1 0 0 0 0 1 0 0 0\n",
      " 1 1 1 1 1 1 0 1 1 0 0 0 0 0 1 1 1 1 1 1 0 1 1 0 1 1 1 0 0 0 1 1 1 1 0 1 0\n",
      " 0 1 1 1 1 0 1 0 1 1 0 1 1 1 1 1 0 1 0 1 0 1 1 1 0 1 0 1 1 1 1 1 0 1 0 0 0\n",
      " 0 0 0 1 0 1 0 1 1 1 0 0 1 1 1 1 1 1 1 1 1 0 1 1 0 0 0 0 0 0 1 1 1 0 1 0 0\n",
      " 1 1 1 0 0 1 0 1 1 0 0 0 1 0 1 0 0 1 0 0 1 1 0 1 0 1 1 1 0 1 1 1 1 0 1 1 1\n",
      " 0 1 1 1 1 0 0 1 1 1 0 0 0 0 0 1 1 1 0 0 1 0 1 0 1 0 1 1 1 1 1 1 1 1 1 1 1\n",
      " 1 1 0 0 0 1 0 0 0 0 1 0 1 0 1 0 0 1 0 1 1 0 0 1 1 1 0 1 0 0 0 0 1 1 0 0 0\n",
      " 0 0 1 1 0 1 0 1 1 1 0 0 0 1 1 1 0 0 1 1 1 1]\n",
      "predicted and expected are same in:  513  out of  540\n",
      "Classification report for classifier SVC(C=5.0, cache_size=200, class_weight=None, coef0=0.0,\n",
      "  decision_function_shape='ovr', degree=3, gamma=0.5, kernel='rbf',\n",
      "  max_iter=-1, probability=False, random_state=None, shrinking=True,\n",
      "  tol=0.001, verbose=False):\n",
      "             precision    recall  f1-score   support\n",
      "\n",
      "          0       0.94      0.95      0.94       242\n",
      "          1       0.96      0.95      0.95       298\n",
      "\n",
      "avg / total       0.95      0.95      0.95       540\n",
      "\n",
      "\n",
      "Confusion matrix:\n",
      "[[231  11]\n",
      " [ 16 282]]\n",
      "Accuracy=0.95\n"
     ]
    }
   ],
   "source": [
    "expected = y_test\n",
    "predicted = classifier.predict(X_test)\n",
    "print(predicted)\n",
    "print(\"predicted and expected are same in: \", np.sum(expected==predicted),\" out of \", expected.shape[0])\n",
    "\n",
    "print(\"Classification report for classifier %s:\\n%s\\n\"\n",
    "      % (classifier, metrics.classification_report(expected, predicted)))\n",
    "      \n",
    "cm = metrics.confusion_matrix(expected, predicted)\n",
    "print(\"Confusion matrix:\\n%s\" % cm)\n",
    "\n",
    "# plot_confusion_matrix(cm)\n",
    "\n",
    "print(\"Accuracy={}\".format(metrics.accuracy_score(expected, predicted)))\n"
   ]
  },
  {
   "cell_type": "code",
   "execution_count": 19,
   "metadata": {},
   "outputs": [
    {
     "name": "stdout",
     "output_type": "stream",
     "text": [
      "14  out of  464\n"
     ]
    }
   ],
   "source": [
    "print(classifier.predict(features_fau4_1_hog_1_positives_test).sum(),\" out of \", len(features_fau4_1_hog_1_positives_test))"
   ]
  },
  {
   "cell_type": "code",
   "execution_count": 20,
   "metadata": {},
   "outputs": [
    {
     "name": "stdout",
     "output_type": "stream",
     "text": [
      "0  out of  464\n"
     ]
    }
   ],
   "source": [
    "print(classifier.predict(features_fau4_1_hog_1_negatives_test).sum(),\" out of \", len(features_fau4_1_hog_1_positives_test))"
   ]
  },
  {
   "cell_type": "markdown",
   "metadata": {},
   "source": [
    "**Saving the model to disk**"
   ]
  },
  {
   "cell_type": "code",
   "execution_count": 32,
   "metadata": {},
   "outputs": [
    {
     "data": {
      "text/plain": [
       "'/media/amogh/Stuff/CMU/datasets/DISFA_data/'"
      ]
     },
     "execution_count": 32,
     "metadata": {},
     "output_type": "execute_result"
    }
   ],
   "source": [
    "DISFA_path"
   ]
  },
  {
   "cell_type": "code",
   "execution_count": 33,
   "metadata": {},
   "outputs": [],
   "source": [
    "models_path=DISFA_path+'models/'\n",
    "if not os.path.exists(models_path):\n",
    "    os.makedirs(models_path)"
   ]
  },
  {
   "cell_type": "code",
   "execution_count": 34,
   "metadata": {},
   "outputs": [],
   "source": [
    "with open(models_path+'fau4_1_hog_1.pickle','wb') as handle:\n",
    "    pickle.dump(classifier,handle)"
   ]
  },
  {
   "cell_type": "markdown",
   "metadata": {},
   "source": [
    "**Loading a model from disk**"
   ]
  },
  {
   "cell_type": "code",
   "execution_count": 35,
   "metadata": {},
   "outputs": [],
   "source": [
    "with open(models_path+'fau4_1_hog_1.pickle','rb') as handle:\n",
    "    clf1=pickle.load(handle)"
   ]
  },
  {
   "cell_type": "markdown",
   "metadata": {},
   "source": [
    "**Calculating features for a cropped image from disk**"
   ]
  },
  {
   "cell_type": "code",
   "execution_count": 23,
   "metadata": {},
   "outputs": [
    {
     "name": "stdout",
     "output_type": "stream",
     "text": [
      "/media/amogh/Stuff/CMU/datasets/DISFA_data//features/cropped_images/FAU4_1/\n",
      "/media/amogh/Stuff/CMU/datasets/DISFA_data//features/cropped_images/FAU4_1/positives/\n",
      "/media/amogh/Stuff/CMU/datasets/DISFA_data//features/cropped_images/FAU4_1/negatives/\n"
     ]
    }
   ],
   "source": [
    "dir_cropped_FAU4_1=DISFA_path+\"/features/cropped_images/FAU4_1/\"\n",
    "print(dir_cropped_FAU4_1)\n",
    "dir_cropped_FAU4_1_positives=dir_cropped_FAU4_1+\"positives/\"\n",
    "print(dir_cropped_FAU4_1_positives)\n",
    "dir_cropped_FAU4_1_negatives=dir_cropped_FAU4_1+\"negatives/\"\n",
    "print(dir_cropped_FAU4_1_negatives)"
   ]
  },
  {
   "cell_type": "code",
   "execution_count": 24,
   "metadata": {},
   "outputs": [
    {
     "data": {
      "text/plain": [
       "'RightVideoSN001_1340.png'"
      ]
     },
     "execution_count": 24,
     "metadata": {},
     "output_type": "execute_result"
    }
   ],
   "source": [
    "list_cropped_fau4_1_positive_files=os.listdir(dir_cropped_FAU4_1_positives)\n",
    "list_cropped_fau4_1_positive_files[0]"
   ]
  },
  {
   "cell_type": "code",
   "execution_count": 44,
   "metadata": {},
   "outputs": [
    {
     "data": {
      "text/plain": [
       "array([1, 1, 1, ..., 1, 1, 1])"
      ]
     },
     "execution_count": 44,
     "metadata": {},
     "output_type": "execute_result"
    }
   ],
   "source": [
    "classifier.predict(features_fau4_1_hog_1_positives)"
   ]
  },
  {
   "cell_type": "markdown",
   "metadata": {},
   "source": [
    "# Old Trained Model (before June 8)"
   ]
  },
  {
   "cell_type": "code",
   "execution_count": 5,
   "metadata": {},
   "outputs": [
    {
     "data": {
      "text/plain": [
       "'/media/amogh/Stuff/CMU/datasets/DISFA_data//features/hog_2/fau4_1/'"
      ]
     },
     "execution_count": 5,
     "metadata": {},
     "output_type": "execute_result"
    }
   ],
   "source": [
    "dir_features_hog_2_fau4_1=DISFA_path+\"/features/hog_2/fau4_1/\"\n",
    "dir_features_hog_2_fau4_1"
   ]
  },
  {
   "cell_type": "markdown",
   "metadata": {},
   "source": [
    "Training or FAU 4 HOG2(Affectiva configuration)"
   ]
  },
  {
   "cell_type": "markdown",
   "metadata": {},
   "source": [
    "**RBF SVM training**"
   ]
  },
  {
   "cell_type": "code",
   "execution_count": null,
   "metadata": {},
   "outputs": [],
   "source": [
    "X,Y=loadTrainData(dir_features_hog_2_fau4_1)\n",
    "best_classifier,param,scores=trainModel(X,Y)"
   ]
  },
  {
   "cell_type": "code",
   "execution_count": 21,
   "metadata": {},
   "outputs": [
    {
     "name": "stdout",
     "output_type": "stream",
     "text": [
      "features_positives_test loaded, shape is:  (469, 1056)\n",
      "features_negatives_test loaded, shape is:  (498, 1056)\n"
     ]
    }
   ],
   "source": [
    "features_folder=dir_features_hog_2_fau4_1\n",
    "features_positives_test=bcolz.carray(rootdir=features_folder+'positives_test/',mode='r')\n",
    "print(\"features_positives_test loaded, shape is: \",features_positives_test.shape)\n",
    "features_negatives_test=bcolz.carray(rootdir=features_folder+'negatives_test/',mode='r')\n",
    "print(\"features_negatives_test loaded, shape is: \",features_negatives_test.shape)"
   ]
  },
  {
   "cell_type": "code",
   "execution_count": 26,
   "metadata": {},
   "outputs": [
    {
     "name": "stdout",
     "output_type": "stream",
     "text": [
      "294  out of  469 0.6268656716417911\n"
     ]
    }
   ],
   "source": [
    "print (best_classifier.predict(features_positives_test).sum(), \" out of \", len(features_positives_test),best_classifier.predict(features_positives_test).sum()/len(features_positives_test) )"
   ]
  },
  {
   "cell_type": "code",
   "execution_count": 29,
   "metadata": {},
   "outputs": [
    {
     "name": "stdout",
     "output_type": "stream",
     "text": [
      "108  out of  498 0.7831325301204819\n"
     ]
    }
   ],
   "source": [
    "print (best_classifier.predict(features_negatives_test).sum(), \" out of \", len(features_negatives_test),(len(features_negatives_test)-best_classifier.predict(features_negatives_test).sum())/len(features_negatives_test))"
   ]
  },
  {
   "cell_type": "code",
   "execution_count": 35,
   "metadata": {},
   "outputs": [
    {
     "data": {
      "text/plain": [
       "'/media/amogh/Stuff/CMU/datasets/DISFA_data/'"
      ]
     },
     "execution_count": 35,
     "metadata": {},
     "output_type": "execute_result"
    }
   ],
   "source": [
    "DISFA_path"
   ]
  },
  {
   "cell_type": "code",
   "execution_count": 36,
   "metadata": {},
   "outputs": [],
   "source": [
    "models_path=DISFA_path+'models/'\n",
    "if not os.path.exists(models_path):\n",
    "    os.makedirs(models_path)"
   ]
  },
  {
   "cell_type": "code",
   "execution_count": 38,
   "metadata": {},
   "outputs": [],
   "source": [
    "with open(models_path+'fau4_1_hog_2_rbf.pickle','wb') as handle:\n",
    "    pickle.dump(best_classifier,handle)"
   ]
  },
  {
   "cell_type": "markdown",
   "metadata": {},
   "source": [
    "**Linear SVM training**"
   ]
  },
  {
   "cell_type": "code",
   "execution_count": 45,
   "metadata": {},
   "outputs": [],
   "source": [
    "def trainModel(X_train,y_train):\n",
    "    #setup\n",
    "    gamma_range=np.outer(np.logspace(-3,0,4),np.array([1,5]))\n",
    "    gamma_range=gamma_range.flatten()\n",
    "    C_range=np.outer(np.logspace(-1,1,3),np.array([1,5]))\n",
    "    C_range=C_range.flatten()\n",
    "    parameters={'kernel':['linear'],'C':C_range,'gamma':gamma_range}\n",
    "    svm_clsf=svm.SVC()\n",
    "    grid_clsf=sklearn.model_selection.GridSearchCV(estimator=svm_clsf,param_grid=parameters,n_jobs=1,verbose=2)\n",
    "    #train\n",
    "    start_time=dt.datetime.now()\n",
    "    print('Start param searching at {}'.format(str(start_time)))\n",
    "    grid_clsf.fit(X_train,y_train)\n",
    "    elapsed_time=dt.datetime.now()-start_time\n",
    "    print('Elapsed time, param searching {}'.format(str(elapsed_time)))\n",
    "    sorted(grid_clsf.cv_results_.keys())\n",
    "    #choose classifier\n",
    "    classifier=grid_clsf.best_estimator_\n",
    "    params=grid_clsf.best_params_\n",
    "    scores=grid_clsf.cv_results_['mean_test_score'].reshape(2,len(C_range),len(gamma_range))\n",
    "    print(\"scores are: \", scores)\n",
    "    return classifier, params,scores"
   ]
  },
  {
   "cell_type": "code",
   "execution_count": 31,
   "metadata": {},
   "outputs": [
    {
     "name": "stdout",
     "output_type": "stream",
     "text": [
      "features_positives loaded, shape is:  (1999, 1056)\n",
      "features_negatives loaded, shape is :  (2000, 1056)\n",
      "training data shape is:  (3998, 1056)\n",
      "labels shape is:  (3998,)\n",
      "Start param searching at 2018-06-06 16:47:41.880015\n",
      "Fitting 3 folds for each of 48 candidates, totalling 144 fits\n",
      "[CV] C=0.1, gamma=0.001, kernel=linear ...............................\n",
      "[CV] ................ C=0.1, gamma=0.001, kernel=linear, total=  10.0s\n",
      "[CV] C=0.1, gamma=0.001, kernel=linear ...............................\n"
     ]
    },
    {
     "name": "stderr",
     "output_type": "stream",
     "text": [
      "[Parallel(n_jobs=1)]: Done   1 out of   1 | elapsed:   16.4s remaining:    0.0s\n"
     ]
    },
    {
     "name": "stdout",
     "output_type": "stream",
     "text": [
      "[CV] ................ C=0.1, gamma=0.001, kernel=linear, total=   9.5s\n",
      "[CV] C=0.1, gamma=0.001, kernel=linear ...............................\n",
      "[CV] ................ C=0.1, gamma=0.001, kernel=linear, total=  10.0s\n",
      "[CV] C=0.1, gamma=0.005, kernel=linear ...............................\n",
      "[CV] ................ C=0.1, gamma=0.005, kernel=linear, total=   9.8s\n",
      "[CV] C=0.1, gamma=0.005, kernel=linear ...............................\n",
      "[CV] ................ C=0.1, gamma=0.005, kernel=linear, total=  10.2s\n",
      "[CV] C=0.1, gamma=0.005, kernel=linear ...............................\n",
      "[CV] ................ C=0.1, gamma=0.005, kernel=linear, total=  10.2s\n",
      "[CV] C=0.1, gamma=0.01, kernel=linear ................................\n",
      "[CV] ................. C=0.1, gamma=0.01, kernel=linear, total=  10.0s\n",
      "[CV] C=0.1, gamma=0.01, kernel=linear ................................\n",
      "[CV] ................. C=0.1, gamma=0.01, kernel=linear, total=   9.9s\n",
      "[CV] C=0.1, gamma=0.01, kernel=linear ................................\n",
      "[CV] ................. C=0.1, gamma=0.01, kernel=linear, total=  10.2s\n",
      "[CV] C=0.1, gamma=0.05, kernel=linear ................................\n",
      "[CV] ................. C=0.1, gamma=0.05, kernel=linear, total=  10.2s\n",
      "[CV] C=0.1, gamma=0.05, kernel=linear ................................\n",
      "[CV] ................. C=0.1, gamma=0.05, kernel=linear, total=   9.9s\n",
      "[CV] C=0.1, gamma=0.05, kernel=linear ................................\n",
      "[CV] ................. C=0.1, gamma=0.05, kernel=linear, total=  10.2s\n",
      "[CV] C=0.1, gamma=0.1, kernel=linear .................................\n",
      "[CV] .................. C=0.1, gamma=0.1, kernel=linear, total=  10.3s\n",
      "[CV] C=0.1, gamma=0.1, kernel=linear .................................\n",
      "[CV] .................. C=0.1, gamma=0.1, kernel=linear, total=   9.7s\n",
      "[CV] C=0.1, gamma=0.1, kernel=linear .................................\n",
      "[CV] .................. C=0.1, gamma=0.1, kernel=linear, total=  10.0s\n",
      "[CV] C=0.1, gamma=0.5, kernel=linear .................................\n",
      "[CV] .................. C=0.1, gamma=0.5, kernel=linear, total=  10.1s\n",
      "[CV] C=0.1, gamma=0.5, kernel=linear .................................\n",
      "[CV] .................. C=0.1, gamma=0.5, kernel=linear, total=   9.6s\n",
      "[CV] C=0.1, gamma=0.5, kernel=linear .................................\n",
      "[CV] .................. C=0.1, gamma=0.5, kernel=linear, total=   9.9s\n",
      "[CV] C=0.1, gamma=1.0, kernel=linear .................................\n",
      "[CV] .................. C=0.1, gamma=1.0, kernel=linear, total=   9.9s\n",
      "[CV] C=0.1, gamma=1.0, kernel=linear .................................\n",
      "[CV] .................. C=0.1, gamma=1.0, kernel=linear, total=   9.6s\n",
      "[CV] C=0.1, gamma=1.0, kernel=linear .................................\n",
      "[CV] .................. C=0.1, gamma=1.0, kernel=linear, total=   9.9s\n",
      "[CV] C=0.1, gamma=5.0, kernel=linear .................................\n",
      "[CV] .................. C=0.1, gamma=5.0, kernel=linear, total=   9.9s\n",
      "[CV] C=0.1, gamma=5.0, kernel=linear .................................\n",
      "[CV] .................. C=0.1, gamma=5.0, kernel=linear, total=   9.5s\n",
      "[CV] C=0.1, gamma=5.0, kernel=linear .................................\n",
      "[CV] .................. C=0.1, gamma=5.0, kernel=linear, total=   9.9s\n",
      "[CV] C=0.5, gamma=0.001, kernel=linear ...............................\n",
      "[CV] ................ C=0.5, gamma=0.001, kernel=linear, total=   7.5s\n",
      "[CV] C=0.5, gamma=0.001, kernel=linear ...............................\n",
      "[CV] ................ C=0.5, gamma=0.001, kernel=linear, total=   7.1s\n",
      "[CV] C=0.5, gamma=0.001, kernel=linear ...............................\n",
      "[CV] ................ C=0.5, gamma=0.001, kernel=linear, total=   7.6s\n",
      "[CV] C=0.5, gamma=0.005, kernel=linear ...............................\n",
      "[CV] ................ C=0.5, gamma=0.005, kernel=linear, total=   7.6s\n",
      "[CV] C=0.5, gamma=0.005, kernel=linear ...............................\n",
      "[CV] ................ C=0.5, gamma=0.005, kernel=linear, total=   7.0s\n",
      "[CV] C=0.5, gamma=0.005, kernel=linear ...............................\n",
      "[CV] ................ C=0.5, gamma=0.005, kernel=linear, total=   7.6s\n",
      "[CV] C=0.5, gamma=0.01, kernel=linear ................................\n",
      "[CV] ................. C=0.5, gamma=0.01, kernel=linear, total=   7.6s\n",
      "[CV] C=0.5, gamma=0.01, kernel=linear ................................\n",
      "[CV] ................. C=0.5, gamma=0.01, kernel=linear, total=   7.0s\n",
      "[CV] C=0.5, gamma=0.01, kernel=linear ................................\n",
      "[CV] ................. C=0.5, gamma=0.01, kernel=linear, total=   7.6s\n",
      "[CV] C=0.5, gamma=0.05, kernel=linear ................................\n",
      "[CV] ................. C=0.5, gamma=0.05, kernel=linear, total=   7.5s\n",
      "[CV] C=0.5, gamma=0.05, kernel=linear ................................\n",
      "[CV] ................. C=0.5, gamma=0.05, kernel=linear, total=   7.1s\n",
      "[CV] C=0.5, gamma=0.05, kernel=linear ................................\n",
      "[CV] ................. C=0.5, gamma=0.05, kernel=linear, total=   7.6s\n",
      "[CV] C=0.5, gamma=0.1, kernel=linear .................................\n",
      "[CV] .................. C=0.5, gamma=0.1, kernel=linear, total=   7.6s\n",
      "[CV] C=0.5, gamma=0.1, kernel=linear .................................\n",
      "[CV] .................. C=0.5, gamma=0.1, kernel=linear, total=   7.1s\n",
      "[CV] C=0.5, gamma=0.1, kernel=linear .................................\n",
      "[CV] .................. C=0.5, gamma=0.1, kernel=linear, total=   7.7s\n",
      "[CV] C=0.5, gamma=0.5, kernel=linear .................................\n",
      "[CV] .................. C=0.5, gamma=0.5, kernel=linear, total=   7.5s\n",
      "[CV] C=0.5, gamma=0.5, kernel=linear .................................\n",
      "[CV] .................. C=0.5, gamma=0.5, kernel=linear, total=   7.0s\n",
      "[CV] C=0.5, gamma=0.5, kernel=linear .................................\n",
      "[CV] .................. C=0.5, gamma=0.5, kernel=linear, total=   7.6s\n",
      "[CV] C=0.5, gamma=1.0, kernel=linear .................................\n",
      "[CV] .................. C=0.5, gamma=1.0, kernel=linear, total=   7.6s\n",
      "[CV] C=0.5, gamma=1.0, kernel=linear .................................\n",
      "[CV] .................. C=0.5, gamma=1.0, kernel=linear, total=   7.7s\n",
      "[CV] C=0.5, gamma=1.0, kernel=linear .................................\n",
      "[CV] .................. C=0.5, gamma=1.0, kernel=linear, total=   8.1s\n",
      "[CV] C=0.5, gamma=5.0, kernel=linear .................................\n",
      "[CV] .................. C=0.5, gamma=5.0, kernel=linear, total=   7.8s\n",
      "[CV] C=0.5, gamma=5.0, kernel=linear .................................\n",
      "[CV] .................. C=0.5, gamma=5.0, kernel=linear, total=   7.0s\n",
      "[CV] C=0.5, gamma=5.0, kernel=linear .................................\n",
      "[CV] .................. C=0.5, gamma=5.0, kernel=linear, total=   7.6s\n",
      "[CV] C=1.0, gamma=0.001, kernel=linear ...............................\n",
      "[CV] ................ C=1.0, gamma=0.001, kernel=linear, total=   7.1s\n",
      "[CV] C=1.0, gamma=0.001, kernel=linear ...............................\n",
      "[CV] ................ C=1.0, gamma=0.001, kernel=linear, total=   6.6s\n",
      "[CV] C=1.0, gamma=0.001, kernel=linear ...............................\n",
      "[CV] ................ C=1.0, gamma=0.001, kernel=linear, total=   7.1s\n",
      "[CV] C=1.0, gamma=0.005, kernel=linear ...............................\n",
      "[CV] ................ C=1.0, gamma=0.005, kernel=linear, total=   7.0s\n",
      "[CV] C=1.0, gamma=0.005, kernel=linear ...............................\n",
      "[CV] ................ C=1.0, gamma=0.005, kernel=linear, total=   6.4s\n",
      "[CV] C=1.0, gamma=0.005, kernel=linear ...............................\n",
      "[CV] ................ C=1.0, gamma=0.005, kernel=linear, total=   6.7s\n",
      "[CV] C=1.0, gamma=0.01, kernel=linear ................................\n",
      "[CV] ................. C=1.0, gamma=0.01, kernel=linear, total=   7.2s\n",
      "[CV] C=1.0, gamma=0.01, kernel=linear ................................\n",
      "[CV] ................. C=1.0, gamma=0.01, kernel=linear, total=   7.2s\n",
      "[CV] C=1.0, gamma=0.01, kernel=linear ................................\n",
      "[CV] ................. C=1.0, gamma=0.01, kernel=linear, total=   7.6s\n",
      "[CV] C=1.0, gamma=0.05, kernel=linear ................................\n",
      "[CV] ................. C=1.0, gamma=0.05, kernel=linear, total=   7.1s\n",
      "[CV] C=1.0, gamma=0.05, kernel=linear ................................\n",
      "[CV] ................. C=1.0, gamma=0.05, kernel=linear, total=   6.3s\n",
      "[CV] C=1.0, gamma=0.05, kernel=linear ................................\n",
      "[CV] ................. C=1.0, gamma=0.05, kernel=linear, total=   6.7s\n",
      "[CV] C=1.0, gamma=0.1, kernel=linear .................................\n",
      "[CV] .................. C=1.0, gamma=0.1, kernel=linear, total=   6.7s\n",
      "[CV] C=1.0, gamma=0.1, kernel=linear .................................\n",
      "[CV] .................. C=1.0, gamma=0.1, kernel=linear, total=   6.4s\n",
      "[CV] C=1.0, gamma=0.1, kernel=linear .................................\n",
      "[CV] .................. C=1.0, gamma=0.1, kernel=linear, total=   6.8s\n",
      "[CV] C=1.0, gamma=0.5, kernel=linear .................................\n",
      "[CV] .................. C=1.0, gamma=0.5, kernel=linear, total=   6.7s\n",
      "[CV] C=1.0, gamma=0.5, kernel=linear .................................\n",
      "[CV] .................. C=1.0, gamma=0.5, kernel=linear, total=   6.5s\n",
      "[CV] C=1.0, gamma=0.5, kernel=linear .................................\n",
      "[CV] .................. C=1.0, gamma=0.5, kernel=linear, total=   7.2s\n",
      "[CV] C=1.0, gamma=1.0, kernel=linear .................................\n",
      "[CV] .................. C=1.0, gamma=1.0, kernel=linear, total=   7.9s\n",
      "[CV] C=1.0, gamma=1.0, kernel=linear .................................\n",
      "[CV] .................. C=1.0, gamma=1.0, kernel=linear, total=   7.4s\n",
      "[CV] C=1.0, gamma=1.0, kernel=linear .................................\n",
      "[CV] .................. C=1.0, gamma=1.0, kernel=linear, total=   7.4s\n",
      "[CV] C=1.0, gamma=5.0, kernel=linear .................................\n",
      "[CV] .................. C=1.0, gamma=5.0, kernel=linear, total=   7.2s\n",
      "[CV] C=1.0, gamma=5.0, kernel=linear .................................\n",
      "[CV] .................. C=1.0, gamma=5.0, kernel=linear, total=   7.1s\n",
      "[CV] C=1.0, gamma=5.0, kernel=linear .................................\n",
      "[CV] .................. C=1.0, gamma=5.0, kernel=linear, total=   7.4s\n",
      "[CV] C=5.0, gamma=0.001, kernel=linear ...............................\n",
      "[CV] ................ C=5.0, gamma=0.001, kernel=linear, total=   5.5s\n",
      "[CV] C=5.0, gamma=0.001, kernel=linear ...............................\n",
      "[CV] ................ C=5.0, gamma=0.001, kernel=linear, total=   4.6s\n",
      "[CV] C=5.0, gamma=0.001, kernel=linear ...............................\n",
      "[CV] ................ C=5.0, gamma=0.001, kernel=linear, total=   4.8s\n",
      "[CV] C=5.0, gamma=0.005, kernel=linear ...............................\n",
      "[CV] ................ C=5.0, gamma=0.005, kernel=linear, total=   4.8s\n",
      "[CV] C=5.0, gamma=0.005, kernel=linear ...............................\n",
      "[CV] ................ C=5.0, gamma=0.005, kernel=linear, total=   4.6s\n",
      "[CV] C=5.0, gamma=0.005, kernel=linear ...............................\n",
      "[CV] ................ C=5.0, gamma=0.005, kernel=linear, total=   4.8s\n",
      "[CV] C=5.0, gamma=0.01, kernel=linear ................................\n",
      "[CV] ................. C=5.0, gamma=0.01, kernel=linear, total=   4.8s\n",
      "[CV] C=5.0, gamma=0.01, kernel=linear ................................\n",
      "[CV] ................. C=5.0, gamma=0.01, kernel=linear, total=   4.5s\n",
      "[CV] C=5.0, gamma=0.01, kernel=linear ................................\n",
      "[CV] ................. C=5.0, gamma=0.01, kernel=linear, total=   5.0s\n",
      "[CV] C=5.0, gamma=0.05, kernel=linear ................................\n",
      "[CV] ................. C=5.0, gamma=0.05, kernel=linear, total=   4.9s\n",
      "[CV] C=5.0, gamma=0.05, kernel=linear ................................\n",
      "[CV] ................. C=5.0, gamma=0.05, kernel=linear, total=   4.6s\n",
      "[CV] C=5.0, gamma=0.05, kernel=linear ................................\n",
      "[CV] ................. C=5.0, gamma=0.05, kernel=linear, total=   5.1s\n",
      "[CV] C=5.0, gamma=0.1, kernel=linear .................................\n",
      "[CV] .................. C=5.0, gamma=0.1, kernel=linear, total=   5.3s\n",
      "[CV] C=5.0, gamma=0.1, kernel=linear .................................\n",
      "[CV] .................. C=5.0, gamma=0.1, kernel=linear, total=   4.8s\n",
      "[CV] C=5.0, gamma=0.1, kernel=linear .................................\n",
      "[CV] .................. C=5.0, gamma=0.1, kernel=linear, total=   5.4s\n",
      "[CV] C=5.0, gamma=0.5, kernel=linear .................................\n",
      "[CV] .................. C=5.0, gamma=0.5, kernel=linear, total=   5.2s\n",
      "[CV] C=5.0, gamma=0.5, kernel=linear .................................\n",
      "[CV] .................. C=5.0, gamma=0.5, kernel=linear, total=   4.7s\n",
      "[CV] C=5.0, gamma=0.5, kernel=linear .................................\n",
      "[CV] .................. C=5.0, gamma=0.5, kernel=linear, total=   5.0s\n",
      "[CV] C=5.0, gamma=1.0, kernel=linear .................................\n",
      "[CV] .................. C=5.0, gamma=1.0, kernel=linear, total=   5.2s\n",
      "[CV] C=5.0, gamma=1.0, kernel=linear .................................\n",
      "[CV] .................. C=5.0, gamma=1.0, kernel=linear, total=   4.6s\n",
      "[CV] C=5.0, gamma=1.0, kernel=linear .................................\n",
      "[CV] .................. C=5.0, gamma=1.0, kernel=linear, total=   4.8s\n",
      "[CV] C=5.0, gamma=5.0, kernel=linear .................................\n",
      "[CV] .................. C=5.0, gamma=5.0, kernel=linear, total=   4.8s\n",
      "[CV] C=5.0, gamma=5.0, kernel=linear .................................\n",
      "[CV] .................. C=5.0, gamma=5.0, kernel=linear, total=   4.9s\n",
      "[CV] C=5.0, gamma=5.0, kernel=linear .................................\n",
      "[CV] .................. C=5.0, gamma=5.0, kernel=linear, total=   5.1s\n",
      "[CV] C=10.0, gamma=0.001, kernel=linear ..............................\n",
      "[CV] ............... C=10.0, gamma=0.001, kernel=linear, total=   4.5s\n",
      "[CV] C=10.0, gamma=0.001, kernel=linear ..............................\n",
      "[CV] ............... C=10.0, gamma=0.001, kernel=linear, total=   4.2s\n",
      "[CV] C=10.0, gamma=0.001, kernel=linear ..............................\n",
      "[CV] ............... C=10.0, gamma=0.001, kernel=linear, total=   4.4s\n",
      "[CV] C=10.0, gamma=0.005, kernel=linear ..............................\n",
      "[CV] ............... C=10.0, gamma=0.005, kernel=linear, total=   4.3s\n",
      "[CV] C=10.0, gamma=0.005, kernel=linear ..............................\n",
      "[CV] ............... C=10.0, gamma=0.005, kernel=linear, total=   4.2s\n",
      "[CV] C=10.0, gamma=0.005, kernel=linear ..............................\n",
      "[CV] ............... C=10.0, gamma=0.005, kernel=linear, total=   4.4s\n",
      "[CV] C=10.0, gamma=0.01, kernel=linear ...............................\n",
      "[CV] ................ C=10.0, gamma=0.01, kernel=linear, total=   4.3s\n",
      "[CV] C=10.0, gamma=0.01, kernel=linear ...............................\n",
      "[CV] ................ C=10.0, gamma=0.01, kernel=linear, total=   4.2s\n",
      "[CV] C=10.0, gamma=0.01, kernel=linear ...............................\n",
      "[CV] ................ C=10.0, gamma=0.01, kernel=linear, total=   4.4s\n",
      "[CV] C=10.0, gamma=0.05, kernel=linear ...............................\n",
      "[CV] ................ C=10.0, gamma=0.05, kernel=linear, total=   4.4s\n",
      "[CV] C=10.0, gamma=0.05, kernel=linear ...............................\n",
      "[CV] ................ C=10.0, gamma=0.05, kernel=linear, total=   4.2s\n",
      "[CV] C=10.0, gamma=0.05, kernel=linear ...............................\n",
      "[CV] ................ C=10.0, gamma=0.05, kernel=linear, total=   4.4s\n",
      "[CV] C=10.0, gamma=0.1, kernel=linear ................................\n",
      "[CV] ................. C=10.0, gamma=0.1, kernel=linear, total=   4.4s\n",
      "[CV] C=10.0, gamma=0.1, kernel=linear ................................\n",
      "[CV] ................. C=10.0, gamma=0.1, kernel=linear, total=   4.2s\n",
      "[CV] C=10.0, gamma=0.1, kernel=linear ................................\n",
      "[CV] ................. C=10.0, gamma=0.1, kernel=linear, total=   4.4s\n",
      "[CV] C=10.0, gamma=0.5, kernel=linear ................................\n",
      "[CV] ................. C=10.0, gamma=0.5, kernel=linear, total=   4.3s\n",
      "[CV] C=10.0, gamma=0.5, kernel=linear ................................\n",
      "[CV] ................. C=10.0, gamma=0.5, kernel=linear, total=   4.2s\n",
      "[CV] C=10.0, gamma=0.5, kernel=linear ................................\n",
      "[CV] ................. C=10.0, gamma=0.5, kernel=linear, total=   4.4s\n",
      "[CV] C=10.0, gamma=1.0, kernel=linear ................................\n",
      "[CV] ................. C=10.0, gamma=1.0, kernel=linear, total=   4.4s\n",
      "[CV] C=10.0, gamma=1.0, kernel=linear ................................\n",
      "[CV] ................. C=10.0, gamma=1.0, kernel=linear, total=   4.5s\n",
      "[CV] C=10.0, gamma=1.0, kernel=linear ................................\n",
      "[CV] ................. C=10.0, gamma=1.0, kernel=linear, total=   5.0s\n",
      "[CV] C=10.0, gamma=5.0, kernel=linear ................................\n",
      "[CV] ................. C=10.0, gamma=5.0, kernel=linear, total=   4.4s\n",
      "[CV] C=10.0, gamma=5.0, kernel=linear ................................\n",
      "[CV] ................. C=10.0, gamma=5.0, kernel=linear, total=   4.1s\n",
      "[CV] C=10.0, gamma=5.0, kernel=linear ................................\n",
      "[CV] ................. C=10.0, gamma=5.0, kernel=linear, total=   4.1s\n",
      "[CV] C=50.0, gamma=0.001, kernel=linear ..............................\n",
      "[CV] ............... C=50.0, gamma=0.001, kernel=linear, total=   3.1s\n",
      "[CV] C=50.0, gamma=0.001, kernel=linear ..............................\n",
      "[CV] ............... C=50.0, gamma=0.001, kernel=linear, total=   2.8s\n",
      "[CV] C=50.0, gamma=0.001, kernel=linear ..............................\n",
      "[CV] ............... C=50.0, gamma=0.001, kernel=linear, total=   3.0s\n",
      "[CV] C=50.0, gamma=0.005, kernel=linear ..............................\n",
      "[CV] ............... C=50.0, gamma=0.005, kernel=linear, total=   3.1s\n",
      "[CV] C=50.0, gamma=0.005, kernel=linear ..............................\n",
      "[CV] ............... C=50.0, gamma=0.005, kernel=linear, total=   2.8s\n",
      "[CV] C=50.0, gamma=0.005, kernel=linear ..............................\n",
      "[CV] ............... C=50.0, gamma=0.005, kernel=linear, total=   3.1s\n",
      "[CV] C=50.0, gamma=0.01, kernel=linear ...............................\n",
      "[CV] ................ C=50.0, gamma=0.01, kernel=linear, total=   3.1s\n",
      "[CV] C=50.0, gamma=0.01, kernel=linear ...............................\n",
      "[CV] ................ C=50.0, gamma=0.01, kernel=linear, total=   3.0s\n",
      "[CV] C=50.0, gamma=0.01, kernel=linear ...............................\n",
      "[CV] ................ C=50.0, gamma=0.01, kernel=linear, total=   3.1s\n",
      "[CV] C=50.0, gamma=0.05, kernel=linear ...............................\n",
      "[CV] ................ C=50.0, gamma=0.05, kernel=linear, total=   3.5s\n",
      "[CV] C=50.0, gamma=0.05, kernel=linear ...............................\n",
      "[CV] ................ C=50.0, gamma=0.05, kernel=linear, total=   3.2s\n",
      "[CV] C=50.0, gamma=0.05, kernel=linear ...............................\n",
      "[CV] ................ C=50.0, gamma=0.05, kernel=linear, total=   3.0s\n",
      "[CV] C=50.0, gamma=0.1, kernel=linear ................................\n",
      "[CV] ................. C=50.0, gamma=0.1, kernel=linear, total=   3.0s\n",
      "[CV] C=50.0, gamma=0.1, kernel=linear ................................\n",
      "[CV] ................. C=50.0, gamma=0.1, kernel=linear, total=   2.9s\n",
      "[CV] C=50.0, gamma=0.1, kernel=linear ................................\n",
      "[CV] ................. C=50.0, gamma=0.1, kernel=linear, total=   3.0s\n",
      "[CV] C=50.0, gamma=0.5, kernel=linear ................................\n",
      "[CV] ................. C=50.0, gamma=0.5, kernel=linear, total=   3.0s\n",
      "[CV] C=50.0, gamma=0.5, kernel=linear ................................\n",
      "[CV] ................. C=50.0, gamma=0.5, kernel=linear, total=   2.8s\n",
      "[CV] C=50.0, gamma=0.5, kernel=linear ................................\n",
      "[CV] ................. C=50.0, gamma=0.5, kernel=linear, total=   3.1s\n",
      "[CV] C=50.0, gamma=1.0, kernel=linear ................................\n",
      "[CV] ................. C=50.0, gamma=1.0, kernel=linear, total=   3.0s\n",
      "[CV] C=50.0, gamma=1.0, kernel=linear ................................\n",
      "[CV] ................. C=50.0, gamma=1.0, kernel=linear, total=   2.8s\n",
      "[CV] C=50.0, gamma=1.0, kernel=linear ................................\n",
      "[CV] ................. C=50.0, gamma=1.0, kernel=linear, total=   3.0s\n",
      "[CV] C=50.0, gamma=5.0, kernel=linear ................................\n",
      "[CV] ................. C=50.0, gamma=5.0, kernel=linear, total=   3.0s\n",
      "[CV] C=50.0, gamma=5.0, kernel=linear ................................\n",
      "[CV] ................. C=50.0, gamma=5.0, kernel=linear, total=   2.8s\n",
      "[CV] C=50.0, gamma=5.0, kernel=linear ................................\n",
      "[CV] ................. C=50.0, gamma=5.0, kernel=linear, total=   3.0s\n"
     ]
    },
    {
     "name": "stderr",
     "output_type": "stream",
     "text": [
      "[Parallel(n_jobs=1)]: Done 144 out of 144 | elapsed: 24.1min finished\n"
     ]
    },
    {
     "name": "stdout",
     "output_type": "stream",
     "text": [
      "Elapsed time, param searching 0:24:08.732567\n",
      "scores are:  [[0.74462231 0.74462231 0.74462231 0.74462231 0.74462231 0.74462231\n",
      "  0.74462231 0.74462231]\n",
      " [0.80490245 0.80490245 0.80490245 0.80490245 0.80490245 0.80490245\n",
      "  0.80490245 0.80490245]\n",
      " [0.84242121 0.84242121 0.84242121 0.84242121 0.84242121 0.84242121\n",
      "  0.84242121 0.84242121]\n",
      " [0.87818909 0.87818909 0.87818909 0.87818909 0.87818909 0.87818909\n",
      "  0.87818909 0.87818909]\n",
      " [0.89294647 0.89294647 0.89294647 0.89294647 0.89294647 0.89294647\n",
      "  0.89294647 0.89294647]\n",
      " [0.8991996  0.8991996  0.8991996  0.8991996  0.8991996  0.8991996\n",
      "  0.8991996  0.8991996 ]]\n"
     ]
    }
   ],
   "source": [
    "X,Y=loadTrainData(dir_features_hog_2_fau4_1)\n",
    "best_classifier,param,scores=trainModel(X,Y)"
   ]
  },
  {
   "cell_type": "code",
   "execution_count": 32,
   "metadata": {},
   "outputs": [
    {
     "name": "stdout",
     "output_type": "stream",
     "text": [
      "features_positives_test loaded, shape is:  (469, 1056)\n",
      "features_negatives_test loaded, shape is:  (498, 1056)\n"
     ]
    }
   ],
   "source": [
    "features_folder=dir_features_hog_2_fau4_1\n",
    "features_positives_test=bcolz.carray(rootdir=features_folder+'positives_test/',mode='r')\n",
    "print(\"features_positives_test loaded, shape is: \",features_positives_test.shape)\n",
    "features_negatives_test=bcolz.carray(rootdir=features_folder+'negatives_test/',mode='r')\n",
    "print(\"features_negatives_test loaded, shape is: \",features_negatives_test.shape)"
   ]
  },
  {
   "cell_type": "code",
   "execution_count": 44,
   "metadata": {},
   "outputs": [
    {
     "name": "stdout",
     "output_type": "stream",
     "text": [
      "407  out of  469 0.8678038379530917\n"
     ]
    }
   ],
   "source": [
    "print (best_classifier.predict(features_positives_test).sum(), \" out of \", len(features_positives_test),best_classifier.predict(features_positives_test).sum()/len(features_positives_test) )"
   ]
  },
  {
   "cell_type": "code",
   "execution_count": 43,
   "metadata": {},
   "outputs": [
    {
     "name": "stdout",
     "output_type": "stream",
     "text": [
      "154  out of  498 0.6907630522088354\n"
     ]
    }
   ],
   "source": [
    "print (best_classifier.predict(features_negatives_test).sum(), \" out of \", len(features_negatives_test),(len(features_negatives_test)-best_classifier.predict(features_negatives_test).sum())/len(features_negatives_test))"
   ]
  },
  {
   "cell_type": "code",
   "execution_count": 39,
   "metadata": {},
   "outputs": [
    {
     "data": {
      "text/plain": [
       "'/media/amogh/Stuff/CMU/datasets/DISFA_data/'"
      ]
     },
     "execution_count": 39,
     "metadata": {},
     "output_type": "execute_result"
    }
   ],
   "source": [
    "DISFA_path"
   ]
  },
  {
   "cell_type": "code",
   "execution_count": 40,
   "metadata": {},
   "outputs": [],
   "source": [
    "models_path=DISFA_path+'models/'\n",
    "if not os.path.exists(models_path):\n",
    "    os.makedirs(models_path)"
   ]
  },
  {
   "cell_type": "code",
   "execution_count": 42,
   "metadata": {},
   "outputs": [],
   "source": [
    "with open(models_path+'fau4_1_hog_2_linear.pickle','wb') as handle:\n",
    "    pickle.dump(best_classifier,handle)"
   ]
  },
  {
   "cell_type": "markdown",
   "metadata": {},
   "source": [
    "## Automating loading features, training process "
   ]
  },
  {
   "cell_type": "code",
   "execution_count": 38,
   "metadata": {},
   "outputs": [],
   "source": [
    "def loadTrainData(features_folder,train_no,boolShuffle=True):\n",
    "    #loading features\n",
    "    features_positives=bcolz.carray(rootdir=features_folder+'positives/',mode='r')\n",
    "    print(\"features_positives loaded, shape is: \",features_positives.shape)\n",
    "    features_negatives=bcolz.carray(rootdir=features_folder+'negatives/',mode='r')\n",
    "    print(\"features_negatives loaded, shape is : \",features_negatives.shape)\n",
    "    \n",
    "#     features_positives_test=bcolz.carray(rootdir=features_folder+'positives_test/',mode='r')\n",
    "#     print(\"features_positives_test loaded, shape is: \",features_positives_test.shape)\n",
    "#     features_negatives_test=bcolz.carray(rootdir=features_folder+'negatives_test/',mode='r')\n",
    "#     print(\"features_negatives_test loaded, shape is: \",features_negatives_test.shape)\n",
    "    \n",
    "    #setting up the training data\n",
    "    train_no=np.min([features_positives.shape[0],features_negatives.shape[0],train_no])\n",
    "#     if boolShuffle:\n",
    "#         random.shuffle(features_positives)\n",
    "#         random.shuffle(features_negatives)\n",
    "    X=np.concatenate([features_positives[:train_no],features_negatives[:train_no]])\n",
    "    print(\"training data shape is: \",X.shape)\n",
    "    #setting labels/targets\n",
    "    Y=np.concatenate([np.repeat(1,train_no),np.repeat(0,train_no)])\n",
    "    print(\"labels shape is: \",Y.shape)\n",
    "    return X, Y"
   ]
  },
  {
   "cell_type": "code",
   "execution_count": 46,
   "metadata": {},
   "outputs": [],
   "source": [
    "def trainModel(X_train,y_train,no_jobs):\n",
    "    #setup\n",
    "    gamma_range=np.outer(np.logspace(-3,0,4),np.array([1,5]))\n",
    "    gamma_range=gamma_range.flatten()\n",
    "    C_range=np.outer(np.logspace(-1,1,3),np.array([1,5]))\n",
    "    C_range=C_range.flatten()\n",
    "    parameters={'kernel':['rbf','linear'],'C':C_range,'gamma':gamma_range}\n",
    "    svm_clsf=svm.SVC()\n",
    "    grid_clsf=sklearn.model_selection.GridSearchCV(estimator=svm_clsf,param_grid=parameters,n_jobs=no_jobs,verbose=2)\n",
    "    #train\n",
    "    start_time=dt.datetime.now()\n",
    "    print('Start param searching at {}'.format(str(start_time)))\n",
    "    grid_clsf.fit(X_train,y_train)\n",
    "    elapsed_time=dt.datetime.now()-start_time\n",
    "    print('Elapsed time, param searching {}'.format(str(elapsed_time)))\n",
    "    sorted(grid_clsf.cv_results_.keys())\n",
    "    #choose classifier\n",
    "    classifier=grid_clsf.best_estimator_\n",
    "    params=grid_clsf.best_params_\n",
    "    scores=grid_clsf.cv_results_['mean_test_score'].reshape(2,len(C_range),len(gamma_range))\n",
    "    print(\"scores are: \", scores)\n",
    "    return classifier, params,scores"
   ]
  },
  {
   "cell_type": "code",
   "execution_count": 47,
   "metadata": {},
   "outputs": [],
   "source": [
    "def trainFinal(features_folder,no_jobs,train_no=2000):\n",
    "    X,Y=loadTrainData(features_folder,train_no,True)\n",
    "    classifier,params,scores=trainModel(X,Y,no_jobs)\n",
    "    print(scores)\n",
    "    return classifier, params,scores"
   ]
  },
  {
   "cell_type": "code",
   "execution_count": 58,
   "metadata": {},
   "outputs": [],
   "source": [
    "def test(features_folder):\n",
    "    features_positives_test=bcolz.carray(rootdir=features_folder+'positives_test/',mode='r')\n",
    "    print(\"features_positives_test loaded, shape is: \",features_positives_test.shape)\n",
    "    features_negatives_test=bcolz.carray(rootdir=features_folder+'negatives_test/',mode='r')\n",
    "    print(\"features_negatives_test loaded, shape is: \",features_negatives_test.shape)\n",
    "    print (classifier_fau2.predict(features_positives_test).sum(), \" positives out of \", len(features_positives_test),classifier_fau2.predict(features_positives_test).sum()/len(features_positives_test) )\n",
    "    print (classifier_fau2.predict(features_negatives_test).sum(), \" positives out of \", len(features_negatives_test),(len(features_negatives_test)-classifier_fau2.predict(features_negatives_test).sum())/len(features_negatives_test))"
   ]
  },
  {
   "cell_type": "code",
   "execution_count": null,
   "metadata": {},
   "outputs": [],
   "source": [
    "FAU2_1"
   ]
  },
  {
   "cell_type": "code",
   "execution_count": 49,
   "metadata": {},
   "outputs": [
    {
     "name": "stdout",
     "output_type": "stream",
     "text": [
      "features_positives loaded, shape is:  (2000, 1056)\n",
      "features_negatives loaded, shape is :  (1999, 1056)\n",
      "training data shape is:  (3998, 1056)\n",
      "labels shape is:  (3998,)\n",
      "Start param searching at 2018-06-09 00:25:54.905122\n",
      "Fitting 3 folds for each of 96 candidates, totalling 288 fits\n",
      "[CV] C=0.1, gamma=0.001, kernel=rbf ..................................\n",
      "[CV] C=0.1, gamma=0.001, kernel=rbf ..................................\n",
      "[CV] C=0.1, gamma=0.001, kernel=rbf ..................................\n",
      "[CV] C=0.1, gamma=0.001, kernel=linear ...............................\n",
      "[CV] C=0.1, gamma=0.001, kernel=linear ...............................\n",
      "[CV] C=0.1, gamma=0.001, kernel=linear ...............................\n",
      "[CV] C=0.1, gamma=0.005, kernel=rbf ..................................\n",
      "[CV] C=0.1, gamma=0.005, kernel=rbf ..................................\n",
      "[CV] ................ C=0.1, gamma=0.001, kernel=linear, total=  25.1s\n",
      "[CV] C=0.1, gamma=0.005, kernel=rbf ..................................\n",
      "[CV] ................ C=0.1, gamma=0.001, kernel=linear, total=  26.2s\n",
      "[CV] C=0.1, gamma=0.005, kernel=linear ...............................\n",
      "[CV] ................ C=0.1, gamma=0.001, kernel=linear, total=  28.8s\n",
      "[CV] C=0.1, gamma=0.005, kernel=linear ...............................\n",
      "[CV] ................... C=0.1, gamma=0.001, kernel=rbf, total=  38.1s\n",
      "[CV] C=0.1, gamma=0.005, kernel=linear ...............................\n",
      "[CV] ................... C=0.1, gamma=0.001, kernel=rbf, total=  39.0s\n",
      "[CV] C=0.1, gamma=0.01, kernel=rbf ...................................\n",
      "[CV] ................... C=0.1, gamma=0.001, kernel=rbf, total=  38.0s\n",
      "[CV] C=0.1, gamma=0.01, kernel=rbf ...................................\n",
      "[CV] ................... C=0.1, gamma=0.005, kernel=rbf, total=  39.1s\n",
      "[CV] C=0.1, gamma=0.01, kernel=rbf ...................................\n",
      "[CV] ................... C=0.1, gamma=0.005, kernel=rbf, total=  40.0s\n",
      "[CV] C=0.1, gamma=0.01, kernel=linear ................................\n",
      "[CV] ................ C=0.1, gamma=0.005, kernel=linear, total=  25.8s\n",
      "[CV] C=0.1, gamma=0.01, kernel=linear ................................\n",
      "[CV] ................ C=0.1, gamma=0.005, kernel=linear, total=  26.0s\n",
      "[CV] C=0.1, gamma=0.01, kernel=linear ................................\n",
      "[CV] ................ C=0.1, gamma=0.005, kernel=linear, total=  26.8s\n",
      "[CV] C=0.1, gamma=0.05, kernel=rbf ...................................\n",
      "[CV] ................. C=0.1, gamma=0.01, kernel=linear, total=  25.2s\n",
      "[CV] C=0.1, gamma=0.05, kernel=rbf ...................................\n",
      "[CV] ................... C=0.1, gamma=0.005, kernel=rbf, total=  40.3s\n",
      "[CV] C=0.1, gamma=0.05, kernel=rbf ...................................\n",
      "[CV] ................. C=0.1, gamma=0.01, kernel=linear, total=  25.9s\n",
      "[CV] C=0.1, gamma=0.05, kernel=linear ................................\n",
      "[CV] .................... C=0.1, gamma=0.01, kernel=rbf, total=  38.9s\n",
      "[CV] C=0.1, gamma=0.05, kernel=linear ................................\n",
      "[CV] ................. C=0.1, gamma=0.01, kernel=linear, total=  27.1s\n",
      "[CV] C=0.1, gamma=0.05, kernel=linear ................................\n",
      "[CV] .................... C=0.1, gamma=0.01, kernel=rbf, total=  40.3s\n",
      "[CV] C=0.1, gamma=0.1, kernel=rbf ....................................\n",
      "[CV] .................... C=0.1, gamma=0.01, kernel=rbf, total=  42.1s\n",
      "[CV] C=0.1, gamma=0.1, kernel=rbf ....................................\n",
      "[CV] ................. C=0.1, gamma=0.05, kernel=linear, total=  25.4s\n",
      "[CV] C=0.1, gamma=0.1, kernel=rbf ....................................\n",
      "[CV] ................. C=0.1, gamma=0.05, kernel=linear, total=  26.6s\n",
      "[CV] C=0.1, gamma=0.1, kernel=linear .................................\n",
      "[CV] .................... C=0.1, gamma=0.05, kernel=rbf, total=  39.3s\n",
      "[CV] C=0.1, gamma=0.1, kernel=linear .................................\n",
      "[CV] .................... C=0.1, gamma=0.05, kernel=rbf, total=  40.5s\n",
      "[CV] C=0.1, gamma=0.1, kernel=linear .................................\n",
      "[CV] .................... C=0.1, gamma=0.05, kernel=rbf, total=  39.3s\n",
      "[CV] C=0.1, gamma=0.5, kernel=rbf ....................................\n",
      "[CV] ................. C=0.1, gamma=0.05, kernel=linear, total=  27.7s\n",
      "[CV] C=0.1, gamma=0.5, kernel=rbf ....................................\n",
      "[CV] ..................... C=0.1, gamma=0.1, kernel=rbf, total=  39.7s\n",
      "[CV] C=0.1, gamma=0.5, kernel=rbf ....................................\n"
     ]
    },
    {
     "name": "stderr",
     "output_type": "stream",
     "text": [
      "[Parallel(n_jobs=8)]: Done  25 tasks      | elapsed:  3.4min\n"
     ]
    },
    {
     "name": "stdout",
     "output_type": "stream",
     "text": [
      "[CV] ..................... C=0.1, gamma=0.1, kernel=rbf, total=  41.3s\n",
      "[CV] C=0.1, gamma=0.5, kernel=linear .................................\n",
      "[CV] .................. C=0.1, gamma=0.1, kernel=linear, total=  25.6s\n",
      "[CV] C=0.1, gamma=0.5, kernel=linear .................................\n",
      "[CV] .................. C=0.1, gamma=0.1, kernel=linear, total=  28.2s\n",
      "[CV] C=0.1, gamma=0.5, kernel=linear .................................\n",
      "[CV] ..................... C=0.1, gamma=0.5, kernel=rbf, total=  26.8s\n",
      "[CV] C=0.1, gamma=1.0, kernel=rbf ....................................\n",
      "[CV] .................. C=0.1, gamma=0.1, kernel=linear, total=  27.4s\n",
      "[CV] C=0.1, gamma=1.0, kernel=rbf ....................................\n",
      "[CV] ..................... C=0.1, gamma=0.5, kernel=rbf, total=  26.2s\n",
      "[CV] C=0.1, gamma=1.0, kernel=rbf ....................................\n",
      "[CV] ..................... C=0.1, gamma=0.1, kernel=rbf, total=  40.4s\n",
      "[CV] C=0.1, gamma=1.0, kernel=linear .................................\n",
      "[CV] .................. C=0.1, gamma=0.5, kernel=linear, total=  25.7s\n",
      "[CV] C=0.1, gamma=1.0, kernel=linear .................................\n",
      "[CV] ..................... C=0.1, gamma=0.5, kernel=rbf, total=  28.9s\n",
      "[CV] C=0.1, gamma=1.0, kernel=linear .................................\n",
      "[CV] .................. C=0.1, gamma=0.5, kernel=linear, total=  26.6s\n",
      "[CV] C=0.1, gamma=5.0, kernel=rbf ....................................\n",
      "[CV] ..................... C=0.1, gamma=1.0, kernel=rbf, total=  23.5s\n",
      "[CV] C=0.1, gamma=5.0, kernel=rbf ....................................\n",
      "[CV] .................. C=0.1, gamma=0.5, kernel=linear, total=  27.0s\n",
      "[CV] C=0.1, gamma=5.0, kernel=rbf ....................................\n",
      "[CV] ..................... C=0.1, gamma=1.0, kernel=rbf, total=  24.0s\n",
      "[CV] C=0.1, gamma=5.0, kernel=linear .................................\n",
      "[CV] ..................... C=0.1, gamma=1.0, kernel=rbf, total=  24.9s\n",
      "[CV] C=0.1, gamma=5.0, kernel=linear .................................\n",
      "[CV] .................. C=0.1, gamma=1.0, kernel=linear, total=  26.6s\n",
      "[CV] C=0.1, gamma=5.0, kernel=linear .................................\n",
      "[CV] .................. C=0.1, gamma=1.0, kernel=linear, total=  25.7s\n",
      "[CV] C=0.5, gamma=0.001, kernel=rbf ..................................\n",
      "[CV] ..................... C=0.1, gamma=5.0, kernel=rbf, total=  19.5s\n",
      "[CV] C=0.5, gamma=0.001, kernel=rbf ..................................\n",
      "[CV] ..................... C=0.1, gamma=5.0, kernel=rbf, total=  20.1s\n",
      "[CV] C=0.5, gamma=0.001, kernel=rbf ..................................\n",
      "[CV] .................. C=0.1, gamma=1.0, kernel=linear, total=  27.4s\n",
      "[CV] C=0.5, gamma=0.001, kernel=linear ...............................\n",
      "[CV] ..................... C=0.1, gamma=5.0, kernel=rbf, total=  22.3s\n",
      "[CV] C=0.5, gamma=0.001, kernel=linear ...............................\n",
      "[CV] .................. C=0.1, gamma=5.0, kernel=linear, total=  25.6s\n",
      "[CV] C=0.5, gamma=0.001, kernel=linear ...............................\n",
      "[CV] .................. C=0.1, gamma=5.0, kernel=linear, total=  25.9s\n",
      "[CV] C=0.5, gamma=0.005, kernel=rbf ..................................\n",
      "[CV] .................. C=0.1, gamma=5.0, kernel=linear, total=  28.4s\n",
      "[CV] C=0.5, gamma=0.005, kernel=rbf ..................................\n",
      "[CV] ................ C=0.5, gamma=0.001, kernel=linear, total=  17.9s\n",
      "[CV] C=0.5, gamma=0.005, kernel=rbf ..................................\n",
      "[CV] ................ C=0.5, gamma=0.001, kernel=linear, total=  20.0s\n",
      "[CV] C=0.5, gamma=0.005, kernel=linear ...............................\n",
      "[CV] ................ C=0.5, gamma=0.001, kernel=linear, total=  20.7s\n",
      "[CV] C=0.5, gamma=0.005, kernel=linear ...............................\n",
      "[CV] ................... C=0.5, gamma=0.001, kernel=rbf, total=  41.2s\n",
      "[CV] C=0.5, gamma=0.005, kernel=linear ...............................\n",
      "[CV] ................ C=0.5, gamma=0.005, kernel=linear, total=  18.3s\n",
      "[CV] C=0.5, gamma=0.01, kernel=rbf ...................................\n",
      "[CV] ................... C=0.5, gamma=0.001, kernel=rbf, total=  40.6s\n",
      "[CV] C=0.5, gamma=0.01, kernel=rbf ...................................\n",
      "[CV] ................... C=0.5, gamma=0.001, kernel=rbf, total=  41.8s\n",
      "[CV] C=0.5, gamma=0.01, kernel=rbf ...................................\n",
      "[CV] ................ C=0.5, gamma=0.005, kernel=linear, total=  18.7s\n",
      "[CV] C=0.5, gamma=0.01, kernel=linear ................................\n",
      "[CV] ................... C=0.5, gamma=0.005, kernel=rbf, total=  41.4s\n",
      "[CV] C=0.5, gamma=0.01, kernel=linear ................................\n",
      "[CV] ................ C=0.5, gamma=0.005, kernel=linear, total=  20.5s\n",
      "[CV] C=0.5, gamma=0.01, kernel=linear ................................\n",
      "[CV] ................... C=0.5, gamma=0.005, kernel=rbf, total=  41.1s\n",
      "[CV] C=0.5, gamma=0.05, kernel=rbf ...................................\n",
      "[CV] ................... C=0.5, gamma=0.005, kernel=rbf, total=  41.4s\n",
      "[CV] C=0.5, gamma=0.05, kernel=rbf ...................................\n",
      "[CV] ................. C=0.5, gamma=0.01, kernel=linear, total=  18.2s\n",
      "[CV] C=0.5, gamma=0.05, kernel=rbf ...................................\n",
      "[CV] ................. C=0.5, gamma=0.01, kernel=linear, total=  18.6s\n",
      "[CV] C=0.5, gamma=0.05, kernel=linear ................................\n",
      "[CV] ................. C=0.5, gamma=0.01, kernel=linear, total=  19.9s\n",
      "[CV] C=0.5, gamma=0.05, kernel=linear ................................\n",
      "[CV] .................... C=0.5, gamma=0.01, kernel=rbf, total=  41.1s\n",
      "[CV] C=0.5, gamma=0.05, kernel=linear ................................\n",
      "[CV] .................... C=0.5, gamma=0.01, kernel=rbf, total=  42.2s\n",
      "[CV] C=0.5, gamma=0.1, kernel=rbf ....................................\n",
      "[CV] .................... C=0.5, gamma=0.01, kernel=rbf, total=  41.3s\n",
      "[CV] C=0.5, gamma=0.1, kernel=rbf ....................................\n",
      "[CV] ................. C=0.5, gamma=0.05, kernel=linear, total=  19.4s\n",
      "[CV] C=0.5, gamma=0.1, kernel=rbf ....................................\n",
      "[CV] .................... C=0.5, gamma=0.05, kernel=rbf, total=  34.8s\n",
      "[CV] C=0.5, gamma=0.1, kernel=linear .................................\n",
      "[CV] ................. C=0.5, gamma=0.05, kernel=linear, total=  21.3s\n",
      "[CV] C=0.5, gamma=0.1, kernel=linear .................................\n",
      "[CV] .................... C=0.5, gamma=0.05, kernel=rbf, total=  34.8s\n",
      "[CV] C=0.5, gamma=0.1, kernel=linear .................................\n",
      "[CV] .................... C=0.5, gamma=0.05, kernel=rbf, total=  35.1s\n",
      "[CV] C=0.5, gamma=0.5, kernel=rbf ....................................\n",
      "[CV] ................. C=0.5, gamma=0.05, kernel=linear, total=  23.0s\n",
      "[CV] C=0.5, gamma=0.5, kernel=rbf ....................................\n",
      "[CV] ..................... C=0.5, gamma=0.1, kernel=rbf, total=  28.8s\n",
      "[CV] C=0.5, gamma=0.5, kernel=rbf ....................................\n",
      "[CV] ..................... C=0.5, gamma=0.1, kernel=rbf, total=  28.9s\n",
      "[CV] C=0.5, gamma=0.5, kernel=linear .................................\n",
      "[CV] .................. C=0.5, gamma=0.1, kernel=linear, total=  18.3s\n",
      "[CV] C=0.5, gamma=0.5, kernel=linear .................................\n",
      "[CV] .................. C=0.5, gamma=0.1, kernel=linear, total=  19.1s\n",
      "[CV] C=0.5, gamma=0.5, kernel=linear .................................\n",
      "[CV] .................. C=0.5, gamma=0.1, kernel=linear, total=  20.6s\n",
      "[CV] C=0.5, gamma=1.0, kernel=rbf ....................................\n",
      "[CV] ..................... C=0.5, gamma=0.1, kernel=rbf, total=  32.4s\n",
      "[CV] C=0.5, gamma=1.0, kernel=rbf ....................................\n",
      "[CV] ..................... C=0.5, gamma=0.5, kernel=rbf, total=  21.2s\n",
      "[CV] C=0.5, gamma=1.0, kernel=rbf ....................................\n",
      "[CV] ..................... C=0.5, gamma=0.5, kernel=rbf, total=  25.3s\n",
      "[CV] C=0.5, gamma=1.0, kernel=linear .................................\n",
      "[CV] .................. C=0.5, gamma=0.5, kernel=linear, total=  18.6s\n",
      "[CV] C=0.5, gamma=1.0, kernel=linear .................................\n",
      "[CV] .................. C=0.5, gamma=0.5, kernel=linear, total=  19.1s\n",
      "[CV] C=0.5, gamma=1.0, kernel=linear .................................\n",
      "[CV] ..................... C=0.5, gamma=0.5, kernel=rbf, total=  23.6s\n",
      "[CV] C=0.5, gamma=5.0, kernel=rbf ....................................\n",
      "[CV] ..................... C=0.5, gamma=1.0, kernel=rbf, total=  17.4s\n",
      "[CV] C=0.5, gamma=5.0, kernel=rbf ....................................\n",
      "[CV] .................. C=0.5, gamma=0.5, kernel=linear, total=  21.0s\n",
      "[CV] C=0.5, gamma=5.0, kernel=rbf ....................................\n",
      "[CV] ..................... C=0.5, gamma=1.0, kernel=rbf, total=  19.7s\n",
      "[CV] C=0.5, gamma=5.0, kernel=linear .................................\n",
      "[CV] ..................... C=0.5, gamma=1.0, kernel=rbf, total=  19.6s\n",
      "[CV] C=0.5, gamma=5.0, kernel=linear .................................\n",
      "[CV] .................. C=0.5, gamma=1.0, kernel=linear, total=  19.3s\n",
      "[CV] C=0.5, gamma=5.0, kernel=linear .................................\n",
      "[CV] ..................... C=0.5, gamma=5.0, kernel=rbf, total=  16.6s\n",
      "[CV] C=1.0, gamma=0.001, kernel=rbf ..................................\n",
      "[CV] .................. C=0.5, gamma=1.0, kernel=linear, total=  19.6s\n",
      "[CV] C=1.0, gamma=0.001, kernel=rbf ..................................\n",
      "[CV] ..................... C=0.5, gamma=5.0, kernel=rbf, total=  17.6s\n",
      "[CV] C=1.0, gamma=0.001, kernel=rbf ..................................\n",
      "[CV] .................. C=0.5, gamma=1.0, kernel=linear, total=  21.9s\n",
      "[CV] C=1.0, gamma=0.001, kernel=linear ...............................\n",
      "[CV] ..................... C=0.5, gamma=5.0, kernel=rbf, total=  20.2s\n",
      "[CV] C=1.0, gamma=0.001, kernel=linear ...............................\n",
      "[CV] .................. C=0.5, gamma=5.0, kernel=linear, total=  21.2s\n",
      "[CV] C=1.0, gamma=0.001, kernel=linear ...............................\n",
      "[CV] .................. C=0.5, gamma=5.0, kernel=linear, total=  22.7s\n",
      "[CV] C=1.0, gamma=0.005, kernel=rbf ..................................\n",
      "[CV] .................. C=0.5, gamma=5.0, kernel=linear, total=  22.5s\n",
      "[CV] C=1.0, gamma=0.005, kernel=rbf ..................................\n",
      "[CV] ................ C=1.0, gamma=0.001, kernel=linear, total=  17.1s\n",
      "[CV] C=1.0, gamma=0.005, kernel=rbf ..................................\n",
      "[CV] ................ C=1.0, gamma=0.001, kernel=linear, total=  17.4s\n",
      "[CV] C=1.0, gamma=0.005, kernel=linear ...............................\n",
      "[CV] ................ C=1.0, gamma=0.001, kernel=linear, total=  19.0s\n",
      "[CV] C=1.0, gamma=0.005, kernel=linear ...............................\n",
      "[CV] ................ C=1.0, gamma=0.005, kernel=linear, total=  15.3s\n",
      "[CV] C=1.0, gamma=0.005, kernel=linear ...............................\n",
      "[CV] ................ C=1.0, gamma=0.005, kernel=linear, total=  16.7s\n",
      "[CV] C=1.0, gamma=0.01, kernel=rbf ...................................\n",
      "[CV] ................... C=1.0, gamma=0.001, kernel=rbf, total=  41.7s\n",
      "[CV] C=1.0, gamma=0.01, kernel=rbf ...................................\n",
      "[CV] ................... C=1.0, gamma=0.001, kernel=rbf, total=  42.7s\n",
      "[CV] C=1.0, gamma=0.01, kernel=rbf ...................................\n",
      "[CV] ................... C=1.0, gamma=0.001, kernel=rbf, total=  41.5s\n",
      "[CV] C=1.0, gamma=0.01, kernel=linear ................................\n",
      "[CV] ................... C=1.0, gamma=0.005, kernel=rbf, total=  40.4s\n",
      "[CV] C=1.0, gamma=0.01, kernel=linear ................................\n",
      "[CV] ................ C=1.0, gamma=0.005, kernel=linear, total=  19.6s\n",
      "[CV] C=1.0, gamma=0.01, kernel=linear ................................\n",
      "[CV] ................... C=1.0, gamma=0.005, kernel=rbf, total=  41.3s\n",
      "[CV] C=1.0, gamma=0.05, kernel=rbf ...................................\n",
      "[CV] ................. C=1.0, gamma=0.01, kernel=linear, total=  18.7s\n",
      "[CV] C=1.0, gamma=0.05, kernel=rbf ...................................\n",
      "[CV] ................... C=1.0, gamma=0.005, kernel=rbf, total=  41.4s\n",
      "[CV] C=1.0, gamma=0.05, kernel=rbf ...................................\n",
      "[CV] ................. C=1.0, gamma=0.01, kernel=linear, total=  19.6s\n",
      "[CV] C=1.0, gamma=0.05, kernel=linear ................................\n",
      "[CV] ................. C=1.0, gamma=0.01, kernel=linear, total=  19.6s\n",
      "[CV] C=1.0, gamma=0.05, kernel=linear ................................\n",
      "[CV] .................... C=1.0, gamma=0.01, kernel=rbf, total=  43.2s\n",
      "[CV] C=1.0, gamma=0.05, kernel=linear ................................\n",
      "[CV] ................. C=1.0, gamma=0.05, kernel=linear, total=  15.5s\n",
      "[CV] C=1.0, gamma=0.1, kernel=rbf ....................................\n",
      "[CV] .................... C=1.0, gamma=0.01, kernel=rbf, total=  43.1s\n",
      "[CV] C=1.0, gamma=0.1, kernel=rbf ....................................\n",
      "[CV] .................... C=1.0, gamma=0.01, kernel=rbf, total=  43.1s\n",
      "[CV] C=1.0, gamma=0.1, kernel=rbf ....................................\n",
      "[CV] .................... C=1.0, gamma=0.05, kernel=rbf, total=  27.0s\n",
      "[CV] C=1.0, gamma=0.1, kernel=linear .................................\n",
      "[CV] .................... C=1.0, gamma=0.05, kernel=rbf, total=  25.6s\n",
      "[CV] C=1.0, gamma=0.1, kernel=linear .................................\n",
      "[CV] .................... C=1.0, gamma=0.05, kernel=rbf, total=  29.3s\n",
      "[CV] C=1.0, gamma=0.1, kernel=linear .................................\n",
      "[CV] ................. C=1.0, gamma=0.05, kernel=linear, total=  17.6s\n",
      "[CV] C=1.0, gamma=0.5, kernel=rbf ....................................\n",
      "[CV] ................. C=1.0, gamma=0.05, kernel=linear, total=  18.4s\n",
      "[CV] C=1.0, gamma=0.5, kernel=rbf ....................................\n",
      "[CV] .................. C=1.0, gamma=0.1, kernel=linear, total=  17.3s\n",
      "[CV] C=1.0, gamma=0.5, kernel=rbf ....................................\n",
      "[CV] .................. C=1.0, gamma=0.1, kernel=linear, total=  17.4s\n",
      "[CV] C=1.0, gamma=0.5, kernel=linear .................................\n",
      "[CV] ..................... C=1.0, gamma=0.1, kernel=rbf, total=  23.0s\n",
      "[CV] C=1.0, gamma=0.5, kernel=linear .................................\n",
      "[CV] .................. C=1.0, gamma=0.1, kernel=linear, total=  18.0s\n",
      "[CV] C=1.0, gamma=0.5, kernel=linear .................................\n",
      "[CV] ..................... C=1.0, gamma=0.1, kernel=rbf, total=  24.9s\n",
      "[CV] C=1.0, gamma=1.0, kernel=rbf ....................................\n",
      "[CV] ..................... C=1.0, gamma=0.5, kernel=rbf, total=  18.7s\n",
      "[CV] C=1.0, gamma=1.0, kernel=rbf ....................................\n",
      "[CV] ..................... C=1.0, gamma=0.1, kernel=rbf, total=  24.5s\n",
      "[CV] C=1.0, gamma=1.0, kernel=rbf ....................................\n",
      "[CV] ..................... C=1.0, gamma=0.5, kernel=rbf, total=  20.2s\n",
      "[CV] C=1.0, gamma=1.0, kernel=linear .................................\n",
      "[CV] .................. C=1.0, gamma=0.5, kernel=linear, total=  18.3s\n",
      "[CV] C=1.0, gamma=1.0, kernel=linear .................................\n",
      "[CV] ..................... C=1.0, gamma=0.5, kernel=rbf, total=  21.4s\n",
      "[CV] C=1.0, gamma=1.0, kernel=linear .................................\n",
      "[CV] .................. C=1.0, gamma=0.5, kernel=linear, total=  18.6s\n",
      "[CV] C=1.0, gamma=5.0, kernel=rbf ....................................\n",
      "[CV] ..................... C=1.0, gamma=1.0, kernel=rbf, total=  19.2s\n",
      "[CV] C=1.0, gamma=5.0, kernel=rbf ....................................\n",
      "[CV] ..................... C=1.0, gamma=1.0, kernel=rbf, total=  18.7s\n",
      "[CV] C=1.0, gamma=5.0, kernel=rbf ....................................\n",
      "[CV] .................. C=1.0, gamma=0.5, kernel=linear, total=  21.7s\n",
      "[CV] C=1.0, gamma=5.0, kernel=linear .................................\n",
      "[CV] ..................... C=1.0, gamma=1.0, kernel=rbf, total=  20.6s\n",
      "[CV] C=1.0, gamma=5.0, kernel=linear .................................\n",
      "[CV] .................. C=1.0, gamma=1.0, kernel=linear, total=  18.0s\n",
      "[CV] C=1.0, gamma=5.0, kernel=linear .................................\n",
      "[CV] .................. C=1.0, gamma=1.0, kernel=linear, total=  17.7s\n",
      "[CV] C=5.0, gamma=0.001, kernel=rbf ..................................\n",
      "[CV] ..................... C=1.0, gamma=5.0, kernel=rbf, total=  14.1s\n",
      "[CV] C=5.0, gamma=0.001, kernel=rbf ..................................\n",
      "[CV] ..................... C=1.0, gamma=5.0, kernel=rbf, total=  13.4s\n",
      "[CV] C=5.0, gamma=0.001, kernel=rbf ..................................\n",
      "[CV] .................. C=1.0, gamma=1.0, kernel=linear, total=  18.3s\n",
      "[CV] C=5.0, gamma=0.001, kernel=linear ...............................\n",
      "[CV] ..................... C=1.0, gamma=5.0, kernel=rbf, total=  17.3s\n",
      "[CV] C=5.0, gamma=0.001, kernel=linear ...............................\n",
      "[CV] .................. C=1.0, gamma=5.0, kernel=linear, total=  16.8s\n",
      "[CV] C=5.0, gamma=0.001, kernel=linear ...............................\n",
      "[CV] .................. C=1.0, gamma=5.0, kernel=linear, total=  17.5s\n",
      "[CV] C=5.0, gamma=0.005, kernel=rbf ..................................\n",
      "[CV] .................. C=1.0, gamma=5.0, kernel=linear, total=  18.9s\n",
      "[CV] C=5.0, gamma=0.005, kernel=rbf ..................................\n",
      "[CV] ................ C=5.0, gamma=0.001, kernel=linear, total=  13.6s\n",
      "[CV] C=5.0, gamma=0.005, kernel=rbf ..................................\n",
      "[CV] ................ C=5.0, gamma=0.001, kernel=linear, total=  14.7s\n",
      "[CV] C=5.0, gamma=0.005, kernel=linear ...............................\n"
     ]
    },
    {
     "name": "stderr",
     "output_type": "stream",
     "text": [
      "[Parallel(n_jobs=8)]: Done 146 tasks      | elapsed: 13.6min\n"
     ]
    },
    {
     "name": "stdout",
     "output_type": "stream",
     "text": [
      "[CV] ................ C=5.0, gamma=0.001, kernel=linear, total=  17.5s\n",
      "[CV] C=5.0, gamma=0.005, kernel=linear ...............................\n",
      "[CV] ................ C=5.0, gamma=0.005, kernel=linear, total=  16.3s\n",
      "[CV] C=5.0, gamma=0.005, kernel=linear ...............................\n",
      "[CV] ................ C=5.0, gamma=0.005, kernel=linear, total=  15.7s\n",
      "[CV] C=5.0, gamma=0.01, kernel=rbf ...................................\n",
      "[CV] ................... C=5.0, gamma=0.001, kernel=rbf, total=  41.2s\n",
      "[CV] C=5.0, gamma=0.01, kernel=rbf ...................................\n",
      "[CV] ................... C=5.0, gamma=0.001, kernel=rbf, total=  40.9s\n",
      "[CV] C=5.0, gamma=0.01, kernel=rbf ...................................\n",
      "[CV] ................... C=5.0, gamma=0.005, kernel=rbf, total=  34.3s\n",
      "[CV] C=5.0, gamma=0.01, kernel=linear ................................\n",
      "[CV] ................... C=5.0, gamma=0.001, kernel=rbf, total=  43.8s\n",
      "[CV] C=5.0, gamma=0.01, kernel=linear ................................\n",
      "[CV] ................... C=5.0, gamma=0.005, kernel=rbf, total=  35.4s\n",
      "[CV] C=5.0, gamma=0.01, kernel=linear ................................\n",
      "[CV] ................ C=5.0, gamma=0.005, kernel=linear, total=  18.1s\n",
      "[CV] C=5.0, gamma=0.05, kernel=rbf ...................................\n",
      "[CV] ................... C=5.0, gamma=0.005, kernel=rbf, total=  38.0s\n",
      "[CV] C=5.0, gamma=0.05, kernel=rbf ...................................\n",
      "[CV] ................. C=5.0, gamma=0.01, kernel=linear, total=  14.0s\n",
      "[CV] C=5.0, gamma=0.05, kernel=rbf ...................................\n",
      "[CV] ................. C=5.0, gamma=0.01, kernel=linear, total=  15.2s\n",
      "[CV] C=5.0, gamma=0.05, kernel=linear ................................\n",
      "[CV] .................... C=5.0, gamma=0.01, kernel=rbf, total=  28.7s\n",
      "[CV] C=5.0, gamma=0.05, kernel=linear ................................\n",
      "[CV] ................. C=5.0, gamma=0.01, kernel=linear, total=  15.9s\n",
      "[CV] C=5.0, gamma=0.05, kernel=linear ................................\n",
      "[CV] .................... C=5.0, gamma=0.01, kernel=rbf, total=  28.0s\n",
      "[CV] C=5.0, gamma=0.1, kernel=rbf ....................................\n",
      "[CV] .................... C=5.0, gamma=0.05, kernel=rbf, total=  19.9s\n",
      "[CV] C=5.0, gamma=0.1, kernel=rbf ....................................\n",
      "[CV] .................... C=5.0, gamma=0.05, kernel=rbf, total=  19.6s\n",
      "[CV] C=5.0, gamma=0.1, kernel=rbf ....................................\n",
      "[CV] .................... C=5.0, gamma=0.01, kernel=rbf, total=  28.8s\n",
      "[CV] C=5.0, gamma=0.1, kernel=linear .................................\n",
      "[CV] ................. C=5.0, gamma=0.05, kernel=linear, total=  14.0s\n",
      "[CV] C=5.0, gamma=0.1, kernel=linear .................................\n",
      "[CV] ................. C=5.0, gamma=0.05, kernel=linear, total=  14.0s\n",
      "[CV] C=5.0, gamma=0.1, kernel=linear .................................\n",
      "[CV] .................... C=5.0, gamma=0.05, kernel=rbf, total=  20.8s\n",
      "[CV] C=5.0, gamma=0.5, kernel=rbf ....................................\n",
      "[CV] ................. C=5.0, gamma=0.05, kernel=linear, total=  16.4s\n",
      "[CV] C=5.0, gamma=0.5, kernel=rbf ....................................\n",
      "[CV] .................. C=5.0, gamma=0.1, kernel=linear, total=  14.2s\n",
      "[CV] C=5.0, gamma=0.5, kernel=rbf ....................................\n",
      "[CV] ..................... C=5.0, gamma=0.1, kernel=rbf, total=  16.9s\n",
      "[CV] C=5.0, gamma=0.5, kernel=linear .................................\n",
      "[CV] .................. C=5.0, gamma=0.1, kernel=linear, total=  15.4s\n",
      "[CV] C=5.0, gamma=0.5, kernel=linear .................................\n",
      "[CV] ..................... C=5.0, gamma=0.1, kernel=rbf, total=  18.7s\n",
      "[CV] C=5.0, gamma=0.5, kernel=linear .................................\n",
      "[CV] ..................... C=5.0, gamma=0.1, kernel=rbf, total=  20.4s\n",
      "[CV] C=5.0, gamma=1.0, kernel=rbf ....................................\n",
      "[CV] ..................... C=5.0, gamma=0.5, kernel=rbf, total=  16.2s\n",
      "[CV] C=5.0, gamma=1.0, kernel=rbf ....................................\n",
      "[CV] .................. C=5.0, gamma=0.1, kernel=linear, total=  18.0s\n",
      "[CV] C=5.0, gamma=1.0, kernel=rbf ....................................\n",
      "[CV] ..................... C=5.0, gamma=0.5, kernel=rbf, total=  17.0s\n",
      "[CV] C=5.0, gamma=1.0, kernel=linear .................................\n",
      "[CV] .................. C=5.0, gamma=0.5, kernel=linear, total=  15.6s\n",
      "[CV] C=5.0, gamma=1.0, kernel=linear .................................\n",
      "[CV] ..................... C=5.0, gamma=0.5, kernel=rbf, total=  18.5s\n",
      "[CV] C=5.0, gamma=1.0, kernel=linear .................................\n",
      "[CV] .................. C=5.0, gamma=0.5, kernel=linear, total=  16.0s\n",
      "[CV] C=5.0, gamma=5.0, kernel=rbf ....................................\n",
      "[CV] ..................... C=5.0, gamma=1.0, kernel=rbf, total=  15.8s\n",
      "[CV] C=5.0, gamma=5.0, kernel=rbf ....................................\n",
      "[CV] .................. C=5.0, gamma=0.5, kernel=linear, total=  19.5s\n",
      "[CV] C=5.0, gamma=5.0, kernel=rbf ....................................\n",
      "[CV] ..................... C=5.0, gamma=1.0, kernel=rbf, total=  15.8s\n",
      "[CV] C=5.0, gamma=5.0, kernel=linear .................................\n",
      "[CV] .................. C=5.0, gamma=1.0, kernel=linear, total=  15.1s\n",
      "[CV] C=5.0, gamma=5.0, kernel=linear .................................\n",
      "[CV] ..................... C=5.0, gamma=1.0, kernel=rbf, total=  17.6s\n",
      "[CV] C=5.0, gamma=5.0, kernel=linear .................................\n",
      "[CV] .................. C=5.0, gamma=1.0, kernel=linear, total=  16.8s\n",
      "[CV] C=10.0, gamma=0.001, kernel=rbf .................................\n",
      "[CV] ..................... C=5.0, gamma=5.0, kernel=rbf, total=  13.2s\n",
      "[CV] C=10.0, gamma=0.001, kernel=rbf .................................\n",
      "[CV] ..................... C=5.0, gamma=5.0, kernel=rbf, total=  13.1s\n",
      "[CV] C=10.0, gamma=0.001, kernel=rbf .................................\n",
      "[CV] .................. C=5.0, gamma=1.0, kernel=linear, total=  18.3s\n",
      "[CV] C=10.0, gamma=0.001, kernel=linear ..............................\n",
      "[CV] ..................... C=5.0, gamma=5.0, kernel=rbf, total=  13.8s\n",
      "[CV] C=10.0, gamma=0.001, kernel=linear ..............................\n",
      "[CV] .................. C=5.0, gamma=5.0, kernel=linear, total=  14.2s\n",
      "[CV] C=10.0, gamma=0.001, kernel=linear ..............................\n",
      "[CV] .................. C=5.0, gamma=5.0, kernel=linear, total=  14.8s\n",
      "[CV] C=10.0, gamma=0.005, kernel=rbf .................................\n",
      "[CV] .................. C=5.0, gamma=5.0, kernel=linear, total=  16.6s\n",
      "[CV] C=10.0, gamma=0.005, kernel=rbf .................................\n",
      "[CV] ............... C=10.0, gamma=0.001, kernel=linear, total=  13.4s\n",
      "[CV] C=10.0, gamma=0.005, kernel=rbf .................................\n",
      "[CV] ............... C=10.0, gamma=0.001, kernel=linear, total=  12.8s\n",
      "[CV] C=10.0, gamma=0.005, kernel=linear ..............................\n",
      "[CV] ............... C=10.0, gamma=0.001, kernel=linear, total=  15.3s\n",
      "[CV] C=10.0, gamma=0.005, kernel=linear ..............................\n",
      "[CV] ............... C=10.0, gamma=0.005, kernel=linear, total=  13.6s\n",
      "[CV] C=10.0, gamma=0.005, kernel=linear ..............................\n",
      "[CV] ............... C=10.0, gamma=0.005, kernel=linear, total=  14.8s\n",
      "[CV] C=10.0, gamma=0.01, kernel=rbf ..................................\n",
      "[CV] .................. C=10.0, gamma=0.005, kernel=rbf, total=  28.2s\n",
      "[CV] C=10.0, gamma=0.01, kernel=rbf ..................................\n",
      "[CV] .................. C=10.0, gamma=0.001, kernel=rbf, total=  39.0s\n",
      "[CV] C=10.0, gamma=0.01, kernel=rbf ..................................\n",
      "[CV] .................. C=10.0, gamma=0.005, kernel=rbf, total=  30.2s\n",
      "[CV] C=10.0, gamma=0.01, kernel=linear ...............................\n",
      "[CV] .................. C=10.0, gamma=0.001, kernel=rbf, total=  40.5s\n",
      "[CV] C=10.0, gamma=0.01, kernel=linear ...............................\n",
      "[CV] .................. C=10.0, gamma=0.001, kernel=rbf, total=  41.2s\n",
      "[CV] C=10.0, gamma=0.01, kernel=linear ...............................\n",
      "[CV] ............... C=10.0, gamma=0.005, kernel=linear, total=  18.2s\n",
      "[CV] C=10.0, gamma=0.05, kernel=rbf ..................................\n",
      "[CV] .................. C=10.0, gamma=0.005, kernel=rbf, total=  32.3s\n",
      "[CV] C=10.0, gamma=0.05, kernel=rbf ..................................\n",
      "[CV] ................ C=10.0, gamma=0.01, kernel=linear, total=  14.6s\n",
      "[CV] C=10.0, gamma=0.05, kernel=rbf ..................................\n",
      "[CV] ................ C=10.0, gamma=0.01, kernel=linear, total=  14.6s\n",
      "[CV] C=10.0, gamma=0.05, kernel=linear ...............................\n",
      "[CV] ................... C=10.0, gamma=0.01, kernel=rbf, total=  24.9s\n",
      "[CV] C=10.0, gamma=0.05, kernel=linear ...............................\n",
      "[CV] ................ C=10.0, gamma=0.01, kernel=linear, total=  16.3s\n",
      "[CV] C=10.0, gamma=0.05, kernel=linear ...............................\n",
      "[CV] ................... C=10.0, gamma=0.01, kernel=rbf, total=  25.3s\n",
      "[CV] C=10.0, gamma=0.1, kernel=rbf ...................................\n",
      "[CV] ................... C=10.0, gamma=0.05, kernel=rbf, total=  17.4s\n",
      "[CV] C=10.0, gamma=0.1, kernel=rbf ...................................\n",
      "[CV] ................... C=10.0, gamma=0.01, kernel=rbf, total=  26.2s\n",
      "[CV] C=10.0, gamma=0.1, kernel=rbf ...................................\n",
      "[CV] ................... C=10.0, gamma=0.05, kernel=rbf, total=  18.7s\n",
      "[CV] C=10.0, gamma=0.1, kernel=linear ................................\n",
      "[CV] ................ C=10.0, gamma=0.05, kernel=linear, total=  13.2s\n",
      "[CV] C=10.0, gamma=0.1, kernel=linear ................................\n",
      "[CV] ................ C=10.0, gamma=0.05, kernel=linear, total=  13.5s\n",
      "[CV] C=10.0, gamma=0.1, kernel=linear ................................\n",
      "[CV] ................... C=10.0, gamma=0.05, kernel=rbf, total=  19.0s\n",
      "[CV] C=10.0, gamma=0.5, kernel=rbf ...................................\n",
      "[CV] ................ C=10.0, gamma=0.05, kernel=linear, total=  15.3s\n",
      "[CV] C=10.0, gamma=0.5, kernel=rbf ...................................\n",
      "[CV] .................... C=10.0, gamma=0.1, kernel=rbf, total=  16.6s\n",
      "[CV] C=10.0, gamma=0.5, kernel=rbf ...................................\n",
      "[CV] ................. C=10.0, gamma=0.1, kernel=linear, total=  13.2s\n",
      "[CV] C=10.0, gamma=0.5, kernel=linear ................................\n",
      "[CV] .................... C=10.0, gamma=0.1, kernel=rbf, total=  17.5s\n",
      "[CV] C=10.0, gamma=0.5, kernel=linear ................................\n",
      "[CV] ................. C=10.0, gamma=0.1, kernel=linear, total=  13.9s\n",
      "[CV] C=10.0, gamma=0.5, kernel=linear ................................\n",
      "[CV] .................... C=10.0, gamma=0.1, kernel=rbf, total=  18.2s\n",
      "[CV] C=10.0, gamma=1.0, kernel=rbf ...................................\n",
      "[CV] ................. C=10.0, gamma=0.1, kernel=linear, total=  14.4s\n",
      "[CV] C=10.0, gamma=1.0, kernel=rbf ...................................\n",
      "[CV] .................... C=10.0, gamma=0.5, kernel=rbf, total=  13.9s\n",
      "[CV] C=10.0, gamma=1.0, kernel=rbf ...................................\n",
      "[CV] .................... C=10.0, gamma=0.5, kernel=rbf, total=  14.8s\n",
      "[CV] C=10.0, gamma=1.0, kernel=linear ................................\n",
      "[CV] ................. C=10.0, gamma=0.5, kernel=linear, total=  13.9s\n",
      "[CV] C=10.0, gamma=1.0, kernel=linear ................................\n",
      "[CV] ................. C=10.0, gamma=0.5, kernel=linear, total=  15.1s\n",
      "[CV] C=10.0, gamma=1.0, kernel=linear ................................\n",
      "[CV] .................... C=10.0, gamma=0.5, kernel=rbf, total=  17.6s\n",
      "[CV] C=10.0, gamma=5.0, kernel=rbf ...................................\n",
      "[CV] .................... C=10.0, gamma=1.0, kernel=rbf, total=  14.2s\n",
      "[CV] C=10.0, gamma=5.0, kernel=rbf ...................................\n",
      "[CV] ................. C=10.0, gamma=0.5, kernel=linear, total=  16.8s\n",
      "[CV] C=10.0, gamma=5.0, kernel=rbf ...................................\n",
      "[CV] .................... C=10.0, gamma=1.0, kernel=rbf, total=  14.6s\n",
      "[CV] C=10.0, gamma=5.0, kernel=linear ................................\n",
      "[CV] .................... C=10.0, gamma=1.0, kernel=rbf, total=  17.1s\n",
      "[CV] C=10.0, gamma=5.0, kernel=linear ................................\n",
      "[CV] ................. C=10.0, gamma=1.0, kernel=linear, total=  14.3s\n",
      "[CV] C=10.0, gamma=5.0, kernel=linear ................................\n",
      "[CV] ................. C=10.0, gamma=1.0, kernel=linear, total=  14.7s\n",
      "[CV] C=50.0, gamma=0.001, kernel=rbf .................................\n",
      "[CV] .................... C=10.0, gamma=5.0, kernel=rbf, total=  12.3s\n",
      "[CV] C=50.0, gamma=0.001, kernel=rbf .................................\n",
      "[CV] .................... C=10.0, gamma=5.0, kernel=rbf, total=  13.7s\n",
      "[CV] C=50.0, gamma=0.001, kernel=rbf .................................\n",
      "[CV] ................. C=10.0, gamma=1.0, kernel=linear, total=  18.1s\n",
      "[CV] C=50.0, gamma=0.001, kernel=linear ..............................\n",
      "[CV] .................... C=10.0, gamma=5.0, kernel=rbf, total=  14.6s\n",
      "[CV] C=50.0, gamma=0.001, kernel=linear ..............................\n",
      "[CV] ................. C=10.0, gamma=5.0, kernel=linear, total=  14.2s\n",
      "[CV] C=50.0, gamma=0.001, kernel=linear ..............................\n",
      "[CV] ................. C=10.0, gamma=5.0, kernel=linear, total=  15.6s\n",
      "[CV] C=50.0, gamma=0.005, kernel=rbf .................................\n",
      "[CV] ................. C=10.0, gamma=5.0, kernel=linear, total=  16.0s\n",
      "[CV] C=50.0, gamma=0.005, kernel=rbf .................................\n",
      "[CV] ............... C=50.0, gamma=0.001, kernel=linear, total=  11.8s\n",
      "[CV] C=50.0, gamma=0.005, kernel=rbf .................................\n",
      "[CV] ............... C=50.0, gamma=0.001, kernel=linear, total=  11.6s\n",
      "[CV] C=50.0, gamma=0.005, kernel=linear ..............................\n",
      "[CV] ............... C=50.0, gamma=0.001, kernel=linear, total=  14.0s\n",
      "[CV] C=50.0, gamma=0.005, kernel=linear ..............................\n",
      "[CV] .................. C=50.0, gamma=0.001, kernel=rbf, total=  28.4s\n",
      "[CV] C=50.0, gamma=0.005, kernel=linear ..............................\n",
      "[CV] ............... C=50.0, gamma=0.005, kernel=linear, total=  11.2s\n",
      "[CV] C=50.0, gamma=0.01, kernel=rbf ..................................\n",
      "[CV] .................. C=50.0, gamma=0.001, kernel=rbf, total=  28.2s\n",
      "[CV] C=50.0, gamma=0.01, kernel=rbf ..................................\n",
      "[CV] .................. C=50.0, gamma=0.005, kernel=rbf, total=  18.9s\n",
      "[CV] C=50.0, gamma=0.01, kernel=rbf ..................................\n",
      "[CV] ............... C=50.0, gamma=0.005, kernel=linear, total=  11.4s\n",
      "[CV] C=50.0, gamma=0.01, kernel=linear ...............................\n",
      "[CV] .................. C=50.0, gamma=0.005, kernel=rbf, total=  19.6s\n",
      "[CV] C=50.0, gamma=0.01, kernel=linear ...............................\n",
      "[CV] .................. C=50.0, gamma=0.001, kernel=rbf, total=  29.0s\n",
      "[CV] C=50.0, gamma=0.01, kernel=linear ...............................\n",
      "[CV] .................. C=50.0, gamma=0.005, kernel=rbf, total=  19.8s\n",
      "[CV] C=50.0, gamma=0.05, kernel=rbf ..................................\n",
      "[CV] ............... C=50.0, gamma=0.005, kernel=linear, total=  14.6s\n",
      "[CV] C=50.0, gamma=0.05, kernel=rbf ..................................\n",
      "[CV] ................ C=50.0, gamma=0.01, kernel=linear, total=  13.4s\n",
      "[CV] C=50.0, gamma=0.05, kernel=rbf ..................................\n",
      "[CV] ................ C=50.0, gamma=0.01, kernel=linear, total=  12.6s\n",
      "[CV] C=50.0, gamma=0.05, kernel=linear ...............................\n",
      "[CV] ................... C=50.0, gamma=0.01, kernel=rbf, total=  19.4s\n",
      "[CV] C=50.0, gamma=0.05, kernel=linear ...............................\n",
      "[CV] ................ C=50.0, gamma=0.01, kernel=linear, total=  15.5s\n",
      "[CV] C=50.0, gamma=0.05, kernel=linear ...............................\n",
      "[CV] ................... C=50.0, gamma=0.01, kernel=rbf, total=  20.1s\n",
      "[CV] C=50.0, gamma=0.1, kernel=rbf ...................................\n",
      "[CV] ................... C=50.0, gamma=0.05, kernel=rbf, total=  18.4s\n",
      "[CV] C=50.0, gamma=0.1, kernel=rbf ...................................\n",
      "[CV] ................... C=50.0, gamma=0.01, kernel=rbf, total=  22.9s\n",
      "[CV] C=50.0, gamma=0.1, kernel=rbf ...................................\n",
      "[CV] ................ C=50.0, gamma=0.05, kernel=linear, total=  13.4s\n",
      "[CV] C=50.0, gamma=0.1, kernel=linear ................................\n",
      "[CV] ................... C=50.0, gamma=0.05, kernel=rbf, total=  17.4s\n",
      "[CV] C=50.0, gamma=0.1, kernel=linear ................................\n",
      "[CV] ................ C=50.0, gamma=0.05, kernel=linear, total=  13.2s\n",
      "[CV] C=50.0, gamma=0.1, kernel=linear ................................\n",
      "[CV] ................ C=50.0, gamma=0.05, kernel=linear, total=  15.4s\n",
      "[CV] C=50.0, gamma=0.5, kernel=rbf ...................................\n",
      "[CV] ................... C=50.0, gamma=0.05, kernel=rbf, total=  18.8s\n",
      "[CV] C=50.0, gamma=0.5, kernel=rbf ...................................\n",
      "[CV] .................... C=50.0, gamma=0.1, kernel=rbf, total=  16.1s\n",
      "[CV] C=50.0, gamma=0.5, kernel=rbf ...................................\n",
      "[CV] .................... C=50.0, gamma=0.1, kernel=rbf, total=  15.3s\n",
      "[CV] C=50.0, gamma=0.5, kernel=linear ................................\n",
      "[CV] ................. C=50.0, gamma=0.1, kernel=linear, total=  12.6s\n",
      "[CV] ................. C=50.0, gamma=0.1, kernel=linear, total=  13.8s\n",
      "[CV] C=50.0, gamma=0.5, kernel=linear ................................\n",
      "[CV] C=50.0, gamma=0.5, kernel=linear ................................\n",
      "[CV] .................... C=50.0, gamma=0.1, kernel=rbf, total=  18.9s\n",
      "[CV] C=50.0, gamma=1.0, kernel=rbf ...................................\n",
      "[CV] ................. C=50.0, gamma=0.1, kernel=linear, total=  14.7s\n",
      "[CV] C=50.0, gamma=1.0, kernel=rbf ...................................\n",
      "[CV] .................... C=50.0, gamma=0.5, kernel=rbf, total=  12.8s\n",
      "[CV] C=50.0, gamma=1.0, kernel=rbf ...................................\n",
      "[CV] .................... C=50.0, gamma=0.5, kernel=rbf, total=  12.0s\n",
      "[CV] C=50.0, gamma=1.0, kernel=linear ................................\n",
      "[CV] .................... C=50.0, gamma=0.5, kernel=rbf, total=  13.7s\n",
      "[CV] C=50.0, gamma=1.0, kernel=linear ................................\n",
      "[CV] ................. C=50.0, gamma=0.5, kernel=linear, total=  12.0s\n",
      "[CV] C=50.0, gamma=1.0, kernel=linear ................................\n",
      "[CV] ................. C=50.0, gamma=0.5, kernel=linear, total=  12.1s\n",
      "[CV] C=50.0, gamma=5.0, kernel=rbf ...................................\n",
      "[CV] .................... C=50.0, gamma=1.0, kernel=rbf, total=  11.5s\n",
      "[CV] C=50.0, gamma=5.0, kernel=rbf ...................................\n",
      "[CV] ................. C=50.0, gamma=0.5, kernel=linear, total=  13.8s\n",
      "[CV] C=50.0, gamma=5.0, kernel=rbf ...................................\n",
      "[CV] .................... C=50.0, gamma=1.0, kernel=rbf, total=  11.9s\n",
      "[CV] C=50.0, gamma=5.0, kernel=linear ................................\n",
      "[CV] ................. C=50.0, gamma=1.0, kernel=linear, total=  11.5s\n",
      "[CV] C=50.0, gamma=5.0, kernel=linear ................................\n",
      "[CV] .................... C=50.0, gamma=1.0, kernel=rbf, total=  13.1s\n",
      "[CV] C=50.0, gamma=5.0, kernel=linear ................................\n",
      "[CV] ................. C=50.0, gamma=1.0, kernel=linear, total=  11.6s\n",
      "[CV] .................... C=50.0, gamma=5.0, kernel=rbf, total=  10.4s\n",
      "[CV] .................... C=50.0, gamma=5.0, kernel=rbf, total=  10.8s\n",
      "[CV] ................. C=50.0, gamma=1.0, kernel=linear, total=  14.6s\n",
      "[CV] ................. C=50.0, gamma=5.0, kernel=linear, total=  10.9s\n",
      "[CV] .................... C=50.0, gamma=5.0, kernel=rbf, total=  12.3s\n",
      "[CV] ................. C=50.0, gamma=5.0, kernel=linear, total=   9.5s\n",
      "[CV] ................. C=50.0, gamma=5.0, kernel=linear, total=   9.8s\n"
     ]
    },
    {
     "name": "stderr",
     "output_type": "stream",
     "text": [
      "[Parallel(n_jobs=8)]: Done 288 out of 288 | elapsed: 22.1min finished\n"
     ]
    },
    {
     "name": "stdout",
     "output_type": "stream",
     "text": [
      "Elapsed time, param searching 0:22:10.577138\n",
      "scores are:  [[[0.75537769 0.8004002  0.75537769 0.8004002  0.75487744 0.8004002\n",
      "   0.75512756 0.8004002 ]\n",
      "  [0.75637819 0.8004002  0.7993997  0.8004002  0.80315158 0.8004002\n",
      "   0.79989995 0.8004002 ]\n",
      "  [0.75537769 0.80490245 0.75537769 0.80490245 0.75487744 0.80490245\n",
      "   0.79564782 0.80490245]\n",
      "  [0.8004002  0.80490245 0.80465233 0.80490245 0.80390195 0.80490245\n",
      "   0.82491246 0.80490245]\n",
      "  [0.75537769 0.80215108 0.75537769 0.80215108 0.75712856 0.80215108\n",
      "   0.8004002  0.80215108]\n",
      "  [0.80390195 0.80215108 0.8024012  0.80215108 0.80365183 0.80215108\n",
      "   0.83491746 0.80215108]]\n",
      "\n",
      " [[0.75537769 0.81490745 0.79564782 0.81490745 0.8004002  0.81490745\n",
      "   0.80515258 0.81490745]\n",
      "  [0.80190095 0.81490745 0.82041021 0.81490745 0.83091546 0.81490745\n",
      "   0.85642821 0.81490745]\n",
      "  [0.75787894 0.82841421 0.8004002  0.82841421 0.80415208 0.82841421\n",
      "   0.80165083 0.82841421]\n",
      "  [0.80015008 0.82841421 0.83291646 0.82841421 0.84017009 0.82841421\n",
      "   0.86543272 0.82841421]\n",
      "  [0.8004002  0.84242121 0.80515258 0.84242121 0.80215108 0.84242121\n",
      "   0.8154077  0.84242121]\n",
      "  [0.83041521 0.84242121 0.85067534 0.84242121 0.86043022 0.84242121\n",
      "   0.86268134 0.84242121]]]\n",
      "[[[0.75537769 0.8004002  0.75537769 0.8004002  0.75487744 0.8004002\n",
      "   0.75512756 0.8004002 ]\n",
      "  [0.75637819 0.8004002  0.7993997  0.8004002  0.80315158 0.8004002\n",
      "   0.79989995 0.8004002 ]\n",
      "  [0.75537769 0.80490245 0.75537769 0.80490245 0.75487744 0.80490245\n",
      "   0.79564782 0.80490245]\n",
      "  [0.8004002  0.80490245 0.80465233 0.80490245 0.80390195 0.80490245\n",
      "   0.82491246 0.80490245]\n",
      "  [0.75537769 0.80215108 0.75537769 0.80215108 0.75712856 0.80215108\n",
      "   0.8004002  0.80215108]\n",
      "  [0.80390195 0.80215108 0.8024012  0.80215108 0.80365183 0.80215108\n",
      "   0.83491746 0.80215108]]\n",
      "\n",
      " [[0.75537769 0.81490745 0.79564782 0.81490745 0.8004002  0.81490745\n",
      "   0.80515258 0.81490745]\n",
      "  [0.80190095 0.81490745 0.82041021 0.81490745 0.83091546 0.81490745\n",
      "   0.85642821 0.81490745]\n",
      "  [0.75787894 0.82841421 0.8004002  0.82841421 0.80415208 0.82841421\n",
      "   0.80165083 0.82841421]\n",
      "  [0.80015008 0.82841421 0.83291646 0.82841421 0.84017009 0.82841421\n",
      "   0.86543272 0.82841421]\n",
      "  [0.8004002  0.84242121 0.80515258 0.84242121 0.80215108 0.84242121\n",
      "   0.8154077  0.84242121]\n",
      "  [0.83041521 0.84242121 0.85067534 0.84242121 0.86043022 0.84242121\n",
      "   0.86268134 0.84242121]]]\n"
     ]
    }
   ],
   "source": [
    "hog_fau2_1_folder=DISFA_path+'/features/hog_FAU2_1_o_6_ppc_8_cpb_4/'\n",
    "\n",
    "classifier_fau2,params_fau2,scores_fau2=trainFinal(hog_fau2_1_folder,8,2000)"
   ]
  },
  {
   "cell_type": "raw",
   "metadata": {},
   "source": [
    "features_folder=dir_features_hog_2_fau4_1\n",
    "features_positives_test=bcolz.carray(rootdir=features_folder+'positives_test/',mode='r')\n",
    "print(\"features_positives_test loaded, shape is: \",features_positives_test.shape)\n",
    "features_negatives_test=bcolz.carray(rootdir=features_folder+'negatives_test/',mode='r')\n",
    "print(\"features_negatives_test loaded, shape is: \",features_negatives_test.shape)"
   ]
  },
  {
   "cell_type": "code",
   "execution_count": null,
   "metadata": {},
   "outputs": [],
   "source": []
  },
  {
   "cell_type": "code",
   "execution_count": 54,
   "metadata": {},
   "outputs": [
    {
     "name": "stdout",
     "output_type": "stream",
     "text": [
      "features_positives_test loaded, shape is:  (500, 1056)\n",
      "features_negatives_test loaded, shape is:  (498, 1056)\n"
     ]
    }
   ],
   "source": [
    "features_folder=hog_fau2_1_folder\n",
    "features_positives_test=bcolz.carray(rootdir=features_folder+'positives_test/',mode='r')\n",
    "print(\"features_positives_test loaded, shape is: \",features_positives_test.shape)\n",
    "features_negatives_test=bcolz.carray(rootdir=features_folder+'negatives_test/',mode='r')\n",
    "print(\"features_negatives_test loaded, shape is: \",features_negatives_test.shape)"
   ]
  },
  {
   "cell_type": "code",
   "execution_count": 55,
   "metadata": {},
   "outputs": [],
   "source": [
    "#testing\n",
    "\n",
    "print (classifier_fau2.predict(features_positives_test).sum(), \" out of \", len(features_positives_test),classifier_fau2.predict(features_positives_test).sum()/len(features_positives_test) )\n",
    "\n",
    "print (classifier_fau2.predict(features_negatives_test).sum(), \" positives out of \", len(features_negatives_test),(len(features_negatives_test)-classifier_fau2.predict(features_negatives_test).sum())/len(features_negatives_test))"
   ]
  },
  {
   "cell_type": "code",
   "execution_count": 53,
   "metadata": {},
   "outputs": [
    {
     "ename": "TypeError",
     "evalue": "predict() missing 1 required positional argument: 'X'",
     "output_type": "error",
     "traceback": [
      "\u001b[0;31m---------------------------------------------------------------------------\u001b[0m",
      "\u001b[0;31mTypeError\u001b[0m                                 Traceback (most recent call last)",
      "\u001b[0;32m<ipython-input-53-94ff481739b6>\u001b[0m in \u001b[0;36m<module>\u001b[0;34m()\u001b[0m\n\u001b[0;32m----> 1\u001b[0;31m \u001b[0mclassifier_fau2\u001b[0m\u001b[0;34m.\u001b[0m\u001b[0mpredict\u001b[0m\u001b[0;34m(\u001b[0m\u001b[0;34m)\u001b[0m\u001b[0;34m\u001b[0m\u001b[0m\n\u001b[0m",
      "\u001b[0;31mTypeError\u001b[0m: predict() missing 1 required positional argument: 'X'"
     ]
    }
   ],
   "source": [
    "classifier_fau2.predict()"
   ]
  },
  {
   "cell_type": "code",
   "execution_count": 50,
   "metadata": {},
   "outputs": [
    {
     "name": "stdout",
     "output_type": "stream",
     "text": [
      "features_positives loaded, shape is:  (1994, 1056)\n",
      "features_negatives loaded, shape is :  (0, 1056)\n",
      "training data shape is:  (0, 1056)\n",
      "labels shape is:  (0,)\n",
      "Start param searching at 2018-06-09 00:48:05.558790\n",
      "Fitting 3 folds for each of 96 candidates, totalling 288 fits\n"
     ]
    },
    {
     "ename": "ValueError",
     "evalue": "Found array with 0 sample(s) (shape=(0,)) while a minimum of 1 is required.",
     "output_type": "error",
     "traceback": [
      "\u001b[0;31m---------------------------------------------------------------------------\u001b[0m",
      "\u001b[0;31mValueError\u001b[0m                                Traceback (most recent call last)",
      "\u001b[0;32m<ipython-input-50-fb3c1233e2bb>\u001b[0m in \u001b[0;36m<module>\u001b[0;34m()\u001b[0m\n\u001b[1;32m      1\u001b[0m \u001b[0mhog_fau1_1_folder\u001b[0m\u001b[0;34m=\u001b[0m\u001b[0mDISFA_path\u001b[0m\u001b[0;34m+\u001b[0m\u001b[0;34m'/features/hog_FAU1_1_o_6_ppc_8_cpb_4/'\u001b[0m\u001b[0;34m\u001b[0m\u001b[0m\n\u001b[1;32m      2\u001b[0m \u001b[0;34m\u001b[0m\u001b[0m\n\u001b[0;32m----> 3\u001b[0;31m \u001b[0mclassifier_fau1\u001b[0m\u001b[0;34m,\u001b[0m\u001b[0mparams_fau1\u001b[0m\u001b[0;34m,\u001b[0m\u001b[0mscores_fau1\u001b[0m\u001b[0;34m=\u001b[0m\u001b[0mtrainFinal\u001b[0m\u001b[0;34m(\u001b[0m\u001b[0mhog_fau1_1_folder\u001b[0m\u001b[0;34m,\u001b[0m\u001b[0;36m8\u001b[0m\u001b[0;34m,\u001b[0m\u001b[0;36m2000\u001b[0m\u001b[0;34m)\u001b[0m\u001b[0;34m\u001b[0m\u001b[0m\n\u001b[0m",
      "\u001b[0;32m<ipython-input-47-3646144b7491>\u001b[0m in \u001b[0;36mtrainFinal\u001b[0;34m(features_folder, no_jobs, train_no)\u001b[0m\n\u001b[1;32m      1\u001b[0m \u001b[0;32mdef\u001b[0m \u001b[0mtrainFinal\u001b[0m\u001b[0;34m(\u001b[0m\u001b[0mfeatures_folder\u001b[0m\u001b[0;34m,\u001b[0m\u001b[0mno_jobs\u001b[0m\u001b[0;34m,\u001b[0m\u001b[0mtrain_no\u001b[0m\u001b[0;34m=\u001b[0m\u001b[0;36m2000\u001b[0m\u001b[0;34m)\u001b[0m\u001b[0;34m:\u001b[0m\u001b[0;34m\u001b[0m\u001b[0m\n\u001b[1;32m      2\u001b[0m     \u001b[0mX\u001b[0m\u001b[0;34m,\u001b[0m\u001b[0mY\u001b[0m\u001b[0;34m=\u001b[0m\u001b[0mloadTrainData\u001b[0m\u001b[0;34m(\u001b[0m\u001b[0mfeatures_folder\u001b[0m\u001b[0;34m,\u001b[0m\u001b[0mtrain_no\u001b[0m\u001b[0;34m,\u001b[0m\u001b[0;32mTrue\u001b[0m\u001b[0;34m)\u001b[0m\u001b[0;34m\u001b[0m\u001b[0m\n\u001b[0;32m----> 3\u001b[0;31m     \u001b[0mclassifier\u001b[0m\u001b[0;34m,\u001b[0m\u001b[0mparams\u001b[0m\u001b[0;34m,\u001b[0m\u001b[0mscores\u001b[0m\u001b[0;34m=\u001b[0m\u001b[0mtrainModel\u001b[0m\u001b[0;34m(\u001b[0m\u001b[0mX\u001b[0m\u001b[0;34m,\u001b[0m\u001b[0mY\u001b[0m\u001b[0;34m,\u001b[0m\u001b[0mno_jobs\u001b[0m\u001b[0;34m)\u001b[0m\u001b[0;34m\u001b[0m\u001b[0m\n\u001b[0m\u001b[1;32m      4\u001b[0m     \u001b[0mprint\u001b[0m\u001b[0;34m(\u001b[0m\u001b[0mscores\u001b[0m\u001b[0;34m)\u001b[0m\u001b[0;34m\u001b[0m\u001b[0m\n\u001b[1;32m      5\u001b[0m     \u001b[0;32mreturn\u001b[0m \u001b[0mclassifier\u001b[0m\u001b[0;34m,\u001b[0m \u001b[0mparams\u001b[0m\u001b[0;34m,\u001b[0m\u001b[0mscores\u001b[0m\u001b[0;34m\u001b[0m\u001b[0m\n",
      "\u001b[0;32m<ipython-input-46-148a9a0c6a8b>\u001b[0m in \u001b[0;36mtrainModel\u001b[0;34m(X_train, y_train, no_jobs)\u001b[0m\n\u001b[1;32m     11\u001b[0m     \u001b[0mstart_time\u001b[0m\u001b[0;34m=\u001b[0m\u001b[0mdt\u001b[0m\u001b[0;34m.\u001b[0m\u001b[0mdatetime\u001b[0m\u001b[0;34m.\u001b[0m\u001b[0mnow\u001b[0m\u001b[0;34m(\u001b[0m\u001b[0;34m)\u001b[0m\u001b[0;34m\u001b[0m\u001b[0m\n\u001b[1;32m     12\u001b[0m     \u001b[0mprint\u001b[0m\u001b[0;34m(\u001b[0m\u001b[0;34m'Start param searching at {}'\u001b[0m\u001b[0;34m.\u001b[0m\u001b[0mformat\u001b[0m\u001b[0;34m(\u001b[0m\u001b[0mstr\u001b[0m\u001b[0;34m(\u001b[0m\u001b[0mstart_time\u001b[0m\u001b[0;34m)\u001b[0m\u001b[0;34m)\u001b[0m\u001b[0;34m)\u001b[0m\u001b[0;34m\u001b[0m\u001b[0m\n\u001b[0;32m---> 13\u001b[0;31m     \u001b[0mgrid_clsf\u001b[0m\u001b[0;34m.\u001b[0m\u001b[0mfit\u001b[0m\u001b[0;34m(\u001b[0m\u001b[0mX_train\u001b[0m\u001b[0;34m,\u001b[0m\u001b[0my_train\u001b[0m\u001b[0;34m)\u001b[0m\u001b[0;34m\u001b[0m\u001b[0m\n\u001b[0m\u001b[1;32m     14\u001b[0m     \u001b[0melapsed_time\u001b[0m\u001b[0;34m=\u001b[0m\u001b[0mdt\u001b[0m\u001b[0;34m.\u001b[0m\u001b[0mdatetime\u001b[0m\u001b[0;34m.\u001b[0m\u001b[0mnow\u001b[0m\u001b[0;34m(\u001b[0m\u001b[0;34m)\u001b[0m\u001b[0;34m-\u001b[0m\u001b[0mstart_time\u001b[0m\u001b[0;34m\u001b[0m\u001b[0m\n\u001b[1;32m     15\u001b[0m     \u001b[0mprint\u001b[0m\u001b[0;34m(\u001b[0m\u001b[0;34m'Elapsed time, param searching {}'\u001b[0m\u001b[0;34m.\u001b[0m\u001b[0mformat\u001b[0m\u001b[0;34m(\u001b[0m\u001b[0mstr\u001b[0m\u001b[0;34m(\u001b[0m\u001b[0melapsed_time\u001b[0m\u001b[0;34m)\u001b[0m\u001b[0;34m)\u001b[0m\u001b[0;34m)\u001b[0m\u001b[0;34m\u001b[0m\u001b[0m\n",
      "\u001b[0;32m~/anaconda3/envs/faus_dl/lib/python3.6/site-packages/sklearn/model_selection/_search.py\u001b[0m in \u001b[0;36mfit\u001b[0;34m(self, X, y, groups, **fit_params)\u001b[0m\n\u001b[1;32m    637\u001b[0m                                   error_score=self.error_score)\n\u001b[1;32m    638\u001b[0m           for parameters, (train, test) in product(candidate_params,\n\u001b[0;32m--> 639\u001b[0;31m                                                    cv.split(X, y, groups)))\n\u001b[0m\u001b[1;32m    640\u001b[0m \u001b[0;34m\u001b[0m\u001b[0m\n\u001b[1;32m    641\u001b[0m         \u001b[0;31m# if one choose to see train score, \"out\" will contain train score info\u001b[0m\u001b[0;34m\u001b[0m\u001b[0;34m\u001b[0m\u001b[0m\n",
      "\u001b[0;32m~/anaconda3/envs/faus_dl/lib/python3.6/site-packages/sklearn/model_selection/_split.py\u001b[0m in \u001b[0;36msplit\u001b[0;34m(self, X, y, groups)\u001b[0m\n\u001b[1;32m    670\u001b[0m         \u001b[0mto\u001b[0m \u001b[0man\u001b[0m \u001b[0minteger\u001b[0m\u001b[0;34m.\u001b[0m\u001b[0;34m\u001b[0m\u001b[0m\n\u001b[1;32m    671\u001b[0m         \"\"\"\n\u001b[0;32m--> 672\u001b[0;31m         \u001b[0my\u001b[0m \u001b[0;34m=\u001b[0m \u001b[0mcheck_array\u001b[0m\u001b[0;34m(\u001b[0m\u001b[0my\u001b[0m\u001b[0;34m,\u001b[0m \u001b[0mensure_2d\u001b[0m\u001b[0;34m=\u001b[0m\u001b[0;32mFalse\u001b[0m\u001b[0;34m,\u001b[0m \u001b[0mdtype\u001b[0m\u001b[0;34m=\u001b[0m\u001b[0;32mNone\u001b[0m\u001b[0;34m)\u001b[0m\u001b[0;34m\u001b[0m\u001b[0m\n\u001b[0m\u001b[1;32m    673\u001b[0m         \u001b[0;32mreturn\u001b[0m \u001b[0msuper\u001b[0m\u001b[0;34m(\u001b[0m\u001b[0mStratifiedKFold\u001b[0m\u001b[0;34m,\u001b[0m \u001b[0mself\u001b[0m\u001b[0;34m)\u001b[0m\u001b[0;34m.\u001b[0m\u001b[0msplit\u001b[0m\u001b[0;34m(\u001b[0m\u001b[0mX\u001b[0m\u001b[0;34m,\u001b[0m \u001b[0my\u001b[0m\u001b[0;34m,\u001b[0m \u001b[0mgroups\u001b[0m\u001b[0;34m)\u001b[0m\u001b[0;34m\u001b[0m\u001b[0m\n\u001b[1;32m    674\u001b[0m \u001b[0;34m\u001b[0m\u001b[0m\n",
      "\u001b[0;32m~/anaconda3/envs/faus_dl/lib/python3.6/site-packages/sklearn/utils/validation.py\u001b[0m in \u001b[0;36mcheck_array\u001b[0;34m(array, accept_sparse, dtype, order, copy, force_all_finite, ensure_2d, allow_nd, ensure_min_samples, ensure_min_features, warn_on_dtype, estimator)\u001b[0m\n\u001b[1;32m    460\u001b[0m                              \u001b[0;34m\" minimum of %d is required%s.\"\u001b[0m\u001b[0;34m\u001b[0m\u001b[0m\n\u001b[1;32m    461\u001b[0m                              % (n_samples, shape_repr, ensure_min_samples,\n\u001b[0;32m--> 462\u001b[0;31m                                 context))\n\u001b[0m\u001b[1;32m    463\u001b[0m \u001b[0;34m\u001b[0m\u001b[0m\n\u001b[1;32m    464\u001b[0m     \u001b[0;32mif\u001b[0m \u001b[0mensure_min_features\u001b[0m \u001b[0;34m>\u001b[0m \u001b[0;36m0\u001b[0m \u001b[0;32mand\u001b[0m \u001b[0marray\u001b[0m\u001b[0;34m.\u001b[0m\u001b[0mndim\u001b[0m \u001b[0;34m==\u001b[0m \u001b[0;36m2\u001b[0m\u001b[0;34m:\u001b[0m\u001b[0;34m\u001b[0m\u001b[0m\n",
      "\u001b[0;31mValueError\u001b[0m: Found array with 0 sample(s) (shape=(0,)) while a minimum of 1 is required."
     ]
    }
   ],
   "source": [
    "hog_fau1_1_folder=DISFA_path+'/features/hog_FAU1_1_o_6_ppc_8_cpb_4/'\n",
    "\n",
    "classifier_fau1,params_fau1,scores_fau1=trainFinal(hog_fau1_1_folder,8,2000)"
   ]
  },
  {
   "cell_type": "code",
   "execution_count": null,
   "metadata": {},
   "outputs": [],
   "source": []
  }
 ],
 "metadata": {
  "kernelspec": {
   "display_name": "Python 3",
   "language": "python",
   "name": "python3"
  },
  "language_info": {
   "codemirror_mode": {
    "name": "ipython",
    "version": 3
   },
   "file_extension": ".py",
   "mimetype": "text/x-python",
   "name": "python",
   "nbconvert_exporter": "python",
   "pygments_lexer": "ipython3",
   "version": "3.6.5"
  }
 },
 "nbformat": 4,
 "nbformat_minor": 2
}

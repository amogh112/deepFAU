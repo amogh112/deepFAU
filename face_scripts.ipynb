{
 "cells": [
  {
   "cell_type": "markdown",
   "metadata": {},
   "source": [
    "# DISFA"
   ]
  },
  {
   "cell_type": "markdown",
   "metadata": {},
   "source": [
    "## Importing libraries and setting folders"
   ]
  },
  {
   "cell_type": "markdown",
   "metadata": {},
   "source": [
    "Libraries"
   ]
  },
  {
   "cell_type": "code",
   "execution_count": 1,
   "metadata": {},
   "outputs": [],
   "source": [
    "import os, sys, random, glob, argparse, math, gc"
   ]
  },
  {
   "cell_type": "code",
   "execution_count": 2,
   "metadata": {},
   "outputs": [],
   "source": [
    "import cv2\n",
    "import dlib\n",
    "import imutils\n",
    "from imutils import face_utils\n",
    "import matplotlib\n",
    "import matplotlib.pyplot as plt\n",
    "from skimage.feature import hog\n",
    "from skimage import data, exposure"
   ]
  },
  {
   "cell_type": "code",
   "execution_count": 79,
   "metadata": {},
   "outputs": [],
   "source": [
    "import sklearn\n",
    "from sklearn import svm, metrics"
   ]
  },
  {
   "cell_type": "code",
   "execution_count": 3,
   "metadata": {},
   "outputs": [],
   "source": [
    "import numpy as np\n",
    "import pandas as pd\n",
    "from bcolz import carray"
   ]
  },
  {
   "cell_type": "code",
   "execution_count": 81,
   "metadata": {},
   "outputs": [],
   "source": [
    "from tqdm import tqdm\n",
    "from time import sleep\n",
    "import datetime as dt"
   ]
  },
  {
   "cell_type": "markdown",
   "metadata": {},
   "source": [
    "Folders"
   ]
  },
  {
   "cell_type": "code",
   "execution_count": 9,
   "metadata": {},
   "outputs": [],
   "source": [
    "folder_DISFA_data = \"/media/amogh/Stuff/CMU/datasets/DISFA_data/\"\n",
    "folder_DISFA_FAU = \"/media/amogh/Stuff/CMU/datasets/DISFA_data/ActionUnit_Labels/\"\n",
    "folder_DISFA_FAU_summary = \"DISFA_FAUs/\""
   ]
  },
  {
   "cell_type": "markdown",
   "metadata": {},
   "source": [
    "## Helper functions"
   ]
  },
  {
   "cell_type": "markdown",
   "metadata": {},
   "source": [
    "### Getting a dictionary with positives and negatives for each subject and frame"
   ]
  },
  {
   "cell_type": "markdown",
   "metadata": {
    "heading_collapsed": true
   },
   "source": [
    "##### This function gives a dictionary in which all positives and negatives are there"
   ]
  },
  {
   "cell_type": "code",
   "execution_count": 7,
   "metadata": {
    "hidden": true
   },
   "outputs": [],
   "source": [
    "# returns a dictionary in the form: {'SN001':{'positives': [1,2,3],'negatives':[4,5,6,7] }}\n",
    "# ie corresponding to each subject a dictionary which contains list frame nos which are positives and \n",
    "def getDISFAFramesDictionary(folder_DISFA_FAU_summary, fau_no, fau_thresh):\n",
    "    df_fau = pd.read_csv(folder_DISFA_FAU_summary + \"{}/\".format(fau_thresh) + \"FAU{}.csv\".format(fau_no))\n",
    "    df_positives = df_fau.filter(regex=\"^((?!neg).)*$\",axis=1)\n",
    "    df_negatives = df_fau.filter(like=\"neg\",axis=1) \n",
    "    list_subjects = df_positives.columns.values\n",
    "    fau_dict = {}\n",
    "    for subj in list_subjects:\n",
    "        fau_dict[subj] = {'positives':[], 'negatives':[]}\n",
    "        fau_dict[subj]['positives'] = [f for f in df_positives[subj].values if not math.isnan(f)]\n",
    "        fau_dict[subj]['negatives'] = [f for f in df_negatives[\"{}_neg\".format(subj)].values if not math.isnan(f)]\n",
    "    return fau_dict"
   ]
  },
  {
   "cell_type": "markdown",
   "metadata": {
    "heading_collapsed": true
   },
   "source": [
    "##### To have number of positives and negatives equal in number, let's have a dictionary in which the positives and the negatives corresponding to each category are different."
   ]
  },
  {
   "cell_type": "code",
   "execution_count": 8,
   "metadata": {
    "hidden": true
   },
   "outputs": [],
   "source": [
    "def equaliseDictionary(fau_dict):\n",
    "    for subj in fau_dict.keys():\n",
    "        number_positives = len(fau_dict[subj]['positives'])\n",
    "        fau_dict[subj]['negatives'] = random.sample(fau_dict[subj]['negatives'], number_positives)\n",
    "    return fau_dict"
   ]
  },
  {
   "cell_type": "markdown",
   "metadata": {},
   "source": [
    "### Get test and train folds of the data"
   ]
  },
  {
   "cell_type": "code",
   "execution_count": 9,
   "metadata": {},
   "outputs": [],
   "source": [
    "# returns a dictionary with keys as fold_0,fold_1,...,test\n",
    "# make sure number of folds exactly divide the train subjects\n",
    "def getTrainTestFolds (fau_dict, no_folds, no_test_subjects):\n",
    "    list_subjects = fau_dict.keys()\n",
    "    no_train_subjects = len(list_subjects) - no_test_subjects\n",
    "    random.shuffle(list_subjects)\n",
    "    test_subjects = list_subjects[-no_test_subjects:]\n",
    "    train_subjects = list_subjects[:-no_test_subjects]\n",
    "    dict_folds = {'test':{}}\n",
    "    # putting train and test subjects in new dictionary\n",
    "    for subj in test_subjects:\n",
    "        dict_folds['test'][subj] = fau_dict[subj]\n",
    "    fold_size = no_train_subjects / no_folds\n",
    "#     fold_size_remainder = no_train_subjects % no_folds\n",
    "    for fold_no in range(no_folds):\n",
    "        fold_subjects = train_subjects[fold_no*fold_size : fold_no*fold_size+fold_size]\n",
    "        dict_folds ['fold_{}'.format(fold_no)]={}\n",
    "        for sub in fold_subjects:\n",
    "            dict_folds ['fold_{}'.format(fold_no)] [sub] = fau_dict [sub]\n",
    "    return dict_folds"
   ]
  },
  {
   "cell_type": "markdown",
   "metadata": {},
   "source": [
    "### Crop and save images and features"
   ]
  },
  {
   "cell_type": "markdown",
   "metadata": {
    "heading_collapsed": true
   },
   "source": [
    "##### Function for cropping given an image path "
   ]
  },
  {
   "cell_type": "code",
   "execution_count": 10,
   "metadata": {
    "hidden": true
   },
   "outputs": [],
   "source": [
    "def similarityTransform(inPoints, outPoints) :\n",
    "    s60 = math.sin(60*math.pi/180);\n",
    "    c60 = math.cos(60*math.pi/180);  \n",
    "  \n",
    "    inPts = np.copy(inPoints).tolist();\n",
    "    outPts = np.copy(outPoints).tolist();\n",
    "    \n",
    "    xin = c60*(inPts[0][0] - inPts[1][0]) - s60*(inPts[0][1] - inPts[1][1]) + inPts[1][0];\n",
    "    yin = s60*(inPts[0][0] - inPts[1][0]) + c60*(inPts[0][1] - inPts[1][1]) + inPts[1][1];\n",
    "    \n",
    "    inPts.append([np.int(xin), np.int(yin)]);\n",
    "    \n",
    "    xout = c60*(outPts[0][0] - outPts[1][0]) - s60*(outPts[0][1] - outPts[1][1]) + outPts[1][0];\n",
    "    yout = s60*(outPts[0][0] - outPts[1][0]) + c60*(outPts[0][1] - outPts[1][1]) + outPts[1][1];\n",
    "    \n",
    "    outPts.append([np.int(xout), np.int(yout)]);\n",
    "    \n",
    "    tform = cv2.estimateRigidTransform(np.array([inPts]), np.array([outPts]), False);\n",
    "    \n",
    "    return tform;"
   ]
  },
  {
   "cell_type": "code",
   "execution_count": 11,
   "metadata": {
    "hidden": true
   },
   "outputs": [],
   "source": [
    "detector = dlib.get_frontal_face_detector()\n",
    "predictor = dlib.shape_predictor(\"shape_predictor_68_face_landmarks.dat\")"
   ]
  },
  {
   "cell_type": "code",
   "execution_count": 12,
   "metadata": {
    "hidden": true
   },
   "outputs": [],
   "source": [
    "#new function, doesnt write landmarks every single time\n",
    "def detectAndaligncrop(impath, detector, predictor):\n",
    "    image=cv2.imread(impath)\n",
    "    image_float=np.float32(image)/255.0\n",
    "    gray = cv2.cvtColor(image, cv2.COLOR_BGR2GRAY)\n",
    "    rects = detector(gray, 1)\n",
    "    #initialising images and allPoints arrays\n",
    "    allPoints=[]\n",
    "    for (i, rect) in enumerate(rects):\n",
    "        shape = predictor(gray, rect)\n",
    "        shape = face_utils.shape_to_np(shape)\n",
    "        points=[]\n",
    "        for (x,y) in shape:\n",
    "            points.append((x,y))\n",
    "        allPoints.append(points)\n",
    "    images=[image_float]\n",
    "    #computation\n",
    "    w=112\n",
    "    h=112\n",
    "    eyecornerDst = [ (np.int(0.3 * w ), np.int(h / 3)), (np.int(0.7 * w ), np.int(h / 3)) ];\n",
    "    imagesNorm = [];\n",
    "    pointsNorm = [];\n",
    "    #     print allPoints[0]\n",
    "    # Add boundary points for delaunay triangulation\n",
    "    boundaryPts = np.array([(0,0), (w/2,0), (w-1,0), (w-1,h/2), ( w-1, h-1 ), ( w/2, h-1 ), (0, h-1), (0,h/2) ]);\n",
    "    n = len(allPoints[0]);\n",
    "    numImages = len(images)\n",
    "    for i in xrange(0, numImages):\n",
    "        points1 = allPoints[i];\n",
    "        # Corners of the eye in input image\n",
    "        eyecornerSrc  = [ allPoints[i][36], allPoints[i][45] ] ;\n",
    "        # Compute similarity transform\n",
    "        tform = similarityTransform(eyecornerSrc, eyecornerDst);\n",
    "        # Apply similarity transformation\n",
    "        img = cv2.warpAffine(images[i], tform, (w,h));\n",
    "    #         print(\"debug im type shape max mean min \", img.dtype,img.shape,np.max(img),np.mean(img),np.min(img))\n",
    "    #         plt.imshow(img)\n",
    "        # Apply similarity transform on points\n",
    "        points2 = np.reshape(np.array(points1), (68,1,2));        \n",
    "        points = cv2.transform(points2, tform);\n",
    "        points = np.float32(np.reshape(points, (68, 2)));\n",
    "        pointsNorm.append(points);\n",
    "        imagesNorm.append(img);\n",
    "    #     print (pointsNorm[0])\n",
    "    #     plt.imshow(imagesNorm[0]) \n",
    "    # Output image\n",
    "    output=imagesNorm[0]\n",
    "    rgb_image=cv2.cvtColor(output,cv2.COLOR_BGR2RGB)\n",
    "    return rgb_image, pointsNorm[0]"
   ]
  },
  {
   "cell_type": "markdown",
   "metadata": {
    "heading_collapsed": true
   },
   "source": [
    "##### Functions for getting features"
   ]
  },
  {
   "cell_type": "markdown",
   "metadata": {
    "hidden": true
   },
   "source": [
    "Getting HOG, given an image path or an image, return features"
   ]
  },
  {
   "cell_type": "code",
   "execution_count": 13,
   "metadata": {
    "hidden": true
   },
   "outputs": [],
   "source": [
    "#takes in rgb images and returns the required HOG descriptor array. \n",
    "def getHOGFeatures (orientations, pixels_per_cell, cells_per_block, image):\n",
    "    if isinstance(image, basestring):\n",
    "        im = cv2.cvtColor(cv2.imread(image),cv2.COLOR_BGR2RGB)\n",
    "    else:\n",
    "        im = image\n",
    "    gray_im = cv2.cvtColor(im, cv2.COLOR_RGB2GRAY) \n",
    "    fd, hog_image = hog(gray_im, orientations=orientations, pixels_per_cell=pixels_per_cell, cells_per_block=cells_per_block, visualise=True)\n",
    "#     hog_image_rescaled = exposure.rescale_intensity(hog_image, in_range=(0, 0.02))\n",
    "#     plt.imshow (hog_image_rescaled, cmap = plt.cm.gray)\n",
    "#     print(\"HOG vector dimension: \", fd.shape)\n",
    "    return fd"
   ]
  },
  {
   "cell_type": "raw",
   "metadata": {
    "hidden": true
   },
   "source": [
    "imageTouse=\"files_may20/1.jpeg\"\n",
    "sample_alignedAndCropped,landmarkPoints=detectAndaligncrop(imageTouse, detector, predictor)\n",
    "plt.imshow(sample_alignedAndCropped)"
   ]
  },
  {
   "cell_type": "raw",
   "metadata": {
    "hidden": true
   },
   "source": [
    "a = getHOGFeatures(6, (8,8), (4,4), sample_alignedAndCropped)"
   ]
  },
  {
   "cell_type": "raw",
   "metadata": {
    "hidden": true
   },
   "source": [
    "carray_fd = carray(a, rootdir='/home/amogh/m', mode = 'w')\n",
    "carray_fd.flush()"
   ]
  },
  {
   "cell_type": "markdown",
   "metadata": {
    "hidden": true
   },
   "source": [
    "Other ways to get features"
   ]
  },
  {
   "cell_type": "markdown",
   "metadata": {
    "heading_collapsed": true
   },
   "source": [
    "##### Preprocessing functions and function_dictionary"
   ]
  },
  {
   "cell_type": "code",
   "execution_count": 14,
   "metadata": {
    "hidden": true
   },
   "outputs": [],
   "source": [
    "def FAU4_1(image,landmarks):\n",
    "    cropped_im=image[:38]\n",
    "    return cropped_im\n",
    "\n",
    "def FAU1_1(image,landmarks):\n",
    "    cropped_im=image[:38]\n",
    "    return cropped_im\n",
    "\n",
    "def FAU2_1(image,landmarks):\n",
    "    cropped_im=image[:38]\n",
    "    return cropped_im\n",
    "\n",
    "def FAU5_1(image,landmarkPoints): #includes border\n",
    "    rect_top=int(landmarkPoints[17][1])\n",
    "    rect_bottom=int(landmarkPoints[29][1])\n",
    "    rect_left=int(landmarkPoints[3][0])\n",
    "    rect_right=int(landmarkPoints[12][0])\n",
    "    cropped_im=image[rect_top:rect_bottom,rect_left:rect_right]\n",
    "    border_top, border_bottom, border_left, border_right = [0,32-height,0,64-width]\n",
    "    img_with_border = cv2.copyMakeBorder(cropped_im, border_top, border_bottom, border_left, border_right, cv2.BORDER_CONSTANT, value=[0,0,0])\n",
    "    return img_with_border\n",
    "\n",
    "def FAU12right_1(image,landmarkPoints):\n",
    "    rect_top = int(landmarkPoints[34][1])\n",
    "    rect_bottom = int(landmarkPoints[11][1])\n",
    "    rect_left = int(landmarkPoints[34][0])\n",
    "    rect_right = int(landmarkPoints[11][0])\n",
    "    cropped_im = image[rect_top:rect_bottom,rect_left:rect_right]\n",
    "    border_top, border_bottom, border_left, border_right = [0,32-height,0,32-width]\n",
    "    img_with_border = cv2.copyMakeBorder(cropped_im, border_top, border_bottom, border_left, border_right, cv2.BORDER_CONSTANT, value=[0,0,0])\n",
    "    return img_with_border\n",
    "\n",
    "def FAU12left_1(image,landmarkPoints):\n",
    "    rect_top = int(landmarkPoints[32][1])\n",
    "    rect_bottom = int(landmarkPoints[5][1])\n",
    "    rect_left = int(landmarkPoints[5][0])\n",
    "    rect_right = int(landmarkPoints[32][0])\n",
    "    cropped_im = image[rect_top:rect_bottom,rect_left:rect_right]\n",
    "    border_top, border_bottom, border_left, border_right = [0,32-height,0,32-width]\n",
    "    img_with_border = cv2.copyMakeBorder(cropped_im, border_top, border_bottom, border_left, border_right, cv2.BORDER_CONSTANT, value=[0,0,0])\n",
    "    return img_with_border\n",
    "\n",
    "function_dict={'FAU1_1':FAU1_1,'FAU2_1':FAU2_1,'FAU4_1':FAU4_1,'FAU5_1':FAU5_1, 'FAU12right_1':FAU12right_1, 'FAU12left_1':FAU12left_1}"
   ]
  },
  {
   "cell_type": "markdown",
   "metadata": {
    "heading_collapsed": true
   },
   "source": [
    "##### Crop and save function"
   ]
  },
  {
   "cell_type": "markdown",
   "metadata": {
    "hidden": true
   },
   "source": [
    "Made by keeping in mind that these are the parameters that we need to pass: o, ppc cpb, fau_no, thresh, function used for cropping, folders"
   ]
  },
  {
   "cell_type": "code",
   "execution_count": 15,
   "metadata": {
    "hidden": true
   },
   "outputs": [],
   "source": [
    "#saves images and HOG features\n",
    "def cropAndSaveImageHOG (o ,ppc ,cpb ,fau_no , thresh, dict_folds, folder_DISFA_data, cropping_function_name, function_dict, featuresFunction, boolSave=True):\n",
    "    folder_cropped_images = folder_DISFA_data + \"/features/cropped_images/\"\n",
    "    folder_dest = folder_cropped_images +  \"/{}/{}/\".format(thresh,cropping_function_name)\n",
    "    folder_features_dest = folder_DISFA_data + \"/features/hog/{}/{}/\".format(thresh,cropping_function_name)\n",
    "    print(\"images go to: \",folder_dest, \"\\n\", \"features go to:\", folder_features_dest)\n",
    "    # initialize dlib's face detector (HOG-based) and then create\n",
    "    # the facial landmark predictor\n",
    "    detector = dlib.get_frontal_face_detector()\n",
    "    predictor = dlib.shape_predictor(\"shape_predictor_68_face_landmarks.dat\")\n",
    "    if not os.path.exists(folder_dest):\n",
    "        os.makedirs(folder_dest)\n",
    "    if not os.path.exists(folder_features_dest):\n",
    "        os.makedirs(folder_features_dest)\n",
    "    for fold in dict_folds.keys():\n",
    "        print (\"inside:\", fold)\n",
    "        for subj in dict_folds[fold]:\n",
    "            for category in dict_folds[fold][subj]:\n",
    "#                 print (\"inside: \",fold,subj,category)\n",
    "                folder_dest_image = folder_dest + \"{}/{}/{}/\".format(fold,subj,category)\n",
    "                folder_dest_feature = folder_features_dest + \"{}/{}/{}/\".format(fold,subj,category)\n",
    "                if not os.path.exists(folder_dest_image):\n",
    "                    os.makedirs(folder_dest_image)\n",
    "                for frame_no, frame in enumerate(dict_folds[fold][subj][category]):\n",
    "                    im_path = folder_DISFA_data + \"Videos_RightCamera/RightVideo{}/{}.jpeg\".format(subj,int(frame))\n",
    "                    im_basename = os.path.basename(im_path)\n",
    "                    im_dest_path = folder_dest_image + im_basename \n",
    "                    features_path = folder_dest_feature + os.path.splitext(im_basename)[0] \n",
    "                    if os.path.exists(im_path):\n",
    "                        try:\n",
    "                            #cropping and aligning images\n",
    "                            im_aligned_cropped,landmarkPoints = detectAndaligncrop(im_path, detector, predictor)\n",
    "                            cropped_rgb_image = function_dict[cropping_function_name] (im_aligned_cropped, landmarkPoints)\n",
    "                            #saving cropped RGB images in BGR(because opencv uses BGR as default)\n",
    "                            cv2.imwrite(im_dest_path, cv2.cvtColor(cropped_rgb_image,cv2.COLOR_RGB2BGR)*255.)\n",
    "                            #getting features\n",
    "                            fd = featuresFunction(o, ppc, cpb, cropped_rgb_image)\n",
    "                            #saving features\n",
    "                            if not (os.path.exists(features_path)):\n",
    "                                os.makedirs(features_path)\n",
    "                            carray_fd = carray(fd, rootdir=features_path, mode = 'w')\n",
    "                            carray_fd.flush()\n",
    "                            if frame_no%100 == 0:\n",
    "                                print(\"frames processed: \", frame_no)\n",
    "                        except KeyboardInterrupt:\n",
    "                            break\n",
    "                        except: \n",
    "                            continue\n",
    "                else:\n",
    "                    continue\n",
    "                break\n",
    "            else:\n",
    "                continue\n",
    "            break\n",
    "        else:\n",
    "            continue\n",
    "        break\n",
    "               "
   ]
  },
  {
   "cell_type": "raw",
   "metadata": {
    "hidden": true,
    "scrolled": true
   },
   "source": [
    "cropAndSaveImageHOG(6,(8,8),(4,4),2, 3, getTrainTestFolds(getDISFAFramesDictionary(folder_DISFA_FAU_summary,2,3),5,2), folder_DISFA_data,'FAU2_1',function_dict,getHOGFeatures)"
   ]
  },
  {
   "cell_type": "code",
   "execution_count": 5,
   "metadata": {
    "hidden": true
   },
   "outputs": [
    {
     "ename": "NameError",
     "evalue": "name 'function_dict' is not defined",
     "output_type": "error",
     "traceback": [
      "\u001b[0;31m---------------------------------------------------------------------------\u001b[0m",
      "\u001b[0;31mNameError\u001b[0m                                 Traceback (most recent call last)",
      "\u001b[0;32m<ipython-input-5-566c9c2e9ec9>\u001b[0m in \u001b[0;36m<module>\u001b[0;34m()\u001b[0m\n\u001b[0;32m----> 1\u001b[0;31m \u001b[0;32mdef\u001b[0m \u001b[0mfinalSaveImagesFeatures\u001b[0m\u001b[0;34m(\u001b[0m\u001b[0mo\u001b[0m \u001b[0;34m,\u001b[0m\u001b[0mppc\u001b[0m \u001b[0;34m,\u001b[0m\u001b[0mcpb\u001b[0m \u001b[0;34m,\u001b[0m\u001b[0mfau_no\u001b[0m \u001b[0;34m,\u001b[0m \u001b[0mthresh\u001b[0m\u001b[0;34m,\u001b[0m \u001b[0mcropping_function_name\u001b[0m\u001b[0;34m,\u001b[0m \u001b[0mno_folds\u001b[0m\u001b[0;34m=\u001b[0m\u001b[0;36m5\u001b[0m\u001b[0;34m,\u001b[0m \u001b[0mno_test_subjects\u001b[0m\u001b[0;34m=\u001b[0m\u001b[0;36m2\u001b[0m\u001b[0;34m,\u001b[0m \u001b[0mfunction_dict\u001b[0m\u001b[0;34m=\u001b[0m\u001b[0mfunction_dict\u001b[0m\u001b[0;34m,\u001b[0m \u001b[0mfeaturesFunction\u001b[0m\u001b[0;34m=\u001b[0m\u001b[0mgetHOGFeatures\u001b[0m\u001b[0;34m,\u001b[0m \u001b[0mfolder_DISFA_FAU_summary\u001b[0m\u001b[0;34m=\u001b[0m\u001b[0mfolder_DISFA_FAU_summary\u001b[0m\u001b[0;34m,\u001b[0m \u001b[0mfolder_DISFA_data\u001b[0m\u001b[0;34m=\u001b[0m\u001b[0mfolder_DISFA_data\u001b[0m\u001b[0;34m,\u001b[0m \u001b[0mboolEqualise\u001b[0m\u001b[0;34m=\u001b[0m\u001b[0mTrue\u001b[0m\u001b[0;34m)\u001b[0m\u001b[0;34m:\u001b[0m\u001b[0;34m\u001b[0m\u001b[0m\n\u001b[0m\u001b[1;32m      2\u001b[0m     \u001b[0mframes_dict\u001b[0m \u001b[0;34m=\u001b[0m \u001b[0mgetDISFAFramesDictionary\u001b[0m\u001b[0;34m(\u001b[0m\u001b[0mfolder_DISFA_FAU_summary\u001b[0m\u001b[0;34m,\u001b[0m\u001b[0mfau_no\u001b[0m\u001b[0;34m,\u001b[0m\u001b[0mthresh\u001b[0m\u001b[0;34m)\u001b[0m\u001b[0;34m\u001b[0m\u001b[0m\n\u001b[1;32m      3\u001b[0m     \u001b[0mframes_dict\u001b[0m \u001b[0;34m=\u001b[0m \u001b[0mequaliseDictionary\u001b[0m\u001b[0;34m(\u001b[0m\u001b[0mframes_dict\u001b[0m\u001b[0;34m)\u001b[0m\u001b[0;34m\u001b[0m\u001b[0m\n\u001b[1;32m      4\u001b[0m     \u001b[0mdict_folds\u001b[0m \u001b[0;34m=\u001b[0m \u001b[0mgetTrainTestFolds\u001b[0m\u001b[0;34m(\u001b[0m\u001b[0mframes_dict\u001b[0m\u001b[0;34m,\u001b[0m\u001b[0mno_folds\u001b[0m\u001b[0;34m,\u001b[0m\u001b[0mno_test_subjects\u001b[0m\u001b[0;34m)\u001b[0m\u001b[0;34m\u001b[0m\u001b[0m\n\u001b[1;32m      5\u001b[0m     \u001b[0mcropAndSaveImageHOG\u001b[0m\u001b[0;34m(\u001b[0m\u001b[0mo\u001b[0m \u001b[0;34m,\u001b[0m\u001b[0mppc\u001b[0m \u001b[0;34m,\u001b[0m\u001b[0mcpb\u001b[0m \u001b[0;34m,\u001b[0m\u001b[0mfau_no\u001b[0m \u001b[0;34m,\u001b[0m\u001b[0mthresh\u001b[0m \u001b[0;34m,\u001b[0m \u001b[0mdict_folds\u001b[0m\u001b[0;34m,\u001b[0m \u001b[0mfolder_DISFA_data\u001b[0m\u001b[0;34m,\u001b[0m\u001b[0mcropping_function_name\u001b[0m\u001b[0;34m,\u001b[0m\u001b[0mfunction_dict\u001b[0m\u001b[0;34m,\u001b[0m\u001b[0mgetHOGFeatures\u001b[0m\u001b[0;34m)\u001b[0m\u001b[0;34m\u001b[0m\u001b[0m\n",
      "\u001b[0;31mNameError\u001b[0m: name 'function_dict' is not defined"
     ]
    }
   ],
   "source": [
    "def finalSaveImagesFeatures(o ,ppc ,cpb ,fau_no , thresh, cropping_function_name, no_folds=5, no_test_subjects=2, function_dict=function_dict, featuresFunction=getHOGFeatures, folder_DISFA_FAU_summary=folder_DISFA_FAU_summary, folder_DISFA_data=folder_DISFA_data, boolEqualise=True):\n",
    "    frames_dict = getDISFAFramesDictionary(folder_DISFA_FAU_summary,fau_no,thresh)\n",
    "    frames_dict = equaliseDictionary(frames_dict)\n",
    "    dict_folds = getTrainTestFolds(frames_dict,no_folds,no_test_subjects)\n",
    "    cropAndSaveImageHOG(o ,ppc ,cpb ,fau_no ,thresh , dict_folds, folder_DISFA_data,cropping_function_name,function_dict,getHOGFeatures)"
   ]
  },
  {
   "cell_type": "raw",
   "metadata": {
    "hidden": true
   },
   "source": [
    "finalSaveImagesFeatures (6 ,(8,8) ,(4,4) ,2 , 3, 'FAU2_1')"
   ]
  },
  {
   "cell_type": "markdown",
   "metadata": {
    "hidden": true
   },
   "source": [
    "Things to do:\n",
    "    - just calculate the features and save them in appropriate folder; save colored image only so that you can use deep learning\n",
    "    - for training; load the features and make X, Y. Then train for different folds, report accuracy for each test fold and show the average in the end."
   ]
  },
  {
   "cell_type": "markdown",
   "metadata": {},
   "source": [
    "## Main Function:"
   ]
  },
  {
   "cell_type": "code",
   "execution_count": null,
   "metadata": {},
   "outputs": [],
   "source": [
    "def trainDISFA (fau_no, train_no, fau_thresh, test_subjects_no, boolGetLists=False, boolCalcFeatures=False, boolCrossValidation=True, ):\n",
    "    if boolGetLists:\n",
    "        getDISFALists"
   ]
  },
  {
   "cell_type": "markdown",
   "metadata": {},
   "source": [
    "### trainSVMGridSearchModel helper function\n",
    "Using GridSearchCV model"
   ]
  },
  {
   "cell_type": "markdown",
   "metadata": {
    "heading_collapsed": true
   },
   "source": [
    "#### Rough functions and ideas(not useful now)"
   ]
  },
  {
   "cell_type": "code",
   "execution_count": 95,
   "metadata": {
    "hidden": true
   },
   "outputs": [],
   "source": [
    "gamma_range = np.outer(np.logspace(-3,0,4),np.array([1,5]))\n",
    "gamma_range = gamma_range.flatten()\n",
    "C_range = np.outer(np.logspace(-1,1,3),np.array([1,5]))\n",
    "C_range = C_range.flatten()\n",
    "parameters = {'kernel': ['linear'],'C':C_range,'gamma':gamma_range}"
   ]
  },
  {
   "cell_type": "code",
   "execution_count": 97,
   "metadata": {
    "hidden": true,
    "scrolled": true
   },
   "outputs": [
    {
     "name": "stdout",
     "output_type": "stream",
     "text": [
      "{'kernel': 'linear', 'C': 0.1, 'gamma': 0.001}\n",
      "{'kernel': 'linear', 'C': 0.1, 'gamma': 0.005}\n",
      "{'kernel': 'linear', 'C': 0.1, 'gamma': 0.01}\n",
      "{'kernel': 'linear', 'C': 0.1, 'gamma': 0.05}\n",
      "{'kernel': 'linear', 'C': 0.1, 'gamma': 0.1}\n",
      "{'kernel': 'linear', 'C': 0.1, 'gamma': 0.5}\n",
      "{'kernel': 'linear', 'C': 0.1, 'gamma': 1.0}\n",
      "{'kernel': 'linear', 'C': 0.1, 'gamma': 5.0}\n",
      "{'kernel': 'linear', 'C': 0.5, 'gamma': 0.001}\n",
      "{'kernel': 'linear', 'C': 0.5, 'gamma': 0.005}\n",
      "{'kernel': 'linear', 'C': 0.5, 'gamma': 0.01}\n",
      "{'kernel': 'linear', 'C': 0.5, 'gamma': 0.05}\n",
      "{'kernel': 'linear', 'C': 0.5, 'gamma': 0.1}\n",
      "{'kernel': 'linear', 'C': 0.5, 'gamma': 0.5}\n",
      "{'kernel': 'linear', 'C': 0.5, 'gamma': 1.0}\n",
      "{'kernel': 'linear', 'C': 0.5, 'gamma': 5.0}\n",
      "{'kernel': 'linear', 'C': 1.0, 'gamma': 0.001}\n",
      "{'kernel': 'linear', 'C': 1.0, 'gamma': 0.005}\n",
      "{'kernel': 'linear', 'C': 1.0, 'gamma': 0.01}\n",
      "{'kernel': 'linear', 'C': 1.0, 'gamma': 0.05}\n",
      "{'kernel': 'linear', 'C': 1.0, 'gamma': 0.1}\n",
      "{'kernel': 'linear', 'C': 1.0, 'gamma': 0.5}\n",
      "{'kernel': 'linear', 'C': 1.0, 'gamma': 1.0}\n",
      "{'kernel': 'linear', 'C': 1.0, 'gamma': 5.0}\n",
      "{'kernel': 'linear', 'C': 5.0, 'gamma': 0.001}\n",
      "{'kernel': 'linear', 'C': 5.0, 'gamma': 0.005}\n",
      "{'kernel': 'linear', 'C': 5.0, 'gamma': 0.01}\n",
      "{'kernel': 'linear', 'C': 5.0, 'gamma': 0.05}\n",
      "{'kernel': 'linear', 'C': 5.0, 'gamma': 0.1}\n",
      "{'kernel': 'linear', 'C': 5.0, 'gamma': 0.5}\n",
      "{'kernel': 'linear', 'C': 5.0, 'gamma': 1.0}\n",
      "{'kernel': 'linear', 'C': 5.0, 'gamma': 5.0}\n",
      "{'kernel': 'linear', 'C': 10.0, 'gamma': 0.001}\n",
      "{'kernel': 'linear', 'C': 10.0, 'gamma': 0.005}\n",
      "{'kernel': 'linear', 'C': 10.0, 'gamma': 0.01}\n",
      "{'kernel': 'linear', 'C': 10.0, 'gamma': 0.05}\n",
      "{'kernel': 'linear', 'C': 10.0, 'gamma': 0.1}\n",
      "{'kernel': 'linear', 'C': 10.0, 'gamma': 0.5}\n",
      "{'kernel': 'linear', 'C': 10.0, 'gamma': 1.0}\n",
      "{'kernel': 'linear', 'C': 10.0, 'gamma': 5.0}\n",
      "{'kernel': 'linear', 'C': 50.0, 'gamma': 0.001}\n",
      "{'kernel': 'linear', 'C': 50.0, 'gamma': 0.005}\n",
      "{'kernel': 'linear', 'C': 50.0, 'gamma': 0.01}\n",
      "{'kernel': 'linear', 'C': 50.0, 'gamma': 0.05}\n",
      "{'kernel': 'linear', 'C': 50.0, 'gamma': 0.1}\n",
      "{'kernel': 'linear', 'C': 50.0, 'gamma': 0.5}\n",
      "{'kernel': 'linear', 'C': 50.0, 'gamma': 1.0}\n",
      "{'kernel': 'linear', 'C': 50.0, 'gamma': 5.0}\n"
     ]
    }
   ],
   "source": [
    "for g in sklearn.model_selection.ParameterGrid(parameters):\n",
    "    print (g)"
   ]
  },
  {
   "cell_type": "code",
   "execution_count": 83,
   "metadata": {
    "hidden": true
   },
   "outputs": [],
   "source": [
    "def trainSVMGridSearchModel(X_train, Y_train, X_test, Y_test, no_jobs=4, kernel_list=['linear']):\n",
    "    #setup parameter search space\n",
    "    gamma_range = np.outer(np.logspace(-3,0,4),np.array([1,5]))\n",
    "    gamma_range = gamma_range.flatten()\n",
    "    C_range = np.outer(np.logspace(-1,1,3),np.array([1,5]))\n",
    "    C_range = C_range.flatten()\n",
    "    parameters = {'kernel': kernel_list,'C':C_range,'gamma':gamma_range}\n",
    "    for g in sklearn.model_selection.ParameterGrid(parameters):\n",
    "            svm_clsf = svm.SVC(        )\n",
    "    svm_clsf = svm.SVC()\n",
    "    grid_clsf = sklearn.model_selection.GridSearchCV(estimator=svm_clsf,param_grid=parameters,n_jobs=no_jobs,verbose=2, cv=[(slice(None), slice(None))])\n",
    "    #train\n",
    "    start_time=dt.datetime.now()\n",
    "    print('Start param searching at {}'.format(str(start_time)))\n",
    "    grid_clsf.fit(X_train,Y_train)\n",
    "    elapsed_time=dt.datetime.now()-start_time\n",
    "    print('Elapsed time, param searching {}'.format(str(elapsed_time)))\n",
    "    sorted(grid_clsf.cv_results_.keys())\n",
    "    return grid_clsf"
   ]
  },
  {
   "cell_type": "markdown",
   "metadata": {},
   "source": [
    "### trainManualSVMGridSearchModel helper function\n",
    "Manually trying different parameters for model"
   ]
  },
  {
   "cell_type": "code",
   "execution_count": null,
   "metadata": {},
   "outputs": [],
   "source": [
    "def trainManualSVMGridSearchModel(X_train, Y_train, X_test, Y_test, no_jobs=1, kernel_list=['rbf','linear']):\n",
    "    #setup parameter search space\n",
    "    gamma_range = np.outer(np.logspace(-3,0,4),np.array([1,5]))\n",
    "    gamma_range = gamma_range.flatten()\n",
    "    C_range = np.outer(np.logspace(-1,1,3),np.array([1,5]))\n",
    "    C_range = C_range.flatten()\n",
    "    parameters = {'kernel': kernel_list,'C':C_range,'gamma':gamma_range}\n",
    "    svm_clsf = svm.SVC()\n",
    "    grid_clsf = sklearn.model_selection.GridSearchCV(estimator=svm_clsf,param_grid=parameters,n_jobs=no_jobs,verbose=2)\n",
    "    #train\n",
    "    start_time=dt.datetime.now()\n",
    "    print('Start param searching at {}'.format(str(start_time)))\n",
    "    grid_clsf.fit(X_train,y_train)\n",
    "    elapsed_time=dt.datetime.now()-start_time\n",
    "    print('Elapsed time, param searching {}'.format(str(elapsed_time)))\n",
    "    sorted(grid_clsf.cv_results_.keys())\n",
    "    return grid_clsf"
   ]
  },
  {
   "cell_type": "markdown",
   "metadata": {},
   "source": [
    "### Main Train Function for manual fold approach"
   ]
  },
  {
   "cell_type": "code",
   "execution_count": 41,
   "metadata": {},
   "outputs": [],
   "source": [
    "# TO BE ABLE TO TAKE IN OTHER DATASETS ALSO, SET THE FOLDER DATA ACCORDINGLY IN THE CORRESPONDING FUNCTION TO THE DATASET\n",
    "#ideally loading folds also should've been a function.\n",
    "#trainFunction as an argument allows changing choice of function for choosing the model\n",
    "def train(fau_no, thresh, cropping_function_name,trainFunction, folder_data):\n",
    "    fold_folder_list = glob.glob(folder_data + \"features/hog/{}/{}/*\".format(thresh, cropping_function_name))\n",
    "    no_folds = len(fold_folder_list)\n",
    "    for fold_no in range(no_folds):\n",
    "        print(\"In fold number\", fold_no)\n",
    "        #do fold_no times training by testing on the folder corresponding to fold_no\n",
    "        train_folds_folder_list = fold_folder_list[:fold_no] + fold_folder_list[fold_no+1:]\n",
    "        list_positive_feature_folders = []\n",
    "        list_negative_feature_folders = []\n",
    "        positive_features = []\n",
    "        negative_features = []\n",
    "        # populate the list_positive_feature_folders and list_negative_feature_folders\n",
    "        for fol in train_folds_folder_list:\n",
    "            list_positive_feature_folders.extend(glob.glob(fol + \"/*/positives/*/\"))\n",
    "            list_negative_feature_folders.extend(glob.glob(fol + \"/*/negatives/*/\"))\n",
    "        # populate the positive_features and negative_features array\n",
    "        print(\"loading positive features\")\n",
    "        for pos_feat_folder in list_positive_feature_folders:\n",
    "            pos_feat = carray(rootdir = pos_feat_folder, mode = 'r')\n",
    "            positive_features.append(pos_feat)\n",
    "        print(\"loading negative features\")\n",
    "        for neg_feat_folder in list_negative_feature_folders:\n",
    "            neg_feat = carray(rootdir = neg_feat_folder, mode = 'r')\n",
    "            negative_features.append(neg_feat)\n",
    "        positive_features = np.array(positive_features)\n",
    "        negative_features = np.array(negative_features)\n",
    "        print(\"shape of positive features array is: \", (positive_features).shape)\n",
    "        print(\"shape of negative features array is: \", (negative_features).shape)\n",
    "        train_array_X = np.concatenate((positive_features,negative_features))\n",
    "        target_positives = np.ones(positive_features.shape[0])\n",
    "        target_negatives = np.zeros(negative_features.shape[0])\n",
    "        targets_Y = np.append(target_positives, target_negatives)\n",
    "        # training data and labels loaded.\n",
    "\n",
    "        #loading test data\n",
    "        test_folder = fold_folder_list[fold_no]\n",
    "        list_positive_test_folder = glob.glob(test_folder + \"/*/positives/*/\")\n",
    "        list_negative_test_folder = glob.glob(test_folder + \"/*/negatives/*/\")\n",
    "        positive_test_features = []\n",
    "        negative_test_features = []\n",
    "        for pos_feat_folder in list_positive_test_folder:\n",
    "        pos_feat = carray(rootdir = pos_feat_folder, mode = 'r')\n",
    "        positive_test_features.append(pos_feat)\n",
    "        for neg_feat_folder in list_negative_test_folder:\n",
    "            neg_feat = carray(rootdir = neg_feat_folder, mode = 'r')\n",
    "            negative_test_features.append(neg_feat)\n",
    "        positive_test_features = np.array(positive_test_features)\n",
    "        negative_test_features = np.array(negative_test_features)\n",
    "        test_array_X = np.concatenate((positive_test_features,negative_test_features))\n",
    "        test_array_Y = np.append(np.ones(positive_test_features.shape[0]), np.zeros(negative_test_features.shape[0]))\n",
    "        print(\"shape of test array X: \", np.array(test_array_X).shape)\n",
    "        print(\"shape of test array Y: \", np.array(test_array_Y).shape)\n",
    "    \n",
    "        # training for this fold\n",
    "        results = {}\n",
    "        trainFunction(train_array_X, train_targets_Y, test_array_X, test_array_Y)\n",
    "        classificationResult = trainModel(train_array_X, targets_Y, no_jobs, kernel_list = ['linear'])\n",
    "        best_classifier = grid_clsf.best_estimator_\n",
    "        best_params=grid_clsf.best_params_\n",
    "        scores=grid_clsf.cv_results_['mean_test_score'].reshape(2,len(C_range),len(gamma_range))\n",
    "        print(\"scores are: \", scores)\n",
    "        print(\"best classifier is:\", \"\\n\", classifier)\n",
    "        print(\"best parameters are: \", \"\\n\", best_params)\n",
    "        \n",
    "        \n",
    "        \n",
    "        \n",
    "    \n",
    "        "
   ]
  },
  {
   "cell_type": "code",
   "execution_count": 74,
   "metadata": {
    "scrolled": true
   },
   "outputs": [
    {
     "name": "stdout",
     "output_type": "stream",
     "text": [
      "('In fold number', 0)\n",
      "loading positive features\n",
      "loading negative features\n",
      "('shape of np positive arrays is: ', (1141, 1056))\n",
      "('shape of np negative arrays is: ', (2120, 1056))\n",
      "('shape of test array X: ', (302, 1056))\n",
      "('shape of test array Y: ', (302,))\n",
      "('In fold number', 1)\n",
      "loading positive features\n",
      "loading negative features\n",
      "('shape of np positive arrays is: ', (874, 1056))\n",
      "('shape of np negative arrays is: ', (1867, 1056))\n",
      "('shape of test array X: ', (822, 1056))\n",
      "('shape of test array Y: ', (822,))\n",
      "('In fold number', 2)\n",
      "loading positive features\n",
      "loading negative features\n",
      "('shape of np positive arrays is: ', (923, 1056))\n",
      "('shape of np negative arrays is: ', (1916, 1056))\n",
      "('shape of test array X: ', (724, 1056))\n",
      "('shape of test array Y: ', (724,))\n",
      "('In fold number', 3)\n",
      "loading positive features\n",
      "loading negative features\n",
      "('shape of np positive arrays is: ', (1228, 1056))\n",
      "('shape of np negative arrays is: ', (2221, 1056))\n",
      "('shape of test array X: ', (114, 1056))\n",
      "('shape of test array Y: ', (114,))\n",
      "('In fold number', 4)\n",
      "loading positive features\n",
      "loading negative features\n",
      "('shape of np positive arrays is: ', (974, 1056))\n",
      "('shape of np negative arrays is: ', (988, 1056))\n",
      "('shape of test array X: ', (1601, 1056))\n",
      "('shape of test array Y: ', (1601,))\n"
     ]
    }
   ],
   "source": [
    "fold_folder_list = glob.glob(folder_DISFA_data + \"features/hog/{}/{}/*\".format(3,'FAU2_1'))\n",
    "no_folds = len(fold_folder_list)\n",
    "for fold_no in range(no_folds):\n",
    "    print(\"In fold number\", fold_no)\n",
    "    #do fold_no times training by testing on the folder corresponding to fold_no\n",
    "    train_folds_folder_list = fold_folder_list[:fold_no] + fold_folder_list[fold_no+1:]\n",
    "    list_positive_feature_folders = []\n",
    "    list_negative_feature_folders = []\n",
    "    positive_features = []\n",
    "    negative_features = []\n",
    "    # populate the list_positive_feature_folders and list_negative_feature_folders\n",
    "    for fol in train_folds_folder_list:\n",
    "        list_positive_feature_folders.extend(glob.glob(fol + \"/*/positives/*/\"))\n",
    "        list_negative_feature_folders.extend(glob.glob(fol + \"/*/negatives/*/\"))\n",
    "    # populate the positive_features and negative_features array\n",
    "    print(\"loading positive features\")\n",
    "    for pos_feat_folder in list_positive_feature_folders:\n",
    "        pos_feat = carray(rootdir = pos_feat_folder, mode = 'r')\n",
    "        positive_features.append(pos_feat)\n",
    "    print(\"loading negative features\")\n",
    "    for neg_feat_folder in list_negative_feature_folders:\n",
    "        neg_feat = carray(rootdir = neg_feat_folder, mode = 'r')\n",
    "        negative_features.append(neg_feat)\n",
    "    positive_features = np.array(positive_features)\n",
    "    negative_features = np.array(negative_features)\n",
    "    print(\"shape of np positive arrays is: \", (positive_features).shape)\n",
    "    print(\"shape of np negative arrays is: \", (negative_features).shape)\n",
    "    train_array_X = np.concatenate((positive_features,negative_features))\n",
    "    train_targets_Y = np.append(np.ones(positive_features.shape[0]), np.zeros(negative_features.shape[0]))\n",
    "    #loading test data\n",
    "    test_folder = fold_folder_list[fold_no]\n",
    "    list_positive_test_folder = glob.glob(test_folder + \"/*/positives/*/\")\n",
    "    list_negative_test_folder = glob.glob(test_folder + \"/*/negatives/*/\")\n",
    "    positive_test_features = []\n",
    "    negative_test_features = []\n",
    "    for pos_feat_folder in list_positive_test_folder:\n",
    "        pos_feat = carray(rootdir = pos_feat_folder, mode = 'r')\n",
    "        positive_test_features.append(pos_feat)\n",
    "    for neg_feat_folder in list_negative_test_folder:\n",
    "        neg_feat = carray(rootdir = neg_feat_folder, mode = 'r')\n",
    "        negative_test_features.append(neg_feat)\n",
    "    positive_test_features = np.array(positive_test_features)\n",
    "    negative_test_features = np.array(negative_test_features)\n",
    "    test_array_X = np.concatenate((positive_test_features,negative_test_features))\n",
    "    test_array_Y = np.append(np.ones(positive_test_features.shape[0]), np.zeros(negative_test_features.shape[0]))\n",
    "    print(\"shape of test array X: \", np.array(test_array_X).shape)\n",
    "    print(\"shape of test array Y: \", np.array(test_array_Y).shape)\n",
    "#     positives = []\n",
    "#     for fold_folder in train_folder_list:\n",
    "#         array_posi=carray(rootdir=dir_features_hog_1_fau4_1+'positives/',mode='r')\n",
    "#         print(fold_foder)"
   ]
  },
  {
   "cell_type": "markdown",
   "metadata": {},
   "source": [
    "### Train function to use custom cross validation generator"
   ]
  },
  {
   "cell_type": "code",
   "execution_count": 166,
   "metadata": {},
   "outputs": [
    {
     "name": "stdout",
     "output_type": "stream",
     "text": [
      "('loading positive features for fold: ', 0)\n",
      "('loading negative features for fold: ', 0)\n",
      "302\n",
      "('loading positive features for fold: ', 1)\n",
      "('loading negative features for fold: ', 1)\n",
      "822\n",
      "('loading positive features for fold: ', 2)\n",
      "('loading negative features for fold: ', 2)\n",
      "724\n",
      "('loading positive features for fold: ', 3)\n",
      "('loading negative features for fold: ', 3)\n",
      "114\n",
      "('loading positive features for fold: ', 4)\n",
      "('loading negative features for fold: ', 4)\n",
      "1601\n",
      "3563\n",
      "3563\n",
      "3563\n"
     ]
    }
   ],
   "source": [
    "def trainCustomGridSearch():\n",
    "    fold_folder_list = glob.glob(folder_DISFA_data + \"features/hog/{}/{}/*\".format(3,'FAU2_1'))\n",
    "    # defining global holders and variables\n",
    "    no_folds = len(fold_folder_list)\n",
    "    features = []\n",
    "    targets = []\n",
    "    fold_label_list = []\n",
    "\n",
    "    #processing for each fold:\n",
    "    for fold_no, fol in enumerate(fold_folder_list):\n",
    "        #lists specific to fold\n",
    "        list_positive_feature_folders = []\n",
    "        list_negative_feature_folders = []\n",
    "        positive_features = []\n",
    "        negative_features = []\n",
    "        fold_targets = []\n",
    "        fold_train_features = []\n",
    "        #loading features in lists\n",
    "        list_positive_feature_folders.extend(glob.glob(fol + \"/*/positives/*/\"))\n",
    "        list_negative_feature_folders.extend(glob.glob(fol + \"/*/negatives/*/\"))\n",
    "        print(\"loading positive features for fold: \", fold_no)\n",
    "        for pos_feat_folder in list_positive_feature_folders:\n",
    "            pos_feat = carray(rootdir = pos_feat_folder, mode = 'r')\n",
    "            positive_features.append(pos_feat)\n",
    "        print(\"loading negative features for fold: \", fold_no)\n",
    "        for neg_feat_folder in list_negative_feature_folders:\n",
    "            neg_feat = carray(rootdir = neg_feat_folder, mode = 'r')\n",
    "            negative_features.append(neg_feat)\n",
    "\n",
    "        fold_train_features.extend(positive_features)\n",
    "        fold_train_features.extend(negative_features)\n",
    "        fold_targets.extend([1] * len(positive_features))\n",
    "        fold_targets.extend([0] * len(negative_features))\n",
    "        no_fold_features = len(positive_features) + len(negative_features)\n",
    "        print(no_fold_features)\n",
    "        #updating global features and targets\n",
    "        features.extend(fold_train_features)\n",
    "        targets.extend(fold_targets)\n",
    "        #updating fold_label_list\n",
    "        fold_label_list.extend([fold_no]*no_fold_features)\n",
    "\n",
    "    #defining the custom cross validation generator over training data\n",
    "    cvIterable= []\n",
    "    for fold_no in range(no_folds):\n",
    "        fold_label_list = np.array(fold_label_list)\n",
    "        train_indices = np.argwhere(fold_label_list != fold_no).flatten()\n",
    "        test_indices = np.argwhere(fold_label_list == fold_no).flatten()\n",
    "        cvIterable.append((train_indices,test_indices))\n",
    "    \n",
    "    trainSVMGridSearchModel(X_train, Y_train , no_jobs=8, kernel_list=['linear'],cvIterable):"
   ]
  },
  {
   "cell_type": "code",
   "execution_count": null,
   "metadata": {
    "scrolled": true
   },
   "outputs": [
    {
     "name": "stdout",
     "output_type": "stream",
     "text": [
      "Start param searching at 2018-06-29 17:31:12.315498\n",
      "Fitting 5 folds for each of 48 candidates, totalling 240 fits\n",
      "[CV] kernel=linear, C=0.1, gamma=0.001 ...............................\n",
      "[CV] kernel=linear, C=0.1, gamma=0.001 ...............................\n",
      "[CV] kernel=linear, C=0.1, gamma=0.001 ...............................\n",
      "[CV] ................ kernel=linear, C=0.1, gamma=0.001, total=   5.8s\n",
      "[CV] kernel=linear, C=0.1, gamma=0.001 ...............................\n",
      "[CV] ................ kernel=linear, C=0.1, gamma=0.001, total=   5.0s\n",
      "[CV] kernel=linear, C=0.1, gamma=0.001 ...............................\n",
      "[CV] ................ kernel=linear, C=0.1, gamma=0.001, total=   6.4s\n",
      "[CV] kernel=linear, C=0.1, gamma=0.005 ...............................\n",
      "[CV] ................ kernel=linear, C=0.1, gamma=0.001, total=   6.4s\n",
      "[CV] ................ kernel=linear, C=0.1, gamma=0.001, total=   7.9s\n",
      "[CV] kernel=linear, C=0.1, gamma=0.005 ...............................\n",
      "[CV] kernel=linear, C=0.1, gamma=0.005 ...............................\n",
      "[CV] ................ kernel=linear, C=0.1, gamma=0.005, total=   8.0s\n",
      "[CV] ................ kernel=linear, C=0.1, gamma=0.005, total=   6.6s\n",
      "[CV] kernel=linear, C=0.1, gamma=0.005 ...............................\n",
      "[CV] kernel=linear, C=0.1, gamma=0.005 ...............................\n",
      "[CV] ................ kernel=linear, C=0.1, gamma=0.005, total=   8.4s\n",
      "[CV] kernel=linear, C=0.1, gamma=0.01 ................................\n",
      "[CV] ................ kernel=linear, C=0.1, gamma=0.005, total=   6.8s\n",
      "[CV] ................ kernel=linear, C=0.1, gamma=0.005, total=   8.9s\n",
      "[CV] kernel=linear, C=0.1, gamma=0.01 ................................\n",
      "[CV] kernel=linear, C=0.1, gamma=0.01 ................................\n",
      "[CV] ................. kernel=linear, C=0.1, gamma=0.01, total=   8.4s\n",
      "[CV] ................. kernel=linear, C=0.1, gamma=0.01, total=   6.6s\n",
      "[CV] kernel=linear, C=0.1, gamma=0.01 ................................\n",
      "[CV] kernel=linear, C=0.1, gamma=0.01 ................................\n",
      "[CV] ................. kernel=linear, C=0.1, gamma=0.01, total=   7.8s\n",
      "[CV] kernel=linear, C=0.1, gamma=0.05 ................................\n",
      "[CV] ................. kernel=linear, C=0.1, gamma=0.01, total=   6.6s\n",
      "[CV] ................. kernel=linear, C=0.1, gamma=0.01, total=   8.2s\n",
      "[CV] kernel=linear, C=0.1, gamma=0.05 ................................\n",
      "[CV] kernel=linear, C=0.1, gamma=0.05 ................................\n",
      "[CV] ................. kernel=linear, C=0.1, gamma=0.05, total=   8.3s\n",
      "[CV] ................. kernel=linear, C=0.1, gamma=0.05, total=   6.9s\n",
      "[CV] kernel=linear, C=0.1, gamma=0.05 ................................\n",
      "[CV] kernel=linear, C=0.1, gamma=0.05 ................................\n",
      "[CV] ................. kernel=linear, C=0.1, gamma=0.05, total=   8.1s\n",
      "[CV] kernel=linear, C=0.1, gamma=0.1 .................................\n",
      "[CV] ................. kernel=linear, C=0.1, gamma=0.05, total=   6.7s\n",
      "[CV] ................. kernel=linear, C=0.1, gamma=0.05, total=   8.2s\n",
      "[CV] kernel=linear, C=0.1, gamma=0.1 .................................\n",
      "[CV] kernel=linear, C=0.1, gamma=0.1 .................................\n",
      "[CV] .................. kernel=linear, C=0.1, gamma=0.1, total=   8.3s\n",
      "[CV] .................. kernel=linear, C=0.1, gamma=0.1, total=   6.6s\n",
      "[CV] kernel=linear, C=0.1, gamma=0.1 .................................\n",
      "[CV] kernel=linear, C=0.1, gamma=0.1 .................................\n",
      "[CV] .................. kernel=linear, C=0.1, gamma=0.1, total=   8.2s\n",
      "[CV] kernel=linear, C=0.1, gamma=0.5 .................................\n",
      "[CV] .................. kernel=linear, C=0.1, gamma=0.1, total=   6.9s\n",
      "[CV] .................. kernel=linear, C=0.1, gamma=0.1, total=   8.9s\n",
      "[CV] kernel=linear, C=0.1, gamma=0.5 .................................\n",
      "[CV] kernel=linear, C=0.1, gamma=0.5 .................................\n",
      "[CV] .................. kernel=linear, C=0.1, gamma=0.5, total=   8.1s\n",
      "[CV] .................. kernel=linear, C=0.1, gamma=0.5, total=   6.6s\n",
      "[CV] kernel=linear, C=0.1, gamma=0.5 .................................\n",
      "[CV] kernel=linear, C=0.1, gamma=0.5 .................................\n",
      "[CV] .................. kernel=linear, C=0.1, gamma=0.5, total=   7.9s\n",
      "[CV] kernel=linear, C=0.1, gamma=1.0 .................................\n",
      "[CV] .................. kernel=linear, C=0.1, gamma=0.5, total=   8.2s\n",
      "[CV] .................. kernel=linear, C=0.1, gamma=0.5, total=   6.6s\n",
      "[CV] kernel=linear, C=0.1, gamma=1.0 .................................\n",
      "[CV] kernel=linear, C=0.1, gamma=1.0 .................................\n",
      "[CV] .................. kernel=linear, C=0.1, gamma=1.0, total=   7.9s\n",
      "[CV] .................. kernel=linear, C=0.1, gamma=1.0, total=   6.5s\n",
      "[CV] kernel=linear, C=0.1, gamma=1.0 .................................\n",
      "[CV] kernel=linear, C=0.1, gamma=1.0 .................................\n",
      "[CV] .................. kernel=linear, C=0.1, gamma=1.0, total=   8.3s\n"
     ]
    },
    {
     "name": "stderr",
     "output_type": "stream",
     "text": [
      "[Parallel(n_jobs=4)]: Done  33 tasks      | elapsed:  3.5min\n"
     ]
    },
    {
     "name": "stdout",
     "output_type": "stream",
     "text": [
      "[CV] kernel=linear, C=0.1, gamma=5.0 .................................\n",
      "[CV] .................. kernel=linear, C=0.1, gamma=1.0, total=   9.2s\n",
      "[CV] .................. kernel=linear, C=0.1, gamma=1.0, total=   7.0s\n",
      "[CV] kernel=linear, C=0.1, gamma=5.0 .................................\n",
      "[CV] kernel=linear, C=0.1, gamma=5.0 .................................\n",
      "[CV] .................. kernel=linear, C=0.1, gamma=5.0, total=   9.6s\n",
      "[CV] .................. kernel=linear, C=0.1, gamma=5.0, total=   7.0s\n",
      "[CV] kernel=linear, C=0.1, gamma=5.0 .................................\n",
      "[CV] kernel=linear, C=0.1, gamma=5.0 .................................\n",
      "[CV] .................. kernel=linear, C=0.1, gamma=5.0, total=   8.2s\n",
      "[CV] kernel=linear, C=0.5, gamma=0.001 ...............................\n",
      "[CV] .................. kernel=linear, C=0.1, gamma=5.0, total=   9.5s\n",
      "[CV] .................. kernel=linear, C=0.1, gamma=5.0, total=   7.6s\n",
      "[CV] kernel=linear, C=0.5, gamma=0.001 ...............................\n",
      "[CV] ................ kernel=linear, C=0.5, gamma=0.001, total=   4.4s\n",
      "[CV] ................ kernel=linear, C=0.5, gamma=0.001, total=   3.2s\n",
      "[CV] kernel=linear, C=0.5, gamma=0.001 ...............................\n",
      "[CV] kernel=linear, C=0.5, gamma=0.001 ...............................\n",
      "[CV] ................ kernel=linear, C=0.5, gamma=0.001, total=   3.8s\n",
      "[CV] kernel=linear, C=0.5, gamma=0.001 ...............................\n",
      "[CV] ................ kernel=linear, C=0.5, gamma=0.001, total=   3.6s\n",
      "[CV] ................ kernel=linear, C=0.5, gamma=0.001, total=   3.1s\n",
      "[CV] kernel=linear, C=0.5, gamma=0.005 ...............................\n",
      "[CV] kernel=linear, C=0.5, gamma=0.005 ...............................\n",
      "[CV] ................ kernel=linear, C=0.5, gamma=0.005, total=   3.4s\n",
      "[CV] ................ kernel=linear, C=0.5, gamma=0.005, total=   3.2s\n",
      "[CV] kernel=linear, C=0.5, gamma=0.005 ...............................\n",
      "[CV] kernel=linear, C=0.5, gamma=0.005 ...............................\n",
      "[CV] ................ kernel=linear, C=0.5, gamma=0.005, total=   3.6s\n",
      "[CV] kernel=linear, C=0.5, gamma=0.005 ...............................\n",
      "[CV] ................ kernel=linear, C=0.5, gamma=0.005, total=   3.4s\n",
      "[CV] ................ kernel=linear, C=0.5, gamma=0.005, total=   2.9s\n",
      "[CV] kernel=linear, C=0.5, gamma=0.01 ................................\n",
      "[CV] kernel=linear, C=0.5, gamma=0.01 ................................\n",
      "[CV] ................. kernel=linear, C=0.5, gamma=0.01, total=   3.3s\n",
      "[CV] ................. kernel=linear, C=0.5, gamma=0.01, total=   3.1s\n",
      "[CV] kernel=linear, C=0.5, gamma=0.01 ................................\n",
      "[CV] kernel=linear, C=0.5, gamma=0.01 ................................\n",
      "[CV] ................. kernel=linear, C=0.5, gamma=0.01, total=   3.7s\n",
      "[CV] kernel=linear, C=0.5, gamma=0.01 ................................\n",
      "[CV] ................. kernel=linear, C=0.5, gamma=0.01, total=   4.0s\n",
      "[CV] ................. kernel=linear, C=0.5, gamma=0.01, total=   3.3s\n",
      "[CV] kernel=linear, C=0.5, gamma=0.05 ................................\n",
      "[CV] kernel=linear, C=0.5, gamma=0.05 ................................\n",
      "[CV] ................. kernel=linear, C=0.5, gamma=0.05, total=   3.4s\n",
      "[CV] ................. kernel=linear, C=0.5, gamma=0.05, total=   3.1s\n",
      "[CV] kernel=linear, C=0.5, gamma=0.05 ................................\n",
      "[CV] kernel=linear, C=0.5, gamma=0.05 ................................\n",
      "[CV] ................. kernel=linear, C=0.5, gamma=0.05, total=   3.8s\n",
      "[CV] kernel=linear, C=0.5, gamma=0.05 ................................\n",
      "[CV] ................. kernel=linear, C=0.5, gamma=0.05, total=   3.5s\n",
      "[CV] ................. kernel=linear, C=0.5, gamma=0.05, total=   3.1s\n",
      "[CV] kernel=linear, C=0.5, gamma=0.1 .................................\n",
      "[CV] kernel=linear, C=0.5, gamma=0.1 .................................\n",
      "[CV] .................. kernel=linear, C=0.5, gamma=0.1, total=   3.4s\n",
      "[CV] .................. kernel=linear, C=0.5, gamma=0.1, total=   3.1s\n",
      "[CV] kernel=linear, C=0.5, gamma=0.1 .................................\n",
      "[CV] kernel=linear, C=0.5, gamma=0.1 .................................\n",
      "[CV] .................. kernel=linear, C=0.5, gamma=0.1, total=   3.4s\n",
      "[CV] kernel=linear, C=0.5, gamma=0.1 .................................\n",
      "[CV] .................. kernel=linear, C=0.5, gamma=0.1, total=   3.5s\n",
      "[CV] .................. kernel=linear, C=0.5, gamma=0.1, total=   3.0s\n",
      "[CV] kernel=linear, C=0.5, gamma=0.5 .................................\n",
      "[CV] kernel=linear, C=0.5, gamma=0.5 .................................\n",
      "[CV] .................. kernel=linear, C=0.5, gamma=0.5, total=   3.8s\n",
      "[CV] .................. kernel=linear, C=0.5, gamma=0.5, total=   3.1s\n",
      "[CV] kernel=linear, C=0.5, gamma=0.5 .................................\n",
      "[CV] kernel=linear, C=0.5, gamma=0.5 .................................\n",
      "[CV] .................. kernel=linear, C=0.5, gamma=0.5, total=   3.4s\n",
      "[CV] kernel=linear, C=0.5, gamma=0.5 .................................\n",
      "[CV] .................. kernel=linear, C=0.5, gamma=0.5, total=   3.5s\n",
      "[CV] .................. kernel=linear, C=0.5, gamma=0.5, total=   2.9s\n",
      "[CV] kernel=linear, C=0.5, gamma=1.0 .................................\n",
      "[CV] kernel=linear, C=0.5, gamma=1.0 .................................\n",
      "[CV] .................. kernel=linear, C=0.5, gamma=1.0, total=   3.6s\n",
      "[CV] .................. kernel=linear, C=0.5, gamma=1.0, total=   3.1s\n",
      "[CV] kernel=linear, C=0.5, gamma=1.0 .................................\n",
      "[CV] kernel=linear, C=0.5, gamma=1.0 .................................\n",
      "[CV] .................. kernel=linear, C=0.5, gamma=1.0, total=   3.7s\n",
      "[CV] kernel=linear, C=0.5, gamma=1.0 .................................\n",
      "[CV] .................. kernel=linear, C=0.5, gamma=1.0, total=   3.7s\n",
      "[CV] .................. kernel=linear, C=0.5, gamma=1.0, total=   3.2s\n",
      "[CV] kernel=linear, C=0.5, gamma=5.0 .................................\n",
      "[CV] kernel=linear, C=0.5, gamma=5.0 .................................\n",
      "[CV] .................. kernel=linear, C=0.5, gamma=5.0, total=   3.3s\n",
      "[CV] .................. kernel=linear, C=0.5, gamma=5.0, total=   3.3s\n",
      "[CV] kernel=linear, C=0.5, gamma=5.0 .................................\n",
      "[CV] kernel=linear, C=0.5, gamma=5.0 .................................\n",
      "[CV] .................. kernel=linear, C=0.5, gamma=5.0, total=   3.5s\n",
      "[CV] kernel=linear, C=0.5, gamma=5.0 .................................\n",
      "[CV] .................. kernel=linear, C=0.5, gamma=5.0, total=   3.6s\n",
      "[CV] .................. kernel=linear, C=0.5, gamma=5.0, total=   3.0s\n",
      "[CV] kernel=linear, C=1.0, gamma=0.001 ...............................\n",
      "[CV] ................ kernel=linear, C=1.0, gamma=0.001, total=   2.7s\n",
      "[CV] kernel=linear, C=1.0, gamma=0.001 ...............................\n",
      "[CV] ................ kernel=linear, C=1.0, gamma=0.001, total=   2.4s\n",
      "[CV] kernel=linear, C=1.0, gamma=0.001 ...............................\n",
      "[CV] ................ kernel=linear, C=1.0, gamma=0.001, total=   2.5s\n",
      "[CV] kernel=linear, C=1.0, gamma=0.001 ...............................\n",
      "[CV] ................ kernel=linear, C=1.0, gamma=0.001, total=   2.6s\n",
      "[CV] kernel=linear, C=1.0, gamma=0.001 ...............................\n",
      "[CV] ................ kernel=linear, C=1.0, gamma=0.001, total=   2.1s\n",
      "[CV] kernel=linear, C=1.0, gamma=0.005 ...............................\n",
      "[CV] ................ kernel=linear, C=1.0, gamma=0.005, total=   2.6s\n",
      "[CV] kernel=linear, C=1.0, gamma=0.005 ...............................\n",
      "[CV] ................ kernel=linear, C=1.0, gamma=0.005, total=   2.5s\n",
      "[CV] kernel=linear, C=1.0, gamma=0.005 ...............................\n",
      "[CV] ................ kernel=linear, C=1.0, gamma=0.005, total=   2.6s\n",
      "[CV] kernel=linear, C=1.0, gamma=0.005 ...............................\n",
      "[CV] ................ kernel=linear, C=1.0, gamma=0.005, total=   2.4s\n",
      "[CV] kernel=linear, C=1.0, gamma=0.005 ...............................\n",
      "[CV] ................ kernel=linear, C=1.0, gamma=0.005, total=   1.9s\n",
      "[CV] kernel=linear, C=1.0, gamma=0.01 ................................\n",
      "[CV] ................. kernel=linear, C=1.0, gamma=0.01, total=   2.4s\n",
      "[CV] kernel=linear, C=1.0, gamma=0.01 ................................\n",
      "[CV] ................. kernel=linear, C=1.0, gamma=0.01, total=   2.3s\n"
     ]
    },
    {
     "name": "stdout",
     "output_type": "stream",
     "text": [
      "[CV] kernel=linear, C=1.0, gamma=0.01 ................................\n",
      "[CV] ................. kernel=linear, C=1.0, gamma=0.01, total=   2.6s\n",
      "[CV] kernel=linear, C=1.0, gamma=0.01 ................................\n",
      "[CV] ................. kernel=linear, C=1.0, gamma=0.01, total=   2.4s\n",
      "[CV] kernel=linear, C=1.0, gamma=0.01 ................................\n",
      "[CV] ................. kernel=linear, C=1.0, gamma=0.01, total=   1.9s\n",
      "[CV] kernel=linear, C=1.0, gamma=0.05 ................................\n",
      "[CV] ................. kernel=linear, C=1.0, gamma=0.05, total=   2.4s\n",
      "[CV] kernel=linear, C=1.0, gamma=0.05 ................................\n",
      "[CV] ................. kernel=linear, C=1.0, gamma=0.05, total=   2.2s\n",
      "[CV] kernel=linear, C=1.0, gamma=0.05 ................................\n",
      "[CV] ................. kernel=linear, C=1.0, gamma=0.05, total=   2.8s\n",
      "[CV] kernel=linear, C=1.0, gamma=0.05 ................................\n",
      "[CV] ................. kernel=linear, C=1.0, gamma=0.05, total=   2.5s\n",
      "[CV] kernel=linear, C=1.0, gamma=0.05 ................................\n",
      "[CV] ................. kernel=linear, C=1.0, gamma=0.05, total=   2.3s\n",
      "[CV] kernel=linear, C=1.0, gamma=0.1 .................................\n",
      "[CV] .................. kernel=linear, C=1.0, gamma=0.1, total=   2.5s\n",
      "[CV] kernel=linear, C=1.0, gamma=0.1 .................................\n",
      "[CV] .................. kernel=linear, C=1.0, gamma=0.1, total=   2.3s\n",
      "[CV] kernel=linear, C=1.0, gamma=0.1 .................................\n",
      "[CV] .................. kernel=linear, C=1.0, gamma=0.1, total=   2.8s\n",
      "[CV] kernel=linear, C=1.0, gamma=0.1 .................................\n",
      "[CV] .................. kernel=linear, C=1.0, gamma=0.1, total=   2.4s\n",
      "[CV] kernel=linear, C=1.0, gamma=0.1 .................................\n",
      "[CV] .................. kernel=linear, C=1.0, gamma=0.1, total=   2.1s\n",
      "[CV] kernel=linear, C=1.0, gamma=0.5 .................................\n",
      "[CV] .................. kernel=linear, C=1.0, gamma=0.5, total=   2.4s\n",
      "[CV] kernel=linear, C=1.0, gamma=0.5 .................................\n",
      "[CV] .................. kernel=linear, C=1.0, gamma=0.5, total=   2.5s\n",
      "[CV] kernel=linear, C=1.0, gamma=0.5 .................................\n",
      "[CV] .................. kernel=linear, C=1.0, gamma=0.5, total=   2.7s\n",
      "[CV] kernel=linear, C=1.0, gamma=0.5 .................................\n",
      "[CV] .................. kernel=linear, C=1.0, gamma=0.5, total=   2.7s\n",
      "[CV] kernel=linear, C=1.0, gamma=0.5 .................................\n",
      "[CV] .................. kernel=linear, C=1.0, gamma=0.5, total=   2.2s\n",
      "[CV] kernel=linear, C=1.0, gamma=1.0 .................................\n",
      "[CV] .................. kernel=linear, C=1.0, gamma=1.0, total=   2.9s\n",
      "[CV] kernel=linear, C=1.0, gamma=1.0 .................................\n",
      "[CV] .................. kernel=linear, C=1.0, gamma=1.0, total=   2.5s\n",
      "[CV] kernel=linear, C=1.0, gamma=1.0 .................................\n",
      "[CV] .................. kernel=linear, C=1.0, gamma=1.0, total=   2.7s\n",
      "[CV] kernel=linear, C=1.0, gamma=1.0 .................................\n",
      "[CV] .................. kernel=linear, C=1.0, gamma=1.0, total=   2.9s\n",
      "[CV] kernel=linear, C=1.0, gamma=1.0 .................................\n",
      "[CV] .................. kernel=linear, C=1.0, gamma=1.0, total=   2.2s\n",
      "[CV] kernel=linear, C=1.0, gamma=5.0 .................................\n",
      "[CV] .................. kernel=linear, C=1.0, gamma=5.0, total=   2.8s\n",
      "[CV] kernel=linear, C=1.0, gamma=5.0 .................................\n",
      "[CV] .................. kernel=linear, C=1.0, gamma=5.0, total=   2.3s\n",
      "[CV] kernel=linear, C=1.0, gamma=5.0 .................................\n",
      "[CV] .................. kernel=linear, C=1.0, gamma=5.0, total=   2.7s\n",
      "[CV] kernel=linear, C=1.0, gamma=5.0 .................................\n",
      "[CV] .................. kernel=linear, C=1.0, gamma=5.0, total=   2.5s\n",
      "[CV] kernel=linear, C=1.0, gamma=5.0 .................................\n",
      "[CV] .................. kernel=linear, C=1.0, gamma=5.0, total=   2.0s\n",
      "[CV] kernel=linear, C=5.0, gamma=0.001 ...............................\n",
      "[CV] ................ kernel=linear, C=5.0, gamma=0.001, total=   1.4s\n",
      "[CV] kernel=linear, C=5.0, gamma=0.001 ...............................\n",
      "[CV] ................ kernel=linear, C=5.0, gamma=0.001, total=   1.2s\n",
      "[CV] kernel=linear, C=5.0, gamma=0.001 ...............................\n",
      "[CV] ................ kernel=linear, C=5.0, gamma=0.001, total=   1.4s\n",
      "[CV] kernel=linear, C=5.0, gamma=0.001 ...............................\n",
      "[CV] ................ kernel=linear, C=5.0, gamma=0.001, total=   1.3s\n",
      "[CV] kernel=linear, C=5.0, gamma=0.001 ...............................\n",
      "[CV] ................ kernel=linear, C=5.0, gamma=0.001, total=   1.2s\n",
      "[CV] kernel=linear, C=5.0, gamma=0.005 ...............................\n",
      "[CV] ................ kernel=linear, C=5.0, gamma=0.005, total=   1.3s\n",
      "[CV] kernel=linear, C=5.0, gamma=0.005 ...............................\n",
      "[CV] ................ kernel=linear, C=5.0, gamma=0.005, total=   1.3s\n",
      "[CV] kernel=linear, C=5.0, gamma=0.005 ...............................\n",
      "[CV] ................ kernel=linear, C=5.0, gamma=0.005, total=   1.4s\n",
      "[CV] kernel=linear, C=5.0, gamma=0.005 ...............................\n",
      "[CV] ................ kernel=linear, C=5.0, gamma=0.005, total=   1.3s\n",
      "[CV] kernel=linear, C=5.0, gamma=0.005 ...............................\n",
      "[CV] ................ kernel=linear, C=5.0, gamma=0.005, total=   1.1s\n",
      "[CV] kernel=linear, C=5.0, gamma=0.01 ................................\n"
     ]
    }
   ],
   "source": [
    "gamma_range = np.outer(np.logspace(-3,0,4),np.array([1,5]))\n",
    "gamma_range = gamma_range.flatten()\n",
    "C_range = np.outer(np.logspace(-1,1,3),np.array([1,5]))\n",
    "C_range = C_range.flatten()\n",
    "parameters = {'kernel': ['linear'],'C':C_range,'gamma':gamma_range}\n",
    "svm_clsf = svm.SVC()\n",
    "grid_clsf = sklearn.model_selection.GridSearchCV(estimator=svm_clsf,param_grid=parameters,n_jobs=4,verbose=2,cv=cvIterable)\n",
    "#train\n",
    "start_time=dt.datetime.now()\n",
    "print('Start param searching at {}'.format(str(start_time)))\n",
    "grid_clsf.fit(features,targets)\n",
    "elapsed_time=dt.datetime.now()-start_time\n",
    "print('Elapsed time, param searching {}'.format(str(elapsed_time)))\n",
    "sorted(grid_clsf.cv_results_.keys())\n",
    "return grid_clsf"
   ]
  },
  {
   "cell_type": "code",
   "execution_count": null,
   "metadata": {},
   "outputs": [],
   "source": [
    "def trainSVMGridSearchModel(X_train, Y_train , no_jobs=1, kernel_list=['rbf','linear'],custom_fold_iterable):\n",
    "    #setup parameter search space\n",
    "    gamma_range = np.outer(np.logspace(-3,0,4),np.array([1,5]))\n",
    "    gamma_range = gamma_range.flatten()\n",
    "    C_range = np.outer(np.logspace(-1,1,3),np.array([1,5]))\n",
    "    C_range = C_range.flatten()\n",
    "    parameters = {'kernel': kernel_list,'C':C_range,'gamma':gamma_range}\n",
    "    svm_clsf = svm.SVC()\n",
    "    grid_clsf = sklearn.model_selection.GridSearchCV(estimator=svm_clsf,param_grid=parameters,n_jobs=no_jobs,verbose=2,cv=custom_fold_iterable)\n",
    "    #train\n",
    "    start_time=dt.datetime.now()\n",
    "    print('Start param searching at {}'.format(str(start_time)))\n",
    "    grid_clsf.fit(X_train,Y_train)\n",
    "    elapsed_time=dt.datetime.now()-start_time\n",
    "    print('Elapsed time, param searching {}'.format(str(elapsed_time)))\n",
    "    sorted(grid_clsf.cv_results_.keys())\n",
    "    return grid_clsf"
   ]
  },
  {
   "cell_type": "code",
   "execution_count": 87,
   "metadata": {
    "scrolled": true
   },
   "outputs": [
    {
     "name": "stdout",
     "output_type": "stream",
     "text": [
      "Start param searching at 2018-06-29 04:33:43.289561\n",
      "Fitting 1 folds for each of 48 candidates, totalling 48 fits\n",
      "[CV] kernel=linear, C=0.1, gamma=0.001 ...............................\n",
      "[CV] kernel=linear, C=0.1, gamma=0.005 ...............................\n",
      "[CV] kernel=linear, C=0.1, gamma=0.01 ................................\n",
      "[CV] kernel=linear, C=0.1, gamma=0.05 ................................\n",
      "[CV] ................ kernel=linear, C=0.1, gamma=0.001, total=   6.2s\n",
      "[CV] kernel=linear, C=0.1, gamma=0.1 .................................\n",
      "[CV] ................ kernel=linear, C=0.1, gamma=0.005, total=   6.1s\n",
      "[CV] kernel=linear, C=0.1, gamma=0.5 .................................\n",
      "[CV] ................. kernel=linear, C=0.1, gamma=0.01, total=   6.1s\n",
      "[CV] kernel=linear, C=0.1, gamma=1.0 .................................\n",
      "[CV] ................. kernel=linear, C=0.1, gamma=0.05, total=   6.4s\n",
      "[CV] kernel=linear, C=0.1, gamma=5.0 .................................\n",
      "[CV] .................. kernel=linear, C=0.1, gamma=0.5, total=   6.1s\n",
      "[CV] kernel=linear, C=0.5, gamma=0.001 ...............................\n",
      "[CV] .................. kernel=linear, C=0.1, gamma=1.0, total=   6.1s\n",
      "[CV] kernel=linear, C=0.5, gamma=0.005 ...............................\n",
      "[CV] .................. kernel=linear, C=0.1, gamma=0.1, total=   6.3s\n",
      "[CV] kernel=linear, C=0.5, gamma=0.01 ................................\n",
      "[CV] .................. kernel=linear, C=0.1, gamma=5.0, total=   6.2s\n",
      "[CV] kernel=linear, C=0.5, gamma=0.05 ................................\n",
      "[CV] ................ kernel=linear, C=0.5, gamma=0.001, total=   2.9s\n",
      "[CV] kernel=linear, C=0.5, gamma=0.1 .................................\n",
      "[CV] ................ kernel=linear, C=0.5, gamma=0.005, total=   2.9s\n",
      "[CV] kernel=linear, C=0.5, gamma=0.5 .................................\n",
      "[CV] ................. kernel=linear, C=0.5, gamma=0.01, total=   2.9s\n",
      "[CV] kernel=linear, C=0.5, gamma=1.0 .................................\n",
      "[CV] ................. kernel=linear, C=0.5, gamma=0.05, total=   2.9s\n",
      "[CV] kernel=linear, C=0.5, gamma=5.0 .................................\n",
      "[CV] .................. kernel=linear, C=0.5, gamma=0.1, total=   2.9s\n",
      "[CV] kernel=linear, C=1.0, gamma=0.001 ...............................\n",
      "[CV] .................. kernel=linear, C=0.5, gamma=0.5, total=   2.9s\n",
      "[CV] kernel=linear, C=1.0, gamma=0.005 ...............................\n",
      "[CV] .................. kernel=linear, C=0.5, gamma=1.0, total=   2.9s\n",
      "[CV] kernel=linear, C=1.0, gamma=0.01 ................................\n",
      "[CV] .................. kernel=linear, C=0.5, gamma=5.0, total=   2.9s\n",
      "[CV] kernel=linear, C=1.0, gamma=0.05 ................................\n",
      "[CV] ................ kernel=linear, C=1.0, gamma=0.001, total=   2.0s\n",
      "[CV] kernel=linear, C=1.0, gamma=0.1 .................................\n",
      "[CV] ................ kernel=linear, C=1.0, gamma=0.005, total=   2.0s\n",
      "[CV] kernel=linear, C=1.0, gamma=0.5 .................................\n",
      "[CV] ................. kernel=linear, C=1.0, gamma=0.01, total=   2.0s\n",
      "[CV] kernel=linear, C=1.0, gamma=1.0 .................................\n",
      "[CV] ................. kernel=linear, C=1.0, gamma=0.05, total=   2.0s\n",
      "[CV] kernel=linear, C=1.0, gamma=5.0 .................................\n",
      "[CV] .................. kernel=linear, C=1.0, gamma=0.1, total=   2.0s\n",
      "[CV] kernel=linear, C=5.0, gamma=0.001 ...............................\n",
      "[CV] .................. kernel=linear, C=1.0, gamma=0.5, total=   2.0s\n",
      "[CV] kernel=linear, C=5.0, gamma=0.005 ...............................\n",
      "[CV] .................. kernel=linear, C=1.0, gamma=1.0, total=   2.0s\n",
      "[CV] kernel=linear, C=5.0, gamma=0.01 ................................\n",
      "[CV] .................. kernel=linear, C=1.0, gamma=5.0, total=   2.0s\n",
      "[CV] kernel=linear, C=5.0, gamma=0.05 ................................\n",
      "[CV] ................ kernel=linear, C=5.0, gamma=0.001, total=   0.8s\n",
      "[CV] kernel=linear, C=5.0, gamma=0.1 .................................\n",
      "[CV] ................ kernel=linear, C=5.0, gamma=0.005, total=   0.8s\n",
      "[CV] kernel=linear, C=5.0, gamma=0.5 .................................\n",
      "[CV] ................. kernel=linear, C=5.0, gamma=0.01, total=   0.8s\n",
      "[CV] kernel=linear, C=5.0, gamma=1.0 .................................\n",
      "[CV] ................. kernel=linear, C=5.0, gamma=0.05, total=   0.8s\n",
      "[CV] kernel=linear, C=5.0, gamma=5.0 .................................\n",
      "[CV] .................. kernel=linear, C=5.0, gamma=0.1, total=   0.9s\n",
      "[CV] kernel=linear, C=10.0, gamma=0.001 ..............................\n",
      "[CV] .................. kernel=linear, C=5.0, gamma=0.5, total=   0.9s\n",
      "[CV] kernel=linear, C=10.0, gamma=0.005 ..............................\n",
      "[CV] .................. kernel=linear, C=5.0, gamma=1.0, total=   0.9s\n",
      "[CV] kernel=linear, C=10.0, gamma=0.01 ...............................\n",
      "[CV] .................. kernel=linear, C=5.0, gamma=5.0, total=   0.9s\n",
      "[CV] kernel=linear, C=10.0, gamma=0.05 ...............................\n",
      "[CV] ............... kernel=linear, C=10.0, gamma=0.001, total=   0.6s\n",
      "[CV] kernel=linear, C=10.0, gamma=0.1 ................................\n",
      "[CV] ............... kernel=linear, C=10.0, gamma=0.005, total=   0.6s\n",
      "[CV] kernel=linear, C=10.0, gamma=0.5 ................................\n"
     ]
    },
    {
     "name": "stderr",
     "output_type": "stream",
     "text": [
      "[Parallel(n_jobs=4)]: Done  33 tasks      | elapsed:   37.3s\n"
     ]
    },
    {
     "name": "stdout",
     "output_type": "stream",
     "text": [
      "[CV] ................ kernel=linear, C=10.0, gamma=0.01, total=   0.6s\n",
      "[CV] kernel=linear, C=10.0, gamma=1.0 ................................\n",
      "[CV] ................ kernel=linear, C=10.0, gamma=0.05, total=   0.6s\n",
      "[CV] kernel=linear, C=10.0, gamma=5.0 ................................\n",
      "[CV] ................. kernel=linear, C=10.0, gamma=0.1, total=   0.6s\n",
      "[CV] kernel=linear, C=50.0, gamma=0.001 ..............................\n",
      "[CV] ................. kernel=linear, C=10.0, gamma=0.5, total=   0.6s\n",
      "[CV] kernel=linear, C=50.0, gamma=0.005 ..............................\n",
      "[CV] ................. kernel=linear, C=10.0, gamma=1.0, total=   0.6s\n",
      "[CV] kernel=linear, C=50.0, gamma=0.01 ...............................\n",
      "[CV] ................. kernel=linear, C=10.0, gamma=5.0, total=   0.6s\n",
      "[CV] kernel=linear, C=50.0, gamma=0.05 ...............................\n",
      "[CV] ............... kernel=linear, C=50.0, gamma=0.001, total=   0.4s\n",
      "[CV] kernel=linear, C=50.0, gamma=0.1 ................................\n",
      "[CV] ............... kernel=linear, C=50.0, gamma=0.005, total=   0.4s\n",
      "[CV] kernel=linear, C=50.0, gamma=0.5 ................................\n",
      "[CV] ................ kernel=linear, C=50.0, gamma=0.01, total=   0.4s\n",
      "[CV] kernel=linear, C=50.0, gamma=1.0 ................................\n",
      "[CV] ................ kernel=linear, C=50.0, gamma=0.05, total=   0.4s\n",
      "[CV] kernel=linear, C=50.0, gamma=5.0 ................................\n",
      "[CV] ................. kernel=linear, C=50.0, gamma=0.1, total=   0.4s\n",
      "[CV] ................. kernel=linear, C=50.0, gamma=0.5, total=   0.4s\n",
      "[CV] ................. kernel=linear, C=50.0, gamma=1.0, total=   0.4s\n",
      "[CV] ................. kernel=linear, C=50.0, gamma=5.0, total=   0.4s\n"
     ]
    },
    {
     "name": "stderr",
     "output_type": "stream",
     "text": [
      "[Parallel(n_jobs=4)]: Done  48 out of  48 | elapsed:   39.6s finished\n"
     ]
    },
    {
     "name": "stdout",
     "output_type": "stream",
     "text": [
      "Elapsed time, param searching 0:00:40.049057\n"
     ]
    }
   ],
   "source": [
    "a=trainSVMGridSearchModel(train_array_X, train_targets_Y, test_array_X, test_array_Y)"
   ]
  },
  {
   "cell_type": "code",
   "execution_count": 89,
   "metadata": {},
   "outputs": [
    {
     "name": "stderr",
     "output_type": "stream",
     "text": [
      "/home/amogh/anaconda3/envs/detect_face/lib/python2.7/site-packages/sklearn/utils/deprecation.py:122: FutureWarning: You are accessing a training score ('mean_train_score'), which will not be available by default any more in 0.21. If you need training scores, please set return_train_score=True\n",
      "  warnings.warn(*warn_args, **warn_kwargs)\n",
      "/home/amogh/anaconda3/envs/detect_face/lib/python2.7/site-packages/sklearn/utils/deprecation.py:122: FutureWarning: You are accessing a training score ('split0_train_score'), which will not be available by default any more in 0.21. If you need training scores, please set return_train_score=True\n",
      "  warnings.warn(*warn_args, **warn_kwargs)\n",
      "/home/amogh/anaconda3/envs/detect_face/lib/python2.7/site-packages/sklearn/utils/deprecation.py:122: FutureWarning: You are accessing a training score ('std_train_score'), which will not be available by default any more in 0.21. If you need training scores, please set return_train_score=True\n",
      "  warnings.warn(*warn_args, **warn_kwargs)\n"
     ]
    },
    {
     "data": {
      "text/plain": [
       "{'mean_fit_time': array([2.46489501, 2.41000414, 2.40418506, 2.41879416, 2.45228887,\n",
       "        2.41051316, 2.40889716, 2.4782989 , 1.51142097, 1.50869703,\n",
       "        1.47709799, 1.46525478, 1.51642108, 1.4985261 , 1.46640706,\n",
       "        1.45728183, 1.02990079, 1.01788902, 1.01321983, 0.9977541 ,\n",
       "        1.02115107, 1.02485085, 1.0022769 , 1.00149083, 0.44751   ,\n",
       "        0.44570494, 0.44344282, 0.44034481, 0.49199414, 0.49537587,\n",
       "        0.48502111, 0.47372317, 0.32043719, 0.32652092, 0.33028102,\n",
       "        0.32609415, 0.32586813, 0.33044004, 0.34925508, 0.34716105,\n",
       "        0.21487689, 0.20935822, 0.21101189, 0.20752215, 0.20843506,\n",
       "        0.20616698, 0.22901702, 0.23153996]),\n",
       " 'mean_score_time': array([3.70184422, 3.72094393, 3.72335505, 3.97275686, 3.88255906,\n",
       "        3.67291403, 3.66251993, 3.7178719 , 1.39907098, 1.40113211,\n",
       "        1.40200496, 1.4010911 , 1.39370799, 1.39437103, 1.39174199,\n",
       "        1.393574  , 0.95028901, 0.94931507, 0.97351408, 0.97901106,\n",
       "        0.97559786, 0.97592402, 1.00266409, 0.98271704, 0.39351583,\n",
       "        0.39530897, 0.39972806, 0.39936805, 0.40379882, 0.399544  ,\n",
       "        0.37919402, 0.37745285, 0.27189493, 0.27120805, 0.26367188,\n",
       "        0.266433  , 0.27935481, 0.28376698, 0.27053094, 0.27126288,\n",
       "        0.16995502, 0.17058301, 0.16947103, 0.16934586, 0.17200994,\n",
       "        0.17375708, 0.17164207, 0.16539502]),\n",
       " 'mean_test_score': array([0.98063201, 0.98063201, 0.98063201, 0.98063201, 0.98063201,\n",
       "        0.98063201, 0.98063201, 0.98063201, 0.99541284, 0.99541284,\n",
       "        0.99541284, 0.99541284, 0.99541284, 0.99541284, 0.99541284,\n",
       "        0.99541284, 0.99796126, 0.99796126, 0.99796126, 0.99796126,\n",
       "        0.99796126, 0.99796126, 0.99796126, 0.99796126, 0.99898063,\n",
       "        0.99898063, 0.99898063, 0.99898063, 0.99898063, 0.99898063,\n",
       "        0.99898063, 0.99898063, 0.99949032, 0.99949032, 0.99949032,\n",
       "        0.99949032, 0.99949032, 0.99949032, 0.99949032, 0.99949032,\n",
       "        1.        , 1.        , 1.        , 1.        , 1.        ,\n",
       "        1.        , 1.        , 1.        ]),\n",
       " 'mean_train_score': array([0.98063201, 0.98063201, 0.98063201, 0.98063201, 0.98063201,\n",
       "        0.98063201, 0.98063201, 0.98063201, 0.99541284, 0.99541284,\n",
       "        0.99541284, 0.99541284, 0.99541284, 0.99541284, 0.99541284,\n",
       "        0.99541284, 0.99796126, 0.99796126, 0.99796126, 0.99796126,\n",
       "        0.99796126, 0.99796126, 0.99796126, 0.99796126, 0.99898063,\n",
       "        0.99898063, 0.99898063, 0.99898063, 0.99898063, 0.99898063,\n",
       "        0.99898063, 0.99898063, 0.99949032, 0.99949032, 0.99949032,\n",
       "        0.99949032, 0.99949032, 0.99949032, 0.99949032, 0.99949032,\n",
       "        1.        , 1.        , 1.        , 1.        , 1.        ,\n",
       "        1.        , 1.        , 1.        ]),\n",
       " 'param_C': masked_array(data=[0.1, 0.1, 0.1, 0.1, 0.1, 0.1, 0.1, 0.1, 0.5, 0.5, 0.5,\n",
       "                    0.5, 0.5, 0.5, 0.5, 0.5, 1.0, 1.0, 1.0, 1.0, 1.0, 1.0,\n",
       "                    1.0, 1.0, 5.0, 5.0, 5.0, 5.0, 5.0, 5.0, 5.0, 5.0, 10.0,\n",
       "                    10.0, 10.0, 10.0, 10.0, 10.0, 10.0, 10.0, 50.0, 50.0,\n",
       "                    50.0, 50.0, 50.0, 50.0, 50.0, 50.0],\n",
       "              mask=[False, False, False, False, False, False, False, False,\n",
       "                    False, False, False, False, False, False, False, False,\n",
       "                    False, False, False, False, False, False, False, False,\n",
       "                    False, False, False, False, False, False, False, False,\n",
       "                    False, False, False, False, False, False, False, False,\n",
       "                    False, False, False, False, False, False, False, False],\n",
       "        fill_value='?',\n",
       "             dtype=object),\n",
       " 'param_gamma': masked_array(data=[0.001, 0.005, 0.01, 0.05, 0.1, 0.5, 1.0, 5.0, 0.001,\n",
       "                    0.005, 0.01, 0.05, 0.1, 0.5, 1.0, 5.0, 0.001, 0.005,\n",
       "                    0.01, 0.05, 0.1, 0.5, 1.0, 5.0, 0.001, 0.005, 0.01,\n",
       "                    0.05, 0.1, 0.5, 1.0, 5.0, 0.001, 0.005, 0.01, 0.05,\n",
       "                    0.1, 0.5, 1.0, 5.0, 0.001, 0.005, 0.01, 0.05, 0.1, 0.5,\n",
       "                    1.0, 5.0],\n",
       "              mask=[False, False, False, False, False, False, False, False,\n",
       "                    False, False, False, False, False, False, False, False,\n",
       "                    False, False, False, False, False, False, False, False,\n",
       "                    False, False, False, False, False, False, False, False,\n",
       "                    False, False, False, False, False, False, False, False,\n",
       "                    False, False, False, False, False, False, False, False],\n",
       "        fill_value='?',\n",
       "             dtype=object),\n",
       " 'param_kernel': masked_array(data=['linear', 'linear', 'linear', 'linear', 'linear',\n",
       "                    'linear', 'linear', 'linear', 'linear', 'linear',\n",
       "                    'linear', 'linear', 'linear', 'linear', 'linear',\n",
       "                    'linear', 'linear', 'linear', 'linear', 'linear',\n",
       "                    'linear', 'linear', 'linear', 'linear', 'linear',\n",
       "                    'linear', 'linear', 'linear', 'linear', 'linear',\n",
       "                    'linear', 'linear', 'linear', 'linear', 'linear',\n",
       "                    'linear', 'linear', 'linear', 'linear', 'linear',\n",
       "                    'linear', 'linear', 'linear', 'linear', 'linear',\n",
       "                    'linear', 'linear', 'linear'],\n",
       "              mask=[False, False, False, False, False, False, False, False,\n",
       "                    False, False, False, False, False, False, False, False,\n",
       "                    False, False, False, False, False, False, False, False,\n",
       "                    False, False, False, False, False, False, False, False,\n",
       "                    False, False, False, False, False, False, False, False,\n",
       "                    False, False, False, False, False, False, False, False],\n",
       "        fill_value='?',\n",
       "             dtype=object),\n",
       " 'params': [{'C': 0.1, 'gamma': 0.001, 'kernel': 'linear'},\n",
       "  {'C': 0.1, 'gamma': 0.005, 'kernel': 'linear'},\n",
       "  {'C': 0.1, 'gamma': 0.01, 'kernel': 'linear'},\n",
       "  {'C': 0.1, 'gamma': 0.05, 'kernel': 'linear'},\n",
       "  {'C': 0.1, 'gamma': 0.1, 'kernel': 'linear'},\n",
       "  {'C': 0.1, 'gamma': 0.5, 'kernel': 'linear'},\n",
       "  {'C': 0.1, 'gamma': 1.0, 'kernel': 'linear'},\n",
       "  {'C': 0.1, 'gamma': 5.0, 'kernel': 'linear'},\n",
       "  {'C': 0.5, 'gamma': 0.001, 'kernel': 'linear'},\n",
       "  {'C': 0.5, 'gamma': 0.005, 'kernel': 'linear'},\n",
       "  {'C': 0.5, 'gamma': 0.01, 'kernel': 'linear'},\n",
       "  {'C': 0.5, 'gamma': 0.05, 'kernel': 'linear'},\n",
       "  {'C': 0.5, 'gamma': 0.1, 'kernel': 'linear'},\n",
       "  {'C': 0.5, 'gamma': 0.5, 'kernel': 'linear'},\n",
       "  {'C': 0.5, 'gamma': 1.0, 'kernel': 'linear'},\n",
       "  {'C': 0.5, 'gamma': 5.0, 'kernel': 'linear'},\n",
       "  {'C': 1.0, 'gamma': 0.001, 'kernel': 'linear'},\n",
       "  {'C': 1.0, 'gamma': 0.005, 'kernel': 'linear'},\n",
       "  {'C': 1.0, 'gamma': 0.01, 'kernel': 'linear'},\n",
       "  {'C': 1.0, 'gamma': 0.05, 'kernel': 'linear'},\n",
       "  {'C': 1.0, 'gamma': 0.1, 'kernel': 'linear'},\n",
       "  {'C': 1.0, 'gamma': 0.5, 'kernel': 'linear'},\n",
       "  {'C': 1.0, 'gamma': 1.0, 'kernel': 'linear'},\n",
       "  {'C': 1.0, 'gamma': 5.0, 'kernel': 'linear'},\n",
       "  {'C': 5.0, 'gamma': 0.001, 'kernel': 'linear'},\n",
       "  {'C': 5.0, 'gamma': 0.005, 'kernel': 'linear'},\n",
       "  {'C': 5.0, 'gamma': 0.01, 'kernel': 'linear'},\n",
       "  {'C': 5.0, 'gamma': 0.05, 'kernel': 'linear'},\n",
       "  {'C': 5.0, 'gamma': 0.1, 'kernel': 'linear'},\n",
       "  {'C': 5.0, 'gamma': 0.5, 'kernel': 'linear'},\n",
       "  {'C': 5.0, 'gamma': 1.0, 'kernel': 'linear'},\n",
       "  {'C': 5.0, 'gamma': 5.0, 'kernel': 'linear'},\n",
       "  {'C': 10.0, 'gamma': 0.001, 'kernel': 'linear'},\n",
       "  {'C': 10.0, 'gamma': 0.005, 'kernel': 'linear'},\n",
       "  {'C': 10.0, 'gamma': 0.01, 'kernel': 'linear'},\n",
       "  {'C': 10.0, 'gamma': 0.05, 'kernel': 'linear'},\n",
       "  {'C': 10.0, 'gamma': 0.1, 'kernel': 'linear'},\n",
       "  {'C': 10.0, 'gamma': 0.5, 'kernel': 'linear'},\n",
       "  {'C': 10.0, 'gamma': 1.0, 'kernel': 'linear'},\n",
       "  {'C': 10.0, 'gamma': 5.0, 'kernel': 'linear'},\n",
       "  {'C': 50.0, 'gamma': 0.001, 'kernel': 'linear'},\n",
       "  {'C': 50.0, 'gamma': 0.005, 'kernel': 'linear'},\n",
       "  {'C': 50.0, 'gamma': 0.01, 'kernel': 'linear'},\n",
       "  {'C': 50.0, 'gamma': 0.05, 'kernel': 'linear'},\n",
       "  {'C': 50.0, 'gamma': 0.1, 'kernel': 'linear'},\n",
       "  {'C': 50.0, 'gamma': 0.5, 'kernel': 'linear'},\n",
       "  {'C': 50.0, 'gamma': 1.0, 'kernel': 'linear'},\n",
       "  {'C': 50.0, 'gamma': 5.0, 'kernel': 'linear'}],\n",
       " 'rank_test_score': array([41, 41, 41, 41, 41, 41, 41, 41, 33, 33, 33, 33, 33, 33, 33, 33, 25,\n",
       "        25, 25, 25, 25, 25, 25, 25, 17, 17, 17, 17, 17, 17, 17, 17,  9,  9,\n",
       "         9,  9,  9,  9,  9,  9,  1,  1,  1,  1,  1,  1,  1,  1],\n",
       "       dtype=int32),\n",
       " 'split0_test_score': array([0.98063201, 0.98063201, 0.98063201, 0.98063201, 0.98063201,\n",
       "        0.98063201, 0.98063201, 0.98063201, 0.99541284, 0.99541284,\n",
       "        0.99541284, 0.99541284, 0.99541284, 0.99541284, 0.99541284,\n",
       "        0.99541284, 0.99796126, 0.99796126, 0.99796126, 0.99796126,\n",
       "        0.99796126, 0.99796126, 0.99796126, 0.99796126, 0.99898063,\n",
       "        0.99898063, 0.99898063, 0.99898063, 0.99898063, 0.99898063,\n",
       "        0.99898063, 0.99898063, 0.99949032, 0.99949032, 0.99949032,\n",
       "        0.99949032, 0.99949032, 0.99949032, 0.99949032, 0.99949032,\n",
       "        1.        , 1.        , 1.        , 1.        , 1.        ,\n",
       "        1.        , 1.        , 1.        ]),\n",
       " 'split0_train_score': array([0.98063201, 0.98063201, 0.98063201, 0.98063201, 0.98063201,\n",
       "        0.98063201, 0.98063201, 0.98063201, 0.99541284, 0.99541284,\n",
       "        0.99541284, 0.99541284, 0.99541284, 0.99541284, 0.99541284,\n",
       "        0.99541284, 0.99796126, 0.99796126, 0.99796126, 0.99796126,\n",
       "        0.99796126, 0.99796126, 0.99796126, 0.99796126, 0.99898063,\n",
       "        0.99898063, 0.99898063, 0.99898063, 0.99898063, 0.99898063,\n",
       "        0.99898063, 0.99898063, 0.99949032, 0.99949032, 0.99949032,\n",
       "        0.99949032, 0.99949032, 0.99949032, 0.99949032, 0.99949032,\n",
       "        1.        , 1.        , 1.        , 1.        , 1.        ,\n",
       "        1.        , 1.        , 1.        ]),\n",
       " 'std_fit_time': array([0., 0., 0., 0., 0., 0., 0., 0., 0., 0., 0., 0., 0., 0., 0., 0., 0.,\n",
       "        0., 0., 0., 0., 0., 0., 0., 0., 0., 0., 0., 0., 0., 0., 0., 0., 0.,\n",
       "        0., 0., 0., 0., 0., 0., 0., 0., 0., 0., 0., 0., 0., 0.]),\n",
       " 'std_score_time': array([0., 0., 0., 0., 0., 0., 0., 0., 0., 0., 0., 0., 0., 0., 0., 0., 0.,\n",
       "        0., 0., 0., 0., 0., 0., 0., 0., 0., 0., 0., 0., 0., 0., 0., 0., 0.,\n",
       "        0., 0., 0., 0., 0., 0., 0., 0., 0., 0., 0., 0., 0., 0.]),\n",
       " 'std_test_score': array([0., 0., 0., 0., 0., 0., 0., 0., 0., 0., 0., 0., 0., 0., 0., 0., 0.,\n",
       "        0., 0., 0., 0., 0., 0., 0., 0., 0., 0., 0., 0., 0., 0., 0., 0., 0.,\n",
       "        0., 0., 0., 0., 0., 0., 0., 0., 0., 0., 0., 0., 0., 0.]),\n",
       " 'std_train_score': array([0., 0., 0., 0., 0., 0., 0., 0., 0., 0., 0., 0., 0., 0., 0., 0., 0.,\n",
       "        0., 0., 0., 0., 0., 0., 0., 0., 0., 0., 0., 0., 0., 0., 0., 0., 0.,\n",
       "        0., 0., 0., 0., 0., 0., 0., 0., 0., 0., 0., 0., 0., 0.])}"
      ]
     },
     "execution_count": 89,
     "metadata": {},
     "output_type": "execute_result"
    }
   ],
   "source": [
    "a.cv_results_"
   ]
  }
 ],
 "metadata": {
  "kernelspec": {
   "display_name": "Python 2",
   "language": "python",
   "name": "python2"
  },
  "language_info": {
   "codemirror_mode": {
    "name": "ipython",
    "version": 2
   },
   "file_extension": ".py",
   "mimetype": "text/x-python",
   "name": "python",
   "nbconvert_exporter": "python",
   "pygments_lexer": "ipython2",
   "version": "2.7.14"
  }
 },
 "nbformat": 4,
 "nbformat_minor": 2
}

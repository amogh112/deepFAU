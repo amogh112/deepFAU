{
 "cells": [
  {
   "cell_type": "markdown",
   "metadata": {},
   "source": [
    "# Deep Learning based FACs and Action Unit occurrence and Intensity Estimation\n",
    "\n",
    "#### \\- Amogh Gudi, Emrah Tasli, Tim den Uyl, Andreas Marulis\n",
    "https://ieeexplore.ieee.org/stamp/stamp.jsp?tp=&arnumber=7284873"
   ]
  },
  {
   "cell_type": "markdown",
   "metadata": {},
   "source": [
    "### Plan\n",
    "1. Load dataset and labels\n",
    "2. Build a model\n",
    "3. Train Model\n",
    "4. Test Model"
   ]
  },
  {
   "cell_type": "markdown",
   "metadata": {},
   "source": [
    "**Importing Libraries**"
   ]
  },
  {
   "cell_type": "code",
   "execution_count": 1,
   "metadata": {},
   "outputs": [
    {
     "name": "stderr",
     "output_type": "stream",
     "text": [
      "/home/amogh/anaconda3/envs/faus_dl/lib/python3.6/site-packages/h5py/__init__.py:36: FutureWarning: Conversion of the second argument of issubdtype from `float` to `np.floating` is deprecated. In future, it will be treated as `np.float64 == np.dtype(float).type`.\n",
      "  from ._conv import register_converters as _register_converters\n",
      "Using TensorFlow backend.\n"
     ]
    }
   ],
   "source": [
    "import keras\n",
    "import numpy as np"
   ]
  },
  {
   "cell_type": "code",
   "execution_count": 2,
   "metadata": {},
   "outputs": [],
   "source": [
    "import pandas as pd"
   ]
  },
  {
   "cell_type": "code",
   "execution_count": 3,
   "metadata": {},
   "outputs": [],
   "source": [
    "import matplotlib.pyplot as plt\n",
    "%matplotlib inline"
   ]
  },
  {
   "cell_type": "markdown",
   "metadata": {},
   "source": [
    "### 1. Loading dataset and labels"
   ]
  },
  {
   "cell_type": "markdown",
   "metadata": {},
   "source": [
    "a. Loading dataset"
   ]
  },
  {
   "cell_type": "code",
   "execution_count": 4,
   "metadata": {},
   "outputs": [],
   "source": [
    "BP4D_base_path='/home/amogh/cmu/dataset/BP4D/'"
   ]
  },
  {
   "cell_type": "code",
   "execution_count": 5,
   "metadata": {},
   "outputs": [],
   "source": [
    "BP4D_training_folder=BP4D_base_path+'BP4D-training/'"
   ]
  },
  {
   "cell_type": "code",
   "execution_count": 6,
   "metadata": {},
   "outputs": [],
   "source": [
    "from keras.preprocessing.image import ImageDataGenerator"
   ]
  },
  {
   "cell_type": "code",
   "execution_count": 7,
   "metadata": {},
   "outputs": [],
   "source": [
    "gen=ImageDataGenerator()"
   ]
  },
  {
   "cell_type": "markdown",
   "metadata": {},
   "source": [
    "Batches from directory:"
   ]
  },
  {
   "cell_type": "code",
   "execution_count": 8,
   "metadata": {},
   "outputs": [
    {
     "name": "stdout",
     "output_type": "stream",
     "text": [
      "Found 553 images belonging to 1 classes.\n"
     ]
    }
   ],
   "source": [
    "batch_size=32\n",
    "batches_from_dir=gen.flow_from_directory(BP4D_training_folder,target_size=(48,48),batch_size=batch_size)"
   ]
  },
  {
   "cell_type": "markdown",
   "metadata": {},
   "source": [
    "b. Loading labels"
   ]
  },
  {
   "cell_type": "code",
   "execution_count": 9,
   "metadata": {},
   "outputs": [],
   "source": [
    "BP4D_AU_path=BP4D_base_path+'AUCoding/AUCoding/'"
   ]
  },
  {
   "cell_type": "raw",
   "metadata": {},
   "source": [
    "example_subject='F001'\n",
    "example_sequence='T1'\n",
    "example_file=f'{example_subject}_{example_sequence}.csv'\n",
    "example_file\n",
    "\n",
    "df_example=pd.read_csv(BP4D_AU_path+example_file)\n",
    "df_example.head()"
   ]
  },
  {
   "cell_type": "raw",
   "metadata": {},
   "source": [
    "type(df_example['0'][3])"
   ]
  },
  {
   "cell_type": "raw",
   "metadata": {},
   "source": [
    "frame_no=2440\n",
    "list_of_faus=list(df_example.loc[df_example['0']==frame_no].iloc[0]) #list: [frame_no, fau1, fau2, fau3....]"
   ]
  },
  {
   "cell_type": "markdown",
   "metadata": {},
   "source": [
    "Function to get labels according to subject, sequence, frame No: (details and examples in datasets.ipynb)"
   ]
  },
  {
   "cell_type": "code",
   "execution_count": 10,
   "metadata": {},
   "outputs": [],
   "source": [
    "def label_getter(subj_req,seq_req,frame_req):\n",
    "    au_file_reqd=BP4D_AU_path+f'{subj_req}_{seq_req}.csv'\n",
    "#     print (au_file_reqd)\n",
    "    df_reqd=pd.read_csv(au_file_reqd)\n",
    "    list_of_faus=list(df_reqd.loc[df_reqd['0']==frame_req].iloc[0]) #list: [frame_no, fau1, fau2, fau3....]\n",
    "    #choose FAUS for which you want the labels.\n",
    "    list_mask=[1,2,4,6,7,10,12,14,15,17,23]\n",
    "    list_final=[list_of_faus[i] for i in list_mask]\n",
    "    return list_final"
   ]
  },
  {
   "cell_type": "code",
   "execution_count": 11,
   "metadata": {},
   "outputs": [
    {
     "data": {
      "text/plain": [
       "[0, 0, 0, 0, 0, 1, 1, 0, 0, 0, 0]"
      ]
     },
     "execution_count": 11,
     "metadata": {},
     "output_type": "execute_result"
    }
   ],
   "source": [
    "label_getter('F001','T1',2440)"
   ]
  },
  {
   "cell_type": "markdown",
   "metadata": {},
   "source": [
    "We define our own flow_from_directory function so that we can assign multiple labels to the training data before passing it to the training function"
   ]
  },
  {
   "cell_type": "code",
   "execution_count": 12,
   "metadata": {},
   "outputs": [
    {
     "data": {
      "text/plain": [
       "['F001/T1/2440.jpg',\n",
       " 'F001/T1/2441.jpg',\n",
       " 'F001/T1/2442.jpg',\n",
       " 'F001/T1/2443.jpg',\n",
       " 'F001/T1/2444.jpg',\n",
       " 'F001/T1/2445.jpg',\n",
       " 'F001/T1/2446.jpg',\n",
       " 'F001/T1/2447.jpg',\n",
       " 'F001/T1/2448.jpg',\n",
       " 'F001/T1/2449.jpg',\n",
       " 'F001/T1/2450.jpg',\n",
       " 'F001/T1/2451.jpg',\n",
       " 'F001/T1/2452.jpg',\n",
       " 'F001/T1/2453.jpg',\n",
       " 'F001/T1/2454.jpg',\n",
       " 'F001/T1/2455.jpg',\n",
       " 'F001/T1/2456.jpg',\n",
       " 'F001/T1/2457.jpg',\n",
       " 'F001/T1/2458.jpg',\n",
       " 'F001/T1/2459.jpg',\n",
       " 'F001/T1/2460.jpg',\n",
       " 'F001/T1/2461.jpg',\n",
       " 'F001/T1/2462.jpg',\n",
       " 'F001/T1/2463.jpg',\n",
       " 'F001/T1/2464.jpg',\n",
       " 'F001/T1/2465.jpg',\n",
       " 'F001/T1/2466.jpg',\n",
       " 'F001/T1/2467.jpg',\n",
       " 'F001/T1/2468.jpg',\n",
       " 'F001/T1/2469.jpg',\n",
       " 'F001/T1/2470.jpg',\n",
       " 'F001/T1/2471.jpg',\n",
       " 'F001/T1/2472.jpg',\n",
       " 'F001/T1/2473.jpg',\n",
       " 'F001/T1/2474.jpg',\n",
       " 'F001/T1/2475.jpg',\n",
       " 'F001/T1/2476.jpg',\n",
       " 'F001/T1/2477.jpg',\n",
       " 'F001/T1/2478.jpg',\n",
       " 'F001/T1/2479.jpg',\n",
       " 'F001/T1/2480.jpg',\n",
       " 'F001/T1/2481.jpg',\n",
       " 'F001/T1/2482.jpg',\n",
       " 'F001/T1/2483.jpg',\n",
       " 'F001/T1/2484.jpg',\n",
       " 'F001/T1/2485.jpg',\n",
       " 'F001/T1/2486.jpg',\n",
       " 'F001/T1/2487.jpg',\n",
       " 'F001/T1/2488.jpg',\n",
       " 'F001/T1/2489.jpg',\n",
       " 'F001/T1/2490.jpg',\n",
       " 'F001/T1/2491.jpg',\n",
       " 'F001/T1/2492.jpg',\n",
       " 'F001/T1/2493.jpg',\n",
       " 'F001/T1/2494.jpg',\n",
       " 'F001/T1/2495.jpg',\n",
       " 'F001/T1/2496.jpg',\n",
       " 'F001/T1/2497.jpg',\n",
       " 'F001/T1/2498.jpg',\n",
       " 'F001/T1/2499.jpg',\n",
       " 'F001/T1/2500.jpg',\n",
       " 'F001/T1/2501.jpg',\n",
       " 'F001/T1/2502.jpg',\n",
       " 'F001/T1/2503.jpg',\n",
       " 'F001/T1/2504.jpg',\n",
       " 'F001/T1/2505.jpg',\n",
       " 'F001/T1/2506.jpg',\n",
       " 'F001/T1/2507.jpg',\n",
       " 'F001/T1/2508.jpg',\n",
       " 'F001/T1/2509.jpg',\n",
       " 'F001/T1/2510.jpg',\n",
       " 'F001/T1/2511.jpg',\n",
       " 'F001/T1/2512.jpg',\n",
       " 'F001/T1/2513.jpg',\n",
       " 'F001/T1/2514.jpg',\n",
       " 'F001/T1/2515.jpg',\n",
       " 'F001/T1/2516.jpg',\n",
       " 'F001/T1/2517.jpg',\n",
       " 'F001/T1/2518.jpg',\n",
       " 'F001/T1/2519.jpg',\n",
       " 'F001/T1/2520.jpg',\n",
       " 'F001/T1/2521.jpg',\n",
       " 'F001/T1/2522.jpg',\n",
       " 'F001/T1/2523.jpg',\n",
       " 'F001/T1/2524.jpg',\n",
       " 'F001/T1/2525.jpg',\n",
       " 'F001/T1/2526.jpg',\n",
       " 'F001/T1/2527.jpg',\n",
       " 'F001/T1/2528.jpg',\n",
       " 'F001/T1/2529.jpg',\n",
       " 'F001/T1/2530.jpg',\n",
       " 'F001/T1/2531.jpg',\n",
       " 'F001/T1/2532.jpg',\n",
       " 'F001/T1/2533.jpg',\n",
       " 'F001/T1/2534.jpg',\n",
       " 'F001/T1/2535.jpg',\n",
       " 'F001/T1/2536.jpg',\n",
       " 'F001/T1/2537.jpg',\n",
       " 'F001/T1/2538.jpg',\n",
       " 'F001/T1/2539.jpg',\n",
       " 'F001/T1/2540.jpg',\n",
       " 'F001/T1/2541.jpg',\n",
       " 'F001/T1/2542.jpg',\n",
       " 'F001/T1/2543.jpg',\n",
       " 'F001/T1/2544.jpg',\n",
       " 'F001/T1/2545.jpg',\n",
       " 'F001/T1/2546.jpg',\n",
       " 'F001/T1/2547.jpg',\n",
       " 'F001/T1/2548.jpg',\n",
       " 'F001/T1/2549.jpg',\n",
       " 'F001/T1/2550.jpg',\n",
       " 'F001/T1/2551.jpg',\n",
       " 'F001/T1/2552.jpg',\n",
       " 'F001/T1/2553.jpg',\n",
       " 'F001/T1/2554.jpg',\n",
       " 'F001/T1/2555.jpg',\n",
       " 'F001/T1/2556.jpg',\n",
       " 'F001/T1/2557.jpg',\n",
       " 'F001/T1/2558.jpg',\n",
       " 'F001/T1/2559.jpg',\n",
       " 'F001/T1/2560.jpg',\n",
       " 'F001/T1/2561.jpg',\n",
       " 'F001/T1/2562.jpg',\n",
       " 'F001/T1/2563.jpg',\n",
       " 'F001/T1/2564.jpg',\n",
       " 'F001/T1/2565.jpg',\n",
       " 'F001/T1/2566.jpg',\n",
       " 'F001/T1/2567.jpg',\n",
       " 'F001/T1/2568.jpg',\n",
       " 'F001/T1/2569.jpg',\n",
       " 'F001/T1/2570.jpg',\n",
       " 'F001/T1/2571.jpg',\n",
       " 'F001/T1/2572.jpg',\n",
       " 'F001/T1/2573.jpg',\n",
       " 'F001/T1/2574.jpg',\n",
       " 'F001/T1/2575.jpg',\n",
       " 'F001/T1/2576.jpg',\n",
       " 'F001/T1/2577.jpg',\n",
       " 'F001/T1/2578.jpg',\n",
       " 'F001/T1/2579.jpg',\n",
       " 'F001/T1/2580.jpg',\n",
       " 'F001/T1/2581.jpg',\n",
       " 'F001/T1/2582.jpg',\n",
       " 'F001/T1/2583.jpg',\n",
       " 'F001/T1/2584.jpg',\n",
       " 'F001/T1/2585.jpg',\n",
       " 'F001/T1/2586.jpg',\n",
       " 'F001/T1/2587.jpg',\n",
       " 'F001/T1/2588.jpg',\n",
       " 'F001/T1/2589.jpg',\n",
       " 'F001/T1/2590.jpg',\n",
       " 'F001/T1/2591.jpg',\n",
       " 'F001/T1/2592.jpg',\n",
       " 'F001/T1/2593.jpg',\n",
       " 'F001/T1/2594.jpg',\n",
       " 'F001/T1/2595.jpg',\n",
       " 'F001/T1/2596.jpg',\n",
       " 'F001/T1/2597.jpg',\n",
       " 'F001/T1/2598.jpg',\n",
       " 'F001/T1/2599.jpg',\n",
       " 'F001/T1/2600.jpg',\n",
       " 'F001/T1/2601.jpg',\n",
       " 'F001/T1/2602.jpg',\n",
       " 'F001/T1/2603.jpg',\n",
       " 'F001/T1/2604.jpg',\n",
       " 'F001/T1/2605.jpg',\n",
       " 'F001/T1/2606.jpg',\n",
       " 'F001/T1/2607.jpg',\n",
       " 'F001/T1/2608.jpg',\n",
       " 'F001/T1/2609.jpg',\n",
       " 'F001/T1/2610.jpg',\n",
       " 'F001/T1/2611.jpg',\n",
       " 'F001/T1/2612.jpg',\n",
       " 'F001/T1/2613.jpg',\n",
       " 'F001/T1/2614.jpg',\n",
       " 'F001/T1/2615.jpg',\n",
       " 'F001/T1/2616.jpg',\n",
       " 'F001/T1/2617.jpg',\n",
       " 'F001/T1/2618.jpg',\n",
       " 'F001/T1/2619.jpg',\n",
       " 'F001/T1/2620.jpg',\n",
       " 'F001/T1/2621.jpg',\n",
       " 'F001/T1/2622.jpg',\n",
       " 'F001/T1/2623.jpg',\n",
       " 'F001/T1/2624.jpg',\n",
       " 'F001/T1/2625.jpg',\n",
       " 'F001/T1/2626.jpg',\n",
       " 'F001/T1/2627.jpg',\n",
       " 'F001/T1/2628.jpg',\n",
       " 'F001/T1/2629.jpg',\n",
       " 'F001/T1/2630.jpg',\n",
       " 'F001/T1/2631.jpg',\n",
       " 'F001/T1/2632.jpg',\n",
       " 'F001/T1/2633.jpg',\n",
       " 'F001/T1/2634.jpg',\n",
       " 'F001/T1/2635.jpg',\n",
       " 'F001/T1/2636.jpg',\n",
       " 'F001/T1/2637.jpg',\n",
       " 'F001/T1/2638.jpg',\n",
       " 'F001/T1/2639.jpg',\n",
       " 'F001/T1/2640.jpg',\n",
       " 'F001/T1/2641.jpg',\n",
       " 'F001/T1/2642.jpg',\n",
       " 'F001/T1/2643.jpg',\n",
       " 'F001/T1/2644.jpg',\n",
       " 'F001/T1/2645.jpg',\n",
       " 'F001/T1/2646.jpg',\n",
       " 'F001/T1/2647.jpg',\n",
       " 'F001/T1/2648.jpg',\n",
       " 'F001/T1/2649.jpg',\n",
       " 'F001/T1/2650.jpg',\n",
       " 'F001/T1/2651.jpg',\n",
       " 'F001/T1/2652.jpg',\n",
       " 'F001/T1/2653.jpg',\n",
       " 'F001/T1/2654.jpg',\n",
       " 'F001/T1/2655.jpg',\n",
       " 'F001/T1/2656.jpg',\n",
       " 'F001/T1/2657.jpg',\n",
       " 'F001/T1/2658.jpg',\n",
       " 'F001/T1/2659.jpg',\n",
       " 'F001/T1/2660.jpg',\n",
       " 'F001/T1/2661.jpg',\n",
       " 'F001/T1/2662.jpg',\n",
       " 'F001/T1/2663.jpg',\n",
       " 'F001/T1/2664.jpg',\n",
       " 'F001/T1/2665.jpg',\n",
       " 'F001/T1/2666.jpg',\n",
       " 'F001/T1/2667.jpg',\n",
       " 'F001/T1/2668.jpg',\n",
       " 'F001/T1/2669.jpg',\n",
       " 'F001/T1/2670.jpg',\n",
       " 'F001/T1/2671.jpg',\n",
       " 'F001/T1/2672.jpg',\n",
       " 'F001/T1/2673.jpg',\n",
       " 'F001/T1/2674.jpg',\n",
       " 'F001/T1/2675.jpg',\n",
       " 'F001/T1/2676.jpg',\n",
       " 'F001/T1/2677.jpg',\n",
       " 'F001/T1/2678.jpg',\n",
       " 'F001/T1/2679.jpg',\n",
       " 'F001/T1/2680.jpg',\n",
       " 'F001/T1/2681.jpg',\n",
       " 'F001/T1/2682.jpg',\n",
       " 'F001/T1/2683.jpg',\n",
       " 'F001/T1/2684.jpg',\n",
       " 'F001/T1/2685.jpg',\n",
       " 'F001/T1/2686.jpg',\n",
       " 'F001/T1/2687.jpg',\n",
       " 'F001/T1/2688.jpg',\n",
       " 'F001/T1/2689.jpg',\n",
       " 'F001/T1/2690.jpg',\n",
       " 'F001/T1/2691.jpg',\n",
       " 'F001/T1/2692.jpg',\n",
       " 'F001/T1/2693.jpg',\n",
       " 'F001/T1/2694.jpg',\n",
       " 'F001/T1/2695.jpg',\n",
       " 'F001/T1/2696.jpg',\n",
       " 'F001/T1/2697.jpg',\n",
       " 'F001/T1/2698.jpg',\n",
       " 'F001/T1/2699.jpg',\n",
       " 'F001/T1/2700.jpg',\n",
       " 'F001/T1/2701.jpg',\n",
       " 'F001/T1/2702.jpg',\n",
       " 'F001/T1/2703.jpg',\n",
       " 'F001/T1/2704.jpg',\n",
       " 'F001/T1/2705.jpg',\n",
       " 'F001/T1/2706.jpg',\n",
       " 'F001/T1/2707.jpg',\n",
       " 'F001/T1/2708.jpg',\n",
       " 'F001/T1/2709.jpg',\n",
       " 'F001/T1/2710.jpg',\n",
       " 'F001/T1/2711.jpg',\n",
       " 'F001/T1/2712.jpg',\n",
       " 'F001/T1/2713.jpg',\n",
       " 'F001/T1/2714.jpg',\n",
       " 'F001/T1/2715.jpg',\n",
       " 'F001/T1/2716.jpg',\n",
       " 'F001/T1/2717.jpg',\n",
       " 'F001/T1/2718.jpg',\n",
       " 'F001/T1/2719.jpg',\n",
       " 'F001/T1/2720.jpg',\n",
       " 'F001/T1/2721.jpg',\n",
       " 'F001/T1/2722.jpg',\n",
       " 'F001/T1/2723.jpg',\n",
       " 'F001/T1/2724.jpg',\n",
       " 'F001/T1/2725.jpg',\n",
       " 'F001/T1/2726.jpg',\n",
       " 'F001/T1/2727.jpg',\n",
       " 'F001/T1/2728.jpg',\n",
       " 'F001/T1/2729.jpg',\n",
       " 'F001/T1/2730.jpg',\n",
       " 'F001/T1/2731.jpg',\n",
       " 'F001/T1/2732.jpg',\n",
       " 'F001/T1/2733.jpg',\n",
       " 'F001/T1/2734.jpg',\n",
       " 'F001/T1/2735.jpg',\n",
       " 'F001/T1/2736.jpg',\n",
       " 'F001/T1/2737.jpg',\n",
       " 'F001/T1/2738.jpg',\n",
       " 'F001/T1/2739.jpg',\n",
       " 'F001/T1/2740.jpg',\n",
       " 'F001/T1/2741.jpg',\n",
       " 'F001/T1/2742.jpg',\n",
       " 'F001/T1/2743.jpg',\n",
       " 'F001/T1/2744.jpg',\n",
       " 'F001/T1/2745.jpg',\n",
       " 'F001/T1/2746.jpg',\n",
       " 'F001/T1/2747.jpg',\n",
       " 'F001/T1/2748.jpg',\n",
       " 'F001/T1/2749.jpg',\n",
       " 'F001/T1/2750.jpg',\n",
       " 'F001/T1/2751.jpg',\n",
       " 'F001/T1/2752.jpg',\n",
       " 'F001/T1/2753.jpg',\n",
       " 'F001/T1/2754.jpg',\n",
       " 'F001/T1/2755.jpg',\n",
       " 'F001/T1/2756.jpg',\n",
       " 'F001/T1/2757.jpg',\n",
       " 'F001/T1/2758.jpg',\n",
       " 'F001/T1/2759.jpg',\n",
       " 'F001/T1/2760.jpg',\n",
       " 'F001/T1/2761.jpg',\n",
       " 'F001/T1/2762.jpg',\n",
       " 'F001/T1/2763.jpg',\n",
       " 'F001/T1/2764.jpg',\n",
       " 'F001/T1/2765.jpg',\n",
       " 'F001/T1/2766.jpg',\n",
       " 'F001/T1/2767.jpg',\n",
       " 'F001/T1/2768.jpg',\n",
       " 'F001/T1/2769.jpg',\n",
       " 'F001/T1/2770.jpg',\n",
       " 'F001/T1/2771.jpg',\n",
       " 'F001/T1/2772.jpg',\n",
       " 'F001/T1/2773.jpg',\n",
       " 'F001/T1/2774.jpg',\n",
       " 'F001/T1/2775.jpg',\n",
       " 'F001/T1/2776.jpg',\n",
       " 'F001/T1/2777.jpg',\n",
       " 'F001/T1/2778.jpg',\n",
       " 'F001/T1/2779.jpg',\n",
       " 'F001/T1/2780.jpg',\n",
       " 'F001/T1/2781.jpg',\n",
       " 'F001/T1/2782.jpg',\n",
       " 'F001/T1/2783.jpg',\n",
       " 'F001/T1/2784.jpg',\n",
       " 'F001/T1/2785.jpg',\n",
       " 'F001/T1/2786.jpg',\n",
       " 'F001/T1/2787.jpg',\n",
       " 'F001/T1/2788.jpg',\n",
       " 'F001/T1/2789.jpg',\n",
       " 'F001/T1/2790.jpg',\n",
       " 'F001/T1/2791.jpg',\n",
       " 'F001/T1/2792.jpg',\n",
       " 'F001/T1/2793.jpg',\n",
       " 'F001/T1/2794.jpg',\n",
       " 'F001/T1/2795.jpg',\n",
       " 'F001/T1/2796.jpg',\n",
       " 'F001/T1/2797.jpg',\n",
       " 'F001/T1/2798.jpg',\n",
       " 'F001/T1/2799.jpg',\n",
       " 'F001/T1/2800.jpg',\n",
       " 'F001/T1/2801.jpg',\n",
       " 'F001/T1/2802.jpg',\n",
       " 'F001/T1/2803.jpg',\n",
       " 'F001/T1/2804.jpg',\n",
       " 'F001/T1/2805.jpg',\n",
       " 'F001/T1/2806.jpg',\n",
       " 'F001/T1/2807.jpg',\n",
       " 'F001/T1/2808.jpg',\n",
       " 'F001/T1/2809.jpg',\n",
       " 'F001/T1/2810.jpg',\n",
       " 'F001/T1/2811.jpg',\n",
       " 'F001/T1/2812.jpg',\n",
       " 'F001/T1/2813.jpg',\n",
       " 'F001/T1/2814.jpg',\n",
       " 'F001/T1/2815.jpg',\n",
       " 'F001/T1/2816.jpg',\n",
       " 'F001/T1/2817.jpg',\n",
       " 'F001/T1/2818.jpg',\n",
       " 'F001/T1/2819.jpg',\n",
       " 'F001/T1/2820.jpg',\n",
       " 'F001/T1/2821.jpg',\n",
       " 'F001/T1/2822.jpg',\n",
       " 'F001/T1/2823.jpg',\n",
       " 'F001/T1/2824.jpg',\n",
       " 'F001/T1/2825.jpg',\n",
       " 'F001/T1/2826.jpg',\n",
       " 'F001/T1/2827.jpg',\n",
       " 'F001/T1/2828.jpg',\n",
       " 'F001/T1/2829.jpg',\n",
       " 'F001/T1/2830.jpg',\n",
       " 'F001/T1/2831.jpg',\n",
       " 'F001/T1/2832.jpg',\n",
       " 'F001/T1/2833.jpg',\n",
       " 'F001/T1/2834.jpg',\n",
       " 'F001/T1/2835.jpg',\n",
       " 'F001/T1/2836.jpg',\n",
       " 'F001/T1/2837.jpg',\n",
       " 'F001/T1/2838.jpg',\n",
       " 'F001/T1/2839.jpg',\n",
       " 'F001/T1/2840.jpg',\n",
       " 'F001/T1/2841.jpg',\n",
       " 'F001/T1/2842.jpg',\n",
       " 'F001/T1/2843.jpg',\n",
       " 'F001/T1/2844.jpg',\n",
       " 'F001/T1/2845.jpg',\n",
       " 'F001/T1/2846.jpg',\n",
       " 'F001/T1/2847.jpg',\n",
       " 'F001/T1/2848.jpg',\n",
       " 'F001/T1/2849.jpg',\n",
       " 'F001/T1/2850.jpg',\n",
       " 'F001/T1/2851.jpg',\n",
       " 'F001/T1/2852.jpg',\n",
       " 'F001/T1/2853.jpg',\n",
       " 'F001/T1/2854.jpg',\n",
       " 'F001/T1/2855.jpg',\n",
       " 'F001/T1/2856.jpg',\n",
       " 'F001/T1/2857.jpg',\n",
       " 'F001/T1/2858.jpg',\n",
       " 'F001/T1/2859.jpg',\n",
       " 'F001/T1/2860.jpg',\n",
       " 'F001/T1/2861.jpg',\n",
       " 'F001/T1/2862.jpg',\n",
       " 'F001/T1/2863.jpg',\n",
       " 'F001/T1/2864.jpg',\n",
       " 'F001/T1/2865.jpg',\n",
       " 'F001/T1/2866.jpg',\n",
       " 'F001/T1/2867.jpg',\n",
       " 'F001/T1/2868.jpg',\n",
       " 'F001/T1/2869.jpg',\n",
       " 'F001/T1/2870.jpg',\n",
       " 'F001/T1/2871.jpg',\n",
       " 'F001/T1/2872.jpg',\n",
       " 'F001/T1/2873.jpg',\n",
       " 'F001/T1/2874.jpg',\n",
       " 'F001/T1/2875.jpg',\n",
       " 'F001/T1/2876.jpg',\n",
       " 'F001/T1/2877.jpg',\n",
       " 'F001/T1/2878.jpg',\n",
       " 'F001/T1/2879.jpg',\n",
       " 'F001/T1/2880.jpg',\n",
       " 'F001/T1/2881.jpg',\n",
       " 'F001/T1/2882.jpg',\n",
       " 'F001/T1/2883.jpg',\n",
       " 'F001/T1/2884.jpg',\n",
       " 'F001/T1/2885.jpg',\n",
       " 'F001/T1/2886.jpg',\n",
       " 'F001/T1/2887.jpg',\n",
       " 'F001/T1/2888.jpg',\n",
       " 'F001/T1/2889.jpg',\n",
       " 'F001/T1/2890.jpg',\n",
       " 'F001/T1/2891.jpg',\n",
       " 'F001/T1/2892.jpg',\n",
       " 'F001/T1/2893.jpg',\n",
       " 'F001/T1/2894.jpg',\n",
       " 'F001/T1/2895.jpg',\n",
       " 'F001/T1/2896.jpg',\n",
       " 'F001/T1/2897.jpg',\n",
       " 'F001/T1/2898.jpg',\n",
       " 'F001/T1/2899.jpg',\n",
       " 'F001/T1/2900.jpg',\n",
       " 'F001/T1/2901.jpg',\n",
       " 'F001/T1/2902.jpg',\n",
       " 'F001/T1/2903.jpg',\n",
       " 'F001/T1/2904.jpg',\n",
       " 'F001/T1/2905.jpg',\n",
       " 'F001/T1/2906.jpg',\n",
       " 'F001/T1/2907.jpg',\n",
       " 'F001/T1/2908.jpg',\n",
       " 'F001/T1/2909.jpg',\n",
       " 'F001/T1/2910.jpg',\n",
       " 'F001/T1/2911.jpg',\n",
       " 'F001/T1/2912.jpg',\n",
       " 'F001/T1/2913.jpg',\n",
       " 'F001/T1/2914.jpg',\n",
       " 'F001/T1/2915.jpg',\n",
       " 'F001/T1/2916.jpg',\n",
       " 'F001/T1/2917.jpg',\n",
       " 'F001/T1/2918.jpg',\n",
       " 'F001/T1/2919.jpg',\n",
       " 'F001/T1/2920.jpg',\n",
       " 'F001/T1/2921.jpg',\n",
       " 'F001/T1/2922.jpg',\n",
       " 'F001/T1/2923.jpg',\n",
       " 'F001/T1/2924.jpg',\n",
       " 'F001/T1/2925.jpg',\n",
       " 'F001/T1/2926.jpg',\n",
       " 'F001/T1/2927.jpg',\n",
       " 'F001/T1/2928.jpg',\n",
       " 'F001/T1/2929.jpg',\n",
       " 'F001/T1/2930.jpg',\n",
       " 'F001/T1/2931.jpg',\n",
       " 'F001/T1/2932.jpg',\n",
       " 'F001/T1/2933.jpg',\n",
       " 'F001/T1/2934.jpg',\n",
       " 'F001/T1/2935.jpg',\n",
       " 'F001/T1/2936.jpg',\n",
       " 'F001/T1/2937.jpg',\n",
       " 'F001/T1/2938.jpg',\n",
       " 'F001/T1/2939.jpg',\n",
       " 'F001/T1/2940.jpg',\n",
       " 'F001/T1/2941.jpg',\n",
       " 'F001/T1/2942.jpg',\n",
       " 'F001/T1/2943.jpg',\n",
       " 'F001/T1/2944.jpg',\n",
       " 'F001/T1/2945.jpg',\n",
       " 'F001/T1/2946.jpg',\n",
       " 'F001/T1/2947.jpg',\n",
       " 'F001/T1/2948.jpg',\n",
       " 'F001/T1/2949.jpg',\n",
       " 'F001/T1/2950.jpg',\n",
       " 'F001/T1/2951.jpg',\n",
       " 'F001/T1/2952.jpg',\n",
       " 'F001/T1/2953.jpg',\n",
       " 'F001/T1/2954.jpg',\n",
       " 'F001/T1/2955.jpg',\n",
       " 'F001/T1/2956.jpg',\n",
       " 'F001/T1/2957.jpg',\n",
       " 'F001/T1/2958.jpg',\n",
       " 'F001/T1/2959.jpg',\n",
       " 'F001/T1/2960.jpg',\n",
       " 'F001/T1/2961.jpg',\n",
       " 'F001/T1/2962.jpg',\n",
       " 'F001/T1/2963.jpg',\n",
       " 'F001/T1/2964.jpg',\n",
       " 'F001/T1/2965.jpg',\n",
       " 'F001/T1/2966.jpg',\n",
       " 'F001/T1/2967.jpg',\n",
       " 'F001/T1/2968.jpg',\n",
       " 'F001/T1/2969.jpg',\n",
       " 'F001/T1/2970.jpg',\n",
       " 'F001/T1/2971.jpg',\n",
       " 'F001/T1/2972.jpg',\n",
       " 'F001/T1/2973.jpg',\n",
       " 'F001/T1/2974.jpg',\n",
       " 'F001/T1/2975.jpg',\n",
       " 'F001/T1/2976.jpg',\n",
       " 'F001/T1/2977.jpg',\n",
       " 'F001/T1/2978.jpg',\n",
       " 'F001/T1/2979.jpg',\n",
       " 'F001/T1/2980.jpg',\n",
       " 'F001/T1/2981.jpg',\n",
       " 'F001/T1/2982.jpg',\n",
       " 'F001/T1/2983.jpg',\n",
       " 'F001/T1/2984.jpg',\n",
       " 'F001/T1/2985.jpg',\n",
       " 'F001/T1/2986.jpg',\n",
       " 'F001/T1/2987.jpg',\n",
       " 'F001/T1/2988.jpg',\n",
       " 'F001/T1/2989.jpg',\n",
       " 'F001/T1/2990.jpg',\n",
       " 'F001/T1/2991.jpg',\n",
       " 'F001/T1/2992.jpg']"
      ]
     },
     "execution_count": 12,
     "metadata": {},
     "output_type": "execute_result"
    }
   ],
   "source": [
    "file_names=batches_from_dir.filenames\n",
    "file_names"
   ]
  },
  {
   "cell_type": "code",
   "execution_count": 33,
   "metadata": {},
   "outputs": [],
   "source": [
    "def multiclass_flow_from_directory(batches_from_dir, label_getter):\n",
    "    batch_count=0\n",
    "    for x, y in batches_from_dir:\n",
    "        print ('batch number is: ',batch_count, ' file indexes from ', batch_size*batch_count,' and ', batch_size*batch_count+batch_size-1)\n",
    "        first_image_index=batch_size*batch_count\n",
    "        last_image_index=batch_size*batch_count+batch_size-1\n",
    "        fau_labels=[(file.split('.')[0].split('/')[0],file.split('.')[0].split('/')[1],int(file.split('.')[0].split('/')[2])) for file in file_names[first_image_index:last_image_index+1] ]\n",
    "        print (fau_labels)\n",
    "        batch_count+=1\n",
    "        yield x, fau_labels"
   ]
  },
  {
   "cell_type": "code",
   "execution_count": 34,
   "metadata": {},
   "outputs": [],
   "source": [
    "generator_with_modified_labels=multiclass_flow_from_directory(batches_from_dir,label_getter)"
   ]
  },
  {
   "cell_type": "code",
   "execution_count": 35,
   "metadata": {},
   "outputs": [
    {
     "ename": "TypeError",
     "evalue": "'ImageDataGenerator' object is not iterable",
     "output_type": "error",
     "traceback": [
      "\u001b[0;31m---------------------------------------------------------------------------\u001b[0m",
      "\u001b[0;31mTypeError\u001b[0m                                 Traceback (most recent call last)",
      "\u001b[0;32m<ipython-input-35-cd4876f9cbcf>\u001b[0m in \u001b[0;36m<module>\u001b[0;34m()\u001b[0m\n\u001b[0;32m----> 1\u001b[0;31m \u001b[0;32mfor\u001b[0m \u001b[0mi\u001b[0m \u001b[0;32min\u001b[0m \u001b[0mgen\u001b[0m\u001b[0;34m:\u001b[0m\u001b[0;34m\u001b[0m\u001b[0m\n\u001b[0m\u001b[1;32m      2\u001b[0m     \u001b[0midx\u001b[0m \u001b[0;34m=\u001b[0m \u001b[0;34m(\u001b[0m\u001b[0mgen\u001b[0m\u001b[0;34m.\u001b[0m\u001b[0mbatch_index\u001b[0m \u001b[0;34m-\u001b[0m \u001b[0;36m1\u001b[0m\u001b[0;34m)\u001b[0m \u001b[0;34m*\u001b[0m \u001b[0mgen\u001b[0m\u001b[0;34m.\u001b[0m\u001b[0mbatch_size\u001b[0m\u001b[0;34m\u001b[0m\u001b[0m\n\u001b[1;32m      3\u001b[0m     \u001b[0mprint\u001b[0m\u001b[0;34m(\u001b[0m\u001b[0mgen\u001b[0m\u001b[0;34m.\u001b[0m\u001b[0mfilenames\u001b[0m\u001b[0;34m[\u001b[0m\u001b[0midx\u001b[0m \u001b[0;34m:\u001b[0m \u001b[0midx\u001b[0m \u001b[0;34m+\u001b[0m \u001b[0mgen\u001b[0m\u001b[0;34m.\u001b[0m\u001b[0mbatch_size\u001b[0m\u001b[0;34m]\u001b[0m\u001b[0;34m)\u001b[0m\u001b[0;34m\u001b[0m\u001b[0m\n",
      "\u001b[0;31mTypeError\u001b[0m: 'ImageDataGenerator' object is not iterable"
     ]
    }
   ],
   "source": [
    "for i in gen:\n",
    "    idx = (gen.batch_index - 1) * gen.batch_size\n",
    "    print(gen.filenames[idx : idx + gen.batch_size])"
   ]
  },
  {
   "cell_type": "code",
   "execution_count": 36,
   "metadata": {},
   "outputs": [
    {
     "name": "stdout",
     "output_type": "stream",
     "text": [
      "batch number is:  0  file indexes from  0  and  31\n"
     ]
    },
    {
     "ename": "NameError",
     "evalue": "name 'file' is not defined",
     "output_type": "error",
     "traceback": [
      "\u001b[0;31m---------------------------------------------------------------------------\u001b[0m",
      "\u001b[0;31mNameError\u001b[0m                                 Traceback (most recent call last)",
      "\u001b[0;32m<ipython-input-36-ae70808a74a4>\u001b[0m in \u001b[0;36m<module>\u001b[0;34m()\u001b[0m\n\u001b[1;32m      1\u001b[0m \u001b[0mcount2\u001b[0m\u001b[0;34m=\u001b[0m\u001b[0;36m0\u001b[0m\u001b[0;34m\u001b[0m\u001b[0m\n\u001b[0;32m----> 2\u001b[0;31m \u001b[0;32mfor\u001b[0m \u001b[0mobj\u001b[0m \u001b[0;32min\u001b[0m \u001b[0mgenerator_with_modified_labels\u001b[0m\u001b[0;34m:\u001b[0m\u001b[0;34m\u001b[0m\u001b[0m\n\u001b[0m\u001b[1;32m      3\u001b[0m \u001b[0;31m#     if count2<2:\u001b[0m\u001b[0;34m\u001b[0m\u001b[0;34m\u001b[0m\u001b[0m\n\u001b[1;32m      4\u001b[0m \u001b[0;31m#         print (1, len(obj[0]))\u001b[0m\u001b[0;34m\u001b[0m\u001b[0;34m\u001b[0m\u001b[0m\n\u001b[1;32m      5\u001b[0m     \u001b[0mprint\u001b[0m \u001b[0;34m(\u001b[0m\u001b[0;34m'newer gen being iterated these many times: '\u001b[0m\u001b[0;34m,\u001b[0m\u001b[0mcount2\u001b[0m\u001b[0;34m)\u001b[0m\u001b[0;34m\u001b[0m\u001b[0m\n",
      "\u001b[0;32m<ipython-input-33-38e031205e85>\u001b[0m in \u001b[0;36mmulticlass_flow_from_directory\u001b[0;34m(batches_from_dir, label_getter)\u001b[0m\n\u001b[1;32m      6\u001b[0m         \u001b[0mlast_image_index\u001b[0m\u001b[0;34m=\u001b[0m\u001b[0mbatch_size\u001b[0m\u001b[0;34m*\u001b[0m\u001b[0mbatch_count\u001b[0m\u001b[0;34m+\u001b[0m\u001b[0mbatch_size\u001b[0m\u001b[0;34m-\u001b[0m\u001b[0;36m1\u001b[0m\u001b[0;34m\u001b[0m\u001b[0m\n\u001b[1;32m      7\u001b[0m         \u001b[0mfau_labels\u001b[0m\u001b[0;34m=\u001b[0m\u001b[0;34m[\u001b[0m\u001b[0mlabel_getter\u001b[0m\u001b[0;34m(\u001b[0m\u001b[0mfile\u001b[0m\u001b[0;34m.\u001b[0m\u001b[0msplit\u001b[0m\u001b[0;34m(\u001b[0m\u001b[0;34m'.'\u001b[0m\u001b[0;34m)\u001b[0m\u001b[0;34m[\u001b[0m\u001b[0;36m0\u001b[0m\u001b[0;34m]\u001b[0m\u001b[0;34m.\u001b[0m\u001b[0msplit\u001b[0m\u001b[0;34m(\u001b[0m\u001b[0;34m'/'\u001b[0m\u001b[0;34m)\u001b[0m\u001b[0;34m[\u001b[0m\u001b[0;36m0\u001b[0m\u001b[0;34m]\u001b[0m\u001b[0;34m,\u001b[0m\u001b[0mfile\u001b[0m\u001b[0;34m.\u001b[0m\u001b[0msplit\u001b[0m\u001b[0;34m(\u001b[0m\u001b[0;34m'.'\u001b[0m\u001b[0;34m)\u001b[0m\u001b[0;34m[\u001b[0m\u001b[0;36m0\u001b[0m\u001b[0;34m]\u001b[0m\u001b[0;34m.\u001b[0m\u001b[0msplit\u001b[0m\u001b[0;34m(\u001b[0m\u001b[0;34m'/'\u001b[0m\u001b[0;34m)\u001b[0m\u001b[0;34m[\u001b[0m\u001b[0;36m1\u001b[0m\u001b[0;34m]\u001b[0m\u001b[0;34m,\u001b[0m\u001b[0mint\u001b[0m\u001b[0;34m(\u001b[0m\u001b[0mfile\u001b[0m\u001b[0;34m.\u001b[0m\u001b[0msplit\u001b[0m\u001b[0;34m(\u001b[0m\u001b[0;34m'.'\u001b[0m\u001b[0;34m)\u001b[0m\u001b[0;34m[\u001b[0m\u001b[0;36m0\u001b[0m\u001b[0;34m]\u001b[0m\u001b[0;34m.\u001b[0m\u001b[0msplit\u001b[0m\u001b[0;34m(\u001b[0m\u001b[0;34m'/'\u001b[0m\u001b[0;34m)\u001b[0m\u001b[0;34m[\u001b[0m\u001b[0;36m2\u001b[0m\u001b[0;34m]\u001b[0m\u001b[0;34m)\u001b[0m\u001b[0;34m)\u001b[0m \u001b[0;32mfor\u001b[0m \u001b[0mfile\u001b[0m \u001b[0;32min\u001b[0m \u001b[0mfile_names\u001b[0m\u001b[0;34m[\u001b[0m\u001b[0mfirst_image_index\u001b[0m\u001b[0;34m:\u001b[0m\u001b[0mlast_image_index\u001b[0m\u001b[0;34m+\u001b[0m\u001b[0;36m1\u001b[0m\u001b[0;34m]\u001b[0m \u001b[0;34m]\u001b[0m\u001b[0;34m\u001b[0m\u001b[0m\n\u001b[0;32m----> 8\u001b[0;31m         \u001b[0mprint\u001b[0m \u001b[0;34m(\u001b[0m\u001b[0;34m(\u001b[0m\u001b[0mfile\u001b[0m\u001b[0;34m.\u001b[0m\u001b[0msplit\u001b[0m\u001b[0;34m(\u001b[0m\u001b[0;34m'.'\u001b[0m\u001b[0;34m)\u001b[0m\u001b[0;34m[\u001b[0m\u001b[0;36m0\u001b[0m\u001b[0;34m]\u001b[0m\u001b[0;34m.\u001b[0m\u001b[0msplit\u001b[0m\u001b[0;34m(\u001b[0m\u001b[0;34m'/'\u001b[0m\u001b[0;34m)\u001b[0m\u001b[0;34m[\u001b[0m\u001b[0;36m0\u001b[0m\u001b[0;34m]\u001b[0m\u001b[0;34m,\u001b[0m\u001b[0mfile\u001b[0m\u001b[0;34m.\u001b[0m\u001b[0msplit\u001b[0m\u001b[0;34m(\u001b[0m\u001b[0;34m'.'\u001b[0m\u001b[0;34m)\u001b[0m\u001b[0;34m[\u001b[0m\u001b[0;36m0\u001b[0m\u001b[0;34m]\u001b[0m\u001b[0;34m.\u001b[0m\u001b[0msplit\u001b[0m\u001b[0;34m(\u001b[0m\u001b[0;34m'/'\u001b[0m\u001b[0;34m)\u001b[0m\u001b[0;34m[\u001b[0m\u001b[0;36m1\u001b[0m\u001b[0;34m]\u001b[0m\u001b[0;34m,\u001b[0m\u001b[0mint\u001b[0m\u001b[0;34m(\u001b[0m\u001b[0mfile\u001b[0m\u001b[0;34m.\u001b[0m\u001b[0msplit\u001b[0m\u001b[0;34m(\u001b[0m\u001b[0;34m'.'\u001b[0m\u001b[0;34m)\u001b[0m\u001b[0;34m[\u001b[0m\u001b[0;36m0\u001b[0m\u001b[0;34m]\u001b[0m\u001b[0;34m.\u001b[0m\u001b[0msplit\u001b[0m\u001b[0;34m(\u001b[0m\u001b[0;34m'/'\u001b[0m\u001b[0;34m)\u001b[0m\u001b[0;34m[\u001b[0m\u001b[0;36m2\u001b[0m\u001b[0;34m]\u001b[0m\u001b[0;34m)\u001b[0m\u001b[0;34m)\u001b[0m\u001b[0;34m)\u001b[0m\u001b[0;34m\u001b[0m\u001b[0m\n\u001b[0m\u001b[1;32m      9\u001b[0m         \u001b[0mbatch_count\u001b[0m\u001b[0;34m+=\u001b[0m\u001b[0;36m1\u001b[0m\u001b[0;34m\u001b[0m\u001b[0m\n\u001b[1;32m     10\u001b[0m         \u001b[0;32myield\u001b[0m \u001b[0mx\u001b[0m\u001b[0;34m,\u001b[0m \u001b[0mfau_labels\u001b[0m\u001b[0;34m\u001b[0m\u001b[0m\n",
      "\u001b[0;31mNameError\u001b[0m: name 'file' is not defined"
     ]
    }
   ],
   "source": [
    "count2=0\n",
    "for obj in generator_with_modified_labels:\n",
    "#     if count2<2:\n",
    "#         print (1, len(obj[0]))\n",
    "    print ('newer gen being iterated these many times: ',count2)\n",
    "    count2+=1"
   ]
  },
  {
   "cell_type": "code",
   "execution_count": null,
   "metadata": {},
   "outputs": [],
   "source": [
    "BP4D_training_folder+batches_from_dir.filenames[23]"
   ]
  },
  {
   "cell_type": "code",
   "execution_count": null,
   "metadata": {},
   "outputs": [],
   "source": [
    "plt.imread(BP4D_training_folder+batches_from_dir.filenames[23])"
   ]
  },
  {
   "cell_type": "code",
   "execution_count": 43,
   "metadata": {},
   "outputs": [
    {
     "data": {
      "text/plain": [
       "array([[0., 0., 0., 1., 0., 0.],\n",
       "       [0., 0., 0., 0., 1., 0.],\n",
       "       [0., 0., 0., 0., 1., 0.],\n",
       "       [0., 1., 0., 0., 0., 0.]])"
      ]
     },
     "execution_count": 43,
     "metadata": {},
     "output_type": "execute_result"
    }
   ],
   "source": [
    "keras.utils.to_categorical((3,4,4,1),6)"
   ]
  },
  {
   "cell_type": "markdown",
   "metadata": {},
   "source": [
    "### 2. Building a Model"
   ]
  },
  {
   "cell_type": "code",
   "execution_count": 38,
   "metadata": {},
   "outputs": [],
   "source": [
    "from keras.models import Sequential\n",
    "from keras.layers import Dense, Conv2D, MaxPool2D,Flatten,Dropout\n",
    "from keras.optimizers import SGD"
   ]
  },
  {
   "cell_type": "code",
   "execution_count": 34,
   "metadata": {},
   "outputs": [],
   "source": [
    "model=Sequential()\n",
    "model.add(Conv2D(64,kernel_size=(5,5),strides=(1,1),activation='relu',input_shape=(48,48,1)))\n",
    "model.add(MaxPool2D(pool_size=(3,3),strides=(2,2)))\n",
    "model.add(Conv2D(64,kernel_size=(5,5),strides=(1,1),activation='relu'))\n",
    "model.add(Conv2D(128,kernel_size=(4,4),strides=(1,1),activation='relu'))\n",
    "model.add(Flatten())\n",
    "model.add(Dense(3072,activation='relu'))\n",
    "model.add(Dropout(0.2))\n",
    "model.add(Dense(6,activation='sigmoid'))"
   ]
  },
  {
   "cell_type": "code",
   "execution_count": 42,
   "metadata": {},
   "outputs": [],
   "source": [
    "model.compile(loss='binary_crossentropy',optimizer=SGD(lr=0.01,momentum=0.9))"
   ]
  },
  {
   "cell_type": "code",
   "execution_count": 43,
   "metadata": {},
   "outputs": [
    {
     "name": "stdout",
     "output_type": "stream",
     "text": [
      "_________________________________________________________________\n",
      "Layer (type)                 Output Shape              Param #   \n",
      "=================================================================\n",
      "conv2d_20 (Conv2D)           (None, 44, 44, 64)        1664      \n",
      "_________________________________________________________________\n",
      "max_pooling2d_2 (MaxPooling2 (None, 21, 21, 64)        0         \n",
      "_________________________________________________________________\n",
      "conv2d_21 (Conv2D)           (None, 17, 17, 64)        102464    \n",
      "_________________________________________________________________\n",
      "conv2d_22 (Conv2D)           (None, 14, 14, 128)       131200    \n",
      "_________________________________________________________________\n",
      "flatten_2 (Flatten)          (None, 25088)             0         \n",
      "_________________________________________________________________\n",
      "dense_3 (Dense)              (None, 3072)              77073408  \n",
      "_________________________________________________________________\n",
      "dense_4 (Dense)              (None, 6)                 18438     \n",
      "=================================================================\n",
      "Total params: 77,327,174\n",
      "Trainable params: 77,327,174\n",
      "Non-trainable params: 0\n",
      "_________________________________________________________________\n"
     ]
    }
   ],
   "source": [
    "model.summary()"
   ]
  },
  {
   "cell_type": "markdown",
   "metadata": {},
   "source": [
    "### 3. Training the model"
   ]
  },
  {
   "cell_type": "code",
   "execution_count": null,
   "metadata": {},
   "outputs": [],
   "source": []
  },
  {
   "cell_type": "markdown",
   "metadata": {},
   "source": [
    "### 4. Testing the model"
   ]
  },
  {
   "cell_type": "code",
   "execution_count": null,
   "metadata": {},
   "outputs": [],
   "source": []
  }
 ],
 "metadata": {
  "kernelspec": {
   "display_name": "Python 3",
   "language": "python",
   "name": "python3"
  },
  "language_info": {
   "codemirror_mode": {
    "name": "ipython",
    "version": 3
   },
   "file_extension": ".py",
   "mimetype": "text/x-python",
   "name": "python",
   "nbconvert_exporter": "python",
   "pygments_lexer": "ipython3",
   "version": "3.6.5"
  }
 },
 "nbformat": 4,
 "nbformat_minor": 2
}

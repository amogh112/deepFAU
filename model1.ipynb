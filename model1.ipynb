{
 "cells": [
  {
   "cell_type": "markdown",
   "metadata": {},
   "source": [
    "# Deep Learning based FACs and Action Unit occurrence and Intensity Estimation\n",
    "\n",
    "#### \\- Amogh Gudi, Emrah Tasli, Tim den Uyl, Andreas Marulis\n",
    "https://ieeexplore.ieee.org/stamp/stamp.jsp?tp=&arnumber=7284873"
   ]
  },
  {
   "cell_type": "markdown",
   "metadata": {},
   "source": [
    "### Plan\n",
    "1. Load dataset and labels\n",
    "2. Build a model\n",
    "3. Train Model\n",
    "4. Test Model"
   ]
  },
  {
   "cell_type": "markdown",
   "metadata": {},
   "source": [
    "**Importing Libraries**"
   ]
  },
  {
   "cell_type": "code",
   "execution_count": 1,
   "metadata": {},
   "outputs": [
    {
     "name": "stderr",
     "output_type": "stream",
     "text": [
      "/home/amogh/anaconda3/envs/faus_dl/lib/python3.6/site-packages/h5py/__init__.py:36: FutureWarning: Conversion of the second argument of issubdtype from `float` to `np.floating` is deprecated. In future, it will be treated as `np.float64 == np.dtype(float).type`.\n",
      "  from ._conv import register_converters as _register_converters\n",
      "Using TensorFlow backend.\n"
     ]
    }
   ],
   "source": [
    "import keras\n",
    "import numpy as np"
   ]
  },
  {
   "cell_type": "code",
   "execution_count": 2,
   "metadata": {},
   "outputs": [],
   "source": [
    "import pandas as pd"
   ]
  },
  {
   "cell_type": "code",
   "execution_count": 3,
   "metadata": {},
   "outputs": [],
   "source": [
    "import matplotlib.pyplot as plt\n",
    "%matplotlib inline"
   ]
  },
  {
   "cell_type": "markdown",
   "metadata": {},
   "source": [
    "### 1. Loading dataset and labels"
   ]
  },
  {
   "cell_type": "markdown",
   "metadata": {},
   "source": [
    "a. Loading dataset"
   ]
  },
  {
   "cell_type": "code",
   "execution_count": 4,
   "metadata": {},
   "outputs": [],
   "source": [
    "BP4D_base_path='/home/amogh/cmu/dataset/BP4D/'"
   ]
  },
  {
   "cell_type": "code",
   "execution_count": 5,
   "metadata": {},
   "outputs": [],
   "source": [
    "BP4D_training_folder=BP4D_base_path+'BP4D-training/'"
   ]
  },
  {
   "cell_type": "code",
   "execution_count": 6,
   "metadata": {},
   "outputs": [],
   "source": [
    "from keras.preprocessing.image import ImageDataGenerator"
   ]
  },
  {
   "cell_type": "code",
   "execution_count": 7,
   "metadata": {},
   "outputs": [],
   "source": [
    "gen=ImageDataGenerator()"
   ]
  },
  {
   "cell_type": "markdown",
   "metadata": {},
   "source": [
    "Batches from directory:"
   ]
  },
  {
   "cell_type": "code",
   "execution_count": 8,
   "metadata": {},
   "outputs": [
    {
     "name": "stdout",
     "output_type": "stream",
     "text": [
      "Found 553 images belonging to 1 classes.\n"
     ]
    }
   ],
   "source": [
    "batches_from_dir=gen.flow_from_directory(BP4D_training_folder,target_size=(48,48))"
   ]
  },
  {
   "cell_type": "code",
   "execution_count": 9,
   "metadata": {},
   "outputs": [
    {
     "data": {
      "text/plain": [
       "keras.preprocessing.image.DirectoryIterator"
      ]
     },
     "execution_count": 9,
     "metadata": {},
     "output_type": "execute_result"
    }
   ],
   "source": [
    "type(batches_from_dir)"
   ]
  },
  {
   "cell_type": "markdown",
   "metadata": {},
   "source": [
    "b. Loading labels"
   ]
  },
  {
   "cell_type": "markdown",
   "metadata": {},
   "source": [
    "Function to get labels according to subject, sequence, frame No: (details and examples in datasets.ipynb)"
   ]
  },
  {
   "cell_type": "code",
   "execution_count": 12,
   "metadata": {},
   "outputs": [],
   "source": [
    "def label_getter(subj_req,seq_req,frame_req):\n",
    "    au_file_reqd=BP4D_AU_path+f'{subj_req}_{seq_req}.csv'\n",
    "    print (au_file_reqd)\n",
    "    df_reqd=pd.read_csv(au_file_reqd)\n",
    "    list_of_faus=list(df_reqd.loc[df_example['0']==frame_req].iloc[0]) #list: [frame_no, fau1, fau2, fau3....]\n",
    "    #choose FAUS for which you want the labels.\n",
    "    list_mask=[1,2,4,6,7,10,12,14,15,17,23]\n",
    "    list_final=[list_of_faus[i] for i in list_mask]\n",
    "    return list_final"
   ]
  },
  {
   "cell_type": "code",
   "execution_count": 13,
   "metadata": {},
   "outputs": [
    {
     "name": "stdout",
     "output_type": "stream",
     "text": [
      "/home/amogh/cmu/dataset/BP4D/AUCoding/AUCoding/F001_T1.csv\n"
     ]
    },
    {
     "data": {
      "text/plain": [
       "[0, 0, 0, 0, 0, 1, 1, 0, 0, 0, 0]"
      ]
     },
     "execution_count": 13,
     "metadata": {},
     "output_type": "execute_result"
    }
   ],
   "source": [
    "label_getter('F001','T1',2440)"
   ]
  },
  {
   "cell_type": "markdown",
   "metadata": {},
   "source": [
    "We define our own flow_from_directory function so that we can assign multiple labels to the training data before passing it to the training function"
   ]
  },
  {
   "cell_type": "code",
   "execution_count": 14,
   "metadata": {},
   "outputs": [],
   "source": [
    "def multiclass_flow_from_directory(batches_from_dir, label_getter):\n",
    "    for x, y in batches_from_dir:\n",
    "        yield x, label_getter('F001','T1',2440)"
   ]
  },
  {
   "cell_type": "code",
   "execution_count": 15,
   "metadata": {},
   "outputs": [],
   "source": [
    "gen2=multiclass_flow_from_directory(batches_from_dir,label_getter)"
   ]
  },
  {
   "cell_type": "code",
   "execution_count": null,
   "metadata": {},
   "outputs": [
    {
     "name": "stdout",
     "output_type": "stream",
     "text": [
      "/home/amogh/cmu/dataset/BP4D/AUCoding/AUCoding/F001_T1.csv\n",
      "[0, 0, 0, 0, 0, 1, 1, 0, 0, 0, 0]\n",
      "/home/amogh/cmu/dataset/BP4D/AUCoding/AUCoding/F001_T1.csv\n",
      "[0, 0, 0, 0, 0, 1, 1, 0, 0, 0, 0]\n",
      "/home/amogh/cmu/dataset/BP4D/AUCoding/AUCoding/F001_T1.csv\n",
      "[0, 0, 0, 0, 0, 1, 1, 0, 0, 0, 0]\n",
      "/home/amogh/cmu/dataset/BP4D/AUCoding/AUCoding/F001_T1.csv\n",
      "[0, 0, 0, 0, 0, 1, 1, 0, 0, 0, 0]\n",
      "/home/amogh/cmu/dataset/BP4D/AUCoding/AUCoding/F001_T1.csv\n",
      "[0, 0, 0, 0, 0, 1, 1, 0, 0, 0, 0]\n",
      "/home/amogh/cmu/dataset/BP4D/AUCoding/AUCoding/F001_T1.csv\n",
      "/home/amogh/cmu/dataset/BP4D/AUCoding/AUCoding/F001_T1.csv\n",
      "/home/amogh/cmu/dataset/BP4D/AUCoding/AUCoding/F001_T1.csv\n",
      "/home/amogh/cmu/dataset/BP4D/AUCoding/AUCoding/F001_T1.csv\n",
      "/home/amogh/cmu/dataset/BP4D/AUCoding/AUCoding/F001_T1.csv\n",
      "/home/amogh/cmu/dataset/BP4D/AUCoding/AUCoding/F001_T1.csv\n",
      "/home/amogh/cmu/dataset/BP4D/AUCoding/AUCoding/F001_T1.csv\n",
      "/home/amogh/cmu/dataset/BP4D/AUCoding/AUCoding/F001_T1.csv\n",
      "/home/amogh/cmu/dataset/BP4D/AUCoding/AUCoding/F001_T1.csv\n",
      "/home/amogh/cmu/dataset/BP4D/AUCoding/AUCoding/F001_T1.csv\n",
      "/home/amogh/cmu/dataset/BP4D/AUCoding/AUCoding/F001_T1.csv\n",
      "/home/amogh/cmu/dataset/BP4D/AUCoding/AUCoding/F001_T1.csv\n",
      "/home/amogh/cmu/dataset/BP4D/AUCoding/AUCoding/F001_T1.csv\n",
      "/home/amogh/cmu/dataset/BP4D/AUCoding/AUCoding/F001_T1.csv\n",
      "/home/amogh/cmu/dataset/BP4D/AUCoding/AUCoding/F001_T1.csv\n",
      "/home/amogh/cmu/dataset/BP4D/AUCoding/AUCoding/F001_T1.csv\n",
      "/home/amogh/cmu/dataset/BP4D/AUCoding/AUCoding/F001_T1.csv\n",
      "/home/amogh/cmu/dataset/BP4D/AUCoding/AUCoding/F001_T1.csv\n",
      "/home/amogh/cmu/dataset/BP4D/AUCoding/AUCoding/F001_T1.csv\n",
      "/home/amogh/cmu/dataset/BP4D/AUCoding/AUCoding/F001_T1.csv\n",
      "/home/amogh/cmu/dataset/BP4D/AUCoding/AUCoding/F001_T1.csv\n",
      "/home/amogh/cmu/dataset/BP4D/AUCoding/AUCoding/F001_T1.csv\n",
      "/home/amogh/cmu/dataset/BP4D/AUCoding/AUCoding/F001_T1.csv\n",
      "/home/amogh/cmu/dataset/BP4D/AUCoding/AUCoding/F001_T1.csv\n",
      "/home/amogh/cmu/dataset/BP4D/AUCoding/AUCoding/F001_T1.csv\n",
      "/home/amogh/cmu/dataset/BP4D/AUCoding/AUCoding/F001_T1.csv\n",
      "/home/amogh/cmu/dataset/BP4D/AUCoding/AUCoding/F001_T1.csv\n",
      "/home/amogh/cmu/dataset/BP4D/AUCoding/AUCoding/F001_T1.csv\n",
      "/home/amogh/cmu/dataset/BP4D/AUCoding/AUCoding/F001_T1.csv\n",
      "/home/amogh/cmu/dataset/BP4D/AUCoding/AUCoding/F001_T1.csv\n",
      "/home/amogh/cmu/dataset/BP4D/AUCoding/AUCoding/F001_T1.csv\n",
      "/home/amogh/cmu/dataset/BP4D/AUCoding/AUCoding/F001_T1.csv\n",
      "/home/amogh/cmu/dataset/BP4D/AUCoding/AUCoding/F001_T1.csv\n",
      "/home/amogh/cmu/dataset/BP4D/AUCoding/AUCoding/F001_T1.csv\n",
      "/home/amogh/cmu/dataset/BP4D/AUCoding/AUCoding/F001_T1.csv\n",
      "/home/amogh/cmu/dataset/BP4D/AUCoding/AUCoding/F001_T1.csv\n",
      "/home/amogh/cmu/dataset/BP4D/AUCoding/AUCoding/F001_T1.csv\n",
      "/home/amogh/cmu/dataset/BP4D/AUCoding/AUCoding/F001_T1.csv\n",
      "/home/amogh/cmu/dataset/BP4D/AUCoding/AUCoding/F001_T1.csv\n",
      "/home/amogh/cmu/dataset/BP4D/AUCoding/AUCoding/F001_T1.csv\n",
      "/home/amogh/cmu/dataset/BP4D/AUCoding/AUCoding/F001_T1.csv\n",
      "/home/amogh/cmu/dataset/BP4D/AUCoding/AUCoding/F001_T1.csv\n",
      "/home/amogh/cmu/dataset/BP4D/AUCoding/AUCoding/F001_T1.csv\n",
      "/home/amogh/cmu/dataset/BP4D/AUCoding/AUCoding/F001_T1.csv\n",
      "/home/amogh/cmu/dataset/BP4D/AUCoding/AUCoding/F001_T1.csv\n",
      "/home/amogh/cmu/dataset/BP4D/AUCoding/AUCoding/F001_T1.csv\n",
      "/home/amogh/cmu/dataset/BP4D/AUCoding/AUCoding/F001_T1.csv\n",
      "/home/amogh/cmu/dataset/BP4D/AUCoding/AUCoding/F001_T1.csv\n",
      "/home/amogh/cmu/dataset/BP4D/AUCoding/AUCoding/F001_T1.csv\n",
      "/home/amogh/cmu/dataset/BP4D/AUCoding/AUCoding/F001_T1.csv\n",
      "/home/amogh/cmu/dataset/BP4D/AUCoding/AUCoding/F001_T1.csv\n",
      "/home/amogh/cmu/dataset/BP4D/AUCoding/AUCoding/F001_T1.csv\n",
      "/home/amogh/cmu/dataset/BP4D/AUCoding/AUCoding/F001_T1.csv\n",
      "/home/amogh/cmu/dataset/BP4D/AUCoding/AUCoding/F001_T1.csv\n",
      "/home/amogh/cmu/dataset/BP4D/AUCoding/AUCoding/F001_T1.csv\n",
      "/home/amogh/cmu/dataset/BP4D/AUCoding/AUCoding/F001_T1.csv\n",
      "/home/amogh/cmu/dataset/BP4D/AUCoding/AUCoding/F001_T1.csv\n",
      "/home/amogh/cmu/dataset/BP4D/AUCoding/AUCoding/F001_T1.csv\n",
      "/home/amogh/cmu/dataset/BP4D/AUCoding/AUCoding/F001_T1.csv\n",
      "/home/amogh/cmu/dataset/BP4D/AUCoding/AUCoding/F001_T1.csv\n",
      "/home/amogh/cmu/dataset/BP4D/AUCoding/AUCoding/F001_T1.csv\n",
      "/home/amogh/cmu/dataset/BP4D/AUCoding/AUCoding/F001_T1.csv\n",
      "/home/amogh/cmu/dataset/BP4D/AUCoding/AUCoding/F001_T1.csv\n",
      "/home/amogh/cmu/dataset/BP4D/AUCoding/AUCoding/F001_T1.csv\n",
      "/home/amogh/cmu/dataset/BP4D/AUCoding/AUCoding/F001_T1.csv\n",
      "/home/amogh/cmu/dataset/BP4D/AUCoding/AUCoding/F001_T1.csv\n",
      "/home/amogh/cmu/dataset/BP4D/AUCoding/AUCoding/F001_T1.csv\n",
      "/home/amogh/cmu/dataset/BP4D/AUCoding/AUCoding/F001_T1.csv\n",
      "/home/amogh/cmu/dataset/BP4D/AUCoding/AUCoding/F001_T1.csv\n",
      "/home/amogh/cmu/dataset/BP4D/AUCoding/AUCoding/F001_T1.csv\n",
      "/home/amogh/cmu/dataset/BP4D/AUCoding/AUCoding/F001_T1.csv\n",
      "/home/amogh/cmu/dataset/BP4D/AUCoding/AUCoding/F001_T1.csv\n",
      "/home/amogh/cmu/dataset/BP4D/AUCoding/AUCoding/F001_T1.csv\n",
      "/home/amogh/cmu/dataset/BP4D/AUCoding/AUCoding/F001_T1.csv\n",
      "/home/amogh/cmu/dataset/BP4D/AUCoding/AUCoding/F001_T1.csv\n",
      "/home/amogh/cmu/dataset/BP4D/AUCoding/AUCoding/F001_T1.csv\n",
      "/home/amogh/cmu/dataset/BP4D/AUCoding/AUCoding/F001_T1.csv\n",
      "/home/amogh/cmu/dataset/BP4D/AUCoding/AUCoding/F001_T1.csv\n",
      "/home/amogh/cmu/dataset/BP4D/AUCoding/AUCoding/F001_T1.csv\n",
      "/home/amogh/cmu/dataset/BP4D/AUCoding/AUCoding/F001_T1.csv\n",
      "/home/amogh/cmu/dataset/BP4D/AUCoding/AUCoding/F001_T1.csv\n",
      "/home/amogh/cmu/dataset/BP4D/AUCoding/AUCoding/F001_T1.csv\n",
      "/home/amogh/cmu/dataset/BP4D/AUCoding/AUCoding/F001_T1.csv\n",
      "/home/amogh/cmu/dataset/BP4D/AUCoding/AUCoding/F001_T1.csv\n"
     ]
    }
   ],
   "source": [
    "count=0\n",
    "for obj in gen2:\n",
    "    if count<5:\n",
    "        print (obj[1])\n",
    "    count+=1"
   ]
  },
  {
   "cell_type": "code",
   "execution_count": null,
   "metadata": {},
   "outputs": [],
   "source": [
    "BP4D_training_folder+batches_from_dir.filenames[23]"
   ]
  },
  {
   "cell_type": "code",
   "execution_count": null,
   "metadata": {},
   "outputs": [],
   "source": [
    "plt.imread(BP4D_training_folder+batches_from_dir.filenames[23])"
   ]
  },
  {
   "cell_type": "code",
   "execution_count": 43,
   "metadata": {},
   "outputs": [
    {
     "data": {
      "text/plain": [
       "array([[0., 0., 0., 1., 0., 0.],\n",
       "       [0., 0., 0., 0., 1., 0.],\n",
       "       [0., 0., 0., 0., 1., 0.],\n",
       "       [0., 1., 0., 0., 0., 0.]])"
      ]
     },
     "execution_count": 43,
     "metadata": {},
     "output_type": "execute_result"
    }
   ],
   "source": [
    "keras.utils.to_categorical((3,4,4,1),6)"
   ]
  },
  {
   "cell_type": "markdown",
   "metadata": {},
   "source": [
    "### 2. Building a Model"
   ]
  },
  {
   "cell_type": "code",
   "execution_count": 38,
   "metadata": {},
   "outputs": [],
   "source": [
    "from keras.models import Sequential\n",
    "from keras.layers import Dense, Conv2D, MaxPool2D,Flatten,Dropout\n",
    "from keras.optimizers import SGD"
   ]
  },
  {
   "cell_type": "code",
   "execution_count": 34,
   "metadata": {},
   "outputs": [],
   "source": [
    "model=Sequential()\n",
    "model.add(Conv2D(64,kernel_size=(5,5),strides=(1,1),activation='relu',input_shape=(48,48,1)))\n",
    "model.add(MaxPool2D(pool_size=(3,3),strides=(2,2)))\n",
    "model.add(Conv2D(64,kernel_size=(5,5),strides=(1,1),activation='relu'))\n",
    "model.add(Conv2D(128,kernel_size=(4,4),strides=(1,1),activation='relu'))\n",
    "model.add(Flatten())\n",
    "model.add(Dense(3072,activation='relu'))\n",
    "model.add(Dropout(0.2))\n",
    "model.add(Dense(6,activation='sigmoid'))"
   ]
  },
  {
   "cell_type": "code",
   "execution_count": 42,
   "metadata": {},
   "outputs": [],
   "source": [
    "model.compile(loss='binary_crossentropy',optimizer=SGD(lr=0.01,momentum=0.9))"
   ]
  },
  {
   "cell_type": "code",
   "execution_count": 43,
   "metadata": {},
   "outputs": [
    {
     "name": "stdout",
     "output_type": "stream",
     "text": [
      "_________________________________________________________________\n",
      "Layer (type)                 Output Shape              Param #   \n",
      "=================================================================\n",
      "conv2d_20 (Conv2D)           (None, 44, 44, 64)        1664      \n",
      "_________________________________________________________________\n",
      "max_pooling2d_2 (MaxPooling2 (None, 21, 21, 64)        0         \n",
      "_________________________________________________________________\n",
      "conv2d_21 (Conv2D)           (None, 17, 17, 64)        102464    \n",
      "_________________________________________________________________\n",
      "conv2d_22 (Conv2D)           (None, 14, 14, 128)       131200    \n",
      "_________________________________________________________________\n",
      "flatten_2 (Flatten)          (None, 25088)             0         \n",
      "_________________________________________________________________\n",
      "dense_3 (Dense)              (None, 3072)              77073408  \n",
      "_________________________________________________________________\n",
      "dense_4 (Dense)              (None, 6)                 18438     \n",
      "=================================================================\n",
      "Total params: 77,327,174\n",
      "Trainable params: 77,327,174\n",
      "Non-trainable params: 0\n",
      "_________________________________________________________________\n"
     ]
    }
   ],
   "source": [
    "model.summary()"
   ]
  },
  {
   "cell_type": "markdown",
   "metadata": {},
   "source": [
    "### 3. Training the model"
   ]
  },
  {
   "cell_type": "code",
   "execution_count": null,
   "metadata": {},
   "outputs": [],
   "source": []
  },
  {
   "cell_type": "markdown",
   "metadata": {},
   "source": [
    "### 4. Testing the model"
   ]
  },
  {
   "cell_type": "code",
   "execution_count": null,
   "metadata": {},
   "outputs": [],
   "source": []
  }
 ],
 "metadata": {
  "kernelspec": {
   "display_name": "Python 3",
   "language": "python",
   "name": "python3"
  },
  "language_info": {
   "codemirror_mode": {
    "name": "ipython",
    "version": 3
   },
   "file_extension": ".py",
   "mimetype": "text/x-python",
   "name": "python",
   "nbconvert_exporter": "python",
   "pygments_lexer": "ipython3",
   "version": "3.6.5"
  }
 },
 "nbformat": 4,
 "nbformat_minor": 2
}

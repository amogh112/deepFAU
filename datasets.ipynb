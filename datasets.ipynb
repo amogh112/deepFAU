{
 "cells": [
  {
   "cell_type": "markdown",
   "metadata": {},
   "source": [
    "# Analysing main datasets for Facial Action Unit Detection and loading them"
   ]
  },
  {
   "cell_type": "markdown",
   "metadata": {},
   "source": [
    "## List of Datasets:\n",
    "\n",
    "  * DISFA\n",
    "  * CK+\n",
    "  * UNBC Shoulder Pain Dataset\n",
    "  * AM-FED (Affectiva)\n",
    "  * FERA 2015 and 2017 Challenge Datasets"
   ]
  },
  {
   "cell_type": "markdown",
   "metadata": {},
   "source": [
    "Importing libraries:"
   ]
  },
  {
   "cell_type": "code",
   "execution_count": 1,
   "metadata": {},
   "outputs": [],
   "source": [
    "import glob\n",
    "import os\n",
    "import sys\n",
    "import pandas as pd"
   ]
  },
  {
   "cell_type": "markdown",
   "metadata": {},
   "source": [
    "### **DISFA**"
   ]
  },
  {
   "cell_type": "markdown",
   "metadata": {},
   "source": [
    "http://mohammadmahoor.com/wp-content/uploads/2017/06/DiSFA_Paper_andAppendix_Final_OneColumn1-1.pdf\n",
    "\n",
    "* 16.5 GB\n",
    "* 12 FAUs intensity\n",
    "* 27 subjects (15 male, 12 female)\n",
    "* 130,000 frames -each video has 4845 frames @ 20 fps\n",
    "* Page 5 of paper has the distribution of occurrence of FAUs, each FAU occurs in atleast 5000 frames"
   ]
  },
  {
   "cell_type": "markdown",
   "metadata": {},
   "source": [
    "#### Contains videos from the left and the right cameras in avi format, and also FAU labels.\n",
    "**Videos Name formatting:**\n",
    "\n",
    "*Videos_LeftCamera/{L,l}eftVideoSN001_{c,C}omp.avi* **or** *Videos_RightCamera/{R,r}ightVideoSN001_{c,C}omp.avi*\n",
    "\n",
    "**FAU label formatting:**\n",
    "\n",
    "*ActionUnit_Labels/SN001/SN001_au1.txt*\n",
    "\n",
    "inside this file, each row is like:   *frame_no,intensity{0,1,2,3,4,5}*"
   ]
  },
  {
   "cell_type": "code",
   "execution_count": 4,
   "metadata": {},
   "outputs": [],
   "source": [
    "DISFA_path='/media/amogh/Stuff/CMU/datasets/DISFA_data/'"
   ]
  },
  {
   "cell_type": "code",
   "execution_count": 2,
   "metadata": {},
   "outputs": [
    {
     "name": "stdout",
     "output_type": "stream",
     "text": [
      "ls: cannot access {DISFA_path}: No such file or directory\n"
     ]
    }
   ],
   "source": [
    "% ls {DISFA_path}"
   ]
  },
  {
   "cell_type": "code",
   "execution_count": 20,
   "metadata": {},
   "outputs": [
    {
     "name": "stdout",
     "output_type": "stream",
     "text": [
      "/media/amogh/Stuff/CMU/datasets/DISFA_data/ActionUnit_Labels/\n",
      "/media/amogh/Stuff/CMU/datasets/DISFA_data/Videos_RightCamera/\n"
     ]
    }
   ],
   "source": [
    "DISFA_AU_path=DISFA_path+'ActionUnit_Labels/'\n",
    "print(DISFA_AU_path)\n",
    "Videos_right_path=DISFA_path+'Videos_RightCamera/'\n",
    "print(Videos_right_path)"
   ]
  },
  {
   "cell_type": "markdown",
   "metadata": {},
   "source": [
    "**Loading FAUs**"
   ]
  },
  {
   "cell_type": "code",
   "execution_count": null,
   "metadata": {},
   "outputs": [],
   "source": []
  },
  {
   "cell_type": "markdown",
   "metadata": {},
   "source": [
    "**Extracting frames**"
   ]
  },
  {
   "cell_type": "code",
   "execution_count": 21,
   "metadata": {},
   "outputs": [
    {
     "data": {
      "text/plain": [
       "'/home/amogh/cmu/notebooks'"
      ]
     },
     "execution_count": 21,
     "metadata": {},
     "output_type": "execute_result"
    }
   ],
   "source": [
    "os.getcwd()"
   ]
  },
  {
   "cell_type": "code",
   "execution_count": 22,
   "metadata": {},
   "outputs": [
    {
     "data": {
      "text/plain": [
       "'/media/amogh/Stuff/CMU/datasets/DISFA_data/Videos_RightCamera/*.avi'"
      ]
     },
     "execution_count": 22,
     "metadata": {},
     "output_type": "execute_result"
    }
   ],
   "source": [
    "f'{Videos_right_path}*.avi'"
   ]
  },
  {
   "cell_type": "code",
   "execution_count": 23,
   "metadata": {},
   "outputs": [
    {
     "data": {
      "text/plain": [
       "'RightVideoSN013'"
      ]
     },
     "execution_count": 23,
     "metadata": {},
     "output_type": "execute_result"
    }
   ],
   "source": [
    "glob.glob(f'{Videos_right_path}*.avi')[0].split('/')[-1].split('_')[0]"
   ]
  },
  {
   "cell_type": "markdown",
   "metadata": {},
   "source": [
    "Create folders, raw code to avoid overwrite"
   ]
  },
  {
   "cell_type": "raw",
   "metadata": {},
   "source": [
    "for path in glob.glob(f'{Videos_right_path}*.avi'):\n",
    "    path_name=Videos_right_path+(path.split('/')[-1].split('_')[0])\n",
    "    %mkdir {path_name}\n",
    "    print(path_name)"
   ]
  },
  {
   "cell_type": "markdown",
   "metadata": {},
   "source": [
    "View files in Videos_right_path:"
   ]
  },
  {
   "cell_type": "code",
   "execution_count": 24,
   "metadata": {},
   "outputs": [
    {
     "data": {
      "text/plain": [
       "['/media/amogh/Stuff/CMU/datasets/DISFA_data/Videos_RightCamera/RightVideoSN013_comp.avi',\n",
       " '/media/amogh/Stuff/CMU/datasets/DISFA_data/Videos_RightCamera/RightVideoSN001',\n",
       " '/media/amogh/Stuff/CMU/datasets/DISFA_data/Videos_RightCamera/RightVideoSN001_comp.avi',\n",
       " '/media/amogh/Stuff/CMU/datasets/DISFA_data/Videos_RightCamera/RightVideoSN002',\n",
       " '/media/amogh/Stuff/CMU/datasets/DISFA_data/Videos_RightCamera/RightVideoSN002_comp.avi',\n",
       " '/media/amogh/Stuff/CMU/datasets/DISFA_data/Videos_RightCamera/RightVideoSN003',\n",
       " '/media/amogh/Stuff/CMU/datasets/DISFA_data/Videos_RightCamera/RightVideoSN003_comp.avi',\n",
       " '/media/amogh/Stuff/CMU/datasets/DISFA_data/Videos_RightCamera/RightVideoSN004',\n",
       " '/media/amogh/Stuff/CMU/datasets/DISFA_data/Videos_RightCamera/RightVideoSN004_comp.avi',\n",
       " '/media/amogh/Stuff/CMU/datasets/DISFA_data/Videos_RightCamera/RightVideoSN005',\n",
       " '/media/amogh/Stuff/CMU/datasets/DISFA_data/Videos_RightCamera/RightVideoSN005_comp.avi',\n",
       " '/media/amogh/Stuff/CMU/datasets/DISFA_data/Videos_RightCamera/RightVideoSN006',\n",
       " '/media/amogh/Stuff/CMU/datasets/DISFA_data/Videos_RightCamera/RightVideoSN006_comp.avi',\n",
       " '/media/amogh/Stuff/CMU/datasets/DISFA_data/Videos_RightCamera/RightVideoSN007',\n",
       " '/media/amogh/Stuff/CMU/datasets/DISFA_data/Videos_RightCamera/RightVideoSN007_comp.avi',\n",
       " '/media/amogh/Stuff/CMU/datasets/DISFA_data/Videos_RightCamera/RightVideoSN008',\n",
       " '/media/amogh/Stuff/CMU/datasets/DISFA_data/Videos_RightCamera/RightVideoSN008_comp.avi',\n",
       " '/media/amogh/Stuff/CMU/datasets/DISFA_data/Videos_RightCamera/RightVideoSN009',\n",
       " '/media/amogh/Stuff/CMU/datasets/DISFA_data/Videos_RightCamera/RightVideoSN009_comp.avi',\n",
       " '/media/amogh/Stuff/CMU/datasets/DISFA_data/Videos_RightCamera/RightVideoSN010',\n",
       " '/media/amogh/Stuff/CMU/datasets/DISFA_data/Videos_RightCamera/RightVideoSN010_comp.avi',\n",
       " '/media/amogh/Stuff/CMU/datasets/DISFA_data/Videos_RightCamera/RightVideoSN011',\n",
       " '/media/amogh/Stuff/CMU/datasets/DISFA_data/Videos_RightCamera/RightVideoSN011_comp.avi',\n",
       " '/media/amogh/Stuff/CMU/datasets/DISFA_data/Videos_RightCamera/RightVideoSN012',\n",
       " '/media/amogh/Stuff/CMU/datasets/DISFA_data/Videos_RightCamera/RightVideoSN012_comp.avi',\n",
       " '/media/amogh/Stuff/CMU/datasets/DISFA_data/Videos_RightCamera/RightVideoSN013',\n",
       " '/media/amogh/Stuff/CMU/datasets/DISFA_data/Videos_RightCamera/RightVideoSN016',\n",
       " '/media/amogh/Stuff/CMU/datasets/DISFA_data/Videos_RightCamera/RightVideoSN016_comp.avi',\n",
       " '/media/amogh/Stuff/CMU/datasets/DISFA_data/Videos_RightCamera/RightVideoSN017',\n",
       " '/media/amogh/Stuff/CMU/datasets/DISFA_data/Videos_RightCamera/RightVideoSN017_comp.avi',\n",
       " '/media/amogh/Stuff/CMU/datasets/DISFA_data/Videos_RightCamera/RightVideoSN018',\n",
       " '/media/amogh/Stuff/CMU/datasets/DISFA_data/Videos_RightCamera/RightVideoSN018_comp.avi',\n",
       " '/media/amogh/Stuff/CMU/datasets/DISFA_data/Videos_RightCamera/RightVideoSN021',\n",
       " '/media/amogh/Stuff/CMU/datasets/DISFA_data/Videos_RightCamera/RightVideoSN021_comp.avi',\n",
       " '/media/amogh/Stuff/CMU/datasets/DISFA_data/Videos_RightCamera/RightVideoSN023',\n",
       " '/media/amogh/Stuff/CMU/datasets/DISFA_data/Videos_RightCamera/RightVideoSN023_comp.avi',\n",
       " '/media/amogh/Stuff/CMU/datasets/DISFA_data/Videos_RightCamera/RightVideoSN024',\n",
       " '/media/amogh/Stuff/CMU/datasets/DISFA_data/Videos_RightCamera/RightVideoSN024_comp.avi',\n",
       " '/media/amogh/Stuff/CMU/datasets/DISFA_data/Videos_RightCamera/RightVideoSN025',\n",
       " '/media/amogh/Stuff/CMU/datasets/DISFA_data/Videos_RightCamera/RightVideoSN025_comp.avi',\n",
       " '/media/amogh/Stuff/CMU/datasets/DISFA_data/Videos_RightCamera/RightVideoSN026',\n",
       " '/media/amogh/Stuff/CMU/datasets/DISFA_data/Videos_RightCamera/RightVideoSN026_comp.avi',\n",
       " '/media/amogh/Stuff/CMU/datasets/DISFA_data/Videos_RightCamera/RightVideoSN027',\n",
       " '/media/amogh/Stuff/CMU/datasets/DISFA_data/Videos_RightCamera/RightVideoSN027_comp.avi',\n",
       " '/media/amogh/Stuff/CMU/datasets/DISFA_data/Videos_RightCamera/RightVideoSN028',\n",
       " '/media/amogh/Stuff/CMU/datasets/DISFA_data/Videos_RightCamera/RightVideoSN028_comp.avi',\n",
       " '/media/amogh/Stuff/CMU/datasets/DISFA_data/Videos_RightCamera/RightVideoSN029',\n",
       " '/media/amogh/Stuff/CMU/datasets/DISFA_data/Videos_RightCamera/RightVideoSN029_comp.avi',\n",
       " '/media/amogh/Stuff/CMU/datasets/DISFA_data/Videos_RightCamera/RightVideoSN030',\n",
       " '/media/amogh/Stuff/CMU/datasets/DISFA_data/Videos_RightCamera/RightVideoSN030_comp.avi',\n",
       " '/media/amogh/Stuff/CMU/datasets/DISFA_data/Videos_RightCamera/RightVideoSN031',\n",
       " '/media/amogh/Stuff/CMU/datasets/DISFA_data/Videos_RightCamera/RightVideoSN031_comp.avi',\n",
       " '/media/amogh/Stuff/CMU/datasets/DISFA_data/Videos_RightCamera/RightVideoSN032',\n",
       " '/media/amogh/Stuff/CMU/datasets/DISFA_data/Videos_RightCamera/RightVideoSN032_comp.avi']"
      ]
     },
     "execution_count": 24,
     "metadata": {},
     "output_type": "execute_result"
    }
   ],
   "source": [
    "glob.glob(f'{Videos_right_path}*')"
   ]
  },
  {
   "cell_type": "raw",
   "metadata": {},
   "source": [
    "Use the following to convert all frames to bitmap:\n",
    "ffmpeg -i \"/media/amogh/Stuff/CMU/datasets/DISFA_data/Videos_RightCamera/RightVideoSN001_comp.avi\" \"/media/amogh/Stuff/CMU/datasets/DISFA_data/Videos_RightCamera/RightVideoSN001/out-%03d.bmp\"\n"
   ]
  },
  {
   "cell_type": "code",
   "execution_count": 25,
   "metadata": {},
   "outputs": [
    {
     "name": "stdout",
     "output_type": "stream",
     "text": [
      "/media/amogh/Stuff/CMU/datasets/DISFA_data/Videos_RightCamera/RightVideoSN013_comp.avi\n",
      "/media/amogh/Stuff/CMU/datasets/DISFA_data/Videos_RightCamera/RightVideoSN001_comp.avi\n",
      "/media/amogh/Stuff/CMU/datasets/DISFA_data/Videos_RightCamera/RightVideoSN002_comp.avi\n",
      "/media/amogh/Stuff/CMU/datasets/DISFA_data/Videos_RightCamera/RightVideoSN003_comp.avi\n",
      "/media/amogh/Stuff/CMU/datasets/DISFA_data/Videos_RightCamera/RightVideoSN004_comp.avi\n",
      "/media/amogh/Stuff/CMU/datasets/DISFA_data/Videos_RightCamera/RightVideoSN005_comp.avi\n",
      "/media/amogh/Stuff/CMU/datasets/DISFA_data/Videos_RightCamera/RightVideoSN006_comp.avi\n",
      "/media/amogh/Stuff/CMU/datasets/DISFA_data/Videos_RightCamera/RightVideoSN007_comp.avi\n",
      "/media/amogh/Stuff/CMU/datasets/DISFA_data/Videos_RightCamera/RightVideoSN008_comp.avi\n",
      "/media/amogh/Stuff/CMU/datasets/DISFA_data/Videos_RightCamera/RightVideoSN009_comp.avi\n",
      "/media/amogh/Stuff/CMU/datasets/DISFA_data/Videos_RightCamera/RightVideoSN010_comp.avi\n",
      "/media/amogh/Stuff/CMU/datasets/DISFA_data/Videos_RightCamera/RightVideoSN011_comp.avi\n",
      "/media/amogh/Stuff/CMU/datasets/DISFA_data/Videos_RightCamera/RightVideoSN012_comp.avi\n",
      "/media/amogh/Stuff/CMU/datasets/DISFA_data/Videos_RightCamera/RightVideoSN016_comp.avi\n",
      "/media/amogh/Stuff/CMU/datasets/DISFA_data/Videos_RightCamera/RightVideoSN017_comp.avi\n",
      "/media/amogh/Stuff/CMU/datasets/DISFA_data/Videos_RightCamera/RightVideoSN018_comp.avi\n",
      "/media/amogh/Stuff/CMU/datasets/DISFA_data/Videos_RightCamera/RightVideoSN021_comp.avi\n",
      "/media/amogh/Stuff/CMU/datasets/DISFA_data/Videos_RightCamera/RightVideoSN023_comp.avi\n",
      "/media/amogh/Stuff/CMU/datasets/DISFA_data/Videos_RightCamera/RightVideoSN024_comp.avi\n",
      "/media/amogh/Stuff/CMU/datasets/DISFA_data/Videos_RightCamera/RightVideoSN025_comp.avi\n",
      "/media/amogh/Stuff/CMU/datasets/DISFA_data/Videos_RightCamera/RightVideoSN026_comp.avi\n",
      "/media/amogh/Stuff/CMU/datasets/DISFA_data/Videos_RightCamera/RightVideoSN027_comp.avi\n",
      "/media/amogh/Stuff/CMU/datasets/DISFA_data/Videos_RightCamera/RightVideoSN028_comp.avi\n",
      "/media/amogh/Stuff/CMU/datasets/DISFA_data/Videos_RightCamera/RightVideoSN029_comp.avi\n",
      "/media/amogh/Stuff/CMU/datasets/DISFA_data/Videos_RightCamera/RightVideoSN030_comp.avi\n",
      "/media/amogh/Stuff/CMU/datasets/DISFA_data/Videos_RightCamera/RightVideoSN031_comp.avi\n",
      "/media/amogh/Stuff/CMU/datasets/DISFA_data/Videos_RightCamera/RightVideoSN032_comp.avi\n"
     ]
    }
   ],
   "source": [
    "for path in glob.glob(f'{Videos_right_path}*.avi'):\n",
    "    print(path)\n"
   ]
  },
  {
   "cell_type": "markdown",
   "metadata": {},
   "source": [
    "### CK+"
   ]
  },
  {
   "cell_type": "markdown",
   "metadata": {},
   "source": [
    "### UNBC Shoulder Pain Dataset"
   ]
  },
  {
   "cell_type": "markdown",
   "metadata": {},
   "source": [
    "### AM-FED(Affectiva)"
   ]
  },
  {
   "cell_type": "markdown",
   "metadata": {},
   "source": [
    "## **FERA 2015 and 2017 Challenges**"
   ]
  },
  {
   "cell_type": "markdown",
   "metadata": {},
   "source": [
    "### **BP4D**"
   ]
  },
  {
   "cell_type": "code",
   "execution_count": 2,
   "metadata": {},
   "outputs": [],
   "source": [
    "BP4D_base_path='/home/amogh/cmu/dataset/BP4D/'\n"
   ]
  },
  {
   "cell_type": "markdown",
   "metadata": {},
   "source": [
    "**Loading FAUs:**\n",
    "<br>\n",
    "AUCoding has csv files for each sequence. Eg- F001_T1.csv\n",
    "<br>\n",
    "Each csv file has a row corresponding to each frame, and corresponding columns 1-27 represent FAUs.\n",
    "<br>\n",
    "Occurrence codes: 0 for absent, 1 for present, or 9 for missing data (unknown).\n",
    "\n"
   ]
  },
  {
   "cell_type": "code",
   "execution_count": 3,
   "metadata": {},
   "outputs": [],
   "source": [
    "BP4D_AU_path=BP4D_base_path+'AUCoding/AUCoding/'"
   ]
  },
  {
   "cell_type": "markdown",
   "metadata": {},
   "source": [
    "#### **BP4D example functions**"
   ]
  },
  {
   "cell_type": "code",
   "execution_count": 4,
   "metadata": {},
   "outputs": [
    {
     "data": {
      "text/plain": [
       "'F001_T1.csv'"
      ]
     },
     "execution_count": 4,
     "metadata": {},
     "output_type": "execute_result"
    }
   ],
   "source": [
    "example_subject='F001'\n",
    "example_sequence='T1'\n",
    "example_file=f'{example_subject}_{example_sequence}.csv'\n",
    "example_file"
   ]
  },
  {
   "cell_type": "code",
   "execution_count": 5,
   "metadata": {},
   "outputs": [
    {
     "data": {
      "text/html": [
       "<div>\n",
       "<style scoped>\n",
       "    .dataframe tbody tr th:only-of-type {\n",
       "        vertical-align: middle;\n",
       "    }\n",
       "\n",
       "    .dataframe tbody tr th {\n",
       "        vertical-align: top;\n",
       "    }\n",
       "\n",
       "    .dataframe thead th {\n",
       "        text-align: right;\n",
       "    }\n",
       "</style>\n",
       "<table border=\"1\" class=\"dataframe\">\n",
       "  <thead>\n",
       "    <tr style=\"text-align: right;\">\n",
       "      <th></th>\n",
       "      <th>0</th>\n",
       "      <th>1</th>\n",
       "      <th>2</th>\n",
       "      <th>3</th>\n",
       "      <th>4</th>\n",
       "      <th>5</th>\n",
       "      <th>6</th>\n",
       "      <th>7</th>\n",
       "      <th>8</th>\n",
       "      <th>9</th>\n",
       "      <th>...</th>\n",
       "      <th>90</th>\n",
       "      <th>91</th>\n",
       "      <th>92</th>\n",
       "      <th>93</th>\n",
       "      <th>94</th>\n",
       "      <th>95</th>\n",
       "      <th>96</th>\n",
       "      <th>97</th>\n",
       "      <th>98</th>\n",
       "      <th>99</th>\n",
       "    </tr>\n",
       "  </thead>\n",
       "  <tbody>\n",
       "    <tr>\n",
       "      <th>0</th>\n",
       "      <td>2440</td>\n",
       "      <td>0</td>\n",
       "      <td>0</td>\n",
       "      <td>9</td>\n",
       "      <td>0</td>\n",
       "      <td>0</td>\n",
       "      <td>0</td>\n",
       "      <td>0</td>\n",
       "      <td>9</td>\n",
       "      <td>0</td>\n",
       "      <td>...</td>\n",
       "      <td>9</td>\n",
       "      <td>9</td>\n",
       "      <td>9</td>\n",
       "      <td>9</td>\n",
       "      <td>9</td>\n",
       "      <td>9</td>\n",
       "      <td>9</td>\n",
       "      <td>9</td>\n",
       "      <td>9</td>\n",
       "      <td>9</td>\n",
       "    </tr>\n",
       "    <tr>\n",
       "      <th>1</th>\n",
       "      <td>2441</td>\n",
       "      <td>0</td>\n",
       "      <td>0</td>\n",
       "      <td>9</td>\n",
       "      <td>0</td>\n",
       "      <td>0</td>\n",
       "      <td>0</td>\n",
       "      <td>0</td>\n",
       "      <td>9</td>\n",
       "      <td>0</td>\n",
       "      <td>...</td>\n",
       "      <td>9</td>\n",
       "      <td>9</td>\n",
       "      <td>9</td>\n",
       "      <td>9</td>\n",
       "      <td>9</td>\n",
       "      <td>9</td>\n",
       "      <td>9</td>\n",
       "      <td>9</td>\n",
       "      <td>9</td>\n",
       "      <td>9</td>\n",
       "    </tr>\n",
       "    <tr>\n",
       "      <th>2</th>\n",
       "      <td>2442</td>\n",
       "      <td>0</td>\n",
       "      <td>0</td>\n",
       "      <td>9</td>\n",
       "      <td>0</td>\n",
       "      <td>0</td>\n",
       "      <td>0</td>\n",
       "      <td>0</td>\n",
       "      <td>9</td>\n",
       "      <td>0</td>\n",
       "      <td>...</td>\n",
       "      <td>9</td>\n",
       "      <td>9</td>\n",
       "      <td>9</td>\n",
       "      <td>9</td>\n",
       "      <td>9</td>\n",
       "      <td>9</td>\n",
       "      <td>9</td>\n",
       "      <td>9</td>\n",
       "      <td>9</td>\n",
       "      <td>9</td>\n",
       "    </tr>\n",
       "    <tr>\n",
       "      <th>3</th>\n",
       "      <td>2443</td>\n",
       "      <td>0</td>\n",
       "      <td>0</td>\n",
       "      <td>9</td>\n",
       "      <td>0</td>\n",
       "      <td>0</td>\n",
       "      <td>0</td>\n",
       "      <td>0</td>\n",
       "      <td>9</td>\n",
       "      <td>0</td>\n",
       "      <td>...</td>\n",
       "      <td>9</td>\n",
       "      <td>9</td>\n",
       "      <td>9</td>\n",
       "      <td>9</td>\n",
       "      <td>9</td>\n",
       "      <td>9</td>\n",
       "      <td>9</td>\n",
       "      <td>9</td>\n",
       "      <td>9</td>\n",
       "      <td>9</td>\n",
       "    </tr>\n",
       "    <tr>\n",
       "      <th>4</th>\n",
       "      <td>2444</td>\n",
       "      <td>0</td>\n",
       "      <td>0</td>\n",
       "      <td>9</td>\n",
       "      <td>0</td>\n",
       "      <td>0</td>\n",
       "      <td>0</td>\n",
       "      <td>0</td>\n",
       "      <td>9</td>\n",
       "      <td>0</td>\n",
       "      <td>...</td>\n",
       "      <td>9</td>\n",
       "      <td>9</td>\n",
       "      <td>9</td>\n",
       "      <td>9</td>\n",
       "      <td>9</td>\n",
       "      <td>9</td>\n",
       "      <td>9</td>\n",
       "      <td>9</td>\n",
       "      <td>9</td>\n",
       "      <td>9</td>\n",
       "    </tr>\n",
       "  </tbody>\n",
       "</table>\n",
       "<p>5 rows × 100 columns</p>\n",
       "</div>"
      ],
      "text/plain": [
       "      0  1  2  3  4  5  6  7  8  9 ...  90  91  92  93  94  95  96  97  98  99\n",
       "0  2440  0  0  9  0  0  0  0  9  0 ...   9   9   9   9   9   9   9   9   9   9\n",
       "1  2441  0  0  9  0  0  0  0  9  0 ...   9   9   9   9   9   9   9   9   9   9\n",
       "2  2442  0  0  9  0  0  0  0  9  0 ...   9   9   9   9   9   9   9   9   9   9\n",
       "3  2443  0  0  9  0  0  0  0  9  0 ...   9   9   9   9   9   9   9   9   9   9\n",
       "4  2444  0  0  9  0  0  0  0  9  0 ...   9   9   9   9   9   9   9   9   9   9\n",
       "\n",
       "[5 rows x 100 columns]"
      ]
     },
     "execution_count": 5,
     "metadata": {},
     "output_type": "execute_result"
    }
   ],
   "source": [
    "df_example=pd.read_csv(BP4D_AU_path+example_file)\n",
    "df_example.head()"
   ]
  },
  {
   "cell_type": "code",
   "execution_count": 29,
   "metadata": {},
   "outputs": [
    {
     "data": {
      "text/plain": [
       "0      2440\n",
       "1      2441\n",
       "2      2442\n",
       "3      2443\n",
       "4      2444\n",
       "5      2445\n",
       "6      2446\n",
       "7      2447\n",
       "8      2448\n",
       "9      2449\n",
       "10     2450\n",
       "11     2451\n",
       "12     2452\n",
       "13     2453\n",
       "14     2454\n",
       "15     2455\n",
       "16     2456\n",
       "17     2457\n",
       "18     2458\n",
       "19     2459\n",
       "20     2460\n",
       "21     2461\n",
       "22     2462\n",
       "23     2463\n",
       "24     2464\n",
       "25     2465\n",
       "26     2466\n",
       "27     2467\n",
       "28     2468\n",
       "29     2469\n",
       "       ... \n",
       "523    2963\n",
       "524    2964\n",
       "525    2965\n",
       "526    2966\n",
       "527    2967\n",
       "528    2968\n",
       "529    2969\n",
       "530    2970\n",
       "531    2971\n",
       "532    2972\n",
       "533    2973\n",
       "534    2974\n",
       "535    2975\n",
       "536    2976\n",
       "537    2977\n",
       "538    2978\n",
       "539    2979\n",
       "540    2980\n",
       "541    2981\n",
       "542    2982\n",
       "543    2983\n",
       "544    2984\n",
       "545    2985\n",
       "546    2986\n",
       "547    2987\n",
       "548    2988\n",
       "549    2989\n",
       "550    2990\n",
       "551    2991\n",
       "552    2992\n",
       "Name: 0, Length: 553, dtype: int64"
      ]
     },
     "execution_count": 29,
     "metadata": {},
     "output_type": "execute_result"
    }
   ],
   "source": [
    "frame_numbers=df_example['0']\n",
    "frame_numbers"
   ]
  },
  {
   "cell_type": "markdown",
   "metadata": {},
   "source": [
    "**Seeing the occurrence (0(not present)/1(present)/9(unlabelled)) of an FAU number for a frame**;  *nth* AU value is the *nth* column for that frame"
   ]
  },
  {
   "cell_type": "code",
   "execution_count": 30,
   "metadata": {},
   "outputs": [
    {
     "data": {
      "text/plain": [
       "1    9\n",
       "Name: 3, dtype: int64"
      ]
     },
     "execution_count": 30,
     "metadata": {},
     "output_type": "execute_result"
    }
   ],
   "source": [
    "frame_no=2441\n",
    "fau_no=3\n",
    "df2=(df_example.loc[df_example['0']==frame_no]).iloc[:,fau_no]\n",
    "df2\n",
    "# df_example.loc[(frame_no),str(fau_no)]"
   ]
  },
  {
   "cell_type": "markdown",
   "metadata": {},
   "source": [
    "Seeing the **number of times each FAU occurs(1), does not occur(0), isn't labelled(9)**; syntax- df_example.iloc[:,0:28] returns the column for 27 FAUs, apply the value_counts function to each column, which gives the frequency of all values that occur in it. iloc at end is used to just see '0','1','9'. "
   ]
  },
  {
   "cell_type": "code",
   "execution_count": 53,
   "metadata": {},
   "outputs": [
    {
     "data": {
      "text/html": [
       "<div>\n",
       "<style scoped>\n",
       "    .dataframe tbody tr th:only-of-type {\n",
       "        vertical-align: middle;\n",
       "    }\n",
       "\n",
       "    .dataframe tbody tr th {\n",
       "        vertical-align: top;\n",
       "    }\n",
       "\n",
       "    .dataframe thead th {\n",
       "        text-align: right;\n",
       "    }\n",
       "</style>\n",
       "<table border=\"1\" class=\"dataframe\">\n",
       "  <thead>\n",
       "    <tr style=\"text-align: right;\">\n",
       "      <th></th>\n",
       "      <th>0</th>\n",
       "      <th>1</th>\n",
       "      <th>2</th>\n",
       "      <th>3</th>\n",
       "      <th>4</th>\n",
       "      <th>5</th>\n",
       "      <th>6</th>\n",
       "      <th>7</th>\n",
       "      <th>8</th>\n",
       "      <th>9</th>\n",
       "      <th>...</th>\n",
       "      <th>18</th>\n",
       "      <th>19</th>\n",
       "      <th>20</th>\n",
       "      <th>21</th>\n",
       "      <th>22</th>\n",
       "      <th>23</th>\n",
       "      <th>24</th>\n",
       "      <th>25</th>\n",
       "      <th>26</th>\n",
       "      <th>27</th>\n",
       "    </tr>\n",
       "  </thead>\n",
       "  <tbody>\n",
       "    <tr>\n",
       "      <th>0</th>\n",
       "      <td>NaN</td>\n",
       "      <td>233.0</td>\n",
       "      <td>415.0</td>\n",
       "      <td>NaN</td>\n",
       "      <td>527.0</td>\n",
       "      <td>432.0</td>\n",
       "      <td>263.0</td>\n",
       "      <td>553.0</td>\n",
       "      <td>NaN</td>\n",
       "      <td>553.0</td>\n",
       "      <td>...</td>\n",
       "      <td>553.0</td>\n",
       "      <td>553.0</td>\n",
       "      <td>537.0</td>\n",
       "      <td>NaN</td>\n",
       "      <td>553.0</td>\n",
       "      <td>553.0</td>\n",
       "      <td>553.0</td>\n",
       "      <td>NaN</td>\n",
       "      <td>NaN</td>\n",
       "      <td>496.0</td>\n",
       "    </tr>\n",
       "    <tr>\n",
       "      <th>1</th>\n",
       "      <td>NaN</td>\n",
       "      <td>320.0</td>\n",
       "      <td>138.0</td>\n",
       "      <td>NaN</td>\n",
       "      <td>26.0</td>\n",
       "      <td>121.0</td>\n",
       "      <td>290.0</td>\n",
       "      <td>NaN</td>\n",
       "      <td>NaN</td>\n",
       "      <td>NaN</td>\n",
       "      <td>...</td>\n",
       "      <td>NaN</td>\n",
       "      <td>NaN</td>\n",
       "      <td>16.0</td>\n",
       "      <td>NaN</td>\n",
       "      <td>NaN</td>\n",
       "      <td>NaN</td>\n",
       "      <td>NaN</td>\n",
       "      <td>NaN</td>\n",
       "      <td>NaN</td>\n",
       "      <td>57.0</td>\n",
       "    </tr>\n",
       "    <tr>\n",
       "      <th>9</th>\n",
       "      <td>NaN</td>\n",
       "      <td>NaN</td>\n",
       "      <td>NaN</td>\n",
       "      <td>553.0</td>\n",
       "      <td>NaN</td>\n",
       "      <td>NaN</td>\n",
       "      <td>NaN</td>\n",
       "      <td>NaN</td>\n",
       "      <td>553.0</td>\n",
       "      <td>NaN</td>\n",
       "      <td>...</td>\n",
       "      <td>NaN</td>\n",
       "      <td>NaN</td>\n",
       "      <td>NaN</td>\n",
       "      <td>553.0</td>\n",
       "      <td>NaN</td>\n",
       "      <td>NaN</td>\n",
       "      <td>NaN</td>\n",
       "      <td>553.0</td>\n",
       "      <td>553.0</td>\n",
       "      <td>NaN</td>\n",
       "    </tr>\n",
       "  </tbody>\n",
       "</table>\n",
       "<p>3 rows × 28 columns</p>\n",
       "</div>"
      ],
      "text/plain": [
       "    0      1      2      3      4      5      6      7      8      9  ...    \\\n",
       "0 NaN  233.0  415.0    NaN  527.0  432.0  263.0  553.0    NaN  553.0  ...     \n",
       "1 NaN  320.0  138.0    NaN   26.0  121.0  290.0    NaN    NaN    NaN  ...     \n",
       "9 NaN    NaN    NaN  553.0    NaN    NaN    NaN    NaN  553.0    NaN  ...     \n",
       "\n",
       "      18     19     20     21     22     23     24     25     26     27  \n",
       "0  553.0  553.0  537.0    NaN  553.0  553.0  553.0    NaN    NaN  496.0  \n",
       "1    NaN    NaN   16.0    NaN    NaN    NaN    NaN    NaN    NaN   57.0  \n",
       "9    NaN    NaN    NaN  553.0    NaN    NaN    NaN  553.0  553.0    NaN  \n",
       "\n",
       "[3 rows x 28 columns]"
      ]
     },
     "execution_count": 53,
     "metadata": {},
     "output_type": "execute_result"
    }
   ],
   "source": [
    "df_example.iloc[:,0:28].apply(pd.Series.value_counts).iloc[:3,:]"
   ]
  },
  {
   "cell_type": "code",
   "execution_count": 18,
   "metadata": {},
   "outputs": [],
   "source": [
    "def label_getter(subj_req,seq_req,frame_req):\n",
    "    au_file_reqd=BP4D_AU_path+f'{subj_req}_{seq_req}.csv'\n",
    "    print (au_file_reqd)\n",
    "    df_reqd=pd.read_csv(au_file_reqd)\n",
    "    list_of_faus=list(df_reqd.loc[df_example['0']==frame_req].iloc[0]) #list: [frame_no, fau1, fau2, fau3....]\n",
    "    #choose FAUS for which you want the labels.\n",
    "    list_mask=[1,2,4,6,7,10,12,14,15,17,23]\n",
    "    list_final=[list_of_faus[i] for i in list_mask]\n",
    "    return list_final"
   ]
  },
  {
   "cell_type": "code",
   "execution_count": 19,
   "metadata": {},
   "outputs": [
    {
     "name": "stdout",
     "output_type": "stream",
     "text": [
      "/home/amogh/cmu/dataset/BP4D/AUCoding/AUCoding/F001_T1.csv\n"
     ]
    },
    {
     "data": {
      "text/plain": [
       "[0, 0, 0, 0, 0, 1, 1, 0, 0, 0, 0]"
      ]
     },
     "execution_count": 19,
     "metadata": {},
     "output_type": "execute_result"
    }
   ],
   "source": [
    "label_getter('F001','T1',2440)"
   ]
  },
  {
   "cell_type": "markdown",
   "metadata": {},
   "source": [
    "**Analysing occurrence of FAUs**"
   ]
  },
  {
   "cell_type": "code",
   "execution_count": 63,
   "metadata": {},
   "outputs": [
    {
     "data": {
      "text/plain": [
       "['/home/amogh/cmu/dataset/BP4D/AUCoding/AUCoding/M005_T5.csv',\n",
       " '/home/amogh/cmu/dataset/BP4D/AUCoding/AUCoding/M012_T2.csv',\n",
       " '/home/amogh/cmu/dataset/BP4D/AUCoding/AUCoding/M010_T1.csv',\n",
       " '/home/amogh/cmu/dataset/BP4D/AUCoding/AUCoding/F015_T3.csv',\n",
       " '/home/amogh/cmu/dataset/BP4D/AUCoding/AUCoding/F021_T6.csv',\n",
       " '/home/amogh/cmu/dataset/BP4D/AUCoding/AUCoding/F005_T3.csv',\n",
       " '/home/amogh/cmu/dataset/BP4D/AUCoding/AUCoding/M013_T2.csv',\n",
       " '/home/amogh/cmu/dataset/BP4D/AUCoding/AUCoding/F004_T2.csv',\n",
       " '/home/amogh/cmu/dataset/BP4D/AUCoding/AUCoding/F008_T5.csv',\n",
       " '/home/amogh/cmu/dataset/BP4D/AUCoding/AUCoding/M002_T7.csv',\n",
       " '/home/amogh/cmu/dataset/BP4D/AUCoding/AUCoding/F014_T1.csv',\n",
       " '/home/amogh/cmu/dataset/BP4D/AUCoding/AUCoding/M007_T3.csv',\n",
       " '/home/amogh/cmu/dataset/BP4D/AUCoding/AUCoding/M018_T6.csv',\n",
       " '/home/amogh/cmu/dataset/BP4D/AUCoding/AUCoding/M003_T2.csv',\n",
       " '/home/amogh/cmu/dataset/BP4D/AUCoding/AUCoding/F019_T2.csv',\n",
       " '/home/amogh/cmu/dataset/BP4D/AUCoding/AUCoding/F017_T6.csv',\n",
       " '/home/amogh/cmu/dataset/BP4D/AUCoding/AUCoding/M006_T3.csv',\n",
       " '/home/amogh/cmu/dataset/BP4D/AUCoding/AUCoding/M009_T1.csv',\n",
       " '/home/amogh/cmu/dataset/BP4D/AUCoding/AUCoding/F009_T3.csv',\n",
       " '/home/amogh/cmu/dataset/BP4D/AUCoding/AUCoding/F013_T1.csv',\n",
       " '/home/amogh/cmu/dataset/BP4D/AUCoding/AUCoding/M014_T2.csv',\n",
       " '/home/amogh/cmu/dataset/BP4D/AUCoding/AUCoding/F009_T4.csv',\n",
       " '/home/amogh/cmu/dataset/BP4D/AUCoding/AUCoding/F010_T5.csv',\n",
       " '/home/amogh/cmu/dataset/BP4D/AUCoding/AUCoding/F017_T3.csv',\n",
       " '/home/amogh/cmu/dataset/BP4D/AUCoding/AUCoding/M015_T3.csv',\n",
       " '/home/amogh/cmu/dataset/BP4D/AUCoding/AUCoding/F014_T7.csv',\n",
       " '/home/amogh/cmu/dataset/BP4D/AUCoding/AUCoding/F019_T7.csv',\n",
       " '/home/amogh/cmu/dataset/BP4D/AUCoding/AUCoding/M005_T7.csv',\n",
       " '/home/amogh/cmu/dataset/BP4D/AUCoding/AUCoding/M018_T1.csv',\n",
       " '/home/amogh/cmu/dataset/BP4D/AUCoding/AUCoding/M010_T5.csv',\n",
       " '/home/amogh/cmu/dataset/BP4D/AUCoding/AUCoding/M010_T4.csv',\n",
       " '/home/amogh/cmu/dataset/BP4D/AUCoding/AUCoding/F009_T6.csv',\n",
       " '/home/amogh/cmu/dataset/BP4D/AUCoding/AUCoding/F019_T5.csv',\n",
       " '/home/amogh/cmu/dataset/BP4D/AUCoding/AUCoding/M017_T5.csv',\n",
       " '/home/amogh/cmu/dataset/BP4D/AUCoding/AUCoding/F008_T7.csv',\n",
       " '/home/amogh/cmu/dataset/BP4D/AUCoding/AUCoding/F009_T1.csv',\n",
       " '/home/amogh/cmu/dataset/BP4D/AUCoding/AUCoding/F006_T3.csv',\n",
       " '/home/amogh/cmu/dataset/BP4D/AUCoding/AUCoding/F001_T5.csv',\n",
       " '/home/amogh/cmu/dataset/BP4D/AUCoding/AUCoding/F018_T8.csv',\n",
       " '/home/amogh/cmu/dataset/BP4D/AUCoding/AUCoding/M001_T5.csv',\n",
       " '/home/amogh/cmu/dataset/BP4D/AUCoding/AUCoding/F022_T5.csv',\n",
       " '/home/amogh/cmu/dataset/BP4D/AUCoding/AUCoding/M012_T7.csv',\n",
       " '/home/amogh/cmu/dataset/BP4D/AUCoding/AUCoding/F010_T6.csv',\n",
       " '/home/amogh/cmu/dataset/BP4D/AUCoding/AUCoding/M005_T1.csv',\n",
       " '/home/amogh/cmu/dataset/BP4D/AUCoding/AUCoding/M002_T1.csv',\n",
       " '/home/amogh/cmu/dataset/BP4D/AUCoding/AUCoding/M005_T4.csv',\n",
       " '/home/amogh/cmu/dataset/BP4D/AUCoding/AUCoding/F014_T3.csv',\n",
       " '/home/amogh/cmu/dataset/BP4D/AUCoding/AUCoding/F018_T4.csv',\n",
       " '/home/amogh/cmu/dataset/BP4D/AUCoding/AUCoding/F015_T2.csv',\n",
       " '/home/amogh/cmu/dataset/BP4D/AUCoding/AUCoding/F011_T5.csv',\n",
       " '/home/amogh/cmu/dataset/BP4D/AUCoding/AUCoding/F018_T2.csv',\n",
       " '/home/amogh/cmu/dataset/BP4D/AUCoding/AUCoding/F012_T5.csv',\n",
       " '/home/amogh/cmu/dataset/BP4D/AUCoding/AUCoding/F012_T8.csv',\n",
       " '/home/amogh/cmu/dataset/BP4D/AUCoding/AUCoding/M017_T1.csv',\n",
       " '/home/amogh/cmu/dataset/BP4D/AUCoding/AUCoding/F002_T7.csv',\n",
       " '/home/amogh/cmu/dataset/BP4D/AUCoding/AUCoding/F008_T3.csv',\n",
       " '/home/amogh/cmu/dataset/BP4D/AUCoding/AUCoding/M008_T2.csv',\n",
       " '/home/amogh/cmu/dataset/BP4D/AUCoding/AUCoding/M009_T7.csv',\n",
       " '/home/amogh/cmu/dataset/BP4D/AUCoding/AUCoding/M004_T7.csv',\n",
       " '/home/amogh/cmu/dataset/BP4D/AUCoding/AUCoding/F004_T6.csv',\n",
       " '/home/amogh/cmu/dataset/BP4D/AUCoding/AUCoding/M013_T1.csv',\n",
       " '/home/amogh/cmu/dataset/BP4D/AUCoding/AUCoding/M018_T8.csv',\n",
       " '/home/amogh/cmu/dataset/BP4D/AUCoding/AUCoding/M011_T5.csv',\n",
       " '/home/amogh/cmu/dataset/BP4D/AUCoding/AUCoding/M015_T6.csv',\n",
       " '/home/amogh/cmu/dataset/BP4D/AUCoding/AUCoding/F017_T7.csv',\n",
       " '/home/amogh/cmu/dataset/BP4D/AUCoding/AUCoding/M018_T2.csv',\n",
       " '/home/amogh/cmu/dataset/BP4D/AUCoding/AUCoding/M006_T5.csv',\n",
       " '/home/amogh/cmu/dataset/BP4D/AUCoding/AUCoding/F023_T3.csv',\n",
       " '/home/amogh/cmu/dataset/BP4D/AUCoding/AUCoding/F011_T3.csv',\n",
       " '/home/amogh/cmu/dataset/BP4D/AUCoding/AUCoding/F012_T3.csv',\n",
       " '/home/amogh/cmu/dataset/BP4D/AUCoding/AUCoding/F001_T1.csv',\n",
       " '/home/amogh/cmu/dataset/BP4D/AUCoding/AUCoding/M010_T6.csv',\n",
       " '/home/amogh/cmu/dataset/BP4D/AUCoding/AUCoding/F005_T5.csv',\n",
       " '/home/amogh/cmu/dataset/BP4D/AUCoding/AUCoding/F010_T2.csv',\n",
       " '/home/amogh/cmu/dataset/BP4D/AUCoding/AUCoding/F016_T8.csv',\n",
       " '/home/amogh/cmu/dataset/BP4D/AUCoding/AUCoding/F001_T2.csv',\n",
       " '/home/amogh/cmu/dataset/BP4D/AUCoding/AUCoding/F014_T5.csv',\n",
       " '/home/amogh/cmu/dataset/BP4D/AUCoding/AUCoding/F020_T5.csv',\n",
       " '/home/amogh/cmu/dataset/BP4D/AUCoding/AUCoding/F007_T1.csv',\n",
       " '/home/amogh/cmu/dataset/BP4D/AUCoding/AUCoding/F012_T7.csv',\n",
       " '/home/amogh/cmu/dataset/BP4D/AUCoding/AUCoding/F019_T1.csv',\n",
       " '/home/amogh/cmu/dataset/BP4D/AUCoding/AUCoding/F013_T7.csv',\n",
       " '/home/amogh/cmu/dataset/BP4D/AUCoding/AUCoding/F005_T4.csv',\n",
       " '/home/amogh/cmu/dataset/BP4D/AUCoding/AUCoding/F018_T1.csv',\n",
       " '/home/amogh/cmu/dataset/BP4D/AUCoding/AUCoding/F011_T8.csv',\n",
       " '/home/amogh/cmu/dataset/BP4D/AUCoding/AUCoding/F011_T6.csv',\n",
       " '/home/amogh/cmu/dataset/BP4D/AUCoding/AUCoding/F023_T8.csv',\n",
       " '/home/amogh/cmu/dataset/BP4D/AUCoding/AUCoding/M007_T6.csv',\n",
       " '/home/amogh/cmu/dataset/BP4D/AUCoding/AUCoding/M015_T2.csv',\n",
       " '/home/amogh/cmu/dataset/BP4D/AUCoding/AUCoding/M002_T4.csv',\n",
       " '/home/amogh/cmu/dataset/BP4D/AUCoding/AUCoding/F021_T3.csv',\n",
       " '/home/amogh/cmu/dataset/BP4D/AUCoding/AUCoding/F018_T5.csv',\n",
       " '/home/amogh/cmu/dataset/BP4D/AUCoding/AUCoding/M011_T4.csv',\n",
       " '/home/amogh/cmu/dataset/BP4D/AUCoding/AUCoding/F002_T6.csv',\n",
       " '/home/amogh/cmu/dataset/BP4D/AUCoding/AUCoding/F016_T4.csv',\n",
       " '/home/amogh/cmu/dataset/BP4D/AUCoding/AUCoding/F021_T2.csv',\n",
       " '/home/amogh/cmu/dataset/BP4D/AUCoding/AUCoding/F011_T1.csv',\n",
       " '/home/amogh/cmu/dataset/BP4D/AUCoding/AUCoding/F017_T2.csv',\n",
       " '/home/amogh/cmu/dataset/BP4D/AUCoding/AUCoding/M016_T3.csv',\n",
       " '/home/amogh/cmu/dataset/BP4D/AUCoding/AUCoding/F001_T3.csv',\n",
       " '/home/amogh/cmu/dataset/BP4D/AUCoding/AUCoding/M014_T3.csv',\n",
       " '/home/amogh/cmu/dataset/BP4D/AUCoding/AUCoding/M016_T5.csv',\n",
       " '/home/amogh/cmu/dataset/BP4D/AUCoding/AUCoding/F005_T8.csv',\n",
       " '/home/amogh/cmu/dataset/BP4D/AUCoding/AUCoding/F019_T3.csv',\n",
       " '/home/amogh/cmu/dataset/BP4D/AUCoding/AUCoding/F015_T5.csv',\n",
       " '/home/amogh/cmu/dataset/BP4D/AUCoding/AUCoding/M011_T3.csv',\n",
       " '/home/amogh/cmu/dataset/BP4D/AUCoding/AUCoding/F009_T7.csv',\n",
       " '/home/amogh/cmu/dataset/BP4D/AUCoding/AUCoding/F004_T8.csv',\n",
       " '/home/amogh/cmu/dataset/BP4D/AUCoding/AUCoding/F015_T7.csv',\n",
       " '/home/amogh/cmu/dataset/BP4D/AUCoding/AUCoding/M008_T1.csv',\n",
       " '/home/amogh/cmu/dataset/BP4D/AUCoding/AUCoding/M008_T7.csv',\n",
       " '/home/amogh/cmu/dataset/BP4D/AUCoding/AUCoding/F011_T4.csv',\n",
       " '/home/amogh/cmu/dataset/BP4D/AUCoding/AUCoding/M017_T4.csv',\n",
       " '/home/amogh/cmu/dataset/BP4D/AUCoding/AUCoding/F023_T7.csv',\n",
       " '/home/amogh/cmu/dataset/BP4D/AUCoding/AUCoding/F019_T4.csv',\n",
       " '/home/amogh/cmu/dataset/BP4D/AUCoding/AUCoding/M009_T2.csv',\n",
       " '/home/amogh/cmu/dataset/BP4D/AUCoding/AUCoding/F005_T6.csv',\n",
       " '/home/amogh/cmu/dataset/BP4D/AUCoding/AUCoding/M005_T3.csv',\n",
       " '/home/amogh/cmu/dataset/BP4D/AUCoding/AUCoding/F002_T1.csv',\n",
       " '/home/amogh/cmu/dataset/BP4D/AUCoding/AUCoding/M013_T5.csv',\n",
       " '/home/amogh/cmu/dataset/BP4D/AUCoding/AUCoding/F014_T2.csv',\n",
       " '/home/amogh/cmu/dataset/BP4D/AUCoding/AUCoding/M002_T8.csv',\n",
       " '/home/amogh/cmu/dataset/BP4D/AUCoding/AUCoding/M010_T3.csv',\n",
       " '/home/amogh/cmu/dataset/BP4D/AUCoding/AUCoding/F012_T1.csv',\n",
       " '/home/amogh/cmu/dataset/BP4D/AUCoding/AUCoding/F013_T6.csv',\n",
       " '/home/amogh/cmu/dataset/BP4D/AUCoding/AUCoding/F022_T3.csv',\n",
       " '/home/amogh/cmu/dataset/BP4D/AUCoding/AUCoding/F001_T8.csv',\n",
       " '/home/amogh/cmu/dataset/BP4D/AUCoding/AUCoding/F015_T6.csv',\n",
       " '/home/amogh/cmu/dataset/BP4D/AUCoding/AUCoding/F002_T3.csv',\n",
       " '/home/amogh/cmu/dataset/BP4D/AUCoding/AUCoding/F023_T4.csv',\n",
       " '/home/amogh/cmu/dataset/BP4D/AUCoding/AUCoding/M013_T3.csv',\n",
       " '/home/amogh/cmu/dataset/BP4D/AUCoding/AUCoding/M018_T3.csv',\n",
       " '/home/amogh/cmu/dataset/BP4D/AUCoding/AUCoding/M018_T5.csv',\n",
       " '/home/amogh/cmu/dataset/BP4D/AUCoding/AUCoding/F019_T6.csv',\n",
       " '/home/amogh/cmu/dataset/BP4D/AUCoding/AUCoding/F007_T8.csv',\n",
       " '/home/amogh/cmu/dataset/BP4D/AUCoding/AUCoding/M014_T6.csv',\n",
       " '/home/amogh/cmu/dataset/BP4D/AUCoding/AUCoding/F006_T5.csv',\n",
       " '/home/amogh/cmu/dataset/BP4D/AUCoding/AUCoding/F004_T3.csv',\n",
       " '/home/amogh/cmu/dataset/BP4D/AUCoding/AUCoding/M017_T2.csv',\n",
       " '/home/amogh/cmu/dataset/BP4D/AUCoding/AUCoding/F017_T5.csv',\n",
       " '/home/amogh/cmu/dataset/BP4D/AUCoding/AUCoding/F006_T4.csv',\n",
       " '/home/amogh/cmu/dataset/BP4D/AUCoding/AUCoding/M017_T3.csv',\n",
       " '/home/amogh/cmu/dataset/BP4D/AUCoding/AUCoding/F008_T6.csv',\n",
       " '/home/amogh/cmu/dataset/BP4D/AUCoding/AUCoding/F015_T4.csv',\n",
       " '/home/amogh/cmu/dataset/BP4D/AUCoding/AUCoding/M018_T4.csv',\n",
       " '/home/amogh/cmu/dataset/BP4D/AUCoding/AUCoding/M005_T6.csv',\n",
       " '/home/amogh/cmu/dataset/BP4D/AUCoding/AUCoding/F020_T8.csv',\n",
       " '/home/amogh/cmu/dataset/BP4D/AUCoding/AUCoding/F017_T4.csv',\n",
       " '/home/amogh/cmu/dataset/BP4D/AUCoding/AUCoding/F010_T4.csv',\n",
       " '/home/amogh/cmu/dataset/BP4D/AUCoding/AUCoding/M013_T4.csv',\n",
       " '/home/amogh/cmu/dataset/BP4D/AUCoding/AUCoding/M001_T3.csv',\n",
       " '/home/amogh/cmu/dataset/BP4D/AUCoding/AUCoding/F015_T8.csv',\n",
       " '/home/amogh/cmu/dataset/BP4D/AUCoding/AUCoding/M010_T8.csv',\n",
       " '/home/amogh/cmu/dataset/BP4D/AUCoding/AUCoding/M007_T5.csv',\n",
       " '/home/amogh/cmu/dataset/BP4D/AUCoding/AUCoding/F006_T8.csv',\n",
       " '/home/amogh/cmu/dataset/BP4D/AUCoding/AUCoding/M004_T2.csv',\n",
       " '/home/amogh/cmu/dataset/BP4D/AUCoding/AUCoding/F014_T8.csv',\n",
       " '/home/amogh/cmu/dataset/BP4D/AUCoding/AUCoding/F016_T7.csv',\n",
       " '/home/amogh/cmu/dataset/BP4D/AUCoding/AUCoding/M008_T6.csv',\n",
       " '/home/amogh/cmu/dataset/BP4D/AUCoding/AUCoding/F022_T4.csv',\n",
       " '/home/amogh/cmu/dataset/BP4D/AUCoding/AUCoding/M008_T5.csv',\n",
       " '/home/amogh/cmu/dataset/BP4D/AUCoding/AUCoding/M005_T2.csv',\n",
       " '/home/amogh/cmu/dataset/BP4D/AUCoding/AUCoding/F004_T1.csv',\n",
       " '/home/amogh/cmu/dataset/BP4D/AUCoding/AUCoding/M007_T8.csv',\n",
       " '/home/amogh/cmu/dataset/BP4D/AUCoding/AUCoding/F006_T2.csv',\n",
       " '/home/amogh/cmu/dataset/BP4D/AUCoding/AUCoding/M002_T3.csv',\n",
       " '/home/amogh/cmu/dataset/BP4D/AUCoding/AUCoding/M007_T1.csv',\n",
       " '/home/amogh/cmu/dataset/BP4D/AUCoding/AUCoding/F013_T2.csv',\n",
       " '/home/amogh/cmu/dataset/BP4D/AUCoding/AUCoding/F009_T2.csv',\n",
       " '/home/amogh/cmu/dataset/BP4D/AUCoding/AUCoding/F005_T7.csv',\n",
       " '/home/amogh/cmu/dataset/BP4D/AUCoding/AUCoding/M003_T6.csv',\n",
       " '/home/amogh/cmu/dataset/BP4D/AUCoding/AUCoding/M016_T4.csv',\n",
       " '/home/amogh/cmu/dataset/BP4D/AUCoding/AUCoding/M007_T4.csv',\n",
       " '/home/amogh/cmu/dataset/BP4D/AUCoding/AUCoding/F021_T5.csv',\n",
       " '/home/amogh/cmu/dataset/BP4D/AUCoding/AUCoding/F002_T4.csv',\n",
       " '/home/amogh/cmu/dataset/BP4D/AUCoding/AUCoding/M013_T6.csv',\n",
       " '/home/amogh/cmu/dataset/BP4D/AUCoding/AUCoding/M011_T2.csv',\n",
       " '/home/amogh/cmu/dataset/BP4D/AUCoding/AUCoding/M012_T3.csv',\n",
       " '/home/amogh/cmu/dataset/BP4D/AUCoding/AUCoding/F005_T1.csv',\n",
       " '/home/amogh/cmu/dataset/BP4D/AUCoding/AUCoding/M012_T4.csv',\n",
       " '/home/amogh/cmu/dataset/BP4D/AUCoding/AUCoding/M003_T7.csv',\n",
       " '/home/amogh/cmu/dataset/BP4D/AUCoding/AUCoding/F020_T3.csv',\n",
       " '/home/amogh/cmu/dataset/BP4D/AUCoding/AUCoding/F016_T1.csv',\n",
       " '/home/amogh/cmu/dataset/BP4D/AUCoding/AUCoding/F017_T1.csv',\n",
       " '/home/amogh/cmu/dataset/BP4D/AUCoding/AUCoding/M003_T1.csv',\n",
       " '/home/amogh/cmu/dataset/BP4D/AUCoding/AUCoding/M008_T4.csv',\n",
       " '/home/amogh/cmu/dataset/BP4D/AUCoding/AUCoding/F003_T1.csv',\n",
       " '/home/amogh/cmu/dataset/BP4D/AUCoding/AUCoding/F018_T6.csv',\n",
       " '/home/amogh/cmu/dataset/BP4D/AUCoding/AUCoding/M014_T7.csv',\n",
       " '/home/amogh/cmu/dataset/BP4D/AUCoding/AUCoding/M014_T1.csv',\n",
       " '/home/amogh/cmu/dataset/BP4D/AUCoding/AUCoding/F002_T2.csv',\n",
       " '/home/amogh/cmu/dataset/BP4D/AUCoding/AUCoding/F004_T7.csv',\n",
       " '/home/amogh/cmu/dataset/BP4D/AUCoding/AUCoding/F023_T6.csv',\n",
       " '/home/amogh/cmu/dataset/BP4D/AUCoding/AUCoding/F020_T1.csv',\n",
       " '/home/amogh/cmu/dataset/BP4D/AUCoding/AUCoding/F023_T1.csv',\n",
       " '/home/amogh/cmu/dataset/BP4D/AUCoding/AUCoding/M006_T6.csv',\n",
       " '/home/amogh/cmu/dataset/BP4D/AUCoding/AUCoding/F003_T7.csv',\n",
       " '/home/amogh/cmu/dataset/BP4D/AUCoding/AUCoding/M003_T3.csv',\n",
       " '/home/amogh/cmu/dataset/BP4D/AUCoding/AUCoding/F016_T3.csv',\n",
       " '/home/amogh/cmu/dataset/BP4D/AUCoding/AUCoding/M001_T4.csv',\n",
       " '/home/amogh/cmu/dataset/BP4D/AUCoding/AUCoding/F007_T3.csv',\n",
       " '/home/amogh/cmu/dataset/BP4D/AUCoding/AUCoding/F007_T7.csv',\n",
       " '/home/amogh/cmu/dataset/BP4D/AUCoding/AUCoding/M015_T7.csv',\n",
       " '/home/amogh/cmu/dataset/BP4D/AUCoding/AUCoding/M007_T7.csv',\n",
       " '/home/amogh/cmu/dataset/BP4D/AUCoding/AUCoding/M004_T5.csv',\n",
       " '/home/amogh/cmu/dataset/BP4D/AUCoding/AUCoding/M011_T8.csv',\n",
       " '/home/amogh/cmu/dataset/BP4D/AUCoding/AUCoding/M004_T1.csv',\n",
       " '/home/amogh/cmu/dataset/BP4D/AUCoding/AUCoding/F001_T6.csv',\n",
       " '/home/amogh/cmu/dataset/BP4D/AUCoding/AUCoding/F006_T6.csv',\n",
       " '/home/amogh/cmu/dataset/BP4D/AUCoding/AUCoding/F016_T6.csv',\n",
       " '/home/amogh/cmu/dataset/BP4D/AUCoding/AUCoding/M009_T5.csv',\n",
       " '/home/amogh/cmu/dataset/BP4D/AUCoding/AUCoding/M009_T3.csv',\n",
       " '/home/amogh/cmu/dataset/BP4D/AUCoding/AUCoding/M009_T8.csv',\n",
       " '/home/amogh/cmu/dataset/BP4D/AUCoding/AUCoding/F004_T5.csv',\n",
       " '/home/amogh/cmu/dataset/BP4D/AUCoding/AUCoding/M012_T5.csv',\n",
       " '/home/amogh/cmu/dataset/BP4D/AUCoding/AUCoding/F002_T5.csv',\n",
       " '/home/amogh/cmu/dataset/BP4D/AUCoding/AUCoding/F018_T7.csv',\n",
       " '/home/amogh/cmu/dataset/BP4D/AUCoding/AUCoding/M004_T6.csv',\n",
       " '/home/amogh/cmu/dataset/BP4D/AUCoding/AUCoding/M003_T8.csv',\n",
       " '/home/amogh/cmu/dataset/BP4D/AUCoding/AUCoding/F011_T7.csv',\n",
       " '/home/amogh/cmu/dataset/BP4D/AUCoding/AUCoding/M016_T1.csv',\n",
       " '/home/amogh/cmu/dataset/BP4D/AUCoding/AUCoding/F002_T8.csv',\n",
       " '/home/amogh/cmu/dataset/BP4D/AUCoding/AUCoding/F021_T4.csv',\n",
       " '/home/amogh/cmu/dataset/BP4D/AUCoding/AUCoding/F010_T8.csv',\n",
       " '/home/amogh/cmu/dataset/BP4D/AUCoding/AUCoding/M011_T7.csv',\n",
       " '/home/amogh/cmu/dataset/BP4D/AUCoding/AUCoding/M003_T5.csv',\n",
       " '/home/amogh/cmu/dataset/BP4D/AUCoding/AUCoding/F003_T3.csv',\n",
       " '/home/amogh/cmu/dataset/BP4D/AUCoding/AUCoding/F020_T4.csv',\n",
       " '/home/amogh/cmu/dataset/BP4D/AUCoding/AUCoding/F014_T4.csv',\n",
       " '/home/amogh/cmu/dataset/BP4D/AUCoding/AUCoding/F016_T5.csv',\n",
       " '/home/amogh/cmu/dataset/BP4D/AUCoding/AUCoding/F023_T5.csv',\n",
       " '/home/amogh/cmu/dataset/BP4D/AUCoding/AUCoding/F006_T7.csv',\n",
       " '/home/amogh/cmu/dataset/BP4D/AUCoding/AUCoding/M014_T5.csv',\n",
       " '/home/amogh/cmu/dataset/BP4D/AUCoding/AUCoding/M010_T2.csv',\n",
       " '/home/amogh/cmu/dataset/BP4D/AUCoding/AUCoding/F022_T6.csv',\n",
       " '/home/amogh/cmu/dataset/BP4D/AUCoding/AUCoding/F003_T6.csv',\n",
       " '/home/amogh/cmu/dataset/BP4D/AUCoding/AUCoding/F008_T2.csv',\n",
       " '/home/amogh/cmu/dataset/BP4D/AUCoding/AUCoding/F021_T1.csv',\n",
       " '/home/amogh/cmu/dataset/BP4D/AUCoding/AUCoding/F001_T4.csv',\n",
       " '/home/amogh/cmu/dataset/BP4D/AUCoding/AUCoding/M006_T1.csv',\n",
       " '/home/amogh/cmu/dataset/BP4D/AUCoding/AUCoding/F011_T2.csv',\n",
       " '/home/amogh/cmu/dataset/BP4D/AUCoding/AUCoding/F008_T1.csv',\n",
       " '/home/amogh/cmu/dataset/BP4D/AUCoding/AUCoding/F020_T7.csv',\n",
       " '/home/amogh/cmu/dataset/BP4D/AUCoding/AUCoding/M001_T7.csv',\n",
       " '/home/amogh/cmu/dataset/BP4D/AUCoding/AUCoding/M012_T8.csv',\n",
       " '/home/amogh/cmu/dataset/BP4D/AUCoding/AUCoding/M001_T1.csv',\n",
       " '/home/amogh/cmu/dataset/BP4D/AUCoding/AUCoding/F008_T8.csv',\n",
       " '/home/amogh/cmu/dataset/BP4D/AUCoding/AUCoding/F003_T2.csv',\n",
       " '/home/amogh/cmu/dataset/BP4D/AUCoding/AUCoding/M005_T8.csv',\n",
       " '/home/amogh/cmu/dataset/BP4D/AUCoding/AUCoding/M013_T7.csv',\n",
       " '/home/amogh/cmu/dataset/BP4D/AUCoding/AUCoding/M009_T6.csv',\n",
       " '/home/amogh/cmu/dataset/BP4D/AUCoding/AUCoding/F006_T1.csv',\n",
       " '/home/amogh/cmu/dataset/BP4D/AUCoding/AUCoding/F013_T4.csv',\n",
       " '/home/amogh/cmu/dataset/BP4D/AUCoding/AUCoding/M016_T2.csv',\n",
       " '/home/amogh/cmu/dataset/BP4D/AUCoding/AUCoding/F017_T8.csv',\n",
       " '/home/amogh/cmu/dataset/BP4D/AUCoding/AUCoding/F010_T7.csv',\n",
       " '/home/amogh/cmu/dataset/BP4D/AUCoding/AUCoding/F007_T4.csv',\n",
       " '/home/amogh/cmu/dataset/BP4D/AUCoding/AUCoding/F015_T1.csv',\n",
       " '/home/amogh/cmu/dataset/BP4D/AUCoding/AUCoding/F023_T2.csv',\n",
       " '/home/amogh/cmu/dataset/BP4D/AUCoding/AUCoding/M011_T1.csv',\n",
       " '/home/amogh/cmu/dataset/BP4D/AUCoding/AUCoding/M012_T6.csv',\n",
       " '/home/amogh/cmu/dataset/BP4D/AUCoding/AUCoding/M008_T3.csv',\n",
       " '/home/amogh/cmu/dataset/BP4D/AUCoding/AUCoding/M015_T5.csv',\n",
       " '/home/amogh/cmu/dataset/BP4D/AUCoding/AUCoding/M009_T4.csv',\n",
       " '/home/amogh/cmu/dataset/BP4D/AUCoding/AUCoding/M001_T2.csv',\n",
       " '/home/amogh/cmu/dataset/BP4D/AUCoding/AUCoding/F013_T8.csv',\n",
       " '/home/amogh/cmu/dataset/BP4D/AUCoding/AUCoding/M015_T1.csv',\n",
       " '/home/amogh/cmu/dataset/BP4D/AUCoding/AUCoding/M006_T7.csv',\n",
       " '/home/amogh/cmu/dataset/BP4D/AUCoding/AUCoding/M014_T4.csv',\n",
       " '/home/amogh/cmu/dataset/BP4D/AUCoding/AUCoding/F016_T2.csv',\n",
       " '/home/amogh/cmu/dataset/BP4D/AUCoding/AUCoding/M007_T2.csv',\n",
       " '/home/amogh/cmu/dataset/BP4D/AUCoding/AUCoding/M002_T6.csv',\n",
       " '/home/amogh/cmu/dataset/BP4D/AUCoding/AUCoding/M004_T4.csv',\n",
       " '/home/amogh/cmu/dataset/BP4D/AUCoding/AUCoding/M015_T4.csv',\n",
       " '/home/amogh/cmu/dataset/BP4D/AUCoding/AUCoding/F008_T4.csv',\n",
       " '/home/amogh/cmu/dataset/BP4D/AUCoding/AUCoding/F003_T4.csv',\n",
       " '/home/amogh/cmu/dataset/BP4D/AUCoding/AUCoding/F022_T8.csv',\n",
       " '/home/amogh/cmu/dataset/BP4D/AUCoding/AUCoding/M015_T8.csv',\n",
       " '/home/amogh/cmu/dataset/BP4D/AUCoding/AUCoding/F005_T2.csv',\n",
       " '/home/amogh/cmu/dataset/BP4D/AUCoding/AUCoding/F007_T5.csv',\n",
       " '/home/amogh/cmu/dataset/BP4D/AUCoding/AUCoding/M017_T7.csv',\n",
       " '/home/amogh/cmu/dataset/BP4D/AUCoding/AUCoding/F003_T8.csv',\n",
       " '/home/amogh/cmu/dataset/BP4D/AUCoding/AUCoding/F012_T4.csv',\n",
       " '/home/amogh/cmu/dataset/BP4D/AUCoding/AUCoding/M002_T2.csv',\n",
       " '/home/amogh/cmu/dataset/BP4D/AUCoding/AUCoding/F012_T6.csv',\n",
       " '/home/amogh/cmu/dataset/BP4D/AUCoding/AUCoding/M018_T7.csv',\n",
       " '/home/amogh/cmu/dataset/BP4D/AUCoding/AUCoding/M008_T8.csv',\n",
       " '/home/amogh/cmu/dataset/BP4D/AUCoding/AUCoding/F007_T2.csv',\n",
       " '/home/amogh/cmu/dataset/BP4D/AUCoding/AUCoding/F021_T7.csv',\n",
       " '/home/amogh/cmu/dataset/BP4D/AUCoding/AUCoding/F001_T7.csv',\n",
       " '/home/amogh/cmu/dataset/BP4D/AUCoding/AUCoding/M006_T4.csv',\n",
       " '/home/amogh/cmu/dataset/BP4D/AUCoding/AUCoding/M006_T2.csv',\n",
       " '/home/amogh/cmu/dataset/BP4D/AUCoding/AUCoding/F009_T5.csv',\n",
       " '/home/amogh/cmu/dataset/BP4D/AUCoding/AUCoding/M001_T8.csv',\n",
       " '/home/amogh/cmu/dataset/BP4D/AUCoding/AUCoding/F020_T6.csv',\n",
       " '/home/amogh/cmu/dataset/BP4D/AUCoding/AUCoding/F022_T7.csv',\n",
       " '/home/amogh/cmu/dataset/BP4D/AUCoding/AUCoding/M003_T4.csv',\n",
       " '/home/amogh/cmu/dataset/BP4D/AUCoding/AUCoding/F013_T3.csv',\n",
       " '/home/amogh/cmu/dataset/BP4D/AUCoding/AUCoding/F022_T1.csv',\n",
       " '/home/amogh/cmu/dataset/BP4D/AUCoding/AUCoding/F007_T6.csv',\n",
       " '/home/amogh/cmu/dataset/BP4D/AUCoding/AUCoding/F010_T3.csv',\n",
       " '/home/amogh/cmu/dataset/BP4D/AUCoding/AUCoding/M016_T6.csv',\n",
       " '/home/amogh/cmu/dataset/BP4D/AUCoding/AUCoding/F009_T8.csv',\n",
       " '/home/amogh/cmu/dataset/BP4D/AUCoding/AUCoding/M002_T5.csv',\n",
       " '/home/amogh/cmu/dataset/BP4D/AUCoding/AUCoding/M011_T6.csv',\n",
       " '/home/amogh/cmu/dataset/BP4D/AUCoding/AUCoding/M012_T1.csv',\n",
       " '/home/amogh/cmu/dataset/BP4D/AUCoding/AUCoding/F019_T8.csv',\n",
       " '/home/amogh/cmu/dataset/BP4D/AUCoding/AUCoding/F014_T6.csv',\n",
       " '/home/amogh/cmu/dataset/BP4D/AUCoding/AUCoding/F018_T3.csv',\n",
       " '/home/amogh/cmu/dataset/BP4D/AUCoding/AUCoding/F022_T2.csv',\n",
       " '/home/amogh/cmu/dataset/BP4D/AUCoding/AUCoding/F012_T2.csv',\n",
       " '/home/amogh/cmu/dataset/BP4D/AUCoding/AUCoding/F010_T1.csv',\n",
       " '/home/amogh/cmu/dataset/BP4D/AUCoding/AUCoding/M017_T8.csv',\n",
       " '/home/amogh/cmu/dataset/BP4D/AUCoding/AUCoding/M010_T7.csv',\n",
       " '/home/amogh/cmu/dataset/BP4D/AUCoding/AUCoding/F021_T8.csv',\n",
       " '/home/amogh/cmu/dataset/BP4D/AUCoding/AUCoding/M013_T8.csv',\n",
       " '/home/amogh/cmu/dataset/BP4D/AUCoding/AUCoding/M016_T8.csv',\n",
       " '/home/amogh/cmu/dataset/BP4D/AUCoding/AUCoding/M004_T8.csv',\n",
       " '/home/amogh/cmu/dataset/BP4D/AUCoding/AUCoding/M001_T6.csv',\n",
       " '/home/amogh/cmu/dataset/BP4D/AUCoding/AUCoding/F003_T5.csv',\n",
       " '/home/amogh/cmu/dataset/BP4D/AUCoding/AUCoding/F020_T2.csv',\n",
       " '/home/amogh/cmu/dataset/BP4D/AUCoding/AUCoding/M004_T3.csv',\n",
       " '/home/amogh/cmu/dataset/BP4D/AUCoding/AUCoding/M016_T7.csv',\n",
       " '/home/amogh/cmu/dataset/BP4D/AUCoding/AUCoding/M017_T6.csv',\n",
       " '/home/amogh/cmu/dataset/BP4D/AUCoding/AUCoding/F004_T4.csv',\n",
       " '/home/amogh/cmu/dataset/BP4D/AUCoding/AUCoding/M006_T8.csv',\n",
       " '/home/amogh/cmu/dataset/BP4D/AUCoding/AUCoding/M014_T8.csv',\n",
       " '/home/amogh/cmu/dataset/BP4D/AUCoding/AUCoding/F013_T5.csv']"
      ]
     },
     "execution_count": 63,
     "metadata": {},
     "output_type": "execute_result"
    }
   ],
   "source": [
    "list_of_AU_files=glob.glob(f'{BP4D_AU_path}/*')\n",
    "list_of_AU_files"
   ]
  },
  {
   "cell_type": "code",
   "execution_count": null,
   "metadata": {},
   "outputs": [],
   "source": []
  },
  {
   "cell_type": "markdown",
   "metadata": {},
   "source": [
    "**Loading images:**\n",
    "<br>\n",
    "BP4D training has folders as *subject/sequence/frame_no.jpg*"
   ]
  },
  {
   "cell_type": "code",
   "execution_count": 126,
   "metadata": {},
   "outputs": [],
   "source": [
    "BP4D_training_folder=BP4D_base_path+'BP4D-training/'"
   ]
  },
  {
   "cell_type": "code",
   "execution_count": 136,
   "metadata": {},
   "outputs": [
    {
     "name": "stdout",
     "output_type": "stream",
     "text": [
      "F001\n"
     ]
    }
   ],
   "source": [
    "!ls $BP4D_training_folder"
   ]
  },
  {
   "cell_type": "markdown",
   "metadata": {},
   "source": [
    "### **SEMAINE**"
   ]
  },
  {
   "cell_type": "markdown",
   "metadata": {},
   "source": [
    "* 150 participants' recordings; total 959 conversations, ~5 minutes each\n",
    "* FACs annotation in 181 frames\n"
   ]
  }
 ],
 "metadata": {
  "kernelspec": {
   "display_name": "Python 2",
   "language": "python",
   "name": "python2"
  },
  "language_info": {
   "codemirror_mode": {
    "name": "ipython",
    "version": 2
   },
   "file_extension": ".py",
   "mimetype": "text/x-python",
   "name": "python",
   "nbconvert_exporter": "python",
   "pygments_lexer": "ipython2",
   "version": "2.7.14"
  }
 },
 "nbformat": 4,
 "nbformat_minor": 2
}

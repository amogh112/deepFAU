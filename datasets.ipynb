{
 "cells": [
  {
   "cell_type": "markdown",
   "metadata": {},
   "source": [
    "# Analysing main datasets for Facial Action Unit Detection and how to load them"
   ]
  },
  {
   "cell_type": "markdown",
   "metadata": {},
   "source": [
    "## List of Datasets:\n",
    "  * FERA 2015 and 2017 Challenge Datasets\n",
    "  * DISFA\n",
    "  * CK+\n",
    "  * UNBC Shoulder Pain Dataset\n",
    "  * AM-FED (Affectiva)"
   ]
  },
  {
   "cell_type": "code",
   "execution_count": 2,
   "metadata": {},
   "outputs": [],
   "source": [
    "import glob\n",
    "import os\n",
    "import sys"
   ]
  },
  {
   "cell_type": "markdown",
   "metadata": {},
   "source": [
    "### **FERA 2015 and 2017 Challenge Datasets**"
   ]
  },
  {
   "cell_type": "markdown",
   "metadata": {},
   "source": [
    "##### Contains"
   ]
  },
  {
   "cell_type": "markdown",
   "metadata": {},
   "source": [
    "### **DISFA**"
   ]
  },
  {
   "cell_type": "markdown",
   "metadata": {},
   "source": [
    "#### Contains videos from the left and the right cameras in avi format, and also FAU labels.\n",
    "**Videos Name formatting:**\n",
    "\n",
    "*Videos_LeftCamera/{L,l}eftVideoSN001_{c,C}omp.avi* **or** *Videos_RightCamera/{R,r}ightVideoSN001_{c,C}omp.avi*\n",
    "\n",
    "**FAU label formatting:**\n",
    "\n",
    "*ActionUnit_Labels/SN001/SN001_au1.txt*\n",
    "\n",
    "inside this file, each row is like:   *frame_no,intensity{0,1,2,3,4,5}*"
   ]
  },
  {
   "cell_type": "code",
   "execution_count": 15,
   "metadata": {},
   "outputs": [],
   "source": [
    "DISFA_path='/media/amogh/Stuff/CMU/datasets/DISFA_data/'"
   ]
  },
  {
   "cell_type": "code",
   "execution_count": 16,
   "metadata": {},
   "outputs": [
    {
     "name": "stdout",
     "output_type": "stream",
     "text": [
      "\u001b[0m\u001b[01;34mActionUnit_Labels\u001b[0m/     ReadMe DISFA.pdf       \u001b[01;31mVideos_LeftCamera.zip\u001b[0m\n",
      "\u001b[01;31mActionUnit_Labels.zip\u001b[0m  \u001b[01;31mVideo_RightCamera.zip\u001b[0m  \u001b[01;34mVideos_RightCamera\u001b[0m/\n",
      "\u001b[01;31mLandmark_Points.rar\u001b[0m    \u001b[01;34mVideos_LeftCamera\u001b[0m/\n"
     ]
    }
   ],
   "source": [
    "% ls {DISFA_path}"
   ]
  },
  {
   "cell_type": "code",
   "execution_count": 17,
   "metadata": {},
   "outputs": [
    {
     "name": "stdout",
     "output_type": "stream",
     "text": [
      "/media/amogh/Stuff/CMU/datasets/DISFA_data/ActionUnit_Labels/\n",
      "/media/amogh/Stuff/CMU/datasets/DISFA_data/Videos_RightCamera/\n"
     ]
    }
   ],
   "source": [
    "DISFA_AU_path=DISFA_path+'ActionUnit_Labels/'\n",
    "print(DISFA_AU_path)\n",
    "Videos_right_path=DISFA_path+'Videos_RightCamera/'\n",
    "print(Videos_right_path)"
   ]
  },
  {
   "cell_type": "markdown",
   "metadata": {},
   "source": [
    "**Loading FAUs**"
   ]
  },
  {
   "cell_type": "code",
   "execution_count": null,
   "metadata": {},
   "outputs": [],
   "source": []
  },
  {
   "cell_type": "markdown",
   "metadata": {},
   "source": [
    "**Extracting frames**"
   ]
  },
  {
   "cell_type": "code",
   "execution_count": 3,
   "metadata": {},
   "outputs": [
    {
     "data": {
      "text/plain": [
       "'/home/amogh/cmu/notebooks'"
      ]
     },
     "execution_count": 3,
     "metadata": {},
     "output_type": "execute_result"
    }
   ],
   "source": [
    "os.getcwd()"
   ]
  },
  {
   "cell_type": "code",
   "execution_count": 30,
   "metadata": {},
   "outputs": [
    {
     "data": {
      "text/plain": [
       "'/media/amogh/Stuff/CMU/datasets/DISFA_data/Videos_RightCamera/*.avi'"
      ]
     },
     "execution_count": 30,
     "metadata": {},
     "output_type": "execute_result"
    }
   ],
   "source": [
    "f'{Videos_right_path}*.avi'"
   ]
  },
  {
   "cell_type": "code",
   "execution_count": 52,
   "metadata": {},
   "outputs": [
    {
     "data": {
      "text/plain": [
       "'RightVideoSN001'"
      ]
     },
     "execution_count": 52,
     "metadata": {},
     "output_type": "execute_result"
    }
   ],
   "source": [
    "glob.glob(f'{Videos_right_path}*.avi')[0].split('/')[-1].split('_')[0]"
   ]
  },
  {
   "cell_type": "markdown",
   "metadata": {},
   "source": [
    "Create folders, raw code to avoid overwrite"
   ]
  },
  {
   "cell_type": "raw",
   "metadata": {},
   "source": [
    "for path in glob.glob(f'{Videos_right_path}*.avi'):\n",
    "    path_name=Videos_right_path+(path.split('/')[-1].split('_')[0])\n",
    "    %mkdir {path_name}\n",
    "    print(path_name)"
   ]
  },
  {
   "cell_type": "markdown",
   "metadata": {},
   "source": [
    "View files in Videos_right_path:"
   ]
  },
  {
   "cell_type": "code",
   "execution_count": 61,
   "metadata": {},
   "outputs": [
    {
     "data": {
      "text/plain": [
       "['/media/amogh/Stuff/CMU/datasets/DISFA_data/Videos_RightCamera/RightVideoSN013_comp.avi',\n",
       " '/media/amogh/Stuff/CMU/datasets/DISFA_data/Videos_RightCamera/RightVideoSN001',\n",
       " '/media/amogh/Stuff/CMU/datasets/DISFA_data/Videos_RightCamera/RightVideoSN001_Comp.avi',\n",
       " '/media/amogh/Stuff/CMU/datasets/DISFA_data/Videos_RightCamera/RightVideoSN002',\n",
       " '/media/amogh/Stuff/CMU/datasets/DISFA_data/Videos_RightCamera/RightVideoSN002_comp.avi',\n",
       " '/media/amogh/Stuff/CMU/datasets/DISFA_data/Videos_RightCamera/RightVideoSN003',\n",
       " '/media/amogh/Stuff/CMU/datasets/DISFA_data/Videos_RightCamera/RightVideoSN003_comp.avi',\n",
       " '/media/amogh/Stuff/CMU/datasets/DISFA_data/Videos_RightCamera/RightVideoSN004',\n",
       " '/media/amogh/Stuff/CMU/datasets/DISFA_data/Videos_RightCamera/RightVideoSN004_comp.avi',\n",
       " '/media/amogh/Stuff/CMU/datasets/DISFA_data/Videos_RightCamera/RightVideoSN005',\n",
       " '/media/amogh/Stuff/CMU/datasets/DISFA_data/Videos_RightCamera/RightVideoSN005_comp.avi',\n",
       " '/media/amogh/Stuff/CMU/datasets/DISFA_data/Videos_RightCamera/RightVideoSN006',\n",
       " '/media/amogh/Stuff/CMU/datasets/DISFA_data/Videos_RightCamera/RightVideoSN006_comp.avi',\n",
       " '/media/amogh/Stuff/CMU/datasets/DISFA_data/Videos_RightCamera/RightVideoSN007',\n",
       " '/media/amogh/Stuff/CMU/datasets/DISFA_data/Videos_RightCamera/RightVideoSN007_comp.avi',\n",
       " '/media/amogh/Stuff/CMU/datasets/DISFA_data/Videos_RightCamera/RightVideoSN008',\n",
       " '/media/amogh/Stuff/CMU/datasets/DISFA_data/Videos_RightCamera/RightVideoSN008_comp.avi',\n",
       " '/media/amogh/Stuff/CMU/datasets/DISFA_data/Videos_RightCamera/RightVideoSN009',\n",
       " '/media/amogh/Stuff/CMU/datasets/DISFA_data/Videos_RightCamera/RightVideoSN009_comp.avi',\n",
       " '/media/amogh/Stuff/CMU/datasets/DISFA_data/Videos_RightCamera/RightVideoSN010',\n",
       " '/media/amogh/Stuff/CMU/datasets/DISFA_data/Videos_RightCamera/RightVideoSN010_comp.avi',\n",
       " '/media/amogh/Stuff/CMU/datasets/DISFA_data/Videos_RightCamera/RightVideoSN011',\n",
       " '/media/amogh/Stuff/CMU/datasets/DISFA_data/Videos_RightCamera/RightVideoSN011_comp.avi',\n",
       " '/media/amogh/Stuff/CMU/datasets/DISFA_data/Videos_RightCamera/RightVideoSN012',\n",
       " '/media/amogh/Stuff/CMU/datasets/DISFA_data/Videos_RightCamera/RightVideoSN012_comp.avi',\n",
       " '/media/amogh/Stuff/CMU/datasets/DISFA_data/Videos_RightCamera/RightVideoSN013',\n",
       " '/media/amogh/Stuff/CMU/datasets/DISFA_data/Videos_RightCamera/RightVideoSN016',\n",
       " '/media/amogh/Stuff/CMU/datasets/DISFA_data/Videos_RightCamera/RightVideoSN016_comp.avi',\n",
       " '/media/amogh/Stuff/CMU/datasets/DISFA_data/Videos_RightCamera/RightVideoSN017',\n",
       " '/media/amogh/Stuff/CMU/datasets/DISFA_data/Videos_RightCamera/RightVideoSN017_comp.avi',\n",
       " '/media/amogh/Stuff/CMU/datasets/DISFA_data/Videos_RightCamera/RightVideoSN018',\n",
       " '/media/amogh/Stuff/CMU/datasets/DISFA_data/Videos_RightCamera/RightVideoSN018_comp.avi',\n",
       " '/media/amogh/Stuff/CMU/datasets/DISFA_data/Videos_RightCamera/RightVideoSN021',\n",
       " '/media/amogh/Stuff/CMU/datasets/DISFA_data/Videos_RightCamera/RightVideoSN021_comp.avi',\n",
       " '/media/amogh/Stuff/CMU/datasets/DISFA_data/Videos_RightCamera/RightVideoSN023',\n",
       " '/media/amogh/Stuff/CMU/datasets/DISFA_data/Videos_RightCamera/RightVideoSN023_comp.avi',\n",
       " '/media/amogh/Stuff/CMU/datasets/DISFA_data/Videos_RightCamera/RightVideoSN024',\n",
       " '/media/amogh/Stuff/CMU/datasets/DISFA_data/Videos_RightCamera/RightVideoSN024_comp.avi',\n",
       " '/media/amogh/Stuff/CMU/datasets/DISFA_data/Videos_RightCamera/RightVideoSN025',\n",
       " '/media/amogh/Stuff/CMU/datasets/DISFA_data/Videos_RightCamera/RightVideoSN025_comp.avi',\n",
       " '/media/amogh/Stuff/CMU/datasets/DISFA_data/Videos_RightCamera/RightVideoSN026',\n",
       " '/media/amogh/Stuff/CMU/datasets/DISFA_data/Videos_RightCamera/RightVideoSN026_comp.avi',\n",
       " '/media/amogh/Stuff/CMU/datasets/DISFA_data/Videos_RightCamera/RightVideoSN027',\n",
       " '/media/amogh/Stuff/CMU/datasets/DISFA_data/Videos_RightCamera/RightVideoSN027_comp.avi',\n",
       " '/media/amogh/Stuff/CMU/datasets/DISFA_data/Videos_RightCamera/RightVideoSN028',\n",
       " '/media/amogh/Stuff/CMU/datasets/DISFA_data/Videos_RightCamera/RightVideoSN028_comp.avi',\n",
       " '/media/amogh/Stuff/CMU/datasets/DISFA_data/Videos_RightCamera/RightVideoSN029',\n",
       " '/media/amogh/Stuff/CMU/datasets/DISFA_data/Videos_RightCamera/RightVideoSN029_comp.avi',\n",
       " '/media/amogh/Stuff/CMU/datasets/DISFA_data/Videos_RightCamera/RightVideoSN030',\n",
       " '/media/amogh/Stuff/CMU/datasets/DISFA_data/Videos_RightCamera/RightVideoSN030_comp.avi',\n",
       " '/media/amogh/Stuff/CMU/datasets/DISFA_data/Videos_RightCamera/RightVideoSN031',\n",
       " '/media/amogh/Stuff/CMU/datasets/DISFA_data/Videos_RightCamera/RightVideoSN031_comp.avi',\n",
       " '/media/amogh/Stuff/CMU/datasets/DISFA_data/Videos_RightCamera/RightVideoSN032',\n",
       " '/media/amogh/Stuff/CMU/datasets/DISFA_data/Videos_RightCamera/RightVideoSN032_comp.avi']"
      ]
     },
     "execution_count": 61,
     "metadata": {},
     "output_type": "execute_result"
    }
   ],
   "source": [
    "glob.glob(f'{Videos_right_path}*')"
   ]
  },
  {
   "cell_type": "raw",
   "metadata": {},
   "source": [
    "Use the following to convert all frames to bitmap:\n",
    "ffmpeg -i \"/media/amogh/Stuff/CMU/datasets/DISFA_data/Videos_RightCamera/RightVideoSN001_comp.avi\" \"/media/amogh/Stuff/CMU/datasets/DISFA_data/Videos_RightCamera/RightVideoSN001/out-%03d.bmp\"\n"
   ]
  },
  {
   "cell_type": "code",
   "execution_count": 65,
   "metadata": {},
   "outputs": [
    {
     "name": "stdout",
     "output_type": "stream",
     "text": [
      "/media/amogh/Stuff/CMU/datasets/DISFA_data/Videos_RightCamera/RightVideoSN013_comp.avi\n",
      "/media/amogh/Stuff/CMU/datasets/DISFA_data/Videos_RightCamera/RightVideoSN001_comp.avi\n",
      "/media/amogh/Stuff/CMU/datasets/DISFA_data/Videos_RightCamera/RightVideoSN002_comp.avi\n",
      "/media/amogh/Stuff/CMU/datasets/DISFA_data/Videos_RightCamera/RightVideoSN003_comp.avi\n",
      "/media/amogh/Stuff/CMU/datasets/DISFA_data/Videos_RightCamera/RightVideoSN004_comp.avi\n",
      "/media/amogh/Stuff/CMU/datasets/DISFA_data/Videos_RightCamera/RightVideoSN005_comp.avi\n",
      "/media/amogh/Stuff/CMU/datasets/DISFA_data/Videos_RightCamera/RightVideoSN006_comp.avi\n",
      "/media/amogh/Stuff/CMU/datasets/DISFA_data/Videos_RightCamera/RightVideoSN007_comp.avi\n",
      "/media/amogh/Stuff/CMU/datasets/DISFA_data/Videos_RightCamera/RightVideoSN008_comp.avi\n",
      "/media/amogh/Stuff/CMU/datasets/DISFA_data/Videos_RightCamera/RightVideoSN009_comp.avi\n",
      "/media/amogh/Stuff/CMU/datasets/DISFA_data/Videos_RightCamera/RightVideoSN010_comp.avi\n",
      "/media/amogh/Stuff/CMU/datasets/DISFA_data/Videos_RightCamera/RightVideoSN011_comp.avi\n",
      "/media/amogh/Stuff/CMU/datasets/DISFA_data/Videos_RightCamera/RightVideoSN012_comp.avi\n",
      "/media/amogh/Stuff/CMU/datasets/DISFA_data/Videos_RightCamera/RightVideoSN016_comp.avi\n",
      "/media/amogh/Stuff/CMU/datasets/DISFA_data/Videos_RightCamera/RightVideoSN017_comp.avi\n",
      "/media/amogh/Stuff/CMU/datasets/DISFA_data/Videos_RightCamera/RightVideoSN018_comp.avi\n",
      "/media/amogh/Stuff/CMU/datasets/DISFA_data/Videos_RightCamera/RightVideoSN021_comp.avi\n",
      "/media/amogh/Stuff/CMU/datasets/DISFA_data/Videos_RightCamera/RightVideoSN023_comp.avi\n",
      "/media/amogh/Stuff/CMU/datasets/DISFA_data/Videos_RightCamera/RightVideoSN024_comp.avi\n",
      "/media/amogh/Stuff/CMU/datasets/DISFA_data/Videos_RightCamera/RightVideoSN025_comp.avi\n",
      "/media/amogh/Stuff/CMU/datasets/DISFA_data/Videos_RightCamera/RightVideoSN026_comp.avi\n",
      "/media/amogh/Stuff/CMU/datasets/DISFA_data/Videos_RightCamera/RightVideoSN027_comp.avi\n",
      "/media/amogh/Stuff/CMU/datasets/DISFA_data/Videos_RightCamera/RightVideoSN028_comp.avi\n",
      "/media/amogh/Stuff/CMU/datasets/DISFA_data/Videos_RightCamera/RightVideoSN029_comp.avi\n",
      "/media/amogh/Stuff/CMU/datasets/DISFA_data/Videos_RightCamera/RightVideoSN030_comp.avi\n",
      "/media/amogh/Stuff/CMU/datasets/DISFA_data/Videos_RightCamera/RightVideoSN031_comp.avi\n",
      "/media/amogh/Stuff/CMU/datasets/DISFA_data/Videos_RightCamera/RightVideoSN032_comp.avi\n"
     ]
    }
   ],
   "source": [
    "for path in glob.glob(f'{Videos_right_path}*.avi'):\n",
    "    print(path)\n"
   ]
  },
  {
   "cell_type": "markdown",
   "metadata": {},
   "source": [
    "### CK+"
   ]
  },
  {
   "cell_type": "markdown",
   "metadata": {},
   "source": [
    "### UNBC Shoulder Pain Dataset"
   ]
  },
  {
   "cell_type": "markdown",
   "metadata": {},
   "source": [
    "### AM-FED(Affectiva)"
   ]
  },
  {
   "cell_type": "markdown",
   "metadata": {},
   "source": [
    "### FERA"
   ]
  },
  {
   "cell_type": "code",
   "execution_count": 2,
   "metadata": {},
   "outputs": [],
   "source": [
    "CK_path=''"
   ]
  },
  {
   "cell_type": "code",
   "execution_count": null,
   "metadata": {},
   "outputs": [],
   "source": []
  }
 ],
 "metadata": {
  "kernelspec": {
   "display_name": "Python 3",
   "language": "python",
   "name": "python3"
  },
  "language_info": {
   "codemirror_mode": {
    "name": "ipython",
    "version": 3
   },
   "file_extension": ".py",
   "mimetype": "text/x-python",
   "name": "python",
   "nbconvert_exporter": "python",
   "pygments_lexer": "ipython3",
   "version": "3.6.5"
  }
 },
 "nbformat": 4,
 "nbformat_minor": 2
}

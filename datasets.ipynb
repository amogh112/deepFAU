{
 "cells": [
  {
   "cell_type": "markdown",
   "metadata": {},
   "source": [
    "## List of Datasets:\n",
    "\n",
    "  * DISFA\n",
    "  * CK+\n",
    "  * UNBC Shoulder Pain Dataset\n",
    "  * AM-FED (Affectiva)\n",
    "  * FERA 2015 and 2017 Challenge Datasets"
   ]
  },
  {
   "cell_type": "markdown",
   "metadata": {},
   "source": [
    "#### This notebook demonstrates how the FAU coding and the images can be loaded for facial analysis"
   ]
  },
  {
   "cell_type": "markdown",
   "metadata": {},
   "source": [
    "**conda env-** faus_dl *with python 3 kernel*"
   ]
  },
  {
   "cell_type": "markdown",
   "metadata": {},
   "source": [
    "Importing libraries:"
   ]
  },
  {
   "cell_type": "code",
   "execution_count": 3,
   "metadata": {},
   "outputs": [],
   "source": [
    "import glob\n",
    "import os\n",
    "import sys\n",
    "import pandas as pd\n",
    "import numpy as np"
   ]
  },
  {
   "cell_type": "code",
   "execution_count": 4,
   "metadata": {},
   "outputs": [],
   "source": [
    "from tqdm import tqdm #for visualising progress bar"
   ]
  },
  {
   "cell_type": "markdown",
   "metadata": {},
   "source": [
    "### **DISFA**"
   ]
  },
  {
   "cell_type": "markdown",
   "metadata": {},
   "source": [
    "http://mohammadmahoor.com/wp-content/uploads/2017/06/DiSFA_Paper_andAppendix_Final_OneColumn1-1.pdf\n",
    "\n",
    "* 16.5 GB\n",
    "* 12 FAUs intensity\n",
    "* 27 subjects (15 male, 12 female)\n",
    "* 130,000 frames -each video has 4845 frames @ 20 fps\n",
    "* Page 5 of paper has the distribution of occurrence of FAUs, each FAU occurs in atleast 5000 frames"
   ]
  },
  {
   "cell_type": "markdown",
   "metadata": {},
   "source": [
    "#### Contains videos from the left and the right cameras in avi format, and also FAU labels.\n",
    "**Videos Name formatting:**\n",
    "\n",
    "*Videos_LeftCamera/{L,l}eftVideoSN001_{c,C}omp.avi* **or** *Videos_RightCamera/{R,r}ightVideoSN001_{c,C}omp.avi*\n",
    "\n",
    "**FAU label formatting:**\n",
    "\n",
    "*ActionUnit_Labels/SN001/SN001_au1.txt*\n",
    "\n",
    "inside this file, each row is like:   *frame_no,intensity{0,1,2,3,4,5}*"
   ]
  },
  {
   "cell_type": "code",
   "execution_count": 5,
   "metadata": {},
   "outputs": [],
   "source": [
    "DISFA_path='/media/amogh/Stuff/CMU/datasets/DISFA_data/'"
   ]
  },
  {
   "cell_type": "code",
   "execution_count": 6,
   "metadata": {},
   "outputs": [
    {
     "name": "stdout",
     "output_type": "stream",
     "text": [
      "\u001b[0m\u001b[01;34mActionUnit_Labels\u001b[0m/     \u001b[01;34mmodels\u001b[0m/                \u001b[01;34mVideos_LeftCamera\u001b[0m/\n",
      "\u001b[01;31mActionUnit_Labels.zip\u001b[0m  ReadMe DISFA.pdf       \u001b[01;31mVideos_LeftCamera.zip\u001b[0m\n",
      "\u001b[01;34mfeatures\u001b[0m/              \u001b[01;34mtemp\u001b[0m/                  \u001b[01;34mVideos_RightCamera\u001b[0m/\n",
      "\u001b[01;31mLandmark_Points.rar\u001b[0m    \u001b[01;31mVideo_RightCamera.zip\u001b[0m\n"
     ]
    }
   ],
   "source": [
    "% ls {DISFA_path}"
   ]
  },
  {
   "cell_type": "code",
   "execution_count": 7,
   "metadata": {},
   "outputs": [
    {
     "name": "stdout",
     "output_type": "stream",
     "text": [
      "/media/amogh/Stuff/CMU/datasets/DISFA_data/ActionUnit_Labels/\n",
      "/media/amogh/Stuff/CMU/datasets/DISFA_data/Videos_RightCamera/\n"
     ]
    }
   ],
   "source": [
    "DISFA_AU_path=DISFA_path+'ActionUnit_Labels/'\n",
    "print(DISFA_AU_path)\n",
    "Videos_right_path=DISFA_path+'Videos_RightCamera/'\n",
    "print(Videos_right_path)"
   ]
  },
  {
   "cell_type": "markdown",
   "metadata": {},
   "source": [
    "**DISFA FAUs**"
   ]
  },
  {
   "cell_type": "markdown",
   "metadata": {},
   "source": [
    "Let's try to save a new dataframe corresponding to all the relevant FAUs"
   ]
  },
  {
   "cell_type": "markdown",
   "metadata": {},
   "source": [
    "FAUs for which you want a csv file to be created (also taking into account that DISFA doesn't have all the relevant FAU annotations)"
   ]
  },
  {
   "cell_type": "code",
   "execution_count": 8,
   "metadata": {},
   "outputs": [],
   "source": [
    "relevant_fau=[1,2,4,5,12,25,26]"
   ]
  },
  {
   "cell_type": "code",
   "execution_count": 9,
   "metadata": {},
   "outputs": [
    {
     "data": {
      "text/plain": [
       "'/media/amogh/Stuff/CMU/datasets/DISFA_data/ActionUnit_Labels/SN001/SN001_au4.txt'"
      ]
     },
     "execution_count": 9,
     "metadata": {},
     "output_type": "execute_result"
    }
   ],
   "source": [
    "sample_path=DISFA_AU_path+'SN001/SN001_au4.txt'\n",
    "sample_path"
   ]
  },
  {
   "cell_type": "code",
   "execution_count": 10,
   "metadata": {},
   "outputs": [
    {
     "data": {
      "text/plain": [
       "{'dict_1': {},\n",
       " 'dict_2': {},\n",
       " 'dict_4': {},\n",
       " 'dict_5': {},\n",
       " 'dict_12': {},\n",
       " 'dict_25': {},\n",
       " 'dict_26': {}}"
      ]
     },
     "execution_count": 10,
     "metadata": {},
     "output_type": "execute_result"
    }
   ],
   "source": [
    "all_dict={}\n",
    "for fau in relevant_fau:\n",
    "    all_dict[f\"dict_{fau}\"]={}\n",
    "all_dict"
   ]
  },
  {
   "cell_type": "code",
   "execution_count": 11,
   "metadata": {},
   "outputs": [
    {
     "data": {
      "text/plain": [
       "['/media/amogh/Stuff/CMU/datasets/DISFA_data/ActionUnit_Labels/SN009',\n",
       " '/media/amogh/Stuff/CMU/datasets/DISFA_data/ActionUnit_Labels/SN001',\n",
       " '/media/amogh/Stuff/CMU/datasets/DISFA_data/ActionUnit_Labels/SN002',\n",
       " '/media/amogh/Stuff/CMU/datasets/DISFA_data/ActionUnit_Labels/SN003',\n",
       " '/media/amogh/Stuff/CMU/datasets/DISFA_data/ActionUnit_Labels/SN004',\n",
       " '/media/amogh/Stuff/CMU/datasets/DISFA_data/ActionUnit_Labels/SN005',\n",
       " '/media/amogh/Stuff/CMU/datasets/DISFA_data/ActionUnit_Labels/SN006',\n",
       " '/media/amogh/Stuff/CMU/datasets/DISFA_data/ActionUnit_Labels/SN007',\n",
       " '/media/amogh/Stuff/CMU/datasets/DISFA_data/ActionUnit_Labels/SN008',\n",
       " '/media/amogh/Stuff/CMU/datasets/DISFA_data/ActionUnit_Labels/SN010',\n",
       " '/media/amogh/Stuff/CMU/datasets/DISFA_data/ActionUnit_Labels/SN011',\n",
       " '/media/amogh/Stuff/CMU/datasets/DISFA_data/ActionUnit_Labels/SN012',\n",
       " '/media/amogh/Stuff/CMU/datasets/DISFA_data/ActionUnit_Labels/SN013',\n",
       " '/media/amogh/Stuff/CMU/datasets/DISFA_data/ActionUnit_Labels/SN016',\n",
       " '/media/amogh/Stuff/CMU/datasets/DISFA_data/ActionUnit_Labels/SN017',\n",
       " '/media/amogh/Stuff/CMU/datasets/DISFA_data/ActionUnit_Labels/SN018',\n",
       " '/media/amogh/Stuff/CMU/datasets/DISFA_data/ActionUnit_Labels/SN021',\n",
       " '/media/amogh/Stuff/CMU/datasets/DISFA_data/ActionUnit_Labels/SN023',\n",
       " '/media/amogh/Stuff/CMU/datasets/DISFA_data/ActionUnit_Labels/SN024',\n",
       " '/media/amogh/Stuff/CMU/datasets/DISFA_data/ActionUnit_Labels/SN025',\n",
       " '/media/amogh/Stuff/CMU/datasets/DISFA_data/ActionUnit_Labels/SN026',\n",
       " '/media/amogh/Stuff/CMU/datasets/DISFA_data/ActionUnit_Labels/SN027',\n",
       " '/media/amogh/Stuff/CMU/datasets/DISFA_data/ActionUnit_Labels/SN028',\n",
       " '/media/amogh/Stuff/CMU/datasets/DISFA_data/ActionUnit_Labels/SN029',\n",
       " '/media/amogh/Stuff/CMU/datasets/DISFA_data/ActionUnit_Labels/SN030',\n",
       " '/media/amogh/Stuff/CMU/datasets/DISFA_data/ActionUnit_Labels/SN031',\n",
       " '/media/amogh/Stuff/CMU/datasets/DISFA_data/ActionUnit_Labels/SN032']"
      ]
     },
     "execution_count": 11,
     "metadata": {},
     "output_type": "execute_result"
    }
   ],
   "source": [
    "subject_files_list=glob.glob(DISFA_AU_path+\"/*\")\n",
    "subject_files_list"
   ]
  },
  {
   "cell_type": "code",
   "execution_count": 10,
   "metadata": {},
   "outputs": [
    {
     "name": "stderr",
     "output_type": "stream",
     "text": [
      "100%|██████████| 7/7 [00:00<00:00,  9.22it/s]\n"
     ]
    }
   ],
   "source": [
    "for fau in tqdm(relevant_fau):\n",
    "    for subject_path in subject_files_list:\n",
    "        subject=os.path.basename(subject_path)\n",
    "        reqd_file=subject_path+f\"/{subject}_au{fau}.txt\"\n",
    "        reqd_df=pd.read_csv(reqd_file,names=[\"frameNo\",\"value\"])\n",
    "        all_dict[f\"dict_{fau}\"][f\"{subject}\"]=(reqd_df['frameNo'][reqd_df[\"value\"]>1]).values\n",
    "        all_dict[f\"dict_{fau}\"][f\"{subject}_neg\"]=(reqd_df['frameNo'][reqd_df[\"value\"]<=1]).values"
   ]
  },
  {
   "cell_type": "markdown",
   "metadata": {},
   "source": [
    "Saving all data holding dictionaries as csv files"
   ]
  },
  {
   "cell_type": "code",
   "execution_count": 11,
   "metadata": {},
   "outputs": [],
   "source": [
    "count_desc=pd.DataFrame()"
   ]
  },
  {
   "cell_type": "code",
   "execution_count": 12,
   "metadata": {},
   "outputs": [],
   "source": [
    "for key in all_dict.keys():\n",
    "    fau_no=key.split('_')[1]\n",
    "    reqd_df=pd.DataFrame(dict([(k,pd.Series(v)) for k,v in (all_dict[key]).items()]))\n",
    "    count_df=reqd_df.describe().iloc[0:1,0:]\n",
    "    count_df.index=[f\"count_FAU{fau_no}\"]\n",
    "    count_desc=pd.concat([count_desc,count_df])\n",
    "    reqd_df.to_csv('DISFA_FAUs/'+f'FAU{fau_no}.csv',index=False)"
   ]
  },
  {
   "cell_type": "markdown",
   "metadata": {},
   "source": [
    "Save it as count_summary.csv"
   ]
  },
  {
   "cell_type": "code",
   "execution_count": 13,
   "metadata": {},
   "outputs": [],
   "source": [
    "count_desc.to_csv('DISFA_FAUs/count_summary.csv')"
   ]
  },
  {
   "cell_type": "code",
   "execution_count": 14,
   "metadata": {},
   "outputs": [
    {
     "data": {
      "text/html": [
       "<div>\n",
       "<style scoped>\n",
       "    .dataframe tbody tr th:only-of-type {\n",
       "        vertical-align: middle;\n",
       "    }\n",
       "\n",
       "    .dataframe tbody tr th {\n",
       "        vertical-align: top;\n",
       "    }\n",
       "\n",
       "    .dataframe thead th {\n",
       "        text-align: right;\n",
       "    }\n",
       "</style>\n",
       "<table border=\"1\" class=\"dataframe\">\n",
       "  <thead>\n",
       "    <tr style=\"text-align: right;\">\n",
       "      <th></th>\n",
       "      <th>SN001</th>\n",
       "      <th>SN001_neg</th>\n",
       "      <th>SN002</th>\n",
       "      <th>SN002_neg</th>\n",
       "      <th>SN003</th>\n",
       "      <th>SN003_neg</th>\n",
       "      <th>SN004</th>\n",
       "      <th>SN004_neg</th>\n",
       "      <th>SN005</th>\n",
       "      <th>SN005_neg</th>\n",
       "      <th>...</th>\n",
       "      <th>SN028</th>\n",
       "      <th>SN028_neg</th>\n",
       "      <th>SN029</th>\n",
       "      <th>SN029_neg</th>\n",
       "      <th>SN030</th>\n",
       "      <th>SN030_neg</th>\n",
       "      <th>SN031</th>\n",
       "      <th>SN031_neg</th>\n",
       "      <th>SN032</th>\n",
       "      <th>SN032_neg</th>\n",
       "    </tr>\n",
       "  </thead>\n",
       "  <tbody>\n",
       "    <tr>\n",
       "      <th>count_FAU1</th>\n",
       "      <td>0.0</td>\n",
       "      <td>4845.0</td>\n",
       "      <td>152.0</td>\n",
       "      <td>4693.0</td>\n",
       "      <td>496.0</td>\n",
       "      <td>4349.0</td>\n",
       "      <td>1086.0</td>\n",
       "      <td>3759.0</td>\n",
       "      <td>26.0</td>\n",
       "      <td>4819.0</td>\n",
       "      <td>...</td>\n",
       "      <td>0.0</td>\n",
       "      <td>4845.0</td>\n",
       "      <td>1008.0</td>\n",
       "      <td>3837.0</td>\n",
       "      <td>38.0</td>\n",
       "      <td>4807.0</td>\n",
       "      <td>23.0</td>\n",
       "      <td>4822.0</td>\n",
       "      <td>870.0</td>\n",
       "      <td>3975.0</td>\n",
       "    </tr>\n",
       "    <tr>\n",
       "      <th>count_FAU2</th>\n",
       "      <td>0.0</td>\n",
       "      <td>4845.0</td>\n",
       "      <td>166.0</td>\n",
       "      <td>4679.0</td>\n",
       "      <td>18.0</td>\n",
       "      <td>4827.0</td>\n",
       "      <td>1167.0</td>\n",
       "      <td>3678.0</td>\n",
       "      <td>4.0</td>\n",
       "      <td>4841.0</td>\n",
       "      <td>...</td>\n",
       "      <td>23.0</td>\n",
       "      <td>4822.0</td>\n",
       "      <td>1949.0</td>\n",
       "      <td>2896.0</td>\n",
       "      <td>173.0</td>\n",
       "      <td>4672.0</td>\n",
       "      <td>30.0</td>\n",
       "      <td>4815.0</td>\n",
       "      <td>182.0</td>\n",
       "      <td>4663.0</td>\n",
       "    </tr>\n",
       "    <tr>\n",
       "      <th>count_FAU4</th>\n",
       "      <td>29.0</td>\n",
       "      <td>4816.0</td>\n",
       "      <td>10.0</td>\n",
       "      <td>4835.0</td>\n",
       "      <td>1752.0</td>\n",
       "      <td>3093.0</td>\n",
       "      <td>1546.0</td>\n",
       "      <td>3299.0</td>\n",
       "      <td>245.0</td>\n",
       "      <td>4600.0</td>\n",
       "      <td>...</td>\n",
       "      <td>145.0</td>\n",
       "      <td>4700.0</td>\n",
       "      <td>2246.0</td>\n",
       "      <td>2599.0</td>\n",
       "      <td>405.0</td>\n",
       "      <td>4440.0</td>\n",
       "      <td>183.0</td>\n",
       "      <td>4662.0</td>\n",
       "      <td>1073.0</td>\n",
       "      <td>3772.0</td>\n",
       "    </tr>\n",
       "    <tr>\n",
       "      <th>count_FAU5</th>\n",
       "      <td>0.0</td>\n",
       "      <td>4845.0</td>\n",
       "      <td>9.0</td>\n",
       "      <td>4836.0</td>\n",
       "      <td>21.0</td>\n",
       "      <td>4824.0</td>\n",
       "      <td>53.0</td>\n",
       "      <td>4792.0</td>\n",
       "      <td>0.0</td>\n",
       "      <td>4845.0</td>\n",
       "      <td>...</td>\n",
       "      <td>4.0</td>\n",
       "      <td>4841.0</td>\n",
       "      <td>20.0</td>\n",
       "      <td>4825.0</td>\n",
       "      <td>56.0</td>\n",
       "      <td>4789.0</td>\n",
       "      <td>0.0</td>\n",
       "      <td>4845.0</td>\n",
       "      <td>4.0</td>\n",
       "      <td>4841.0</td>\n",
       "    </tr>\n",
       "    <tr>\n",
       "      <th>count_FAU12</th>\n",
       "      <td>408.0</td>\n",
       "      <td>4437.0</td>\n",
       "      <td>273.0</td>\n",
       "      <td>4572.0</td>\n",
       "      <td>629.0</td>\n",
       "      <td>4216.0</td>\n",
       "      <td>765.0</td>\n",
       "      <td>4080.0</td>\n",
       "      <td>140.0</td>\n",
       "      <td>4705.0</td>\n",
       "      <td>...</td>\n",
       "      <td>359.0</td>\n",
       "      <td>4486.0</td>\n",
       "      <td>627.0</td>\n",
       "      <td>4218.0</td>\n",
       "      <td>783.0</td>\n",
       "      <td>4062.0</td>\n",
       "      <td>1155.0</td>\n",
       "      <td>3690.0</td>\n",
       "      <td>608.0</td>\n",
       "      <td>4237.0</td>\n",
       "    </tr>\n",
       "    <tr>\n",
       "      <th>count_FAU25</th>\n",
       "      <td>249.0</td>\n",
       "      <td>4596.0</td>\n",
       "      <td>1071.0</td>\n",
       "      <td>3774.0</td>\n",
       "      <td>1777.0</td>\n",
       "      <td>3068.0</td>\n",
       "      <td>838.0</td>\n",
       "      <td>4007.0</td>\n",
       "      <td>741.0</td>\n",
       "      <td>4104.0</td>\n",
       "      <td>...</td>\n",
       "      <td>1476.0</td>\n",
       "      <td>3369.0</td>\n",
       "      <td>383.0</td>\n",
       "      <td>4462.0</td>\n",
       "      <td>1552.0</td>\n",
       "      <td>3293.0</td>\n",
       "      <td>1809.0</td>\n",
       "      <td>3036.0</td>\n",
       "      <td>3067.0</td>\n",
       "      <td>1778.0</td>\n",
       "    </tr>\n",
       "    <tr>\n",
       "      <th>count_FAU26</th>\n",
       "      <td>186.0</td>\n",
       "      <td>4659.0</td>\n",
       "      <td>1680.0</td>\n",
       "      <td>3165.0</td>\n",
       "      <td>811.0</td>\n",
       "      <td>4034.0</td>\n",
       "      <td>71.0</td>\n",
       "      <td>4774.0</td>\n",
       "      <td>484.0</td>\n",
       "      <td>4361.0</td>\n",
       "      <td>...</td>\n",
       "      <td>1585.0</td>\n",
       "      <td>3260.0</td>\n",
       "      <td>31.0</td>\n",
       "      <td>4814.0</td>\n",
       "      <td>253.0</td>\n",
       "      <td>4592.0</td>\n",
       "      <td>1475.0</td>\n",
       "      <td>3370.0</td>\n",
       "      <td>2153.0</td>\n",
       "      <td>2692.0</td>\n",
       "    </tr>\n",
       "  </tbody>\n",
       "</table>\n",
       "<p>7 rows × 54 columns</p>\n",
       "</div>"
      ],
      "text/plain": [
       "             SN001  SN001_neg   SN002  SN002_neg   SN003  SN003_neg   SN004  \\\n",
       "count_FAU1     0.0     4845.0   152.0     4693.0   496.0     4349.0  1086.0   \n",
       "count_FAU2     0.0     4845.0   166.0     4679.0    18.0     4827.0  1167.0   \n",
       "count_FAU4    29.0     4816.0    10.0     4835.0  1752.0     3093.0  1546.0   \n",
       "count_FAU5     0.0     4845.0     9.0     4836.0    21.0     4824.0    53.0   \n",
       "count_FAU12  408.0     4437.0   273.0     4572.0   629.0     4216.0   765.0   \n",
       "count_FAU25  249.0     4596.0  1071.0     3774.0  1777.0     3068.0   838.0   \n",
       "count_FAU26  186.0     4659.0  1680.0     3165.0   811.0     4034.0    71.0   \n",
       "\n",
       "             SN004_neg  SN005  SN005_neg    ...       SN028  SN028_neg  \\\n",
       "count_FAU1      3759.0   26.0     4819.0    ...         0.0     4845.0   \n",
       "count_FAU2      3678.0    4.0     4841.0    ...        23.0     4822.0   \n",
       "count_FAU4      3299.0  245.0     4600.0    ...       145.0     4700.0   \n",
       "count_FAU5      4792.0    0.0     4845.0    ...         4.0     4841.0   \n",
       "count_FAU12     4080.0  140.0     4705.0    ...       359.0     4486.0   \n",
       "count_FAU25     4007.0  741.0     4104.0    ...      1476.0     3369.0   \n",
       "count_FAU26     4774.0  484.0     4361.0    ...      1585.0     3260.0   \n",
       "\n",
       "              SN029  SN029_neg   SN030  SN030_neg   SN031  SN031_neg   SN032  \\\n",
       "count_FAU1   1008.0     3837.0    38.0     4807.0    23.0     4822.0   870.0   \n",
       "count_FAU2   1949.0     2896.0   173.0     4672.0    30.0     4815.0   182.0   \n",
       "count_FAU4   2246.0     2599.0   405.0     4440.0   183.0     4662.0  1073.0   \n",
       "count_FAU5     20.0     4825.0    56.0     4789.0     0.0     4845.0     4.0   \n",
       "count_FAU12   627.0     4218.0   783.0     4062.0  1155.0     3690.0   608.0   \n",
       "count_FAU25   383.0     4462.0  1552.0     3293.0  1809.0     3036.0  3067.0   \n",
       "count_FAU26    31.0     4814.0   253.0     4592.0  1475.0     3370.0  2153.0   \n",
       "\n",
       "             SN032_neg  \n",
       "count_FAU1      3975.0  \n",
       "count_FAU2      4663.0  \n",
       "count_FAU4      3772.0  \n",
       "count_FAU5      4841.0  \n",
       "count_FAU12     4237.0  \n",
       "count_FAU25     1778.0  \n",
       "count_FAU26     2692.0  \n",
       "\n",
       "[7 rows x 54 columns]"
      ]
     },
     "execution_count": 14,
     "metadata": {},
     "output_type": "execute_result"
    }
   ],
   "source": [
    "count_desc"
   ]
  },
  {
   "cell_type": "markdown",
   "metadata": {},
   "source": [
    "The number of positives for each FAU:"
   ]
  },
  {
   "cell_type": "code",
   "execution_count": 15,
   "metadata": {},
   "outputs": [
    {
     "data": {
      "text/plain": [
       "count_FAU1      6506.0\n",
       "count_FAU2      5644.0\n",
       "count_FAU4     19933.0\n",
       "count_FAU5      1150.0\n",
       "count_FAU12    16851.0\n",
       "count_FAU25    36247.0\n",
       "count_FAU26    11533.0\n",
       "dtype: float64"
      ]
     },
     "execution_count": 15,
     "metadata": {},
     "output_type": "execute_result"
    }
   ],
   "source": [
    "count_desc.sum(1)-count_desc.filter(like=\"neg\",axis=1).sum(1) #subtracting the sum of all columns containing \"neg\" from the sum of all columns(total count)"
   ]
  },
  {
   "cell_type": "markdown",
   "metadata": {},
   "source": [
    "This is how the data looks like finally:"
   ]
  },
  {
   "cell_type": "code",
   "execution_count": 16,
   "metadata": {},
   "outputs": [
    {
     "data": {
      "text/html": [
       "<div>\n",
       "<style scoped>\n",
       "    .dataframe tbody tr th:only-of-type {\n",
       "        vertical-align: middle;\n",
       "    }\n",
       "\n",
       "    .dataframe tbody tr th {\n",
       "        vertical-align: top;\n",
       "    }\n",
       "\n",
       "    .dataframe thead th {\n",
       "        text-align: right;\n",
       "    }\n",
       "</style>\n",
       "<table border=\"1\" class=\"dataframe\">\n",
       "  <thead>\n",
       "    <tr style=\"text-align: right;\">\n",
       "      <th></th>\n",
       "      <th>SN001</th>\n",
       "      <th>SN001_neg</th>\n",
       "      <th>SN002</th>\n",
       "      <th>SN002_neg</th>\n",
       "      <th>SN003</th>\n",
       "      <th>SN003_neg</th>\n",
       "      <th>SN004</th>\n",
       "      <th>SN004_neg</th>\n",
       "      <th>SN005</th>\n",
       "      <th>SN005_neg</th>\n",
       "      <th>...</th>\n",
       "      <th>SN028</th>\n",
       "      <th>SN028_neg</th>\n",
       "      <th>SN029</th>\n",
       "      <th>SN029_neg</th>\n",
       "      <th>SN030</th>\n",
       "      <th>SN030_neg</th>\n",
       "      <th>SN031</th>\n",
       "      <th>SN031_neg</th>\n",
       "      <th>SN032</th>\n",
       "      <th>SN032_neg</th>\n",
       "    </tr>\n",
       "  </thead>\n",
       "  <tbody>\n",
       "    <tr>\n",
       "      <th>0</th>\n",
       "      <td>NaN</td>\n",
       "      <td>1</td>\n",
       "      <td>414.0</td>\n",
       "      <td>1.0</td>\n",
       "      <td>1629.0</td>\n",
       "      <td>1.0</td>\n",
       "      <td>937.0</td>\n",
       "      <td>1.0</td>\n",
       "      <td>1011.0</td>\n",
       "      <td>1.0</td>\n",
       "      <td>...</td>\n",
       "      <td>NaN</td>\n",
       "      <td>1</td>\n",
       "      <td>128.0</td>\n",
       "      <td>1.0</td>\n",
       "      <td>384.0</td>\n",
       "      <td>1.0</td>\n",
       "      <td>2684.0</td>\n",
       "      <td>1.0</td>\n",
       "      <td>553.0</td>\n",
       "      <td>1.0</td>\n",
       "    </tr>\n",
       "    <tr>\n",
       "      <th>1</th>\n",
       "      <td>NaN</td>\n",
       "      <td>2</td>\n",
       "      <td>415.0</td>\n",
       "      <td>2.0</td>\n",
       "      <td>1630.0</td>\n",
       "      <td>2.0</td>\n",
       "      <td>938.0</td>\n",
       "      <td>2.0</td>\n",
       "      <td>1012.0</td>\n",
       "      <td>2.0</td>\n",
       "      <td>...</td>\n",
       "      <td>NaN</td>\n",
       "      <td>2</td>\n",
       "      <td>129.0</td>\n",
       "      <td>2.0</td>\n",
       "      <td>385.0</td>\n",
       "      <td>2.0</td>\n",
       "      <td>2685.0</td>\n",
       "      <td>2.0</td>\n",
       "      <td>554.0</td>\n",
       "      <td>2.0</td>\n",
       "    </tr>\n",
       "    <tr>\n",
       "      <th>2</th>\n",
       "      <td>NaN</td>\n",
       "      <td>3</td>\n",
       "      <td>416.0</td>\n",
       "      <td>3.0</td>\n",
       "      <td>1631.0</td>\n",
       "      <td>3.0</td>\n",
       "      <td>939.0</td>\n",
       "      <td>3.0</td>\n",
       "      <td>1013.0</td>\n",
       "      <td>3.0</td>\n",
       "      <td>...</td>\n",
       "      <td>NaN</td>\n",
       "      <td>3</td>\n",
       "      <td>130.0</td>\n",
       "      <td>3.0</td>\n",
       "      <td>386.0</td>\n",
       "      <td>3.0</td>\n",
       "      <td>2686.0</td>\n",
       "      <td>3.0</td>\n",
       "      <td>555.0</td>\n",
       "      <td>3.0</td>\n",
       "    </tr>\n",
       "    <tr>\n",
       "      <th>3</th>\n",
       "      <td>NaN</td>\n",
       "      <td>4</td>\n",
       "      <td>417.0</td>\n",
       "      <td>4.0</td>\n",
       "      <td>1632.0</td>\n",
       "      <td>4.0</td>\n",
       "      <td>940.0</td>\n",
       "      <td>4.0</td>\n",
       "      <td>1014.0</td>\n",
       "      <td>4.0</td>\n",
       "      <td>...</td>\n",
       "      <td>NaN</td>\n",
       "      <td>4</td>\n",
       "      <td>131.0</td>\n",
       "      <td>4.0</td>\n",
       "      <td>387.0</td>\n",
       "      <td>4.0</td>\n",
       "      <td>2687.0</td>\n",
       "      <td>4.0</td>\n",
       "      <td>556.0</td>\n",
       "      <td>4.0</td>\n",
       "    </tr>\n",
       "    <tr>\n",
       "      <th>4</th>\n",
       "      <td>NaN</td>\n",
       "      <td>5</td>\n",
       "      <td>418.0</td>\n",
       "      <td>5.0</td>\n",
       "      <td>1633.0</td>\n",
       "      <td>5.0</td>\n",
       "      <td>941.0</td>\n",
       "      <td>5.0</td>\n",
       "      <td>1015.0</td>\n",
       "      <td>5.0</td>\n",
       "      <td>...</td>\n",
       "      <td>NaN</td>\n",
       "      <td>5</td>\n",
       "      <td>132.0</td>\n",
       "      <td>5.0</td>\n",
       "      <td>388.0</td>\n",
       "      <td>5.0</td>\n",
       "      <td>2688.0</td>\n",
       "      <td>5.0</td>\n",
       "      <td>557.0</td>\n",
       "      <td>5.0</td>\n",
       "    </tr>\n",
       "  </tbody>\n",
       "</table>\n",
       "<p>5 rows × 54 columns</p>\n",
       "</div>"
      ],
      "text/plain": [
       "   SN001  SN001_neg  SN002  SN002_neg   SN003  SN003_neg  SN004  SN004_neg  \\\n",
       "0    NaN          1  414.0        1.0  1629.0        1.0  937.0        1.0   \n",
       "1    NaN          2  415.0        2.0  1630.0        2.0  938.0        2.0   \n",
       "2    NaN          3  416.0        3.0  1631.0        3.0  939.0        3.0   \n",
       "3    NaN          4  417.0        4.0  1632.0        4.0  940.0        4.0   \n",
       "4    NaN          5  418.0        5.0  1633.0        5.0  941.0        5.0   \n",
       "\n",
       "    SN005  SN005_neg    ...      SN028  SN028_neg  SN029  SN029_neg  SN030  \\\n",
       "0  1011.0        1.0    ...        NaN          1  128.0        1.0  384.0   \n",
       "1  1012.0        2.0    ...        NaN          2  129.0        2.0  385.0   \n",
       "2  1013.0        3.0    ...        NaN          3  130.0        3.0  386.0   \n",
       "3  1014.0        4.0    ...        NaN          4  131.0        4.0  387.0   \n",
       "4  1015.0        5.0    ...        NaN          5  132.0        5.0  388.0   \n",
       "\n",
       "   SN030_neg   SN031  SN031_neg  SN032  SN032_neg  \n",
       "0        1.0  2684.0        1.0  553.0        1.0  \n",
       "1        2.0  2685.0        2.0  554.0        2.0  \n",
       "2        3.0  2686.0        3.0  555.0        3.0  \n",
       "3        4.0  2687.0        4.0  556.0        4.0  \n",
       "4        5.0  2688.0        5.0  557.0        5.0  \n",
       "\n",
       "[5 rows x 54 columns]"
      ]
     },
     "execution_count": 16,
     "metadata": {},
     "output_type": "execute_result"
    }
   ],
   "source": [
    "sample_df=pd.read_csv(\"DISFA_FAUs/FAU1.csv\")\n",
    "sample_df.head()"
   ]
  },
  {
   "cell_type": "markdown",
   "metadata": {},
   "source": [
    "**Extracting frames**"
   ]
  },
  {
   "cell_type": "code",
   "execution_count": 21,
   "metadata": {},
   "outputs": [
    {
     "data": {
      "text/plain": [
       "'/home/amogh/cmu/notebooks'"
      ]
     },
     "execution_count": 21,
     "metadata": {},
     "output_type": "execute_result"
    }
   ],
   "source": [
    "os.getcwd()"
   ]
  },
  {
   "cell_type": "code",
   "execution_count": 22,
   "metadata": {},
   "outputs": [
    {
     "data": {
      "text/plain": [
       "'/media/amogh/Stuff/CMU/datasets/DISFA_data/Videos_RightCamera/*.avi'"
      ]
     },
     "execution_count": 22,
     "metadata": {},
     "output_type": "execute_result"
    }
   ],
   "source": [
    "f'{Videos_right_path}*.avi'"
   ]
  },
  {
   "cell_type": "code",
   "execution_count": 23,
   "metadata": {},
   "outputs": [
    {
     "data": {
      "text/plain": [
       "'RightVideoSN013'"
      ]
     },
     "execution_count": 23,
     "metadata": {},
     "output_type": "execute_result"
    }
   ],
   "source": [
    "glob.glob(f'{Videos_right_path}*.avi')[0].split('/')[-1].split('_')[0]"
   ]
  },
  {
   "cell_type": "markdown",
   "metadata": {},
   "source": [
    "Create folders, raw code to avoid overwrite"
   ]
  },
  {
   "cell_type": "raw",
   "metadata": {},
   "source": [
    "for path in glob.glob(f'{Videos_right_path}*.avi'):\n",
    "    path_name=Videos_right_path+(path.split('/')[-1].split('_')[0])\n",
    "    %mkdir {path_name}\n",
    "    print(path_name)"
   ]
  },
  {
   "cell_type": "markdown",
   "metadata": {},
   "source": [
    "View files in Videos_right_path:"
   ]
  },
  {
   "cell_type": "code",
   "execution_count": null,
   "metadata": {},
   "outputs": [],
   "source": [
    "glob.glob(f'{Videos_right_path}*')"
   ]
  },
  {
   "cell_type": "markdown",
   "metadata": {},
   "source": [
    "Use the following to convert all frames to bitmap:<br>\n",
    "ffmpeg -i \"/media/amogh/Stuff/CMU/datasets/DISFA_data/Videos_RightCamera/RightVideoSN001_comp.avi\" \"/media/amogh/Stuff/CMU/datasets/DISFA_data/Videos_RightCamera/RightVideoSN001/out-%03d.bmp\"<br>\n",
    "Used the following code to convert the videos into jpeg:"
   ]
  },
  {
   "cell_type": "code",
   "execution_count": null,
   "metadata": {},
   "outputs": [],
   "source": [
    "for path in tqdm(glob.glob(f'{Videos_right_path}*.avi')):\n",
    "    print(path)\n",
    "    folder_name=('RightVideo'+os.path.basename(path).split('_')[0][-5:])\n",
    "    print(folder_name)\n",
    "    !ffmpeg -i \"/media/amogh/Stuff/CMU/datasets/DISFA_data/Videos_RightCamera/{folder_name}_comp.avi\" -q:v 1 \"/media/amogh/Stuff/CMU/datasets/DISFA_data/Videos_RightCamera/{folder_name}/%01d.jpeg\""
   ]
  },
  {
   "cell_type": "markdown",
   "metadata": {},
   "source": [
    "#### End to End functions to save csv files"
   ]
  },
  {
   "cell_type": "code",
   "execution_count": 26,
   "metadata": {},
   "outputs": [],
   "source": [
    "def saveCSV(threshold=1,relevant_fau=[1,2,4,5,12,25,26]):\n",
    "    #initialising an empty dictionary\n",
    "    all_dict={}\n",
    "    for fau in relevant_fau:\n",
    "        all_dict[f\"dict_{fau}\"]={}\n",
    "    for fau in (relevant_fau):\n",
    "        for subject_path in subject_files_list:\n",
    "            subject=os.path.basename(subject_path)\n",
    "            reqd_file=subject_path+f\"/{subject}_au{fau}.txt\"\n",
    "            reqd_df=pd.read_csv(reqd_file,names=[\"frameNo\",\"value\"])\n",
    "            all_dict[f\"dict_{fau}\"][f\"{subject}\"]=(reqd_df['frameNo'][reqd_df[\"value\"]>threshold]).values\n",
    "            all_dict[f\"dict_{fau}\"][f\"{subject}_neg\"]=(reqd_df['frameNo'][reqd_df[\"value\"]==0]).values\n",
    "    # Converting dictionary into a dataframe\n",
    "    dest_path=f'DISFA_FAUs/{threshold}/'\n",
    "    if not os.path.exists(dest_path):\n",
    "        os.makedirs(dest_path)\n",
    "    count_desc=pd.DataFrame()\n",
    "    for key in all_dict.keys():\n",
    "        fau_no=key.split('_')[1]\n",
    "        reqd_df=pd.DataFrame(dict([(k,pd.Series(v)) for k,v in (all_dict[key]).items()]))\n",
    "        count_df=reqd_df.describe().iloc[0:1,0:]\n",
    "        count_df.index=[f\"count_FAU{fau_no}\"]\n",
    "        count_desc=pd.concat([count_desc,count_df])\n",
    "        reqd_df.to_csv(f'DISFA_FAUs/{threshold}/'+f'FAU{fau_no}.csv',index=False)\n",
    "    count_desc.to_csv(f'DISFA_FAUs/{threshold}/count_summary.csv')\n",
    "    print (f\"no of positives for each FAU for threshold : {threshold} are: \")\n",
    "    print(count_desc.sum(1)-count_desc.filter(like=\"neg\",axis=1).sum(1))\n",
    "    return count_desc\n"
   ]
  },
  {
   "cell_type": "code",
   "execution_count": 29,
   "metadata": {},
   "outputs": [
    {
     "name": "stdout",
     "output_type": "stream",
     "text": [
      "no of positives for each FAU for threshold : 1 are: \n",
      "count_FAU1      6506.0\n",
      "count_FAU2      5644.0\n",
      "count_FAU4     19933.0\n",
      "count_FAU5      1150.0\n",
      "count_FAU12    16851.0\n",
      "count_FAU25    36247.0\n",
      "count_FAU26    11533.0\n",
      "dtype: float64\n",
      "no of positives for each FAU for threshold : 2 are: \n",
      "count_FAU1      4757.0\n",
      "count_FAU2      4710.0\n",
      "count_FAU4     12297.0\n",
      "count_FAU5       431.0\n",
      "count_FAU12     9982.0\n",
      "count_FAU25    22312.0\n",
      "count_FAU26     4060.0\n",
      "dtype: float64\n",
      "no of positives for each FAU for threshold : 3 are: \n",
      "count_FAU1     1948.0\n",
      "count_FAU2     1205.0\n",
      "count_FAU4     5711.0\n",
      "count_FAU5      138.0\n",
      "count_FAU12    2749.0\n",
      "count_FAU25    6619.0\n",
      "count_FAU26     531.0\n",
      "dtype: float64\n",
      "no of positives for each FAU for threshold : 4 are: \n",
      "count_FAU1      555.0\n",
      "count_FAU2      369.0\n",
      "count_FAU4     1383.0\n",
      "count_FAU5       34.0\n",
      "count_FAU12     172.0\n",
      "count_FAU25    1039.0\n",
      "count_FAU26     217.0\n",
      "dtype: float64\n"
     ]
    }
   ],
   "source": [
    "for thresh in [1,2,3,4]:\n",
    "    saveCSV(thresh)"
   ]
  },
  {
   "cell_type": "code",
   "execution_count": 21,
   "metadata": {},
   "outputs": [
    {
     "name": "stdout",
     "output_type": "stream",
     "text": [
      "count_FAU1      6506.0\n",
      "count_FAU2      5644.0\n",
      "count_FAU4     19933.0\n",
      "count_FAU5      1150.0\n",
      "count_FAU12    16851.0\n",
      "count_FAU25    36247.0\n",
      "count_FAU26    11533.0\n",
      "dtype: float64\n"
     ]
    }
   ],
   "source": [
    "print(count_desc_thresh1.sum(1)-count_desc_thresh1.filter(like=\"neg\",axis=1).sum(1))"
   ]
  },
  {
   "cell_type": "code",
   "execution_count": 20,
   "metadata": {},
   "outputs": [
    {
     "data": {
      "text/plain": [
       "count_FAU1      6506.0\n",
       "count_FAU2      5644.0\n",
       "count_FAU4     19933.0\n",
       "count_FAU5      1150.0\n",
       "count_FAU12    16851.0\n",
       "count_FAU25    36247.0\n",
       "count_FAU26    11533.0\n",
       "dtype: float64"
      ]
     },
     "execution_count": 20,
     "metadata": {},
     "output_type": "execute_result"
    }
   ],
   "source": [
    "count_desc_thresh1.sum(1)-count_desc_thresh1.filter(like=\"neg\",axis=1).sum(1) #subtracting the sum of all columns containing \"neg\" from the sum of all columns(total count)"
   ]
  },
  {
   "cell_type": "markdown",
   "metadata": {},
   "source": [
    "## **FERA 2015 and 2017 Challenges**"
   ]
  },
  {
   "cell_type": "markdown",
   "metadata": {},
   "source": [
    "### **BP4D**"
   ]
  },
  {
   "cell_type": "code",
   "execution_count": 18,
   "metadata": {},
   "outputs": [],
   "source": [
    "BP4D_base_path='/home/amogh/cmu/dataset/BP4D/'"
   ]
  },
  {
   "cell_type": "markdown",
   "metadata": {},
   "source": [
    "**Loading FAUs:**\n",
    "<br>\n",
    "AUCoding has csv files for each sequence. Eg- F001_T1.csv\n",
    "<br>\n",
    "Each csv file has a row corresponding to each frame, and corresponding columns 1-27 represent FAUs.\n",
    "<br>\n",
    "Occurrence codes: 0 for absent, 1 for present, or 9 for missing data (unknown).\n",
    "\n"
   ]
  },
  {
   "cell_type": "code",
   "execution_count": 19,
   "metadata": {},
   "outputs": [],
   "source": [
    "BP4D_AU_path=BP4D_base_path+'AUCoding/AUCoding/'"
   ]
  },
  {
   "cell_type": "markdown",
   "metadata": {},
   "source": [
    "#### **BP4D example functions**"
   ]
  },
  {
   "cell_type": "code",
   "execution_count": 20,
   "metadata": {},
   "outputs": [
    {
     "data": {
      "text/plain": [
       "'F001_T1.csv'"
      ]
     },
     "execution_count": 20,
     "metadata": {},
     "output_type": "execute_result"
    }
   ],
   "source": [
    "example_subject='F001'\n",
    "example_sequence='T1'\n",
    "example_file=f'{example_subject}_{example_sequence}.csv'\n",
    "example_file"
   ]
  },
  {
   "cell_type": "code",
   "execution_count": 21,
   "metadata": {},
   "outputs": [
    {
     "data": {
      "text/html": [
       "<div>\n",
       "<style scoped>\n",
       "    .dataframe tbody tr th:only-of-type {\n",
       "        vertical-align: middle;\n",
       "    }\n",
       "\n",
       "    .dataframe tbody tr th {\n",
       "        vertical-align: top;\n",
       "    }\n",
       "\n",
       "    .dataframe thead th {\n",
       "        text-align: right;\n",
       "    }\n",
       "</style>\n",
       "<table border=\"1\" class=\"dataframe\">\n",
       "  <thead>\n",
       "    <tr style=\"text-align: right;\">\n",
       "      <th></th>\n",
       "      <th>0</th>\n",
       "      <th>1</th>\n",
       "      <th>2</th>\n",
       "      <th>3</th>\n",
       "      <th>4</th>\n",
       "      <th>5</th>\n",
       "      <th>6</th>\n",
       "      <th>7</th>\n",
       "      <th>8</th>\n",
       "      <th>9</th>\n",
       "      <th>...</th>\n",
       "      <th>90</th>\n",
       "      <th>91</th>\n",
       "      <th>92</th>\n",
       "      <th>93</th>\n",
       "      <th>94</th>\n",
       "      <th>95</th>\n",
       "      <th>96</th>\n",
       "      <th>97</th>\n",
       "      <th>98</th>\n",
       "      <th>99</th>\n",
       "    </tr>\n",
       "  </thead>\n",
       "  <tbody>\n",
       "    <tr>\n",
       "      <th>0</th>\n",
       "      <td>2440</td>\n",
       "      <td>0</td>\n",
       "      <td>0</td>\n",
       "      <td>9</td>\n",
       "      <td>0</td>\n",
       "      <td>0</td>\n",
       "      <td>0</td>\n",
       "      <td>0</td>\n",
       "      <td>9</td>\n",
       "      <td>0</td>\n",
       "      <td>...</td>\n",
       "      <td>9</td>\n",
       "      <td>9</td>\n",
       "      <td>9</td>\n",
       "      <td>9</td>\n",
       "      <td>9</td>\n",
       "      <td>9</td>\n",
       "      <td>9</td>\n",
       "      <td>9</td>\n",
       "      <td>9</td>\n",
       "      <td>9</td>\n",
       "    </tr>\n",
       "    <tr>\n",
       "      <th>1</th>\n",
       "      <td>2441</td>\n",
       "      <td>0</td>\n",
       "      <td>0</td>\n",
       "      <td>9</td>\n",
       "      <td>0</td>\n",
       "      <td>0</td>\n",
       "      <td>0</td>\n",
       "      <td>0</td>\n",
       "      <td>9</td>\n",
       "      <td>0</td>\n",
       "      <td>...</td>\n",
       "      <td>9</td>\n",
       "      <td>9</td>\n",
       "      <td>9</td>\n",
       "      <td>9</td>\n",
       "      <td>9</td>\n",
       "      <td>9</td>\n",
       "      <td>9</td>\n",
       "      <td>9</td>\n",
       "      <td>9</td>\n",
       "      <td>9</td>\n",
       "    </tr>\n",
       "    <tr>\n",
       "      <th>2</th>\n",
       "      <td>2442</td>\n",
       "      <td>0</td>\n",
       "      <td>0</td>\n",
       "      <td>9</td>\n",
       "      <td>0</td>\n",
       "      <td>0</td>\n",
       "      <td>0</td>\n",
       "      <td>0</td>\n",
       "      <td>9</td>\n",
       "      <td>0</td>\n",
       "      <td>...</td>\n",
       "      <td>9</td>\n",
       "      <td>9</td>\n",
       "      <td>9</td>\n",
       "      <td>9</td>\n",
       "      <td>9</td>\n",
       "      <td>9</td>\n",
       "      <td>9</td>\n",
       "      <td>9</td>\n",
       "      <td>9</td>\n",
       "      <td>9</td>\n",
       "    </tr>\n",
       "    <tr>\n",
       "      <th>3</th>\n",
       "      <td>2443</td>\n",
       "      <td>0</td>\n",
       "      <td>0</td>\n",
       "      <td>9</td>\n",
       "      <td>0</td>\n",
       "      <td>0</td>\n",
       "      <td>0</td>\n",
       "      <td>0</td>\n",
       "      <td>9</td>\n",
       "      <td>0</td>\n",
       "      <td>...</td>\n",
       "      <td>9</td>\n",
       "      <td>9</td>\n",
       "      <td>9</td>\n",
       "      <td>9</td>\n",
       "      <td>9</td>\n",
       "      <td>9</td>\n",
       "      <td>9</td>\n",
       "      <td>9</td>\n",
       "      <td>9</td>\n",
       "      <td>9</td>\n",
       "    </tr>\n",
       "    <tr>\n",
       "      <th>4</th>\n",
       "      <td>2444</td>\n",
       "      <td>0</td>\n",
       "      <td>0</td>\n",
       "      <td>9</td>\n",
       "      <td>0</td>\n",
       "      <td>0</td>\n",
       "      <td>0</td>\n",
       "      <td>0</td>\n",
       "      <td>9</td>\n",
       "      <td>0</td>\n",
       "      <td>...</td>\n",
       "      <td>9</td>\n",
       "      <td>9</td>\n",
       "      <td>9</td>\n",
       "      <td>9</td>\n",
       "      <td>9</td>\n",
       "      <td>9</td>\n",
       "      <td>9</td>\n",
       "      <td>9</td>\n",
       "      <td>9</td>\n",
       "      <td>9</td>\n",
       "    </tr>\n",
       "  </tbody>\n",
       "</table>\n",
       "<p>5 rows × 100 columns</p>\n",
       "</div>"
      ],
      "text/plain": [
       "      0  1  2  3  4  5  6  7  8  9 ...  90  91  92  93  94  95  96  97  98  99\n",
       "0  2440  0  0  9  0  0  0  0  9  0 ...   9   9   9   9   9   9   9   9   9   9\n",
       "1  2441  0  0  9  0  0  0  0  9  0 ...   9   9   9   9   9   9   9   9   9   9\n",
       "2  2442  0  0  9  0  0  0  0  9  0 ...   9   9   9   9   9   9   9   9   9   9\n",
       "3  2443  0  0  9  0  0  0  0  9  0 ...   9   9   9   9   9   9   9   9   9   9\n",
       "4  2444  0  0  9  0  0  0  0  9  0 ...   9   9   9   9   9   9   9   9   9   9\n",
       "\n",
       "[5 rows x 100 columns]"
      ]
     },
     "execution_count": 21,
     "metadata": {},
     "output_type": "execute_result"
    }
   ],
   "source": [
    "df_example=pd.read_csv(BP4D_AU_path+example_file)\n",
    "df_example.head()"
   ]
  },
  {
   "cell_type": "code",
   "execution_count": null,
   "metadata": {},
   "outputs": [],
   "source": [
    "frame_numbers=df_example['0']\n",
    "frame_numbers"
   ]
  },
  {
   "cell_type": "markdown",
   "metadata": {},
   "source": [
    "**Seeing the occurrence (0(not present)/1(present)/9(unlabelled)) of an FAU number for a frame**;  *nth* AU value is the *nth* column for that frame"
   ]
  },
  {
   "cell_type": "code",
   "execution_count": 23,
   "metadata": {},
   "outputs": [
    {
     "data": {
      "text/plain": [
       "1    9\n",
       "Name: 3, dtype: int64"
      ]
     },
     "execution_count": 23,
     "metadata": {},
     "output_type": "execute_result"
    }
   ],
   "source": [
    "frame_no=2441\n",
    "fau_no=3\n",
    "df2=(df_example.loc[df_example['0']==frame_no]).iloc[:,fau_no]\n",
    "df2\n",
    "# df_example.loc[(frame_no),str(fau_no)]"
   ]
  },
  {
   "cell_type": "markdown",
   "metadata": {},
   "source": [
    "Seeing the **number of times each FAU occurs(1), does not occur(0), isn't labelled(9)**; syntax- df_example.iloc[:,0:28] returns the column for 27 FAUs, apply the value_counts function to each column, which gives the frequency of all values that occur in it. iloc at end is used to just see '0','1','9'. "
   ]
  },
  {
   "cell_type": "code",
   "execution_count": 24,
   "metadata": {},
   "outputs": [
    {
     "data": {
      "text/html": [
       "<div>\n",
       "<style scoped>\n",
       "    .dataframe tbody tr th:only-of-type {\n",
       "        vertical-align: middle;\n",
       "    }\n",
       "\n",
       "    .dataframe tbody tr th {\n",
       "        vertical-align: top;\n",
       "    }\n",
       "\n",
       "    .dataframe thead th {\n",
       "        text-align: right;\n",
       "    }\n",
       "</style>\n",
       "<table border=\"1\" class=\"dataframe\">\n",
       "  <thead>\n",
       "    <tr style=\"text-align: right;\">\n",
       "      <th></th>\n",
       "      <th>0</th>\n",
       "      <th>1</th>\n",
       "      <th>2</th>\n",
       "      <th>3</th>\n",
       "      <th>4</th>\n",
       "      <th>5</th>\n",
       "      <th>6</th>\n",
       "      <th>7</th>\n",
       "      <th>8</th>\n",
       "      <th>9</th>\n",
       "      <th>...</th>\n",
       "      <th>18</th>\n",
       "      <th>19</th>\n",
       "      <th>20</th>\n",
       "      <th>21</th>\n",
       "      <th>22</th>\n",
       "      <th>23</th>\n",
       "      <th>24</th>\n",
       "      <th>25</th>\n",
       "      <th>26</th>\n",
       "      <th>27</th>\n",
       "    </tr>\n",
       "  </thead>\n",
       "  <tbody>\n",
       "    <tr>\n",
       "      <th>0</th>\n",
       "      <td>NaN</td>\n",
       "      <td>233.0</td>\n",
       "      <td>415.0</td>\n",
       "      <td>NaN</td>\n",
       "      <td>527.0</td>\n",
       "      <td>432.0</td>\n",
       "      <td>263.0</td>\n",
       "      <td>553.0</td>\n",
       "      <td>NaN</td>\n",
       "      <td>553.0</td>\n",
       "      <td>...</td>\n",
       "      <td>553.0</td>\n",
       "      <td>553.0</td>\n",
       "      <td>537.0</td>\n",
       "      <td>NaN</td>\n",
       "      <td>553.0</td>\n",
       "      <td>553.0</td>\n",
       "      <td>553.0</td>\n",
       "      <td>NaN</td>\n",
       "      <td>NaN</td>\n",
       "      <td>496.0</td>\n",
       "    </tr>\n",
       "    <tr>\n",
       "      <th>1</th>\n",
       "      <td>NaN</td>\n",
       "      <td>320.0</td>\n",
       "      <td>138.0</td>\n",
       "      <td>NaN</td>\n",
       "      <td>26.0</td>\n",
       "      <td>121.0</td>\n",
       "      <td>290.0</td>\n",
       "      <td>NaN</td>\n",
       "      <td>NaN</td>\n",
       "      <td>NaN</td>\n",
       "      <td>...</td>\n",
       "      <td>NaN</td>\n",
       "      <td>NaN</td>\n",
       "      <td>16.0</td>\n",
       "      <td>NaN</td>\n",
       "      <td>NaN</td>\n",
       "      <td>NaN</td>\n",
       "      <td>NaN</td>\n",
       "      <td>NaN</td>\n",
       "      <td>NaN</td>\n",
       "      <td>57.0</td>\n",
       "    </tr>\n",
       "    <tr>\n",
       "      <th>9</th>\n",
       "      <td>NaN</td>\n",
       "      <td>NaN</td>\n",
       "      <td>NaN</td>\n",
       "      <td>553.0</td>\n",
       "      <td>NaN</td>\n",
       "      <td>NaN</td>\n",
       "      <td>NaN</td>\n",
       "      <td>NaN</td>\n",
       "      <td>553.0</td>\n",
       "      <td>NaN</td>\n",
       "      <td>...</td>\n",
       "      <td>NaN</td>\n",
       "      <td>NaN</td>\n",
       "      <td>NaN</td>\n",
       "      <td>553.0</td>\n",
       "      <td>NaN</td>\n",
       "      <td>NaN</td>\n",
       "      <td>NaN</td>\n",
       "      <td>553.0</td>\n",
       "      <td>553.0</td>\n",
       "      <td>NaN</td>\n",
       "    </tr>\n",
       "  </tbody>\n",
       "</table>\n",
       "<p>3 rows × 28 columns</p>\n",
       "</div>"
      ],
      "text/plain": [
       "    0      1      2      3      4      5      6      7      8      9  ...    \\\n",
       "0 NaN  233.0  415.0    NaN  527.0  432.0  263.0  553.0    NaN  553.0  ...     \n",
       "1 NaN  320.0  138.0    NaN   26.0  121.0  290.0    NaN    NaN    NaN  ...     \n",
       "9 NaN    NaN    NaN  553.0    NaN    NaN    NaN    NaN  553.0    NaN  ...     \n",
       "\n",
       "      18     19     20     21     22     23     24     25     26     27  \n",
       "0  553.0  553.0  537.0    NaN  553.0  553.0  553.0    NaN    NaN  496.0  \n",
       "1    NaN    NaN   16.0    NaN    NaN    NaN    NaN    NaN    NaN   57.0  \n",
       "9    NaN    NaN    NaN  553.0    NaN    NaN    NaN  553.0  553.0    NaN  \n",
       "\n",
       "[3 rows x 28 columns]"
      ]
     },
     "execution_count": 24,
     "metadata": {},
     "output_type": "execute_result"
    }
   ],
   "source": [
    "df_example.iloc[:,0:28].apply(pd.Series.value_counts).iloc[:3,:]"
   ]
  },
  {
   "cell_type": "code",
   "execution_count": 25,
   "metadata": {},
   "outputs": [
    {
     "name": "stdout",
     "output_type": "stream",
     "text": [
      "/home/amogh/cmu/dataset/BP4D/AUCoding/AUCoding/F001_T1.csv\n"
     ]
    },
    {
     "data": {
      "text/plain": [
       "[0, 0, 0, 0, 0, 1, 1, 0, 0, 0, 0]"
      ]
     },
     "execution_count": 25,
     "metadata": {},
     "output_type": "execute_result"
    }
   ],
   "source": [
    "def label_getter(subj_req,seq_req,frame_req):\n",
    "    au_file_reqd=BP4D_AU_path+f'{subj_req}_{seq_req}.csv'\n",
    "    print (au_file_reqd)\n",
    "    df_reqd=pd.read_csv(au_file_reqd)\n",
    "    list_of_faus=list(df_reqd.loc[df_example['0']==frame_req].iloc[0]) #list: [frame_no, fau1, fau2, fau3....]\n",
    "    #choose FAUS for which you want the labels.\n",
    "    list_mask=[1,2,4,6,7,10,12,14,15,17,23]\n",
    "    list_final=[list_of_faus[i] for i in list_mask]\n",
    "    return list_final\n",
    "\n",
    "#running on an example.\n",
    "label_getter('F001','T1',2440)"
   ]
  },
  {
   "cell_type": "markdown",
   "metadata": {},
   "source": [
    "**Analysing occurrence of FAUs**"
   ]
  },
  {
   "cell_type": "code",
   "execution_count": null,
   "metadata": {},
   "outputs": [],
   "source": [
    "list_of_AU_files=glob.glob(f'{BP4D_AU_path}/*')\n",
    "list_of_AU_files"
   ]
  },
  {
   "cell_type": "markdown",
   "metadata": {},
   "source": [
    "Let's try to create csv files for each relevant FAU.<br>\n",
    "Rows - frameNo<br>\n",
    "Columns - subject_sequence"
   ]
  },
  {
   "cell_type": "markdown",
   "metadata": {},
   "source": [
    "FAUs for which you want a csv file to be created"
   ]
  },
  {
   "cell_type": "code",
   "execution_count": 27,
   "metadata": {},
   "outputs": [],
   "source": [
    "relevant_fau=[1,2,4,5,7,12,25,26,43]"
   ]
  },
  {
   "cell_type": "markdown",
   "metadata": {},
   "source": [
    "intialising FAU dictionaries for above FAUS"
   ]
  },
  {
   "cell_type": "code",
   "execution_count": 28,
   "metadata": {},
   "outputs": [
    {
     "data": {
      "text/plain": [
       "{'dict_1': {},\n",
       " 'dict_2': {},\n",
       " 'dict_4': {},\n",
       " 'dict_5': {},\n",
       " 'dict_7': {},\n",
       " 'dict_12': {},\n",
       " 'dict_25': {},\n",
       " 'dict_26': {},\n",
       " 'dict_43': {}}"
      ]
     },
     "execution_count": 28,
     "metadata": {},
     "output_type": "execute_result"
    }
   ],
   "source": [
    "all_dict={}\n",
    "for fau in relevant_fau:\n",
    "    all_dict[f\"dict_{fau}\"]={}\n",
    "all_dict"
   ]
  },
  {
   "cell_type": "markdown",
   "metadata": {},
   "source": [
    "for each csv:"
   ]
  },
  {
   "cell_type": "code",
   "execution_count": 29,
   "metadata": {},
   "outputs": [
    {
     "name": "stderr",
     "output_type": "stream",
     "text": [
      "100%|██████████| 328/328 [00:09<00:00, 33.36it/s]\n"
     ]
    }
   ],
   "source": [
    "for csv_file in tqdm(list_of_AU_files):\n",
    "    csv_df=pd.read_csv(csv_file)\n",
    "    csv_basename=os.path.basename(csv_file)\n",
    "    user_seq=os.path.splitext(csv_basename)[0]\n",
    "    #1st column is for frame_no, returns the occurrence dataframe for relevant FAUs\n",
    "    csv_relevant_df=csv_df.iloc[:,np.insert(relevant_fau,0,0)] \n",
    "    #adding to dictionary for each FAU:\n",
    "    for fau in relevant_fau:\n",
    "        occurrence_frames=(csv_relevant_df['0'][csv_relevant_df[str(fau)]==1]).values #list of all frames with au occurence\n",
    "        not_occurrence_frames=(csv_relevant_df['0'][csv_relevant_df[str(fau)]==0]).values\n",
    "        all_dict[f'dict_{fau}'][f'{user_seq}']=occurrence_frames\n",
    "        all_dict[f'dict_{fau}'][f'{user_seq}_neg']=not_occurrence_frames"
   ]
  },
  {
   "cell_type": "markdown",
   "metadata": {},
   "source": [
    "Saving all data holding dictionaries as csv files"
   ]
  },
  {
   "cell_type": "code",
   "execution_count": 30,
   "metadata": {},
   "outputs": [],
   "source": [
    "count_desc=pd.DataFrame()"
   ]
  },
  {
   "cell_type": "code",
   "execution_count": 31,
   "metadata": {},
   "outputs": [
    {
     "name": "stderr",
     "output_type": "stream",
     "text": [
      "100%|██████████| 9/9 [00:11<00:00,  1.23s/it]\n"
     ]
    }
   ],
   "source": [
    "for key in tqdm(all_dict.keys()):\n",
    "    fau_no=key.split('_')[1]\n",
    "    reqd_df=pd.DataFrame(dict([(k,pd.Series(v)) for k,v in (all_dict[key]).items()])) #so that NaN appears in columns of unequal lengths\n",
    "    count_df=reqd_df.describe().iloc[0:1,0:]\n",
    "    count_df.index=[f\"count_FAU{fau_no}\"]\n",
    "    count_desc=pd.concat([count_desc,count_df])\n",
    "    reqd_df.to_csv('BP4D_FAUs/'+f'FAU{fau_no}.csv')"
   ]
  },
  {
   "cell_type": "markdown",
   "metadata": {},
   "source": [
    "This is how the data looks like finally:"
   ]
  },
  {
   "cell_type": "code",
   "execution_count": 32,
   "metadata": {},
   "outputs": [
    {
     "data": {
      "text/html": [
       "<div>\n",
       "<style scoped>\n",
       "    .dataframe tbody tr th:only-of-type {\n",
       "        vertical-align: middle;\n",
       "    }\n",
       "\n",
       "    .dataframe tbody tr th {\n",
       "        vertical-align: top;\n",
       "    }\n",
       "\n",
       "    .dataframe thead th {\n",
       "        text-align: right;\n",
       "    }\n",
       "</style>\n",
       "<table border=\"1\" class=\"dataframe\">\n",
       "  <thead>\n",
       "    <tr style=\"text-align: right;\">\n",
       "      <th></th>\n",
       "      <th>Unnamed: 0</th>\n",
       "      <th>F001_T1</th>\n",
       "      <th>F001_T1_neg</th>\n",
       "      <th>F001_T2</th>\n",
       "      <th>F001_T2_neg</th>\n",
       "      <th>F001_T3</th>\n",
       "      <th>F001_T3_neg</th>\n",
       "      <th>F001_T4</th>\n",
       "      <th>F001_T4_neg</th>\n",
       "      <th>F001_T5</th>\n",
       "      <th>...</th>\n",
       "      <th>M018_T4</th>\n",
       "      <th>M018_T4_neg</th>\n",
       "      <th>M018_T5</th>\n",
       "      <th>M018_T5_neg</th>\n",
       "      <th>M018_T6</th>\n",
       "      <th>M018_T6_neg</th>\n",
       "      <th>M018_T7</th>\n",
       "      <th>M018_T7_neg</th>\n",
       "      <th>M018_T8</th>\n",
       "      <th>M018_T8_neg</th>\n",
       "    </tr>\n",
       "  </thead>\n",
       "  <tbody>\n",
       "    <tr>\n",
       "      <th>0</th>\n",
       "      <td>0</td>\n",
       "      <td>2451.0</td>\n",
       "      <td>2440.0</td>\n",
       "      <td>836.0</td>\n",
       "      <td>721.0</td>\n",
       "      <td>NaN</td>\n",
       "      <td>1.0</td>\n",
       "      <td>NaN</td>\n",
       "      <td>664.0</td>\n",
       "      <td>NaN</td>\n",
       "      <td>...</td>\n",
       "      <td>NaN</td>\n",
       "      <td>1075.0</td>\n",
       "      <td>NaN</td>\n",
       "      <td>237.0</td>\n",
       "      <td>NaN</td>\n",
       "      <td>649.0</td>\n",
       "      <td>610.0</td>\n",
       "      <td>567.0</td>\n",
       "      <td>169.0</td>\n",
       "      <td>1.0</td>\n",
       "    </tr>\n",
       "    <tr>\n",
       "      <th>1</th>\n",
       "      <td>1</td>\n",
       "      <td>2452.0</td>\n",
       "      <td>2441.0</td>\n",
       "      <td>837.0</td>\n",
       "      <td>722.0</td>\n",
       "      <td>NaN</td>\n",
       "      <td>2.0</td>\n",
       "      <td>NaN</td>\n",
       "      <td>665.0</td>\n",
       "      <td>NaN</td>\n",
       "      <td>...</td>\n",
       "      <td>NaN</td>\n",
       "      <td>1076.0</td>\n",
       "      <td>NaN</td>\n",
       "      <td>238.0</td>\n",
       "      <td>NaN</td>\n",
       "      <td>650.0</td>\n",
       "      <td>611.0</td>\n",
       "      <td>568.0</td>\n",
       "      <td>170.0</td>\n",
       "      <td>2.0</td>\n",
       "    </tr>\n",
       "    <tr>\n",
       "      <th>2</th>\n",
       "      <td>2</td>\n",
       "      <td>2453.0</td>\n",
       "      <td>2442.0</td>\n",
       "      <td>838.0</td>\n",
       "      <td>723.0</td>\n",
       "      <td>NaN</td>\n",
       "      <td>3.0</td>\n",
       "      <td>NaN</td>\n",
       "      <td>666.0</td>\n",
       "      <td>NaN</td>\n",
       "      <td>...</td>\n",
       "      <td>NaN</td>\n",
       "      <td>1077.0</td>\n",
       "      <td>NaN</td>\n",
       "      <td>239.0</td>\n",
       "      <td>NaN</td>\n",
       "      <td>651.0</td>\n",
       "      <td>612.0</td>\n",
       "      <td>569.0</td>\n",
       "      <td>171.0</td>\n",
       "      <td>3.0</td>\n",
       "    </tr>\n",
       "    <tr>\n",
       "      <th>3</th>\n",
       "      <td>3</td>\n",
       "      <td>2454.0</td>\n",
       "      <td>2443.0</td>\n",
       "      <td>839.0</td>\n",
       "      <td>724.0</td>\n",
       "      <td>NaN</td>\n",
       "      <td>4.0</td>\n",
       "      <td>NaN</td>\n",
       "      <td>667.0</td>\n",
       "      <td>NaN</td>\n",
       "      <td>...</td>\n",
       "      <td>NaN</td>\n",
       "      <td>1078.0</td>\n",
       "      <td>NaN</td>\n",
       "      <td>240.0</td>\n",
       "      <td>NaN</td>\n",
       "      <td>652.0</td>\n",
       "      <td>613.0</td>\n",
       "      <td>570.0</td>\n",
       "      <td>172.0</td>\n",
       "      <td>4.0</td>\n",
       "    </tr>\n",
       "    <tr>\n",
       "      <th>4</th>\n",
       "      <td>4</td>\n",
       "      <td>2455.0</td>\n",
       "      <td>2444.0</td>\n",
       "      <td>840.0</td>\n",
       "      <td>725.0</td>\n",
       "      <td>NaN</td>\n",
       "      <td>5.0</td>\n",
       "      <td>NaN</td>\n",
       "      <td>668.0</td>\n",
       "      <td>NaN</td>\n",
       "      <td>...</td>\n",
       "      <td>NaN</td>\n",
       "      <td>1079.0</td>\n",
       "      <td>NaN</td>\n",
       "      <td>241.0</td>\n",
       "      <td>NaN</td>\n",
       "      <td>653.0</td>\n",
       "      <td>614.0</td>\n",
       "      <td>571.0</td>\n",
       "      <td>173.0</td>\n",
       "      <td>5.0</td>\n",
       "    </tr>\n",
       "  </tbody>\n",
       "</table>\n",
       "<p>5 rows × 657 columns</p>\n",
       "</div>"
      ],
      "text/plain": [
       "   Unnamed: 0  F001_T1  F001_T1_neg  F001_T2  F001_T2_neg  F001_T3  \\\n",
       "0           0   2451.0       2440.0    836.0        721.0      NaN   \n",
       "1           1   2452.0       2441.0    837.0        722.0      NaN   \n",
       "2           2   2453.0       2442.0    838.0        723.0      NaN   \n",
       "3           3   2454.0       2443.0    839.0        724.0      NaN   \n",
       "4           4   2455.0       2444.0    840.0        725.0      NaN   \n",
       "\n",
       "   F001_T3_neg  F001_T4  F001_T4_neg  F001_T5     ...       M018_T4  \\\n",
       "0          1.0      NaN        664.0      NaN     ...           NaN   \n",
       "1          2.0      NaN        665.0      NaN     ...           NaN   \n",
       "2          3.0      NaN        666.0      NaN     ...           NaN   \n",
       "3          4.0      NaN        667.0      NaN     ...           NaN   \n",
       "4          5.0      NaN        668.0      NaN     ...           NaN   \n",
       "\n",
       "   M018_T4_neg  M018_T5  M018_T5_neg  M018_T6  M018_T6_neg  M018_T7  \\\n",
       "0       1075.0      NaN        237.0      NaN        649.0    610.0   \n",
       "1       1076.0      NaN        238.0      NaN        650.0    611.0   \n",
       "2       1077.0      NaN        239.0      NaN        651.0    612.0   \n",
       "3       1078.0      NaN        240.0      NaN        652.0    613.0   \n",
       "4       1079.0      NaN        241.0      NaN        653.0    614.0   \n",
       "\n",
       "   M018_T7_neg  M018_T8  M018_T8_neg  \n",
       "0        567.0    169.0          1.0  \n",
       "1        568.0    170.0          2.0  \n",
       "2        569.0    171.0          3.0  \n",
       "3        570.0    172.0          4.0  \n",
       "4        571.0    173.0          5.0  \n",
       "\n",
       "[5 rows x 657 columns]"
      ]
     },
     "execution_count": 32,
     "metadata": {},
     "output_type": "execute_result"
    }
   ],
   "source": [
    "sample_df=pd.read_csv(\"BP4D_FAUs/FAU1.csv\")\n",
    "sample_df.head()"
   ]
  },
  {
   "cell_type": "markdown",
   "metadata": {},
   "source": [
    "Here is the count summary for all the FAUs:"
   ]
  },
  {
   "cell_type": "code",
   "execution_count": 33,
   "metadata": {},
   "outputs": [
    {
     "data": {
      "text/html": [
       "<div>\n",
       "<style scoped>\n",
       "    .dataframe tbody tr th:only-of-type {\n",
       "        vertical-align: middle;\n",
       "    }\n",
       "\n",
       "    .dataframe tbody tr th {\n",
       "        vertical-align: top;\n",
       "    }\n",
       "\n",
       "    .dataframe thead th {\n",
       "        text-align: right;\n",
       "    }\n",
       "</style>\n",
       "<table border=\"1\" class=\"dataframe\">\n",
       "  <thead>\n",
       "    <tr style=\"text-align: right;\">\n",
       "      <th></th>\n",
       "      <th>F001_T1</th>\n",
       "      <th>F001_T1_neg</th>\n",
       "      <th>F001_T2</th>\n",
       "      <th>F001_T2_neg</th>\n",
       "      <th>F001_T3</th>\n",
       "      <th>F001_T3_neg</th>\n",
       "      <th>F001_T4</th>\n",
       "      <th>F001_T4_neg</th>\n",
       "      <th>F001_T5</th>\n",
       "      <th>F001_T5_neg</th>\n",
       "      <th>...</th>\n",
       "      <th>M018_T4</th>\n",
       "      <th>M018_T4_neg</th>\n",
       "      <th>M018_T5</th>\n",
       "      <th>M018_T5_neg</th>\n",
       "      <th>M018_T6</th>\n",
       "      <th>M018_T6_neg</th>\n",
       "      <th>M018_T7</th>\n",
       "      <th>M018_T7_neg</th>\n",
       "      <th>M018_T8</th>\n",
       "      <th>M018_T8_neg</th>\n",
       "    </tr>\n",
       "  </thead>\n",
       "  <tbody>\n",
       "    <tr>\n",
       "      <th>count_FAU1</th>\n",
       "      <td>320.0</td>\n",
       "      <td>233.0</td>\n",
       "      <td>134.0</td>\n",
       "      <td>440.0</td>\n",
       "      <td>0.0</td>\n",
       "      <td>273.0</td>\n",
       "      <td>0.0</td>\n",
       "      <td>509.0</td>\n",
       "      <td>0.0</td>\n",
       "      <td>518.0</td>\n",
       "      <td>...</td>\n",
       "      <td>0.0</td>\n",
       "      <td>500.0</td>\n",
       "      <td>0.0</td>\n",
       "      <td>499.0</td>\n",
       "      <td>0.0</td>\n",
       "      <td>489.0</td>\n",
       "      <td>26.0</td>\n",
       "      <td>459.0</td>\n",
       "      <td>13.0</td>\n",
       "      <td>188.0</td>\n",
       "    </tr>\n",
       "    <tr>\n",
       "      <th>count_FAU2</th>\n",
       "      <td>138.0</td>\n",
       "      <td>415.0</td>\n",
       "      <td>32.0</td>\n",
       "      <td>542.0</td>\n",
       "      <td>0.0</td>\n",
       "      <td>273.0</td>\n",
       "      <td>0.0</td>\n",
       "      <td>509.0</td>\n",
       "      <td>0.0</td>\n",
       "      <td>518.0</td>\n",
       "      <td>...</td>\n",
       "      <td>0.0</td>\n",
       "      <td>500.0</td>\n",
       "      <td>0.0</td>\n",
       "      <td>499.0</td>\n",
       "      <td>0.0</td>\n",
       "      <td>489.0</td>\n",
       "      <td>27.0</td>\n",
       "      <td>458.0</td>\n",
       "      <td>0.0</td>\n",
       "      <td>201.0</td>\n",
       "    </tr>\n",
       "    <tr>\n",
       "      <th>count_FAU4</th>\n",
       "      <td>26.0</td>\n",
       "      <td>527.0</td>\n",
       "      <td>498.0</td>\n",
       "      <td>76.0</td>\n",
       "      <td>20.0</td>\n",
       "      <td>253.0</td>\n",
       "      <td>0.0</td>\n",
       "      <td>509.0</td>\n",
       "      <td>74.0</td>\n",
       "      <td>444.0</td>\n",
       "      <td>...</td>\n",
       "      <td>0.0</td>\n",
       "      <td>500.0</td>\n",
       "      <td>13.0</td>\n",
       "      <td>486.0</td>\n",
       "      <td>0.0</td>\n",
       "      <td>489.0</td>\n",
       "      <td>0.0</td>\n",
       "      <td>485.0</td>\n",
       "      <td>150.0</td>\n",
       "      <td>51.0</td>\n",
       "    </tr>\n",
       "    <tr>\n",
       "      <th>count_FAU5</th>\n",
       "      <td>121.0</td>\n",
       "      <td>432.0</td>\n",
       "      <td>68.0</td>\n",
       "      <td>506.0</td>\n",
       "      <td>54.0</td>\n",
       "      <td>219.0</td>\n",
       "      <td>28.0</td>\n",
       "      <td>481.0</td>\n",
       "      <td>0.0</td>\n",
       "      <td>518.0</td>\n",
       "      <td>...</td>\n",
       "      <td>0.0</td>\n",
       "      <td>500.0</td>\n",
       "      <td>0.0</td>\n",
       "      <td>499.0</td>\n",
       "      <td>0.0</td>\n",
       "      <td>489.0</td>\n",
       "      <td>23.0</td>\n",
       "      <td>462.0</td>\n",
       "      <td>0.0</td>\n",
       "      <td>201.0</td>\n",
       "    </tr>\n",
       "    <tr>\n",
       "      <th>count_FAU7</th>\n",
       "      <td>0.0</td>\n",
       "      <td>553.0</td>\n",
       "      <td>0.0</td>\n",
       "      <td>574.0</td>\n",
       "      <td>4.0</td>\n",
       "      <td>269.0</td>\n",
       "      <td>482.0</td>\n",
       "      <td>27.0</td>\n",
       "      <td>351.0</td>\n",
       "      <td>167.0</td>\n",
       "      <td>...</td>\n",
       "      <td>146.0</td>\n",
       "      <td>354.0</td>\n",
       "      <td>439.0</td>\n",
       "      <td>60.0</td>\n",
       "      <td>0.0</td>\n",
       "      <td>489.0</td>\n",
       "      <td>62.0</td>\n",
       "      <td>423.0</td>\n",
       "      <td>160.0</td>\n",
       "      <td>41.0</td>\n",
       "    </tr>\n",
       "    <tr>\n",
       "      <th>count_FAU12</th>\n",
       "      <td>553.0</td>\n",
       "      <td>0.0</td>\n",
       "      <td>0.0</td>\n",
       "      <td>574.0</td>\n",
       "      <td>0.0</td>\n",
       "      <td>273.0</td>\n",
       "      <td>509.0</td>\n",
       "      <td>0.0</td>\n",
       "      <td>452.0</td>\n",
       "      <td>66.0</td>\n",
       "      <td>...</td>\n",
       "      <td>357.0</td>\n",
       "      <td>143.0</td>\n",
       "      <td>499.0</td>\n",
       "      <td>0.0</td>\n",
       "      <td>0.0</td>\n",
       "      <td>489.0</td>\n",
       "      <td>133.0</td>\n",
       "      <td>352.0</td>\n",
       "      <td>0.0</td>\n",
       "      <td>201.0</td>\n",
       "    </tr>\n",
       "    <tr>\n",
       "      <th>count_FAU25</th>\n",
       "      <td>0.0</td>\n",
       "      <td>0.0</td>\n",
       "      <td>0.0</td>\n",
       "      <td>0.0</td>\n",
       "      <td>0.0</td>\n",
       "      <td>0.0</td>\n",
       "      <td>0.0</td>\n",
       "      <td>0.0</td>\n",
       "      <td>0.0</td>\n",
       "      <td>0.0</td>\n",
       "      <td>...</td>\n",
       "      <td>0.0</td>\n",
       "      <td>0.0</td>\n",
       "      <td>0.0</td>\n",
       "      <td>0.0</td>\n",
       "      <td>0.0</td>\n",
       "      <td>0.0</td>\n",
       "      <td>0.0</td>\n",
       "      <td>0.0</td>\n",
       "      <td>0.0</td>\n",
       "      <td>0.0</td>\n",
       "    </tr>\n",
       "    <tr>\n",
       "      <th>count_FAU26</th>\n",
       "      <td>0.0</td>\n",
       "      <td>0.0</td>\n",
       "      <td>0.0</td>\n",
       "      <td>0.0</td>\n",
       "      <td>0.0</td>\n",
       "      <td>0.0</td>\n",
       "      <td>0.0</td>\n",
       "      <td>0.0</td>\n",
       "      <td>0.0</td>\n",
       "      <td>0.0</td>\n",
       "      <td>...</td>\n",
       "      <td>0.0</td>\n",
       "      <td>0.0</td>\n",
       "      <td>0.0</td>\n",
       "      <td>0.0</td>\n",
       "      <td>0.0</td>\n",
       "      <td>0.0</td>\n",
       "      <td>0.0</td>\n",
       "      <td>0.0</td>\n",
       "      <td>0.0</td>\n",
       "      <td>0.0</td>\n",
       "    </tr>\n",
       "    <tr>\n",
       "      <th>count_FAU43</th>\n",
       "      <td>0.0</td>\n",
       "      <td>0.0</td>\n",
       "      <td>0.0</td>\n",
       "      <td>0.0</td>\n",
       "      <td>0.0</td>\n",
       "      <td>0.0</td>\n",
       "      <td>0.0</td>\n",
       "      <td>0.0</td>\n",
       "      <td>0.0</td>\n",
       "      <td>0.0</td>\n",
       "      <td>...</td>\n",
       "      <td>0.0</td>\n",
       "      <td>0.0</td>\n",
       "      <td>0.0</td>\n",
       "      <td>0.0</td>\n",
       "      <td>0.0</td>\n",
       "      <td>0.0</td>\n",
       "      <td>0.0</td>\n",
       "      <td>0.0</td>\n",
       "      <td>0.0</td>\n",
       "      <td>0.0</td>\n",
       "    </tr>\n",
       "  </tbody>\n",
       "</table>\n",
       "<p>9 rows × 656 columns</p>\n",
       "</div>"
      ],
      "text/plain": [
       "             F001_T1  F001_T1_neg  F001_T2  F001_T2_neg  F001_T3  F001_T3_neg  \\\n",
       "count_FAU1     320.0        233.0    134.0        440.0      0.0        273.0   \n",
       "count_FAU2     138.0        415.0     32.0        542.0      0.0        273.0   \n",
       "count_FAU4      26.0        527.0    498.0         76.0     20.0        253.0   \n",
       "count_FAU5     121.0        432.0     68.0        506.0     54.0        219.0   \n",
       "count_FAU7       0.0        553.0      0.0        574.0      4.0        269.0   \n",
       "count_FAU12    553.0          0.0      0.0        574.0      0.0        273.0   \n",
       "count_FAU25      0.0          0.0      0.0          0.0      0.0          0.0   \n",
       "count_FAU26      0.0          0.0      0.0          0.0      0.0          0.0   \n",
       "count_FAU43      0.0          0.0      0.0          0.0      0.0          0.0   \n",
       "\n",
       "             F001_T4  F001_T4_neg  F001_T5  F001_T5_neg     ...       M018_T4  \\\n",
       "count_FAU1       0.0        509.0      0.0        518.0     ...           0.0   \n",
       "count_FAU2       0.0        509.0      0.0        518.0     ...           0.0   \n",
       "count_FAU4       0.0        509.0     74.0        444.0     ...           0.0   \n",
       "count_FAU5      28.0        481.0      0.0        518.0     ...           0.0   \n",
       "count_FAU7     482.0         27.0    351.0        167.0     ...         146.0   \n",
       "count_FAU12    509.0          0.0    452.0         66.0     ...         357.0   \n",
       "count_FAU25      0.0          0.0      0.0          0.0     ...           0.0   \n",
       "count_FAU26      0.0          0.0      0.0          0.0     ...           0.0   \n",
       "count_FAU43      0.0          0.0      0.0          0.0     ...           0.0   \n",
       "\n",
       "             M018_T4_neg  M018_T5  M018_T5_neg  M018_T6  M018_T6_neg  M018_T7  \\\n",
       "count_FAU1         500.0      0.0        499.0      0.0        489.0     26.0   \n",
       "count_FAU2         500.0      0.0        499.0      0.0        489.0     27.0   \n",
       "count_FAU4         500.0     13.0        486.0      0.0        489.0      0.0   \n",
       "count_FAU5         500.0      0.0        499.0      0.0        489.0     23.0   \n",
       "count_FAU7         354.0    439.0         60.0      0.0        489.0     62.0   \n",
       "count_FAU12        143.0    499.0          0.0      0.0        489.0    133.0   \n",
       "count_FAU25          0.0      0.0          0.0      0.0          0.0      0.0   \n",
       "count_FAU26          0.0      0.0          0.0      0.0          0.0      0.0   \n",
       "count_FAU43          0.0      0.0          0.0      0.0          0.0      0.0   \n",
       "\n",
       "             M018_T7_neg  M018_T8  M018_T8_neg  \n",
       "count_FAU1         459.0     13.0        188.0  \n",
       "count_FAU2         458.0      0.0        201.0  \n",
       "count_FAU4         485.0    150.0         51.0  \n",
       "count_FAU5         462.0      0.0        201.0  \n",
       "count_FAU7         423.0    160.0         41.0  \n",
       "count_FAU12        352.0      0.0        201.0  \n",
       "count_FAU25          0.0      0.0          0.0  \n",
       "count_FAU26          0.0      0.0          0.0  \n",
       "count_FAU43          0.0      0.0          0.0  \n",
       "\n",
       "[9 rows x 656 columns]"
      ]
     },
     "execution_count": 33,
     "metadata": {},
     "output_type": "execute_result"
    }
   ],
   "source": [
    "count_desc"
   ]
  },
  {
   "cell_type": "markdown",
   "metadata": {},
   "source": [
    "Save it as count_summary.csv"
   ]
  },
  {
   "cell_type": "code",
   "execution_count": 34,
   "metadata": {},
   "outputs": [],
   "source": [
    "count_desc.to_csv('BP4D_FAUs/count_summary.csv')"
   ]
  },
  {
   "cell_type": "markdown",
   "metadata": {},
   "source": [
    "The number of positives for each FAU:"
   ]
  },
  {
   "cell_type": "code",
   "execution_count": 35,
   "metadata": {},
   "outputs": [
    {
     "data": {
      "text/plain": [
       "count_FAU1     31043.0\n",
       "count_FAU2     25110.0\n",
       "count_FAU4     29755.0\n",
       "count_FAU5      5693.0\n",
       "count_FAU7     80617.0\n",
       "count_FAU12    82531.0\n",
       "count_FAU25        0.0\n",
       "count_FAU26        0.0\n",
       "count_FAU43        0.0\n",
       "dtype: float64"
      ]
     },
     "execution_count": 35,
     "metadata": {},
     "output_type": "execute_result"
    }
   ],
   "source": [
    "count_desc.sum(1)-count_desc.filter(like=\"neg\",axis=1).sum(1) #subtracting the sum of all columns containing \"neg\" from the sum of all columns(total count)"
   ]
  },
  {
   "cell_type": "markdown",
   "metadata": {},
   "source": [
    "Now since we have the csv files corresponding to each action unit, it is much easier to balance the data."
   ]
  },
  {
   "cell_type": "markdown",
   "metadata": {},
   "source": [
    "This is how the data looks like finally:"
   ]
  },
  {
   "cell_type": "markdown",
   "metadata": {},
   "source": [
    "**Loading images:**\n",
    "<br>\n",
    "BP4D training has folders as *subject/sequence/frame_no.jpg*"
   ]
  },
  {
   "cell_type": "code",
   "execution_count": 126,
   "metadata": {},
   "outputs": [],
   "source": [
    "BP4D_training_folder=BP4D_base_path+'BP4D-training/'"
   ]
  },
  {
   "cell_type": "code",
   "execution_count": 136,
   "metadata": {},
   "outputs": [
    {
     "name": "stdout",
     "output_type": "stream",
     "text": [
      "F001\n"
     ]
    }
   ],
   "source": [
    "!ls $BP4D_training_folder"
   ]
  },
  {
   "cell_type": "markdown",
   "metadata": {},
   "source": [
    "### **SEMAINE**"
   ]
  },
  {
   "cell_type": "markdown",
   "metadata": {},
   "source": [
    "* 150 participants' recordings; total 959 conversations, ~5 minutes each\n",
    "* FACs annotation in 181 frames\n"
   ]
  }
 ],
 "metadata": {
  "kernelspec": {
   "display_name": "Python 3",
   "language": "python",
   "name": "python3"
  },
  "language_info": {
   "codemirror_mode": {
    "name": "ipython",
    "version": 3
   },
   "file_extension": ".py",
   "mimetype": "text/x-python",
   "name": "python",
   "nbconvert_exporter": "python",
   "pygments_lexer": "ipython3",
   "version": "3.6.5"
  }
 },
 "nbformat": 4,
 "nbformat_minor": 2
}

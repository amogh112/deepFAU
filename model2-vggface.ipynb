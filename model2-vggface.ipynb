{
 "cells": [
  {
   "cell_type": "markdown",
   "metadata": {},
   "source": [
    "# **Pretrained VGGFace model**"
   ]
  },
  {
   "cell_type": "markdown",
   "metadata": {},
   "source": [
    "#### Conda environment - faus_dl"
   ]
  },
  {
   "cell_type": "markdown",
   "metadata": {},
   "source": [
    "Relevant Papers:<br>\n",
    "    [1]: Group Level Emotion Recognition using Transfer Learning from Face Identification\n",
    "    <br>&nbsp;&nbsp;&nbsp;&nbsp;&nbsp;&nbsp;&nbsp;https://arxiv.org/pdf/1709.01688.pdf"
   ]
  },
  {
   "cell_type": "markdown",
   "metadata": {},
   "source": [
    "#### **Useful links**\n",
    "* Paper [1] Code- https://github.com/arassadin/emotiw2017/blob/release/release.ipynb\n",
    "* https://aboveintelligent.com/face-recognition-with-keras-and-opencv-2baf2a83b799\n",
    "* https://github.com/rcmalli/keras-vggface\n"
   ]
  },
  {
   "cell_type": "markdown",
   "metadata": {},
   "source": [
    "### **Plan**\n",
    "1. Load Dataset and labels\n",
    "2. Initiate VGGFace model, get the fc7 and avgpool layer features\n",
    "3. Build conventional classifiers\n",
    "4. Train classifiers\n",
    "5. Test and analyse the classifiers"
   ]
  },
  {
   "cell_type": "markdown",
   "metadata": {},
   "source": [
    "Translations from russian for Paper[1] code:<br>\n",
    "1. Let's collect faces and landmarks<br>\n",
    "2. Collection of neural network scoring<br>\n",
    "3. Training of weak classifiers and collection of their scoring<br>\n",
    "train / val<br>\n",
    "Landmarks:<br>\n",
    "Neurons:<br>\n",
    "Stacking<br>\n",
    "train + val / test<br>\n",
    "Landmarks:<br>\n",
    "Neurons:<br>\n",
    "4. Ensemble test<br>\n",
    "5. Submission<br>"
   ]
  },
  {
   "cell_type": "markdown",
   "metadata": {},
   "source": [
    "**Importing Libraries**"
   ]
  },
  {
   "cell_type": "code",
   "execution_count": 1,
   "metadata": {},
   "outputs": [
    {
     "name": "stderr",
     "output_type": "stream",
     "text": [
      "/home/amogh/anaconda3/envs/faus_dl/lib/python3.6/site-packages/h5py/__init__.py:36: FutureWarning: Conversion of the second argument of issubdtype from `float` to `np.floating` is deprecated. In future, it will be treated as `np.float64 == np.dtype(float).type`.\n",
      "  from ._conv import register_converters as _register_converters\n",
      "Using TensorFlow backend.\n"
     ]
    }
   ],
   "source": [
    "import keras\n",
    "from keras_vggface.vggface import VGGFace"
   ]
  },
  {
   "cell_type": "markdown",
   "metadata": {},
   "source": [
    "### 1. Load Dataset and Labels"
   ]
  },
  {
   "cell_type": "markdown",
   "metadata": {},
   "source": [
    "### 2. Initiate VGGFace model, get the *fc7* and *avgpool* layer features"
   ]
  },
  {
   "cell_type": "markdown",
   "metadata": {},
   "source": [
    "#### Helper Functions"
   ]
  },
  {
   "cell_type": "markdown",
   "metadata": {},
   "source": [
    "To normalise faces which are input to the model, as the paper uses RGB and BGR features."
   ]
  },
  {
   "cell_type": "code",
   "execution_count": 7,
   "metadata": {},
   "outputs": [],
   "source": [
    "def normalize_vggface_1(arr):\n",
    "    arr = arr[::-1, :, :].astype(np.float32)\n",
    "    arr[0, :, :] -= 93.5940\n",
    "    arr[1, :, :] -= 104.7624\n",
    "    arr[2, :, :] -= 129.1863\n",
    "    return arr\n",
    "\n",
    "def normalize_vggface_2(arr):\n",
    "    arr = arr[:, :, :].astype(np.float32)\n",
    "    arr[0, :, :] -= 93.5940\n",
    "    arr[1, :, :] -= 104.7624\n",
    "    arr[2, :, :] -= 129.1863\n",
    "    return arr\n",
    "\n",
    "def normalize_vggface_3(arr):\n",
    "    arr = arr[::-1, :, :].astype(np.float32)\n",
    "    arr[0, :, :] -= 93.5940\n",
    "    arr[1, :, :] -= 104.7624\n",
    "    arr[2, :, :] -= 129.1863\n",
    "    arr = arr[::-1, :, :]\n",
    "    return arr"
   ]
  },
  {
   "cell_type": "markdown",
   "metadata": {},
   "source": [
    "We have to feed normalised faces to the model, do it for training set, validation set and the test set."
   ]
  },
  {
   "cell_type": "markdown",
   "metadata": {},
   "source": [
    "Here's how to get convolutional features at maxpool layer,"
   ]
  },
  {
   "cell_type": "code",
   "execution_count": 13,
   "metadata": {},
   "outputs": [],
   "source": [
    "vgg_model = VGGFace(include_top=False, input_shape=(224, 224, 3), pooling='avg') #include_top False loads only feature extraction layers"
   ]
  },
  {
   "cell_type": "code",
   "execution_count": null,
   "metadata": {},
   "outputs": [],
   "source": [
    "vgg_model = model.predict()"
   ]
  },
  {
   "cell_type": "markdown",
   "metadata": {},
   "source": [
    "Here's how to get fc7 output,"
   ]
  },
  {
   "cell_type": "code",
   "execution_count": null,
   "metadata": {},
   "outputs": [],
   "source": [
    "vgg_faces = VGGFace()\n",
    "out = vgg_faces.get_layer('fc7').output\n",
    "model = Model(vgg_faces.input, out)"
   ]
  },
  {
   "cell_type": "code",
   "execution_count": null,
   "metadata": {},
   "outputs": [],
   "source": [
    "vgg_faces.predict()"
   ]
  },
  {
   "cell_type": "markdown",
   "metadata": {},
   "source": [
    "### 3. Build classifiers"
   ]
  },
  {
   "cell_type": "markdown",
   "metadata": {},
   "source": [
    "* Simple Neural Network (need to edit)"
   ]
  },
  {
   "cell_type": "code",
   "execution_count": null,
   "metadata": {},
   "outputs": [],
   "source": [
    "last_layer = vgg_model.get_layer('pool5').output\n",
    "x = Flatten(name='flatten')(last_layer)\n",
    "x = Dense(hidden_dim, activation='relu', name='fc6')(x)\n",
    "x = Dense(hidden_dim, activation='relu', name='fc7')(x)\n",
    "out = Dense(nb_class, activation='softmax', name='fc8')(x)\n",
    "custom_vgg_model = Model(vgg_model.input, out)"
   ]
  },
  {
   "cell_type": "markdown",
   "metadata": {},
   "source": [
    "### 4. Train classifiers"
   ]
  },
  {
   "cell_type": "markdown",
   "metadata": {},
   "source": [
    "### 5. Test and analyse the classifiers"
   ]
  },
  {
   "cell_type": "code",
   "execution_count": null,
   "metadata": {},
   "outputs": [],
   "source": []
  },
  {
   "cell_type": "markdown",
   "metadata": {},
   "source": []
  }
 ],
 "metadata": {
  "kernelspec": {
   "display_name": "Python 2",
   "language": "python",
   "name": "python2"
  },
  "language_info": {
   "codemirror_mode": {
    "name": "ipython",
    "version": 2
   },
   "file_extension": ".py",
   "mimetype": "text/x-python",
   "name": "python",
   "nbconvert_exporter": "python",
   "pygments_lexer": "ipython2",
   "version": "2.7.14"
  }
 },
 "nbformat": 4,
 "nbformat_minor": 2
}
